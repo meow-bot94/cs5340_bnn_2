{
 "cells": [
  {
   "cell_type": "code",
   "execution_count": 1,
   "metadata": {
    "collapsed": true
   },
   "outputs": [
    {
     "name": "stderr",
     "output_type": "stream",
     "text": [
      "[2023-04-17 10:29:07] 3789 root {logger_initializer-47} INFO - Current process ID: 3789\n"
     ]
    },
    {
     "data": {
      "text/plain": "True"
     },
     "execution_count": 1,
     "metadata": {},
     "output_type": "execute_result"
    }
   ],
   "source": [
    "import torch\n",
    "import ssl\n",
    "import matplotlib.pyplot as plt\n",
    "from src.logger.logger_initializer import LoggerInitializer\n",
    "from src.utils.path_getter import PathGetter\n",
    "from src.data_loader.dataset_getter import DatasetGetter\n",
    "\n",
    "ssl._create_default_https_context = ssl._create_unverified_context\n",
    "device = 'cuda'\n",
    "torch.__version__\n",
    "\n",
    "LoggerInitializer().init()"
   ]
  },
  {
   "cell_type": "code",
   "execution_count": 3,
   "outputs": [],
   "source": [
    "from src.models.cnn.resnet50_cnn_classifier import Resnet50CnnClassifier\n",
    "dataset = DatasetGetter(PathGetter.get_data_directory(), batch_size=12).get()\n",
    "classifier = Resnet50CnnClassifier(dataset=dataset, device=device).init()"
   ],
   "metadata": {
    "collapsed": false
   }
  },
  {
   "cell_type": "code",
   "execution_count": 4,
   "outputs": [
    {
     "name": "stderr",
     "output_type": "stream",
     "text": [
      "[2023-04-17 10:29:18] 3789 src.scoring.epoch_score_printer {epoch_score_printer-21} INFO - [Epoch 0/50]: f1_score: 0.673 accuracy_score: 0.695 loss: 186.337 \n",
      "[2023-04-17 10:29:24] 3789 src.scoring.epoch_score_printer {epoch_score_printer-21} INFO - [Epoch 1/50]: f1_score: 0.736 accuracy_score: 0.762 loss: 121.511 \n",
      "[2023-04-17 10:29:30] 3789 src.scoring.epoch_score_printer {epoch_score_printer-21} INFO - [Epoch 2/50]: f1_score: 0.704 accuracy_score: 0.727 loss: 99.152 \n",
      "[2023-04-17 10:29:36] 3789 src.scoring.epoch_score_printer {epoch_score_printer-21} INFO - [Epoch 3/50]: f1_score: 0.703 accuracy_score: 0.719 loss: 86.179 \n",
      "[2023-04-17 10:29:42] 3789 src.scoring.epoch_score_printer {epoch_score_printer-21} INFO - [Epoch 4/50]: f1_score: 0.695 accuracy_score: 0.715 loss: 79.393 \n",
      "[2023-04-17 10:29:48] 3789 src.scoring.epoch_score_printer {epoch_score_printer-21} INFO - [Epoch 5/50]: f1_score: 0.728 accuracy_score: 0.750 loss: 73.410 \n",
      "[2023-04-17 10:29:54] 3789 src.scoring.epoch_score_printer {epoch_score_printer-21} INFO - [Epoch 6/50]: f1_score: 0.709 accuracy_score: 0.730 loss: 69.037 \n",
      "[2023-04-17 10:30:00] 3789 src.scoring.epoch_score_printer {epoch_score_printer-21} INFO - [Epoch 7/50]: f1_score: 0.717 accuracy_score: 0.734 loss: 63.962 \n",
      "[2023-04-17 10:30:06] 3789 src.scoring.epoch_score_printer {epoch_score_printer-21} INFO - [Epoch 8/50]: f1_score: 0.716 accuracy_score: 0.734 loss: 61.489 \n",
      "[2023-04-17 10:30:12] 3789 src.scoring.epoch_score_printer {epoch_score_printer-21} INFO - [Epoch 9/50]: f1_score: 0.731 accuracy_score: 0.754 loss: 59.673 \n",
      "[2023-04-17 10:30:18] 3789 src.scoring.epoch_score_printer {epoch_score_printer-21} INFO - [Epoch 10/50]: f1_score: 0.668 accuracy_score: 0.691 loss: 55.684 \n",
      "[2023-04-17 10:30:24] 3789 src.scoring.epoch_score_printer {epoch_score_printer-21} INFO - [Epoch 11/50]: f1_score: 0.732 accuracy_score: 0.754 loss: 54.563 \n",
      "[2023-04-17 10:30:30] 3789 src.scoring.epoch_score_printer {epoch_score_printer-21} INFO - [Epoch 12/50]: f1_score: 0.700 accuracy_score: 0.719 loss: 48.471 \n",
      "[2023-04-17 10:30:36] 3789 src.scoring.epoch_score_printer {epoch_score_printer-21} INFO - [Epoch 13/50]: f1_score: 0.708 accuracy_score: 0.730 loss: 49.208 \n",
      "[2023-04-17 10:30:42] 3789 src.scoring.epoch_score_printer {epoch_score_printer-21} INFO - [Epoch 14/50]: f1_score: 0.668 accuracy_score: 0.684 loss: 48.498 \n",
      "[2023-04-17 10:30:48] 3789 src.scoring.epoch_score_printer {epoch_score_printer-21} INFO - [Epoch 15/50]: f1_score: 0.694 accuracy_score: 0.707 loss: 46.536 \n",
      "[2023-04-17 10:30:54] 3789 src.scoring.epoch_score_printer {epoch_score_printer-21} INFO - [Epoch 16/50]: f1_score: 0.711 accuracy_score: 0.727 loss: 46.213 \n",
      "[2023-04-17 10:31:01] 3789 src.scoring.epoch_score_printer {epoch_score_printer-21} INFO - [Epoch 17/50]: f1_score: 0.692 accuracy_score: 0.719 loss: 44.712 \n",
      "[2023-04-17 10:31:07] 3789 src.scoring.epoch_score_printer {epoch_score_printer-21} INFO - [Epoch 18/50]: f1_score: 0.695 accuracy_score: 0.711 loss: 41.178 \n",
      "[2023-04-17 10:31:13] 3789 src.scoring.epoch_score_printer {epoch_score_printer-21} INFO - [Epoch 19/50]: f1_score: 0.670 accuracy_score: 0.688 loss: 46.726 \n",
      "[2023-04-17 10:31:19] 3789 src.scoring.epoch_score_printer {epoch_score_printer-21} INFO - [Epoch 20/50]: f1_score: 0.735 accuracy_score: 0.758 loss: 42.644 \n",
      "[2023-04-17 10:31:25] 3789 src.scoring.epoch_score_printer {epoch_score_printer-21} INFO - [Epoch 21/50]: f1_score: 0.727 accuracy_score: 0.746 loss: 40.318 \n",
      "[2023-04-17 10:31:31] 3789 src.scoring.epoch_score_printer {epoch_score_printer-21} INFO - [Epoch 22/50]: f1_score: 0.709 accuracy_score: 0.730 loss: 40.935 \n",
      "[2023-04-17 10:31:37] 3789 src.scoring.epoch_score_printer {epoch_score_printer-21} INFO - [Epoch 23/50]: f1_score: 0.645 accuracy_score: 0.656 loss: 38.182 \n",
      "[2023-04-17 10:31:43] 3789 src.scoring.epoch_score_printer {epoch_score_printer-21} INFO - [Epoch 24/50]: f1_score: 0.693 accuracy_score: 0.707 loss: 36.697 \n",
      "[2023-04-17 10:31:49] 3789 src.scoring.epoch_score_printer {epoch_score_printer-21} INFO - [Epoch 25/50]: f1_score: 0.652 accuracy_score: 0.672 loss: 36.342 \n",
      "[2023-04-17 10:31:55] 3789 src.scoring.epoch_score_printer {epoch_score_printer-21} INFO - [Epoch 26/50]: f1_score: 0.745 accuracy_score: 0.766 loss: 35.395 \n",
      "[2023-04-17 10:32:01] 3789 src.scoring.epoch_score_printer {epoch_score_printer-21} INFO - [Epoch 27/50]: f1_score: 0.664 accuracy_score: 0.676 loss: 34.085 \n",
      "[2023-04-17 10:32:07] 3789 src.scoring.epoch_score_printer {epoch_score_printer-21} INFO - [Epoch 28/50]: f1_score: 0.670 accuracy_score: 0.691 loss: 36.654 \n",
      "[2023-04-17 10:32:13] 3789 src.scoring.epoch_score_printer {epoch_score_printer-21} INFO - [Epoch 29/50]: f1_score: 0.693 accuracy_score: 0.711 loss: 35.037 \n",
      "[2023-04-17 10:32:19] 3789 src.scoring.epoch_score_printer {epoch_score_printer-21} INFO - [Epoch 30/50]: f1_score: 0.691 accuracy_score: 0.707 loss: 33.275 \n",
      "[2023-04-17 10:32:25] 3789 src.scoring.epoch_score_printer {epoch_score_printer-21} INFO - [Epoch 31/50]: f1_score: 0.691 accuracy_score: 0.711 loss: 34.913 \n",
      "[2023-04-17 10:32:31] 3789 src.scoring.epoch_score_printer {epoch_score_printer-21} INFO - [Epoch 32/50]: f1_score: 0.710 accuracy_score: 0.734 loss: 30.800 \n",
      "[2023-04-17 10:32:37] 3789 src.scoring.epoch_score_printer {epoch_score_printer-21} INFO - [Epoch 33/50]: f1_score: 0.696 accuracy_score: 0.711 loss: 31.740 \n",
      "[2023-04-17 10:32:43] 3789 src.scoring.epoch_score_printer {epoch_score_printer-21} INFO - [Epoch 34/50]: f1_score: 0.672 accuracy_score: 0.691 loss: 33.038 \n",
      "[2023-04-17 10:32:49] 3789 src.scoring.epoch_score_printer {epoch_score_printer-21} INFO - [Epoch 35/50]: f1_score: 0.689 accuracy_score: 0.711 loss: 30.344 \n",
      "[2023-04-17 10:32:55] 3789 src.scoring.epoch_score_printer {epoch_score_printer-21} INFO - [Epoch 36/50]: f1_score: 0.691 accuracy_score: 0.707 loss: 30.607 \n",
      "[2023-04-17 10:33:02] 3789 src.scoring.epoch_score_printer {epoch_score_printer-21} INFO - [Epoch 37/50]: f1_score: 0.694 accuracy_score: 0.719 loss: 31.570 \n",
      "[2023-04-17 10:33:10] 3789 src.scoring.epoch_score_printer {epoch_score_printer-21} INFO - [Epoch 38/50]: f1_score: 0.713 accuracy_score: 0.727 loss: 30.852 \n",
      "[2023-04-17 10:33:19] 3789 src.scoring.epoch_score_printer {epoch_score_printer-21} INFO - [Epoch 39/50]: f1_score: 0.673 accuracy_score: 0.688 loss: 31.375 \n",
      "[2023-04-17 10:33:28] 3789 src.scoring.epoch_score_printer {epoch_score_printer-21} INFO - [Epoch 40/50]: f1_score: 0.698 accuracy_score: 0.715 loss: 29.025 \n",
      "[2023-04-17 10:33:36] 3789 src.scoring.epoch_score_printer {epoch_score_printer-21} INFO - [Epoch 41/50]: f1_score: 0.716 accuracy_score: 0.738 loss: 27.631 \n",
      "[2023-04-17 10:33:45] 3789 src.scoring.epoch_score_printer {epoch_score_printer-21} INFO - [Epoch 42/50]: f1_score: 0.693 accuracy_score: 0.707 loss: 31.483 \n",
      "[2023-04-17 10:33:54] 3789 src.scoring.epoch_score_printer {epoch_score_printer-21} INFO - [Epoch 43/50]: f1_score: 0.671 accuracy_score: 0.691 loss: 27.925 \n",
      "[2023-04-17 10:34:03] 3789 src.scoring.epoch_score_printer {epoch_score_printer-21} INFO - [Epoch 44/50]: f1_score: 0.686 accuracy_score: 0.707 loss: 29.463 \n",
      "[2023-04-17 10:34:12] 3789 src.scoring.epoch_score_printer {epoch_score_printer-21} INFO - [Epoch 45/50]: f1_score: 0.704 accuracy_score: 0.723 loss: 28.574 \n",
      "[2023-04-17 10:34:21] 3789 src.scoring.epoch_score_printer {epoch_score_printer-21} INFO - [Epoch 46/50]: f1_score: 0.702 accuracy_score: 0.719 loss: 30.303 \n",
      "[2023-04-17 10:34:29] 3789 src.scoring.epoch_score_printer {epoch_score_printer-21} INFO - [Epoch 47/50]: f1_score: 0.698 accuracy_score: 0.715 loss: 29.488 \n",
      "[2023-04-17 10:34:38] 3789 src.scoring.epoch_score_printer {epoch_score_printer-21} INFO - [Epoch 48/50]: f1_score: 0.715 accuracy_score: 0.730 loss: 27.719 \n",
      "[2023-04-17 10:34:46] 3789 src.scoring.epoch_score_printer {epoch_score_printer-21} INFO - [Epoch 49/50]: f1_score: 0.728 accuracy_score: 0.742 loss: 30.017 \n"
     ]
    },
    {
     "data": {
      "text/plain": "    f1_score  accuracy_score        loss\n0   0.673078        0.695312  186.336941\n1   0.736308        0.761719  121.510977\n2   0.704177        0.726562   99.151926\n3   0.702739        0.718750   86.179425\n4   0.695056        0.714844   79.393375\n5   0.728085        0.750000   73.409834\n6   0.708906        0.730469   69.036783\n7   0.717499        0.734375   63.961904\n8   0.715859        0.734375   61.488756\n9   0.731004        0.753906   59.672898\n10  0.667915        0.691406   55.684238\n11  0.732129        0.753906   54.563087\n12  0.700434        0.718750   48.471475\n13  0.707960        0.730469   49.208164\n14  0.667661        0.683594   48.497910\n15  0.693860        0.707031   46.536036\n16  0.710539        0.726562   46.212981\n17  0.691673        0.718750   44.711735\n18  0.695471        0.710938   41.177909\n19  0.670007        0.687500   46.726291\n20  0.735416        0.757812   42.643899\n21  0.727429        0.746094   40.317944\n22  0.709222        0.730469   40.935274\n23  0.645232        0.656250   38.182051\n24  0.693265        0.707031   36.697177\n25  0.652284        0.671875   36.342088\n26  0.745358        0.765625   35.394561\n27  0.664123        0.675781   34.085367\n28  0.670042        0.691406   36.653777\n29  0.693110        0.710938   35.036546\n30  0.690618        0.707031   33.274941\n31  0.691430        0.710938   34.912848\n32  0.709858        0.734375   30.799581\n33  0.696102        0.710938   31.740360\n34  0.671688        0.691406   33.037714\n35  0.689222        0.710938   30.344439\n36  0.691230        0.707031   30.607487\n37  0.694309        0.718750   31.569624\n38  0.712644        0.726562   30.852471\n39  0.673500        0.687500   31.375265\n40  0.698032        0.714844   29.025290\n41  0.715798        0.738281   27.630707\n42  0.692986        0.707031   31.483016\n43  0.670773        0.691406   27.925120\n44  0.685508        0.707031   29.463069\n45  0.703728        0.722656   28.574140\n46  0.701981        0.718750   30.303041\n47  0.698362        0.714844   29.488066\n48  0.714787        0.730469   27.718797\n49  0.727615        0.742188   30.016717",
      "text/html": "<div>\n<style scoped>\n    .dataframe tbody tr th:only-of-type {\n        vertical-align: middle;\n    }\n\n    .dataframe tbody tr th {\n        vertical-align: top;\n    }\n\n    .dataframe thead th {\n        text-align: right;\n    }\n</style>\n<table border=\"1\" class=\"dataframe\">\n  <thead>\n    <tr style=\"text-align: right;\">\n      <th></th>\n      <th>f1_score</th>\n      <th>accuracy_score</th>\n      <th>loss</th>\n    </tr>\n  </thead>\n  <tbody>\n    <tr>\n      <th>0</th>\n      <td>0.673078</td>\n      <td>0.695312</td>\n      <td>186.336941</td>\n    </tr>\n    <tr>\n      <th>1</th>\n      <td>0.736308</td>\n      <td>0.761719</td>\n      <td>121.510977</td>\n    </tr>\n    <tr>\n      <th>2</th>\n      <td>0.704177</td>\n      <td>0.726562</td>\n      <td>99.151926</td>\n    </tr>\n    <tr>\n      <th>3</th>\n      <td>0.702739</td>\n      <td>0.718750</td>\n      <td>86.179425</td>\n    </tr>\n    <tr>\n      <th>4</th>\n      <td>0.695056</td>\n      <td>0.714844</td>\n      <td>79.393375</td>\n    </tr>\n    <tr>\n      <th>5</th>\n      <td>0.728085</td>\n      <td>0.750000</td>\n      <td>73.409834</td>\n    </tr>\n    <tr>\n      <th>6</th>\n      <td>0.708906</td>\n      <td>0.730469</td>\n      <td>69.036783</td>\n    </tr>\n    <tr>\n      <th>7</th>\n      <td>0.717499</td>\n      <td>0.734375</td>\n      <td>63.961904</td>\n    </tr>\n    <tr>\n      <th>8</th>\n      <td>0.715859</td>\n      <td>0.734375</td>\n      <td>61.488756</td>\n    </tr>\n    <tr>\n      <th>9</th>\n      <td>0.731004</td>\n      <td>0.753906</td>\n      <td>59.672898</td>\n    </tr>\n    <tr>\n      <th>10</th>\n      <td>0.667915</td>\n      <td>0.691406</td>\n      <td>55.684238</td>\n    </tr>\n    <tr>\n      <th>11</th>\n      <td>0.732129</td>\n      <td>0.753906</td>\n      <td>54.563087</td>\n    </tr>\n    <tr>\n      <th>12</th>\n      <td>0.700434</td>\n      <td>0.718750</td>\n      <td>48.471475</td>\n    </tr>\n    <tr>\n      <th>13</th>\n      <td>0.707960</td>\n      <td>0.730469</td>\n      <td>49.208164</td>\n    </tr>\n    <tr>\n      <th>14</th>\n      <td>0.667661</td>\n      <td>0.683594</td>\n      <td>48.497910</td>\n    </tr>\n    <tr>\n      <th>15</th>\n      <td>0.693860</td>\n      <td>0.707031</td>\n      <td>46.536036</td>\n    </tr>\n    <tr>\n      <th>16</th>\n      <td>0.710539</td>\n      <td>0.726562</td>\n      <td>46.212981</td>\n    </tr>\n    <tr>\n      <th>17</th>\n      <td>0.691673</td>\n      <td>0.718750</td>\n      <td>44.711735</td>\n    </tr>\n    <tr>\n      <th>18</th>\n      <td>0.695471</td>\n      <td>0.710938</td>\n      <td>41.177909</td>\n    </tr>\n    <tr>\n      <th>19</th>\n      <td>0.670007</td>\n      <td>0.687500</td>\n      <td>46.726291</td>\n    </tr>\n    <tr>\n      <th>20</th>\n      <td>0.735416</td>\n      <td>0.757812</td>\n      <td>42.643899</td>\n    </tr>\n    <tr>\n      <th>21</th>\n      <td>0.727429</td>\n      <td>0.746094</td>\n      <td>40.317944</td>\n    </tr>\n    <tr>\n      <th>22</th>\n      <td>0.709222</td>\n      <td>0.730469</td>\n      <td>40.935274</td>\n    </tr>\n    <tr>\n      <th>23</th>\n      <td>0.645232</td>\n      <td>0.656250</td>\n      <td>38.182051</td>\n    </tr>\n    <tr>\n      <th>24</th>\n      <td>0.693265</td>\n      <td>0.707031</td>\n      <td>36.697177</td>\n    </tr>\n    <tr>\n      <th>25</th>\n      <td>0.652284</td>\n      <td>0.671875</td>\n      <td>36.342088</td>\n    </tr>\n    <tr>\n      <th>26</th>\n      <td>0.745358</td>\n      <td>0.765625</td>\n      <td>35.394561</td>\n    </tr>\n    <tr>\n      <th>27</th>\n      <td>0.664123</td>\n      <td>0.675781</td>\n      <td>34.085367</td>\n    </tr>\n    <tr>\n      <th>28</th>\n      <td>0.670042</td>\n      <td>0.691406</td>\n      <td>36.653777</td>\n    </tr>\n    <tr>\n      <th>29</th>\n      <td>0.693110</td>\n      <td>0.710938</td>\n      <td>35.036546</td>\n    </tr>\n    <tr>\n      <th>30</th>\n      <td>0.690618</td>\n      <td>0.707031</td>\n      <td>33.274941</td>\n    </tr>\n    <tr>\n      <th>31</th>\n      <td>0.691430</td>\n      <td>0.710938</td>\n      <td>34.912848</td>\n    </tr>\n    <tr>\n      <th>32</th>\n      <td>0.709858</td>\n      <td>0.734375</td>\n      <td>30.799581</td>\n    </tr>\n    <tr>\n      <th>33</th>\n      <td>0.696102</td>\n      <td>0.710938</td>\n      <td>31.740360</td>\n    </tr>\n    <tr>\n      <th>34</th>\n      <td>0.671688</td>\n      <td>0.691406</td>\n      <td>33.037714</td>\n    </tr>\n    <tr>\n      <th>35</th>\n      <td>0.689222</td>\n      <td>0.710938</td>\n      <td>30.344439</td>\n    </tr>\n    <tr>\n      <th>36</th>\n      <td>0.691230</td>\n      <td>0.707031</td>\n      <td>30.607487</td>\n    </tr>\n    <tr>\n      <th>37</th>\n      <td>0.694309</td>\n      <td>0.718750</td>\n      <td>31.569624</td>\n    </tr>\n    <tr>\n      <th>38</th>\n      <td>0.712644</td>\n      <td>0.726562</td>\n      <td>30.852471</td>\n    </tr>\n    <tr>\n      <th>39</th>\n      <td>0.673500</td>\n      <td>0.687500</td>\n      <td>31.375265</td>\n    </tr>\n    <tr>\n      <th>40</th>\n      <td>0.698032</td>\n      <td>0.714844</td>\n      <td>29.025290</td>\n    </tr>\n    <tr>\n      <th>41</th>\n      <td>0.715798</td>\n      <td>0.738281</td>\n      <td>27.630707</td>\n    </tr>\n    <tr>\n      <th>42</th>\n      <td>0.692986</td>\n      <td>0.707031</td>\n      <td>31.483016</td>\n    </tr>\n    <tr>\n      <th>43</th>\n      <td>0.670773</td>\n      <td>0.691406</td>\n      <td>27.925120</td>\n    </tr>\n    <tr>\n      <th>44</th>\n      <td>0.685508</td>\n      <td>0.707031</td>\n      <td>29.463069</td>\n    </tr>\n    <tr>\n      <th>45</th>\n      <td>0.703728</td>\n      <td>0.722656</td>\n      <td>28.574140</td>\n    </tr>\n    <tr>\n      <th>46</th>\n      <td>0.701981</td>\n      <td>0.718750</td>\n      <td>30.303041</td>\n    </tr>\n    <tr>\n      <th>47</th>\n      <td>0.698362</td>\n      <td>0.714844</td>\n      <td>29.488066</td>\n    </tr>\n    <tr>\n      <th>48</th>\n      <td>0.714787</td>\n      <td>0.730469</td>\n      <td>27.718797</td>\n    </tr>\n    <tr>\n      <th>49</th>\n      <td>0.727615</td>\n      <td>0.742188</td>\n      <td>30.016717</td>\n    </tr>\n  </tbody>\n</table>\n</div>"
     },
     "metadata": {},
     "output_type": "display_data"
    }
   ],
   "source": [
    "classifier.freeze_all_layers_except_fc()\n",
    "result_df, result_dict = classifier.fit(num_epoch=50)\n",
    "display(result_df)\n",
    "# print(result_dict)"
   ],
   "metadata": {
    "collapsed": false
   }
  },
  {
   "cell_type": "code",
   "execution_count": 7,
   "outputs": [],
   "source": [
    "classifier.save_model(result_dict)"
   ],
   "metadata": {
    "collapsed": false
   }
  },
  {
   "cell_type": "code",
   "execution_count": 5,
   "outputs": [],
   "source": [
    "result_df.to_csv(f'{classifier.name}_50_epoch_freeze_all_layers_except_fc_scores.csv')"
   ],
   "metadata": {
    "collapsed": false
   }
  },
  {
   "cell_type": "code",
   "execution_count": 6,
   "outputs": [
    {
     "name": "stderr",
     "output_type": "stream",
     "text": [
      "[2023-04-17 10:35:02] 3789 src.scoring.epoch_score_printer {epoch_score_printer-21} INFO - [Epoch 0/200]: f1_score: 0.320 accuracy_score: 0.363 loss: 236.183 \n",
      "[2023-04-17 10:35:18] 3789 src.scoring.epoch_score_printer {epoch_score_printer-21} INFO - [Epoch 1/200]: f1_score: 0.502 accuracy_score: 0.512 loss: 205.754 \n",
      "[2023-04-17 10:35:39] 3789 src.scoring.epoch_score_printer {epoch_score_printer-21} INFO - [Epoch 2/200]: f1_score: 0.570 accuracy_score: 0.586 loss: 171.918 \n",
      "[2023-04-17 10:36:03] 3789 src.scoring.epoch_score_printer {epoch_score_printer-21} INFO - [Epoch 3/200]: f1_score: 0.561 accuracy_score: 0.570 loss: 157.124 \n",
      "[2023-04-17 10:36:21] 3789 src.scoring.epoch_score_printer {epoch_score_printer-21} INFO - [Epoch 4/200]: f1_score: 0.521 accuracy_score: 0.531 loss: 134.153 \n",
      "[2023-04-17 10:36:37] 3789 src.scoring.epoch_score_printer {epoch_score_printer-21} INFO - [Epoch 5/200]: f1_score: 0.579 accuracy_score: 0.594 loss: 129.243 \n",
      "[2023-04-17 10:36:52] 3789 src.scoring.epoch_score_printer {epoch_score_printer-21} INFO - [Epoch 6/200]: f1_score: 0.595 accuracy_score: 0.613 loss: 115.323 \n",
      "[2023-04-17 10:37:08] 3789 src.scoring.epoch_score_printer {epoch_score_printer-21} INFO - [Epoch 7/200]: f1_score: 0.537 accuracy_score: 0.562 loss: 115.171 \n",
      "[2023-04-17 10:37:24] 3789 src.scoring.epoch_score_printer {epoch_score_printer-21} INFO - [Epoch 8/200]: f1_score: 0.574 accuracy_score: 0.586 loss: 97.507 \n",
      "[2023-04-17 10:37:39] 3789 src.scoring.epoch_score_printer {epoch_score_printer-21} INFO - [Epoch 9/200]: f1_score: 0.551 accuracy_score: 0.570 loss: 93.533 \n",
      "[2023-04-17 10:37:55] 3789 src.scoring.epoch_score_printer {epoch_score_printer-21} INFO - [Epoch 10/200]: f1_score: 0.613 accuracy_score: 0.629 loss: 89.059 \n",
      "[2023-04-17 10:38:11] 3789 src.scoring.epoch_score_printer {epoch_score_printer-21} INFO - [Epoch 11/200]: f1_score: 0.619 accuracy_score: 0.633 loss: 80.975 \n",
      "[2023-04-17 10:38:26] 3789 src.scoring.epoch_score_printer {epoch_score_printer-21} INFO - [Epoch 12/200]: f1_score: 0.574 accuracy_score: 0.598 loss: 77.220 \n",
      "[2023-04-17 10:38:42] 3789 src.scoring.epoch_score_printer {epoch_score_printer-21} INFO - [Epoch 13/200]: f1_score: 0.655 accuracy_score: 0.688 loss: 74.301 \n",
      "[2023-04-17 10:39:06] 3789 src.scoring.epoch_score_printer {epoch_score_printer-21} INFO - [Epoch 14/200]: f1_score: 0.702 accuracy_score: 0.719 loss: 71.130 \n",
      "[2023-04-17 10:39:31] 3789 src.scoring.epoch_score_printer {epoch_score_printer-21} INFO - [Epoch 15/200]: f1_score: 0.654 accuracy_score: 0.676 loss: 63.229 \n",
      "[2023-04-17 10:39:55] 3789 src.scoring.epoch_score_printer {epoch_score_printer-21} INFO - [Epoch 16/200]: f1_score: 0.625 accuracy_score: 0.645 loss: 62.412 \n",
      "[2023-04-17 10:40:20] 3789 src.scoring.epoch_score_printer {epoch_score_printer-21} INFO - [Epoch 17/200]: f1_score: 0.643 accuracy_score: 0.668 loss: 54.802 \n",
      "[2023-04-17 10:40:45] 3789 src.scoring.epoch_score_printer {epoch_score_printer-21} INFO - [Epoch 18/200]: f1_score: 0.678 accuracy_score: 0.707 loss: 57.844 \n",
      "[2023-04-17 10:41:10] 3789 src.scoring.epoch_score_printer {epoch_score_printer-21} INFO - [Epoch 19/200]: f1_score: 0.673 accuracy_score: 0.691 loss: 49.473 \n",
      "[2023-04-17 10:41:34] 3789 src.scoring.epoch_score_printer {epoch_score_printer-21} INFO - [Epoch 20/200]: f1_score: 0.700 accuracy_score: 0.723 loss: 52.311 \n",
      "[2023-04-17 10:41:59] 3789 src.scoring.epoch_score_printer {epoch_score_printer-21} INFO - [Epoch 21/200]: f1_score: 0.615 accuracy_score: 0.629 loss: 41.667 \n",
      "[2023-04-17 10:42:23] 3789 src.scoring.epoch_score_printer {epoch_score_printer-21} INFO - [Epoch 22/200]: f1_score: 0.663 accuracy_score: 0.688 loss: 52.801 \n",
      "[2023-04-17 10:42:48] 3789 src.scoring.epoch_score_printer {epoch_score_printer-21} INFO - [Epoch 23/200]: f1_score: 0.648 accuracy_score: 0.660 loss: 44.582 \n",
      "[2023-04-17 10:43:13] 3789 src.scoring.epoch_score_printer {epoch_score_printer-21} INFO - [Epoch 24/200]: f1_score: 0.616 accuracy_score: 0.633 loss: 42.461 \n",
      "[2023-04-17 10:43:38] 3789 src.scoring.epoch_score_printer {epoch_score_printer-21} INFO - [Epoch 25/200]: f1_score: 0.661 accuracy_score: 0.680 loss: 39.816 \n",
      "[2023-04-17 10:44:02] 3789 src.scoring.epoch_score_printer {epoch_score_printer-21} INFO - [Epoch 26/200]: f1_score: 0.667 accuracy_score: 0.684 loss: 36.355 \n",
      "[2023-04-17 10:44:27] 3789 src.scoring.epoch_score_printer {epoch_score_printer-21} INFO - [Epoch 27/200]: f1_score: 0.663 accuracy_score: 0.680 loss: 40.726 \n",
      "[2023-04-17 10:44:52] 3789 src.scoring.epoch_score_printer {epoch_score_printer-21} INFO - [Epoch 28/200]: f1_score: 0.661 accuracy_score: 0.672 loss: 38.393 \n",
      "[2023-04-17 10:45:16] 3789 src.scoring.epoch_score_printer {epoch_score_printer-21} INFO - [Epoch 29/200]: f1_score: 0.702 accuracy_score: 0.723 loss: 30.415 \n",
      "[2023-04-17 10:45:41] 3789 src.scoring.epoch_score_printer {epoch_score_printer-21} INFO - [Epoch 30/200]: f1_score: 0.681 accuracy_score: 0.699 loss: 36.619 \n",
      "[2023-04-17 10:46:06] 3789 src.scoring.epoch_score_printer {epoch_score_printer-21} INFO - [Epoch 31/200]: f1_score: 0.653 accuracy_score: 0.668 loss: 27.740 \n",
      "[2023-04-17 10:46:30] 3789 src.scoring.epoch_score_printer {epoch_score_printer-21} INFO - [Epoch 32/200]: f1_score: 0.653 accuracy_score: 0.664 loss: 32.915 \n",
      "[2023-04-17 10:46:55] 3789 src.scoring.epoch_score_printer {epoch_score_printer-21} INFO - [Epoch 33/200]: f1_score: 0.648 accuracy_score: 0.668 loss: 27.641 \n",
      "[2023-04-17 10:47:20] 3789 src.scoring.epoch_score_printer {epoch_score_printer-21} INFO - [Epoch 34/200]: f1_score: 0.639 accuracy_score: 0.660 loss: 31.474 \n",
      "[2023-04-17 10:47:44] 3789 src.scoring.epoch_score_printer {epoch_score_printer-21} INFO - [Epoch 35/200]: f1_score: 0.669 accuracy_score: 0.695 loss: 25.368 \n",
      "[2023-04-17 10:48:09] 3789 src.scoring.epoch_score_printer {epoch_score_printer-21} INFO - [Epoch 36/200]: f1_score: 0.692 accuracy_score: 0.711 loss: 30.309 \n",
      "[2023-04-17 10:48:34] 3789 src.scoring.epoch_score_printer {epoch_score_printer-21} INFO - [Epoch 37/200]: f1_score: 0.633 accuracy_score: 0.656 loss: 26.036 \n",
      "[2023-04-17 10:48:59] 3789 src.scoring.epoch_score_printer {epoch_score_printer-21} INFO - [Epoch 38/200]: f1_score: 0.715 accuracy_score: 0.738 loss: 20.041 \n",
      "[2023-04-17 10:49:23] 3789 src.scoring.epoch_score_printer {epoch_score_printer-21} INFO - [Epoch 39/200]: f1_score: 0.664 accuracy_score: 0.680 loss: 24.744 \n",
      "[2023-04-17 10:49:48] 3789 src.scoring.epoch_score_printer {epoch_score_printer-21} INFO - [Epoch 40/200]: f1_score: 0.606 accuracy_score: 0.617 loss: 21.515 \n",
      "[2023-04-17 10:50:13] 3789 src.scoring.epoch_score_printer {epoch_score_printer-21} INFO - [Epoch 41/200]: f1_score: 0.584 accuracy_score: 0.598 loss: 20.369 \n",
      "[2023-04-17 10:50:33] 3789 src.scoring.epoch_score_printer {epoch_score_printer-21} INFO - [Epoch 42/200]: f1_score: 0.673 accuracy_score: 0.691 loss: 21.291 \n",
      "[2023-04-17 10:50:49] 3789 src.scoring.epoch_score_printer {epoch_score_printer-21} INFO - [Epoch 43/200]: f1_score: 0.664 accuracy_score: 0.684 loss: 18.114 \n",
      "[2023-04-17 10:51:05] 3789 src.scoring.epoch_score_printer {epoch_score_printer-21} INFO - [Epoch 44/200]: f1_score: 0.665 accuracy_score: 0.684 loss: 17.252 \n",
      "[2023-04-17 10:51:20] 3789 src.scoring.epoch_score_printer {epoch_score_printer-21} INFO - [Epoch 45/200]: f1_score: 0.687 accuracy_score: 0.707 loss: 22.412 \n",
      "[2023-04-17 10:51:36] 3789 src.scoring.epoch_score_printer {epoch_score_printer-21} INFO - [Epoch 46/200]: f1_score: 0.626 accuracy_score: 0.641 loss: 20.434 \n",
      "[2023-04-17 10:51:52] 3789 src.scoring.epoch_score_printer {epoch_score_printer-21} INFO - [Epoch 47/200]: f1_score: 0.643 accuracy_score: 0.664 loss: 21.330 \n",
      "[2023-04-17 10:52:07] 3789 src.scoring.epoch_score_printer {epoch_score_printer-21} INFO - [Epoch 48/200]: f1_score: 0.716 accuracy_score: 0.734 loss: 17.951 \n",
      "[2023-04-17 10:52:23] 3789 src.scoring.epoch_score_printer {epoch_score_printer-21} INFO - [Epoch 49/200]: f1_score: 0.664 accuracy_score: 0.684 loss: 16.059 \n",
      "[2023-04-17 10:52:39] 3789 src.scoring.epoch_score_printer {epoch_score_printer-21} INFO - [Epoch 50/200]: f1_score: 0.671 accuracy_score: 0.680 loss: 14.689 \n",
      "[2023-04-17 10:52:55] 3789 src.scoring.epoch_score_printer {epoch_score_printer-21} INFO - [Epoch 51/200]: f1_score: 0.685 accuracy_score: 0.707 loss: 19.347 \n",
      "[2023-04-17 10:53:10] 3789 src.scoring.epoch_score_printer {epoch_score_printer-21} INFO - [Epoch 52/200]: f1_score: 0.686 accuracy_score: 0.707 loss: 14.298 \n",
      "[2023-04-17 10:53:26] 3789 src.scoring.epoch_score_printer {epoch_score_printer-21} INFO - [Epoch 53/200]: f1_score: 0.706 accuracy_score: 0.723 loss: 14.862 \n",
      "[2023-04-17 10:53:42] 3789 src.scoring.epoch_score_printer {epoch_score_printer-21} INFO - [Epoch 54/200]: f1_score: 0.644 accuracy_score: 0.664 loss: 16.566 \n",
      "[2023-04-17 10:53:57] 3789 src.scoring.epoch_score_printer {epoch_score_printer-21} INFO - [Epoch 55/200]: f1_score: 0.679 accuracy_score: 0.695 loss: 11.136 \n",
      "[2023-04-17 10:54:13] 3789 src.scoring.epoch_score_printer {epoch_score_printer-21} INFO - [Epoch 56/200]: f1_score: 0.642 accuracy_score: 0.660 loss: 13.551 \n",
      "[2023-04-17 10:54:29] 3789 src.scoring.epoch_score_printer {epoch_score_printer-21} INFO - [Epoch 57/200]: f1_score: 0.677 accuracy_score: 0.703 loss: 13.505 \n",
      "[2023-04-17 10:54:45] 3789 src.scoring.epoch_score_printer {epoch_score_printer-21} INFO - [Epoch 58/200]: f1_score: 0.666 accuracy_score: 0.688 loss: 20.344 \n",
      "[2023-04-17 10:55:01] 3789 src.scoring.epoch_score_printer {epoch_score_printer-21} INFO - [Epoch 59/200]: f1_score: 0.668 accuracy_score: 0.680 loss: 13.442 \n",
      "[2023-04-17 10:55:17] 3789 src.scoring.epoch_score_printer {epoch_score_printer-21} INFO - [Epoch 60/200]: f1_score: 0.676 accuracy_score: 0.691 loss: 17.203 \n",
      "[2023-04-17 10:55:33] 3789 src.scoring.epoch_score_printer {epoch_score_printer-21} INFO - [Epoch 61/200]: f1_score: 0.707 accuracy_score: 0.734 loss: 13.416 \n",
      "[2023-04-17 10:55:48] 3789 src.scoring.epoch_score_printer {epoch_score_printer-21} INFO - [Epoch 62/200]: f1_score: 0.660 accuracy_score: 0.680 loss: 15.214 \n",
      "[2023-04-17 10:56:04] 3789 src.scoring.epoch_score_printer {epoch_score_printer-21} INFO - [Epoch 63/200]: f1_score: 0.630 accuracy_score: 0.656 loss: 13.615 \n",
      "[2023-04-17 10:56:20] 3789 src.scoring.epoch_score_printer {epoch_score_printer-21} INFO - [Epoch 64/200]: f1_score: 0.680 accuracy_score: 0.699 loss: 13.875 \n",
      "[2023-04-17 10:56:36] 3789 src.scoring.epoch_score_printer {epoch_score_printer-21} INFO - [Epoch 65/200]: f1_score: 0.714 accuracy_score: 0.734 loss: 12.733 \n",
      "[2023-04-17 10:56:51] 3789 src.scoring.epoch_score_printer {epoch_score_printer-21} INFO - [Epoch 66/200]: f1_score: 0.706 accuracy_score: 0.723 loss: 14.935 \n",
      "[2023-04-17 10:57:07] 3789 src.scoring.epoch_score_printer {epoch_score_printer-21} INFO - [Epoch 67/200]: f1_score: 0.719 accuracy_score: 0.734 loss: 12.345 \n",
      "[2023-04-17 10:57:23] 3789 src.scoring.epoch_score_printer {epoch_score_printer-21} INFO - [Epoch 68/200]: f1_score: 0.678 accuracy_score: 0.695 loss: 11.941 \n",
      "[2023-04-17 10:57:39] 3789 src.scoring.epoch_score_printer {epoch_score_printer-21} INFO - [Epoch 69/200]: f1_score: 0.679 accuracy_score: 0.699 loss: 13.111 \n",
      "[2023-04-17 10:57:54] 3789 src.scoring.epoch_score_printer {epoch_score_printer-21} INFO - [Epoch 70/200]: f1_score: 0.685 accuracy_score: 0.699 loss: 9.754 \n",
      "[2023-04-17 10:58:10] 3789 src.scoring.epoch_score_printer {epoch_score_printer-21} INFO - [Epoch 71/200]: f1_score: 0.679 accuracy_score: 0.699 loss: 10.440 \n",
      "[2023-04-17 10:58:26] 3789 src.scoring.epoch_score_printer {epoch_score_printer-21} INFO - [Epoch 72/200]: f1_score: 0.689 accuracy_score: 0.707 loss: 12.134 \n",
      "[2023-04-17 10:58:41] 3789 src.scoring.epoch_score_printer {epoch_score_printer-21} INFO - [Epoch 73/200]: f1_score: 0.658 accuracy_score: 0.676 loss: 13.942 \n",
      "[2023-04-17 10:58:57] 3789 src.scoring.epoch_score_printer {epoch_score_printer-21} INFO - [Epoch 74/200]: f1_score: 0.630 accuracy_score: 0.652 loss: 14.832 \n",
      "[2023-04-17 10:59:13] 3789 src.scoring.epoch_score_printer {epoch_score_printer-21} INFO - [Epoch 75/200]: f1_score: 0.670 accuracy_score: 0.684 loss: 10.885 \n",
      "[2023-04-17 10:59:29] 3789 src.scoring.epoch_score_printer {epoch_score_printer-21} INFO - [Epoch 76/200]: f1_score: 0.687 accuracy_score: 0.703 loss: 13.409 \n",
      "[2023-04-17 10:59:44] 3789 src.scoring.epoch_score_printer {epoch_score_printer-21} INFO - [Epoch 77/200]: f1_score: 0.673 accuracy_score: 0.691 loss: 7.636 \n",
      "[2023-04-17 11:00:00] 3789 src.scoring.epoch_score_printer {epoch_score_printer-21} INFO - [Epoch 78/200]: f1_score: 0.652 accuracy_score: 0.672 loss: 9.493 \n",
      "[2023-04-17 11:00:16] 3789 src.scoring.epoch_score_printer {epoch_score_printer-21} INFO - [Epoch 79/200]: f1_score: 0.692 accuracy_score: 0.711 loss: 9.835 \n",
      "[2023-04-17 11:00:32] 3789 src.scoring.epoch_score_printer {epoch_score_printer-21} INFO - [Epoch 80/200]: f1_score: 0.695 accuracy_score: 0.711 loss: 12.268 \n",
      "[2023-04-17 11:00:47] 3789 src.scoring.epoch_score_printer {epoch_score_printer-21} INFO - [Epoch 81/200]: f1_score: 0.698 accuracy_score: 0.719 loss: 11.675 \n",
      "[2023-04-17 11:01:03] 3789 src.scoring.epoch_score_printer {epoch_score_printer-21} INFO - [Epoch 82/200]: f1_score: 0.653 accuracy_score: 0.672 loss: 10.039 \n",
      "[2023-04-17 11:01:19] 3789 src.scoring.epoch_score_printer {epoch_score_printer-21} INFO - [Epoch 83/200]: f1_score: 0.697 accuracy_score: 0.723 loss: 11.160 \n",
      "[2023-04-17 11:01:35] 3789 src.scoring.epoch_score_printer {epoch_score_printer-21} INFO - [Epoch 84/200]: f1_score: 0.643 accuracy_score: 0.656 loss: 7.304 \n",
      "[2023-04-17 11:01:50] 3789 src.scoring.epoch_score_printer {epoch_score_printer-21} INFO - [Epoch 85/200]: f1_score: 0.699 accuracy_score: 0.715 loss: 9.218 \n",
      "[2023-04-17 11:02:06] 3789 src.scoring.epoch_score_printer {epoch_score_printer-21} INFO - [Epoch 86/200]: f1_score: 0.661 accuracy_score: 0.676 loss: 12.946 \n",
      "[2023-04-17 11:02:22] 3789 src.scoring.epoch_score_printer {epoch_score_printer-21} INFO - [Epoch 87/200]: f1_score: 0.650 accuracy_score: 0.668 loss: 12.066 \n",
      "[2023-04-17 11:02:37] 3789 src.scoring.epoch_score_printer {epoch_score_printer-21} INFO - [Epoch 88/200]: f1_score: 0.696 accuracy_score: 0.719 loss: 11.785 \n",
      "[2023-04-17 11:02:53] 3789 src.scoring.epoch_score_printer {epoch_score_printer-21} INFO - [Epoch 89/200]: f1_score: 0.691 accuracy_score: 0.711 loss: 10.708 \n",
      "[2023-04-17 11:03:09] 3789 src.scoring.epoch_score_printer {epoch_score_printer-21} INFO - [Epoch 90/200]: f1_score: 0.657 accuracy_score: 0.680 loss: 7.351 \n",
      "[2023-04-17 11:03:24] 3789 src.scoring.epoch_score_printer {epoch_score_printer-21} INFO - [Epoch 91/200]: f1_score: 0.699 accuracy_score: 0.719 loss: 9.418 \n",
      "[2023-04-17 11:03:40] 3789 src.scoring.epoch_score_printer {epoch_score_printer-21} INFO - [Epoch 92/200]: f1_score: 0.675 accuracy_score: 0.688 loss: 6.016 \n",
      "[2023-04-17 11:03:56] 3789 src.scoring.epoch_score_printer {epoch_score_printer-21} INFO - [Epoch 93/200]: f1_score: 0.680 accuracy_score: 0.703 loss: 7.762 \n",
      "[2023-04-17 11:04:11] 3789 src.scoring.epoch_score_printer {epoch_score_printer-21} INFO - [Epoch 94/200]: f1_score: 0.657 accuracy_score: 0.680 loss: 13.230 \n",
      "[2023-04-17 11:04:27] 3789 src.scoring.epoch_score_printer {epoch_score_printer-21} INFO - [Epoch 95/200]: f1_score: 0.701 accuracy_score: 0.719 loss: 6.606 \n",
      "[2023-04-17 11:04:43] 3789 src.scoring.epoch_score_printer {epoch_score_printer-21} INFO - [Epoch 96/200]: f1_score: 0.702 accuracy_score: 0.715 loss: 13.319 \n",
      "[2023-04-17 11:04:59] 3789 src.scoring.epoch_score_printer {epoch_score_printer-21} INFO - [Epoch 97/200]: f1_score: 0.705 accuracy_score: 0.727 loss: 9.727 \n",
      "[2023-04-17 11:05:14] 3789 src.scoring.epoch_score_printer {epoch_score_printer-21} INFO - [Epoch 98/200]: f1_score: 0.708 accuracy_score: 0.723 loss: 6.746 \n",
      "[2023-04-17 11:05:30] 3789 src.scoring.epoch_score_printer {epoch_score_printer-21} INFO - [Epoch 99/200]: f1_score: 0.635 accuracy_score: 0.648 loss: 11.545 \n",
      "[2023-04-17 11:05:46] 3789 src.scoring.epoch_score_printer {epoch_score_printer-21} INFO - [Epoch 100/200]: f1_score: 0.654 accuracy_score: 0.664 loss: 10.964 \n",
      "[2023-04-17 11:06:02] 3789 src.scoring.epoch_score_printer {epoch_score_printer-21} INFO - [Epoch 101/200]: f1_score: 0.687 accuracy_score: 0.707 loss: 9.831 \n",
      "[2023-04-17 11:06:17] 3789 src.scoring.epoch_score_printer {epoch_score_printer-21} INFO - [Epoch 102/200]: f1_score: 0.671 accuracy_score: 0.691 loss: 9.674 \n",
      "[2023-04-17 11:06:33] 3789 src.scoring.epoch_score_printer {epoch_score_printer-21} INFO - [Epoch 103/200]: f1_score: 0.636 accuracy_score: 0.648 loss: 8.335 \n",
      "[2023-04-17 11:06:49] 3789 src.scoring.epoch_score_printer {epoch_score_printer-21} INFO - [Epoch 104/200]: f1_score: 0.679 accuracy_score: 0.707 loss: 10.407 \n",
      "[2023-04-17 11:07:04] 3789 src.scoring.epoch_score_printer {epoch_score_printer-21} INFO - [Epoch 105/200]: f1_score: 0.714 accuracy_score: 0.738 loss: 4.369 \n",
      "[2023-04-17 11:07:20] 3789 src.scoring.epoch_score_printer {epoch_score_printer-21} INFO - [Epoch 106/200]: f1_score: 0.700 accuracy_score: 0.719 loss: 9.125 \n",
      "[2023-04-17 11:07:36] 3789 src.scoring.epoch_score_printer {epoch_score_printer-21} INFO - [Epoch 107/200]: f1_score: 0.675 accuracy_score: 0.699 loss: 9.461 \n",
      "[2023-04-17 11:07:51] 3789 src.scoring.epoch_score_printer {epoch_score_printer-21} INFO - [Epoch 108/200]: f1_score: 0.691 accuracy_score: 0.707 loss: 11.390 \n",
      "[2023-04-17 11:08:07] 3789 src.scoring.epoch_score_printer {epoch_score_printer-21} INFO - [Epoch 109/200]: f1_score: 0.629 accuracy_score: 0.648 loss: 4.705 \n",
      "[2023-04-17 11:08:23] 3789 src.scoring.epoch_score_printer {epoch_score_printer-21} INFO - [Epoch 110/200]: f1_score: 0.684 accuracy_score: 0.699 loss: 7.168 \n",
      "[2023-04-17 11:08:39] 3789 src.scoring.epoch_score_printer {epoch_score_printer-21} INFO - [Epoch 111/200]: f1_score: 0.675 accuracy_score: 0.688 loss: 4.719 \n",
      "[2023-04-17 11:08:54] 3789 src.scoring.epoch_score_printer {epoch_score_printer-21} INFO - [Epoch 112/200]: f1_score: 0.644 accuracy_score: 0.656 loss: 4.356 \n",
      "[2023-04-17 11:09:10] 3789 src.scoring.epoch_score_printer {epoch_score_printer-21} INFO - [Epoch 113/200]: f1_score: 0.714 accuracy_score: 0.734 loss: 8.275 \n",
      "[2023-04-17 11:09:26] 3789 src.scoring.epoch_score_printer {epoch_score_printer-21} INFO - [Epoch 114/200]: f1_score: 0.667 accuracy_score: 0.688 loss: 14.342 \n",
      "[2023-04-17 11:09:41] 3789 src.scoring.epoch_score_printer {epoch_score_printer-21} INFO - [Epoch 115/200]: f1_score: 0.662 accuracy_score: 0.676 loss: 6.347 \n",
      "[2023-04-17 11:09:57] 3789 src.scoring.epoch_score_printer {epoch_score_printer-21} INFO - [Epoch 116/200]: f1_score: 0.652 accuracy_score: 0.672 loss: 5.525 \n",
      "[2023-04-17 11:10:13] 3789 src.scoring.epoch_score_printer {epoch_score_printer-21} INFO - [Epoch 117/200]: f1_score: 0.706 accuracy_score: 0.723 loss: 8.876 \n",
      "[2023-04-17 11:10:29] 3789 src.scoring.epoch_score_printer {epoch_score_printer-21} INFO - [Epoch 118/200]: f1_score: 0.720 accuracy_score: 0.734 loss: 10.052 \n",
      "[2023-04-17 11:10:44] 3789 src.scoring.epoch_score_printer {epoch_score_printer-21} INFO - [Epoch 119/200]: f1_score: 0.632 accuracy_score: 0.648 loss: 6.908 \n",
      "[2023-04-17 11:11:00] 3789 src.scoring.epoch_score_printer {epoch_score_printer-21} INFO - [Epoch 120/200]: f1_score: 0.664 accuracy_score: 0.684 loss: 10.383 \n",
      "[2023-04-17 11:11:16] 3789 src.scoring.epoch_score_printer {epoch_score_printer-21} INFO - [Epoch 121/200]: f1_score: 0.663 accuracy_score: 0.680 loss: 7.948 \n",
      "[2023-04-17 11:11:31] 3789 src.scoring.epoch_score_printer {epoch_score_printer-21} INFO - [Epoch 122/200]: f1_score: 0.651 accuracy_score: 0.672 loss: 4.995 \n",
      "[2023-04-17 11:11:47] 3789 src.scoring.epoch_score_printer {epoch_score_printer-21} INFO - [Epoch 123/200]: f1_score: 0.704 accuracy_score: 0.715 loss: 7.046 \n",
      "[2023-04-17 11:12:03] 3789 src.scoring.epoch_score_printer {epoch_score_printer-21} INFO - [Epoch 124/200]: f1_score: 0.745 accuracy_score: 0.758 loss: 6.236 \n",
      "[2023-04-17 11:12:19] 3789 src.scoring.epoch_score_printer {epoch_score_printer-21} INFO - [Epoch 125/200]: f1_score: 0.701 accuracy_score: 0.723 loss: 4.153 \n",
      "[2023-04-17 11:12:34] 3789 src.scoring.epoch_score_printer {epoch_score_printer-21} INFO - [Epoch 126/200]: f1_score: 0.677 accuracy_score: 0.695 loss: 6.660 \n",
      "[2023-04-17 11:12:50] 3789 src.scoring.epoch_score_printer {epoch_score_printer-21} INFO - [Epoch 127/200]: f1_score: 0.690 accuracy_score: 0.703 loss: 6.241 \n",
      "[2023-04-17 11:13:06] 3789 src.scoring.epoch_score_printer {epoch_score_printer-21} INFO - [Epoch 128/200]: f1_score: 0.732 accuracy_score: 0.754 loss: 6.236 \n",
      "[2023-04-17 11:13:21] 3789 src.scoring.epoch_score_printer {epoch_score_printer-21} INFO - [Epoch 129/200]: f1_score: 0.674 accuracy_score: 0.691 loss: 5.572 \n",
      "[2023-04-17 11:13:37] 3789 src.scoring.epoch_score_printer {epoch_score_printer-21} INFO - [Epoch 130/200]: f1_score: 0.716 accuracy_score: 0.738 loss: 10.660 \n",
      "[2023-04-17 11:13:52] 3789 src.scoring.epoch_score_printer {epoch_score_printer-21} INFO - [Epoch 131/200]: f1_score: 0.686 accuracy_score: 0.703 loss: 4.652 \n",
      "[2023-04-17 11:14:08] 3789 src.scoring.epoch_score_printer {epoch_score_printer-21} INFO - [Epoch 132/200]: f1_score: 0.652 accuracy_score: 0.668 loss: 6.006 \n",
      "[2023-04-17 11:14:24] 3789 src.scoring.epoch_score_printer {epoch_score_printer-21} INFO - [Epoch 133/200]: f1_score: 0.720 accuracy_score: 0.734 loss: 5.383 \n",
      "[2023-04-17 11:14:40] 3789 src.scoring.epoch_score_printer {epoch_score_printer-21} INFO - [Epoch 134/200]: f1_score: 0.673 accuracy_score: 0.695 loss: 5.377 \n",
      "[2023-04-17 11:14:55] 3789 src.scoring.epoch_score_printer {epoch_score_printer-21} INFO - [Epoch 135/200]: f1_score: 0.712 accuracy_score: 0.734 loss: 5.074 \n",
      "[2023-04-17 11:15:11] 3789 src.scoring.epoch_score_printer {epoch_score_printer-21} INFO - [Epoch 136/200]: f1_score: 0.699 accuracy_score: 0.715 loss: 6.320 \n",
      "[2023-04-17 11:15:27] 3789 src.scoring.epoch_score_printer {epoch_score_printer-21} INFO - [Epoch 137/200]: f1_score: 0.661 accuracy_score: 0.684 loss: 5.028 \n",
      "[2023-04-17 11:15:43] 3789 src.scoring.epoch_score_printer {epoch_score_printer-21} INFO - [Epoch 138/200]: f1_score: 0.673 accuracy_score: 0.688 loss: 5.999 \n",
      "[2023-04-17 11:15:58] 3789 src.scoring.epoch_score_printer {epoch_score_printer-21} INFO - [Epoch 139/200]: f1_score: 0.656 accuracy_score: 0.668 loss: 6.365 \n",
      "[2023-04-17 11:16:14] 3789 src.scoring.epoch_score_printer {epoch_score_printer-21} INFO - [Epoch 140/200]: f1_score: 0.705 accuracy_score: 0.719 loss: 7.097 \n",
      "[2023-04-17 11:16:30] 3789 src.scoring.epoch_score_printer {epoch_score_printer-21} INFO - [Epoch 141/200]: f1_score: 0.692 accuracy_score: 0.703 loss: 8.492 \n",
      "[2023-04-17 11:16:46] 3789 src.scoring.epoch_score_printer {epoch_score_printer-21} INFO - [Epoch 142/200]: f1_score: 0.672 accuracy_score: 0.703 loss: 5.352 \n",
      "[2023-04-17 11:17:01] 3789 src.scoring.epoch_score_printer {epoch_score_printer-21} INFO - [Epoch 143/200]: f1_score: 0.681 accuracy_score: 0.703 loss: 9.394 \n",
      "[2023-04-17 11:17:17] 3789 src.scoring.epoch_score_printer {epoch_score_printer-21} INFO - [Epoch 144/200]: f1_score: 0.650 accuracy_score: 0.672 loss: 8.925 \n",
      "[2023-04-17 11:17:33] 3789 src.scoring.epoch_score_printer {epoch_score_printer-21} INFO - [Epoch 145/200]: f1_score: 0.611 accuracy_score: 0.625 loss: 6.224 \n",
      "[2023-04-17 11:17:48] 3789 src.scoring.epoch_score_printer {epoch_score_printer-21} INFO - [Epoch 146/200]: f1_score: 0.650 accuracy_score: 0.672 loss: 6.369 \n",
      "[2023-04-17 11:18:04] 3789 src.scoring.epoch_score_printer {epoch_score_printer-21} INFO - [Epoch 147/200]: f1_score: 0.683 accuracy_score: 0.699 loss: 5.513 \n",
      "[2023-04-17 11:18:20] 3789 src.scoring.epoch_score_printer {epoch_score_printer-21} INFO - [Epoch 148/200]: f1_score: 0.731 accuracy_score: 0.750 loss: 4.420 \n",
      "[2023-04-17 11:18:36] 3789 src.scoring.epoch_score_printer {epoch_score_printer-21} INFO - [Epoch 149/200]: f1_score: 0.682 accuracy_score: 0.699 loss: 2.155 \n",
      "[2023-04-17 11:18:51] 3789 src.scoring.epoch_score_printer {epoch_score_printer-21} INFO - [Epoch 150/200]: f1_score: 0.676 accuracy_score: 0.695 loss: 4.660 \n",
      "[2023-04-17 11:19:07] 3789 src.scoring.epoch_score_printer {epoch_score_printer-21} INFO - [Epoch 151/200]: f1_score: 0.703 accuracy_score: 0.719 loss: 6.536 \n",
      "[2023-04-17 11:19:23] 3789 src.scoring.epoch_score_printer {epoch_score_printer-21} INFO - [Epoch 152/200]: f1_score: 0.659 accuracy_score: 0.672 loss: 6.061 \n",
      "[2023-04-17 11:19:39] 3789 src.scoring.epoch_score_printer {epoch_score_printer-21} INFO - [Epoch 153/200]: f1_score: 0.686 accuracy_score: 0.703 loss: 5.099 \n",
      "[2023-04-17 11:19:54] 3789 src.scoring.epoch_score_printer {epoch_score_printer-21} INFO - [Epoch 154/200]: f1_score: 0.639 accuracy_score: 0.652 loss: 7.348 \n",
      "[2023-04-17 11:20:10] 3789 src.scoring.epoch_score_printer {epoch_score_printer-21} INFO - [Epoch 155/200]: f1_score: 0.635 accuracy_score: 0.652 loss: 4.334 \n",
      "[2023-04-17 11:20:25] 3789 src.scoring.epoch_score_printer {epoch_score_printer-21} INFO - [Epoch 156/200]: f1_score: 0.690 accuracy_score: 0.703 loss: 8.510 \n",
      "[2023-04-17 11:20:41] 3789 src.scoring.epoch_score_printer {epoch_score_printer-21} INFO - [Epoch 157/200]: f1_score: 0.690 accuracy_score: 0.711 loss: 3.661 \n",
      "[2023-04-17 11:20:57] 3789 src.scoring.epoch_score_printer {epoch_score_printer-21} INFO - [Epoch 158/200]: f1_score: 0.675 accuracy_score: 0.684 loss: 3.655 \n",
      "[2023-04-17 11:21:13] 3789 src.scoring.epoch_score_printer {epoch_score_printer-21} INFO - [Epoch 159/200]: f1_score: 0.662 accuracy_score: 0.680 loss: 4.756 \n",
      "[2023-04-17 11:21:28] 3789 src.scoring.epoch_score_printer {epoch_score_printer-21} INFO - [Epoch 160/200]: f1_score: 0.702 accuracy_score: 0.723 loss: 6.130 \n",
      "[2023-04-17 11:21:44] 3789 src.scoring.epoch_score_printer {epoch_score_printer-21} INFO - [Epoch 161/200]: f1_score: 0.669 accuracy_score: 0.680 loss: 8.007 \n",
      "[2023-04-17 11:22:00] 3789 src.scoring.epoch_score_printer {epoch_score_printer-21} INFO - [Epoch 162/200]: f1_score: 0.636 accuracy_score: 0.648 loss: 6.766 \n",
      "[2023-04-17 11:22:16] 3789 src.scoring.epoch_score_printer {epoch_score_printer-21} INFO - [Epoch 163/200]: f1_score: 0.719 accuracy_score: 0.734 loss: 8.040 \n",
      "[2023-04-17 11:22:31] 3789 src.scoring.epoch_score_printer {epoch_score_printer-21} INFO - [Epoch 164/200]: f1_score: 0.724 accuracy_score: 0.742 loss: 8.286 \n",
      "[2023-04-17 11:22:47] 3789 src.scoring.epoch_score_printer {epoch_score_printer-21} INFO - [Epoch 165/200]: f1_score: 0.721 accuracy_score: 0.742 loss: 5.994 \n",
      "[2023-04-17 11:23:03] 3789 src.scoring.epoch_score_printer {epoch_score_printer-21} INFO - [Epoch 166/200]: f1_score: 0.682 accuracy_score: 0.699 loss: 4.715 \n",
      "[2023-04-17 11:23:19] 3789 src.scoring.epoch_score_printer {epoch_score_printer-21} INFO - [Epoch 167/200]: f1_score: 0.716 accuracy_score: 0.734 loss: 5.457 \n",
      "[2023-04-17 11:23:34] 3789 src.scoring.epoch_score_printer {epoch_score_printer-21} INFO - [Epoch 168/200]: f1_score: 0.671 accuracy_score: 0.691 loss: 5.396 \n",
      "[2023-04-17 11:23:50] 3789 src.scoring.epoch_score_printer {epoch_score_printer-21} INFO - [Epoch 169/200]: f1_score: 0.662 accuracy_score: 0.684 loss: 6.243 \n",
      "[2023-04-17 11:24:06] 3789 src.scoring.epoch_score_printer {epoch_score_printer-21} INFO - [Epoch 170/200]: f1_score: 0.651 accuracy_score: 0.672 loss: 4.903 \n",
      "[2023-04-17 11:24:22] 3789 src.scoring.epoch_score_printer {epoch_score_printer-21} INFO - [Epoch 171/200]: f1_score: 0.695 accuracy_score: 0.711 loss: 4.018 \n",
      "[2023-04-17 11:24:37] 3789 src.scoring.epoch_score_printer {epoch_score_printer-21} INFO - [Epoch 172/200]: f1_score: 0.692 accuracy_score: 0.707 loss: 6.467 \n",
      "[2023-04-17 11:24:53] 3789 src.scoring.epoch_score_printer {epoch_score_printer-21} INFO - [Epoch 173/200]: f1_score: 0.679 accuracy_score: 0.695 loss: 5.064 \n",
      "[2023-04-17 11:25:09] 3789 src.scoring.epoch_score_printer {epoch_score_printer-21} INFO - [Epoch 174/200]: f1_score: 0.647 accuracy_score: 0.664 loss: 2.456 \n",
      "[2023-04-17 11:25:25] 3789 src.scoring.epoch_score_printer {epoch_score_printer-21} INFO - [Epoch 175/200]: f1_score: 0.709 accuracy_score: 0.723 loss: 2.558 \n",
      "[2023-04-17 11:25:40] 3789 src.scoring.epoch_score_printer {epoch_score_printer-21} INFO - [Epoch 176/200]: f1_score: 0.686 accuracy_score: 0.699 loss: 6.833 \n",
      "[2023-04-17 11:25:56] 3789 src.scoring.epoch_score_printer {epoch_score_printer-21} INFO - [Epoch 177/200]: f1_score: 0.709 accuracy_score: 0.727 loss: 4.347 \n",
      "[2023-04-17 11:26:12] 3789 src.scoring.epoch_score_printer {epoch_score_printer-21} INFO - [Epoch 178/200]: f1_score: 0.726 accuracy_score: 0.746 loss: 2.277 \n",
      "[2023-04-17 11:26:27] 3789 src.scoring.epoch_score_printer {epoch_score_printer-21} INFO - [Epoch 179/200]: f1_score: 0.647 accuracy_score: 0.664 loss: 5.820 \n",
      "[2023-04-17 11:26:43] 3789 src.scoring.epoch_score_printer {epoch_score_printer-21} INFO - [Epoch 180/200]: f1_score: 0.664 accuracy_score: 0.684 loss: 5.661 \n",
      "[2023-04-17 11:26:59] 3789 src.scoring.epoch_score_printer {epoch_score_printer-21} INFO - [Epoch 181/200]: f1_score: 0.660 accuracy_score: 0.676 loss: 5.234 \n",
      "[2023-04-17 11:27:14] 3789 src.scoring.epoch_score_printer {epoch_score_printer-21} INFO - [Epoch 182/200]: f1_score: 0.705 accuracy_score: 0.719 loss: 3.268 \n",
      "[2023-04-17 11:27:30] 3789 src.scoring.epoch_score_printer {epoch_score_printer-21} INFO - [Epoch 183/200]: f1_score: 0.674 accuracy_score: 0.691 loss: 6.930 \n",
      "[2023-04-17 11:27:46] 3789 src.scoring.epoch_score_printer {epoch_score_printer-21} INFO - [Epoch 184/200]: f1_score: 0.622 accuracy_score: 0.641 loss: 4.855 \n",
      "[2023-04-17 11:28:02] 3789 src.scoring.epoch_score_printer {epoch_score_printer-21} INFO - [Epoch 185/200]: f1_score: 0.690 accuracy_score: 0.703 loss: 5.163 \n",
      "[2023-04-17 11:28:17] 3789 src.scoring.epoch_score_printer {epoch_score_printer-21} INFO - [Epoch 186/200]: f1_score: 0.641 accuracy_score: 0.652 loss: 5.707 \n",
      "[2023-04-17 11:28:33] 3789 src.scoring.epoch_score_printer {epoch_score_printer-21} INFO - [Epoch 187/200]: f1_score: 0.664 accuracy_score: 0.680 loss: 4.361 \n",
      "[2023-04-17 11:28:49] 3789 src.scoring.epoch_score_printer {epoch_score_printer-21} INFO - [Epoch 188/200]: f1_score: 0.661 accuracy_score: 0.676 loss: 2.869 \n",
      "[2023-04-17 11:29:04] 3789 src.scoring.epoch_score_printer {epoch_score_printer-21} INFO - [Epoch 189/200]: f1_score: 0.662 accuracy_score: 0.676 loss: 4.598 \n",
      "[2023-04-17 11:29:20] 3789 src.scoring.epoch_score_printer {epoch_score_printer-21} INFO - [Epoch 190/200]: f1_score: 0.662 accuracy_score: 0.680 loss: 3.981 \n",
      "[2023-04-17 11:29:36] 3789 src.scoring.epoch_score_printer {epoch_score_printer-21} INFO - [Epoch 191/200]: f1_score: 0.676 accuracy_score: 0.691 loss: 6.952 \n",
      "[2023-04-17 11:29:52] 3789 src.scoring.epoch_score_printer {epoch_score_printer-21} INFO - [Epoch 192/200]: f1_score: 0.709 accuracy_score: 0.727 loss: 5.424 \n",
      "[2023-04-17 11:30:07] 3789 src.scoring.epoch_score_printer {epoch_score_printer-21} INFO - [Epoch 193/200]: f1_score: 0.672 accuracy_score: 0.688 loss: 4.847 \n",
      "[2023-04-17 11:30:23] 3789 src.scoring.epoch_score_printer {epoch_score_printer-21} INFO - [Epoch 194/200]: f1_score: 0.703 accuracy_score: 0.719 loss: 5.480 \n",
      "[2023-04-17 11:30:39] 3789 src.scoring.epoch_score_printer {epoch_score_printer-21} INFO - [Epoch 195/200]: f1_score: 0.673 accuracy_score: 0.688 loss: 5.296 \n",
      "[2023-04-17 11:30:55] 3789 src.scoring.epoch_score_printer {epoch_score_printer-21} INFO - [Epoch 196/200]: f1_score: 0.677 accuracy_score: 0.691 loss: 5.333 \n",
      "[2023-04-17 11:31:11] 3789 src.scoring.epoch_score_printer {epoch_score_printer-21} INFO - [Epoch 197/200]: f1_score: 0.713 accuracy_score: 0.730 loss: 5.317 \n",
      "[2023-04-17 11:31:26] 3789 src.scoring.epoch_score_printer {epoch_score_printer-21} INFO - [Epoch 198/200]: f1_score: 0.662 accuracy_score: 0.684 loss: 4.822 \n",
      "[2023-04-17 11:31:42] 3789 src.scoring.epoch_score_printer {epoch_score_printer-21} INFO - [Epoch 199/200]: f1_score: 0.703 accuracy_score: 0.723 loss: 3.555 \n"
     ]
    }
   ],
   "source": [
    "classifier.unfreeze_all_layers()\n",
    "train_all_result_df, train_all_result_dict = classifier.fit(num_epoch=200)"
   ],
   "metadata": {
    "collapsed": false
   }
  },
  {
   "cell_type": "code",
   "execution_count": 8,
   "outputs": [],
   "source": [
    "train_all_result_df.to_csv(f'{classifier.name}_200_epoch_unfreeze_all_layers.csv')"
   ],
   "metadata": {
    "collapsed": false
   }
  },
  {
   "cell_type": "code",
   "execution_count": 9,
   "outputs": [
    {
     "data": {
      "text/plain": "{'f1_score': 0.6662240659287565, 'accuracy_score': 0.6798418972332015}"
     },
     "execution_count": 9,
     "metadata": {},
     "output_type": "execute_result"
    }
   ],
   "source": [
    "classifier.score(dataset.validate_dataloader)"
   ],
   "metadata": {
    "collapsed": false
   }
  },
  {
   "cell_type": "code",
   "execution_count": 9,
   "outputs": [],
   "source": [
    "classifier.save_model(result_dict)"
   ],
   "metadata": {
    "collapsed": false
   }
  },
  {
   "cell_type": "code",
   "execution_count": 10,
   "outputs": [],
   "source": [
    "classifier.save_model(train_all_result_dict)"
   ],
   "metadata": {
    "collapsed": false
   }
  },
  {
   "cell_type": "code",
   "execution_count": 7,
   "outputs": [],
   "source": [
    "test_model_weights_path = '../../bayesian_refactoring/assets/model_weights/resnet50cnn_5912_813dec81-d9db-43f9-8e68-a4792822a394.pt'"
   ],
   "metadata": {
    "collapsed": false
   }
  },
  {
   "cell_type": "code",
   "execution_count": 8,
   "outputs": [],
   "source": [
    "test_results = torch.load(test_model_weights_path)"
   ],
   "metadata": {
    "collapsed": false
   }
  },
  {
   "cell_type": "code",
   "execution_count": 10,
   "outputs": [
    {
     "data": {
      "text/plain": "['best_loss',\n 'best_f1_score',\n 'best_accuracy_score',\n 'best_loss_model',\n 'best_f1_score_model',\n 'best_accuracy_score_model']"
     },
     "execution_count": 10,
     "metadata": {},
     "output_type": "execute_result"
    }
   ],
   "source": [
    "list(test_results.keys())"
   ],
   "metadata": {
    "collapsed": false
   }
  },
  {
   "cell_type": "code",
   "execution_count": 9,
   "outputs": [],
   "source": [
    "new_classifier = Resnet50CnnClassifier(dataset=dataset, device=device).load_model(model_state_dict=test_results['best_f1_score_model'])"
   ],
   "metadata": {
    "collapsed": false
   }
  },
  {
   "cell_type": "code",
   "execution_count": 10,
   "outputs": [],
   "source": [
    "y_true, y_pred = new_classifier.predict(dataset.validate_dataloader)"
   ],
   "metadata": {
    "collapsed": false
   }
  },
  {
   "cell_type": "code",
   "execution_count": 11,
   "outputs": [
    {
     "data": {
      "text/plain": "{'f1_score': 0.7022692266004554, 'accuracy_score': 0.7351778656126482}"
     },
     "execution_count": 11,
     "metadata": {},
     "output_type": "execute_result"
    }
   ],
   "source": [
    "new_classifier.score(dataset.validate_dataloader)"
   ],
   "metadata": {
    "collapsed": false
   }
  },
  {
   "cell_type": "code",
   "execution_count": null,
   "outputs": [],
   "source": [],
   "metadata": {
    "collapsed": false
   }
  }
 ],
 "metadata": {
  "kernelspec": {
   "name": "bayesian_test",
   "language": "python",
   "display_name": "Python 3 (bayesian test)"
  },
  "language_info": {
   "codemirror_mode": {
    "name": "ipython",
    "version": 2
   },
   "file_extension": ".py",
   "mimetype": "text/x-python",
   "name": "python",
   "nbconvert_exporter": "python",
   "pygments_lexer": "ipython2",
   "version": "2.7.6"
  }
 },
 "nbformat": 4,
 "nbformat_minor": 0
}
