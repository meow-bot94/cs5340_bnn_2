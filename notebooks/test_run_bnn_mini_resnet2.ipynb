{
 "cells": [
  {
   "cell_type": "code",
   "execution_count": 1,
   "metadata": {
    "collapsed": true
   },
   "outputs": [
    {
     "name": "stderr",
     "output_type": "stream",
     "text": [
      "[2023-04-18 11:05:34] 4596 root {logger_initializer-47} INFO - Current process ID: 4596\n"
     ]
    }
   ],
   "source": [
    "import pyro\n",
    "import torch\n",
    "import ssl\n",
    "import matplotlib.pyplot as plt\n",
    "\n",
    "\n",
    "from src.logger.logger_initializer import LoggerInitializer\n",
    "from src.models.bnn.pyro_miniresnet_bnn_classifier import PyroMiniresnetBnnClassifier\n",
    "from src.utils.path_getter import PathGetter\n",
    "from src.data_loader.dataset_getter import DatasetGetter\n",
    "\n",
    "\n",
    "ssl._create_default_https_context = ssl._create_unverified_context\n",
    "device = 'cuda'\n",
    "torch.__version__\n",
    "\n",
    "pyro.set_rng_seed(777)\n",
    "torch.manual_seed(777)\n",
    "\n",
    "LoggerInitializer().init()\n",
    "dataset = DatasetGetter(PathGetter.get_data_directory(), batch_size=12).get()"
   ]
  },
  {
   "cell_type": "code",
   "execution_count": 4,
   "outputs": [],
   "source": [
    "classifier = PyroMiniresnetBnnClassifier(dataset=dataset, device=device).init()"
   ],
   "metadata": {
    "collapsed": false
   }
  },
  {
   "cell_type": "code",
   "execution_count": 5,
   "outputs": [
    {
     "name": "stderr",
     "output_type": "stream",
     "text": [
      "[2023-04-18 00:36:44] 451 src.scoring.epoch_score_printer {epoch_score_printer-21} INFO - [Epoch 0/300]: f1_score: 0.326 accuracy_score: 0.395 loss: 489601134885036.625 \n",
      "[2023-04-18 00:37:09] 451 src.scoring.epoch_score_printer {epoch_score_printer-21} INFO - [Epoch 1/300]: f1_score: 0.390 accuracy_score: 0.457 loss: 370690796339438.188 \n",
      "[2023-04-18 00:37:35] 451 src.scoring.epoch_score_printer {epoch_score_printer-21} INFO - [Epoch 2/300]: f1_score: 0.376 accuracy_score: 0.430 loss: 272801893492163.125 \n",
      "[2023-04-18 00:38:00] 451 src.scoring.epoch_score_printer {epoch_score_printer-21} INFO - [Epoch 3/300]: f1_score: 0.375 accuracy_score: 0.432 loss: 193888135889356.188 \n",
      "[2023-04-18 00:38:26] 451 src.scoring.epoch_score_printer {epoch_score_printer-21} INFO - [Epoch 4/300]: f1_score: 0.339 accuracy_score: 0.383 loss: 131903019515274.250 \n",
      "[2023-04-18 00:38:52] 451 src.scoring.epoch_score_printer {epoch_score_printer-21} INFO - [Epoch 5/300]: f1_score: 0.368 accuracy_score: 0.411 loss: 84799833381426.812 \n",
      "[2023-04-18 00:39:17] 451 src.scoring.epoch_score_printer {epoch_score_printer-21} INFO - [Epoch 6/300]: f1_score: 0.435 accuracy_score: 0.500 loss: 50528382580993.359 \n",
      "[2023-04-18 00:39:43] 451 src.scoring.epoch_score_printer {epoch_score_printer-21} INFO - [Epoch 7/300]: f1_score: 0.378 accuracy_score: 0.451 loss: 27043553723373.566 \n",
      "[2023-04-18 00:40:09] 451 src.scoring.epoch_score_printer {epoch_score_printer-21} INFO - [Epoch 8/300]: f1_score: 0.308 accuracy_score: 0.377 loss: 12299193631232.604 \n",
      "[2023-04-18 00:40:35] 451 src.scoring.epoch_score_printer {epoch_score_printer-21} INFO - [Epoch 9/300]: f1_score: 0.200 accuracy_score: 0.302 loss: 4246953042330.549 \n",
      "[2023-04-18 00:41:00] 451 src.scoring.epoch_score_printer {epoch_score_printer-21} INFO - [Epoch 10/300]: f1_score: 0.079 accuracy_score: 0.199 loss: 842223774912.547 \n",
      "[2023-04-18 00:41:27] 451 src.scoring.epoch_score_printer {epoch_score_printer-21} INFO - [Epoch 11/300]: f1_score: 0.173 accuracy_score: 0.240 loss: 39651226238.587 \n",
      "[2023-04-18 00:41:52] 451 src.scoring.epoch_score_printer {epoch_score_printer-21} INFO - [Epoch 12/300]: f1_score: 0.210 accuracy_score: 0.276 loss: 1345518465.150 \n",
      "[2023-04-18 00:42:17] 451 src.scoring.epoch_score_printer {epoch_score_printer-21} INFO - [Epoch 13/300]: f1_score: 0.209 accuracy_score: 0.276 loss: 1225503614.667 \n",
      "[2023-04-18 00:42:42] 451 src.scoring.epoch_score_printer {epoch_score_printer-21} INFO - [Epoch 14/300]: f1_score: 0.291 accuracy_score: 0.354 loss: 1184241641.504 \n",
      "[2023-04-18 00:43:07] 451 src.scoring.epoch_score_printer {epoch_score_printer-21} INFO - [Epoch 15/300]: f1_score: 0.313 accuracy_score: 0.389 loss: 1143010790.070 \n",
      "[2023-04-18 00:43:33] 451 src.scoring.epoch_score_printer {epoch_score_printer-21} INFO - [Epoch 16/300]: f1_score: 0.336 accuracy_score: 0.409 loss: 1100295343.594 \n",
      "[2023-04-18 00:43:59] 451 src.scoring.epoch_score_printer {epoch_score_printer-21} INFO - [Epoch 17/300]: f1_score: 0.332 accuracy_score: 0.415 loss: 1056214624.379 \n",
      "[2023-04-18 00:44:24] 451 src.scoring.epoch_score_printer {epoch_score_printer-21} INFO - [Epoch 18/300]: f1_score: 0.351 accuracy_score: 0.430 loss: 1010897136.926 \n",
      "[2023-04-18 00:44:49] 451 src.scoring.epoch_score_printer {epoch_score_printer-21} INFO - [Epoch 19/300]: f1_score: 0.371 accuracy_score: 0.457 loss: 964445838.748 \n",
      "[2023-04-18 00:45:15] 451 src.scoring.epoch_score_printer {epoch_score_printer-21} INFO - [Epoch 20/300]: f1_score: 0.353 accuracy_score: 0.441 loss: 917046567.775 \n",
      "[2023-04-18 00:45:40] 451 src.scoring.epoch_score_printer {epoch_score_printer-21} INFO - [Epoch 21/300]: f1_score: 0.363 accuracy_score: 0.458 loss: 868936105.360 \n",
      "[2023-04-18 00:46:07] 451 src.scoring.epoch_score_printer {epoch_score_printer-21} INFO - [Epoch 22/300]: f1_score: 0.378 accuracy_score: 0.468 loss: 820357400.715 \n",
      "[2023-04-18 00:46:40] 451 src.scoring.epoch_score_printer {epoch_score_printer-21} INFO - [Epoch 23/300]: f1_score: 0.376 accuracy_score: 0.472 loss: 771603529.543 \n",
      "[2023-04-18 00:47:57] 451 src.scoring.epoch_score_printer {epoch_score_printer-21} INFO - [Epoch 24/300]: f1_score: 0.386 accuracy_score: 0.478 loss: 723011243.477 \n",
      "[2023-04-18 00:49:00] 451 src.scoring.epoch_score_printer {epoch_score_printer-21} INFO - [Epoch 25/300]: f1_score: 0.388 accuracy_score: 0.475 loss: 674943180.266 \n",
      "[2023-04-18 00:49:25] 451 src.scoring.epoch_score_printer {epoch_score_printer-21} INFO - [Epoch 26/300]: f1_score: 0.394 accuracy_score: 0.482 loss: 627747862.974 \n",
      "[2023-04-18 00:49:51] 451 src.scoring.epoch_score_printer {epoch_score_printer-21} INFO - [Epoch 27/300]: f1_score: 0.404 accuracy_score: 0.486 loss: 581693528.808 \n",
      "[2023-04-18 00:50:16] 451 src.scoring.epoch_score_printer {epoch_score_printer-21} INFO - [Epoch 28/300]: f1_score: 0.389 accuracy_score: 0.484 loss: 537492713.017 \n",
      "[2023-04-18 00:50:41] 451 src.scoring.epoch_score_printer {epoch_score_printer-21} INFO - [Epoch 29/300]: f1_score: 0.411 accuracy_score: 0.501 loss: 495184056.107 \n",
      "[2023-04-18 00:51:28] 451 src.scoring.epoch_score_printer {epoch_score_printer-21} INFO - [Epoch 30/300]: f1_score: 0.415 accuracy_score: 0.515 loss: 455409292.299 \n",
      "[2023-04-18 00:52:45] 451 src.scoring.epoch_score_printer {epoch_score_printer-21} INFO - [Epoch 31/300]: f1_score: 0.412 accuracy_score: 0.500 loss: 418594627.252 \n",
      "[2023-04-18 00:53:58] 451 src.scoring.epoch_score_printer {epoch_score_printer-21} INFO - [Epoch 32/300]: f1_score: 0.429 accuracy_score: 0.525 loss: 384840947.149 \n",
      "[2023-04-18 00:54:24] 451 src.scoring.epoch_score_printer {epoch_score_printer-21} INFO - [Epoch 33/300]: f1_score: 0.419 accuracy_score: 0.507 loss: 354638090.610 \n",
      "[2023-04-18 00:54:49] 451 src.scoring.epoch_score_printer {epoch_score_printer-21} INFO - [Epoch 34/300]: f1_score: 0.440 accuracy_score: 0.536 loss: 328247060.394 \n",
      "[2023-04-18 00:55:14] 451 src.scoring.epoch_score_printer {epoch_score_printer-21} INFO - [Epoch 35/300]: f1_score: 0.445 accuracy_score: 0.536 loss: 305749562.591 \n",
      "[2023-04-18 00:55:40] 451 src.scoring.epoch_score_printer {epoch_score_printer-21} INFO - [Epoch 36/300]: f1_score: 0.439 accuracy_score: 0.528 loss: 287216555.481 \n",
      "[2023-04-18 00:56:05] 451 src.scoring.epoch_score_printer {epoch_score_printer-21} INFO - [Epoch 37/300]: f1_score: 0.435 accuracy_score: 0.529 loss: 272577307.022 \n",
      "[2023-04-18 00:56:31] 451 src.scoring.epoch_score_printer {epoch_score_printer-21} INFO - [Epoch 38/300]: f1_score: 0.447 accuracy_score: 0.539 loss: 261555035.093 \n",
      "[2023-04-18 00:56:57] 451 src.scoring.epoch_score_printer {epoch_score_printer-21} INFO - [Epoch 39/300]: f1_score: 0.433 accuracy_score: 0.521 loss: 253930952.875 \n",
      "[2023-04-18 00:57:21] 451 src.scoring.epoch_score_printer {epoch_score_printer-21} INFO - [Epoch 40/300]: f1_score: 0.452 accuracy_score: 0.545 loss: 249123103.921 \n",
      "[2023-04-18 00:57:47] 451 src.scoring.epoch_score_printer {epoch_score_printer-21} INFO - [Epoch 41/300]: f1_score: 0.412 accuracy_score: 0.505 loss: 246600915.425 \n",
      "[2023-04-18 00:58:13] 451 src.scoring.epoch_score_printer {epoch_score_printer-21} INFO - [Epoch 42/300]: f1_score: 0.451 accuracy_score: 0.548 loss: 245783778.674 \n",
      "[2023-04-18 00:58:38] 451 src.scoring.epoch_score_printer {epoch_score_printer-21} INFO - [Epoch 43/300]: f1_score: 0.458 accuracy_score: 0.553 loss: 245957352.436 \n",
      "[2023-04-18 00:59:03] 451 src.scoring.epoch_score_printer {epoch_score_printer-21} INFO - [Epoch 44/300]: f1_score: 0.450 accuracy_score: 0.537 loss: 246883298.246 \n",
      "[2023-04-18 00:59:29] 451 src.scoring.epoch_score_printer {epoch_score_printer-21} INFO - [Epoch 45/300]: f1_score: 0.436 accuracy_score: 0.523 loss: 247950197.422 \n",
      "[2023-04-18 01:00:27] 451 src.scoring.epoch_score_printer {epoch_score_printer-21} INFO - [Epoch 46/300]: f1_score: 0.475 accuracy_score: 0.558 loss: 249046125.925 \n",
      "[2023-04-18 01:01:44] 451 src.scoring.epoch_score_printer {epoch_score_printer-21} INFO - [Epoch 47/300]: f1_score: 0.471 accuracy_score: 0.564 loss: 250135459.348 \n",
      "[2023-04-18 01:03:00] 451 src.scoring.epoch_score_printer {epoch_score_printer-21} INFO - [Epoch 48/300]: f1_score: 0.452 accuracy_score: 0.539 loss: 250974463.083 \n",
      "[2023-04-18 01:04:17] 451 src.scoring.epoch_score_printer {epoch_score_printer-21} INFO - [Epoch 49/300]: f1_score: 0.478 accuracy_score: 0.564 loss: 251711442.331 \n",
      "[2023-04-18 01:05:30] 451 src.scoring.epoch_score_printer {epoch_score_printer-21} INFO - [Epoch 50/300]: f1_score: 0.462 accuracy_score: 0.550 loss: 252362953.424 \n",
      "[2023-04-18 01:05:55] 451 src.scoring.epoch_score_printer {epoch_score_printer-21} INFO - [Epoch 51/300]: f1_score: 0.453 accuracy_score: 0.545 loss: 252794085.802 \n",
      "[2023-04-18 01:06:52] 451 src.scoring.epoch_score_printer {epoch_score_printer-21} INFO - [Epoch 52/300]: f1_score: 0.489 accuracy_score: 0.573 loss: 253259500.600 \n",
      "[2023-04-18 01:07:56] 451 src.scoring.epoch_score_printer {epoch_score_printer-21} INFO - [Epoch 53/300]: f1_score: 0.487 accuracy_score: 0.570 loss: 253557458.623 \n",
      "[2023-04-18 01:08:46] 451 src.scoring.epoch_score_printer {epoch_score_printer-21} INFO - [Epoch 54/300]: f1_score: 0.484 accuracy_score: 0.570 loss: 253785143.094 \n",
      "[2023-04-18 01:10:00] 451 src.scoring.epoch_score_printer {epoch_score_printer-21} INFO - [Epoch 55/300]: f1_score: 0.503 accuracy_score: 0.593 loss: 253964194.435 \n",
      "[2023-04-18 01:11:13] 451 src.scoring.epoch_score_printer {epoch_score_printer-21} INFO - [Epoch 56/300]: f1_score: 0.472 accuracy_score: 0.568 loss: 254149441.149 \n",
      "[2023-04-18 01:12:28] 451 src.scoring.epoch_score_printer {epoch_score_printer-21} INFO - [Epoch 57/300]: f1_score: 0.408 accuracy_score: 0.500 loss: 254289675.030 \n",
      "[2023-04-18 01:13:43] 451 src.scoring.epoch_score_printer {epoch_score_printer-21} INFO - [Epoch 58/300]: f1_score: 0.449 accuracy_score: 0.543 loss: 254258961.606 \n",
      "[2023-04-18 01:14:58] 451 src.scoring.epoch_score_printer {epoch_score_printer-21} INFO - [Epoch 59/300]: f1_score: 0.496 accuracy_score: 0.588 loss: 254393267.718 \n",
      "[2023-04-18 01:15:36] 451 src.scoring.epoch_score_printer {epoch_score_printer-21} INFO - [Epoch 60/300]: f1_score: 0.494 accuracy_score: 0.572 loss: 254444615.160 \n",
      "[2023-04-18 01:16:02] 451 src.scoring.epoch_score_printer {epoch_score_printer-21} INFO - [Epoch 61/300]: f1_score: 0.402 accuracy_score: 0.511 loss: 254613186.048 \n",
      "[2023-04-18 01:16:27] 451 src.scoring.epoch_score_printer {epoch_score_printer-21} INFO - [Epoch 62/300]: f1_score: 0.496 accuracy_score: 0.583 loss: 254597845.209 \n",
      "[2023-04-18 01:16:53] 451 src.scoring.epoch_score_printer {epoch_score_printer-21} INFO - [Epoch 63/300]: f1_score: 0.489 accuracy_score: 0.577 loss: 254686614.271 \n",
      "[2023-04-18 01:17:18] 451 src.scoring.epoch_score_printer {epoch_score_printer-21} INFO - [Epoch 64/300]: f1_score: 0.493 accuracy_score: 0.578 loss: 254619798.171 \n",
      "[2023-04-18 01:17:43] 451 src.scoring.epoch_score_printer {epoch_score_printer-21} INFO - [Epoch 65/300]: f1_score: 0.492 accuracy_score: 0.585 loss: 254702969.609 \n",
      "[2023-04-18 01:18:09] 451 src.scoring.epoch_score_printer {epoch_score_printer-21} INFO - [Epoch 66/300]: f1_score: 0.479 accuracy_score: 0.572 loss: 254666240.264 \n",
      "[2023-04-18 01:18:34] 451 src.scoring.epoch_score_printer {epoch_score_printer-21} INFO - [Epoch 67/300]: f1_score: 0.503 accuracy_score: 0.593 loss: 254707311.760 \n",
      "[2023-04-18 01:19:00] 451 src.scoring.epoch_score_printer {epoch_score_printer-21} INFO - [Epoch 68/300]: f1_score: 0.477 accuracy_score: 0.573 loss: 254723530.830 \n",
      "[2023-04-18 01:19:26] 451 src.scoring.epoch_score_printer {epoch_score_printer-21} INFO - [Epoch 69/300]: f1_score: 0.493 accuracy_score: 0.583 loss: 254788913.192 \n",
      "[2023-04-18 01:19:51] 451 src.scoring.epoch_score_printer {epoch_score_printer-21} INFO - [Epoch 70/300]: f1_score: 0.506 accuracy_score: 0.599 loss: 254744460.145 \n",
      "[2023-04-18 01:20:17] 451 src.scoring.epoch_score_printer {epoch_score_printer-21} INFO - [Epoch 71/300]: f1_score: 0.497 accuracy_score: 0.577 loss: 254791476.388 \n",
      "[2023-04-18 01:20:44] 451 src.scoring.epoch_score_printer {epoch_score_printer-21} INFO - [Epoch 72/300]: f1_score: 0.515 accuracy_score: 0.607 loss: 254762559.804 \n",
      "[2023-04-18 01:21:09] 451 src.scoring.epoch_score_printer {epoch_score_printer-21} INFO - [Epoch 73/300]: f1_score: 0.464 accuracy_score: 0.563 loss: 254830583.906 \n",
      "[2023-04-18 01:21:35] 451 src.scoring.epoch_score_printer {epoch_score_printer-21} INFO - [Epoch 74/300]: f1_score: 0.516 accuracy_score: 0.605 loss: 254730714.613 \n",
      "[2023-04-18 01:21:58] 451 src.scoring.epoch_score_printer {epoch_score_printer-21} INFO - [Epoch 75/300]: f1_score: 0.501 accuracy_score: 0.599 loss: 254753698.890 \n",
      "[2023-04-18 01:22:24] 451 src.scoring.epoch_score_printer {epoch_score_printer-21} INFO - [Epoch 76/300]: f1_score: 0.484 accuracy_score: 0.572 loss: 254768967.274 \n",
      "[2023-04-18 01:22:50] 451 src.scoring.epoch_score_printer {epoch_score_printer-21} INFO - [Epoch 77/300]: f1_score: 0.470 accuracy_score: 0.564 loss: 254663736.464 \n",
      "[2023-04-18 01:23:15] 451 src.scoring.epoch_score_printer {epoch_score_printer-21} INFO - [Epoch 78/300]: f1_score: 0.447 accuracy_score: 0.537 loss: 254732274.155 \n",
      "[2023-04-18 01:23:42] 451 src.scoring.epoch_score_printer {epoch_score_printer-21} INFO - [Epoch 79/300]: f1_score: 0.492 accuracy_score: 0.583 loss: 254807198.469 \n",
      "[2023-04-18 01:24:07] 451 src.scoring.epoch_score_printer {epoch_score_printer-21} INFO - [Epoch 80/300]: f1_score: 0.512 accuracy_score: 0.607 loss: 254763533.159 \n",
      "[2023-04-18 01:24:33] 451 src.scoring.epoch_score_printer {epoch_score_printer-21} INFO - [Epoch 81/300]: f1_score: 0.517 accuracy_score: 0.604 loss: 254792906.216 \n",
      "[2023-04-18 01:25:00] 451 src.scoring.epoch_score_printer {epoch_score_printer-21} INFO - [Epoch 82/300]: f1_score: 0.519 accuracy_score: 0.604 loss: 254859191.766 \n",
      "[2023-04-18 01:25:25] 451 src.scoring.epoch_score_printer {epoch_score_printer-21} INFO - [Epoch 83/300]: f1_score: 0.492 accuracy_score: 0.584 loss: 254741487.833 \n",
      "[2023-04-18 01:25:50] 451 src.scoring.epoch_score_printer {epoch_score_printer-21} INFO - [Epoch 84/300]: f1_score: 0.493 accuracy_score: 0.570 loss: 254674394.859 \n",
      "[2023-04-18 01:26:17] 451 src.scoring.epoch_score_printer {epoch_score_printer-21} INFO - [Epoch 85/300]: f1_score: 0.492 accuracy_score: 0.592 loss: 254793434.316 \n",
      "[2023-04-18 01:26:41] 451 src.scoring.epoch_score_printer {epoch_score_printer-21} INFO - [Epoch 86/300]: f1_score: 0.500 accuracy_score: 0.598 loss: 254783440.011 \n",
      "[2023-04-18 01:27:07] 451 src.scoring.epoch_score_printer {epoch_score_printer-21} INFO - [Epoch 87/300]: f1_score: 0.489 accuracy_score: 0.583 loss: 254844693.629 \n",
      "[2023-04-18 01:27:32] 451 src.scoring.epoch_score_printer {epoch_score_printer-21} INFO - [Epoch 88/300]: f1_score: 0.506 accuracy_score: 0.589 loss: 254758620.464 \n",
      "[2023-04-18 01:27:58] 451 src.scoring.epoch_score_printer {epoch_score_printer-21} INFO - [Epoch 89/300]: f1_score: 0.507 accuracy_score: 0.585 loss: 254798058.226 \n",
      "[2023-04-18 01:28:24] 451 src.scoring.epoch_score_printer {epoch_score_printer-21} INFO - [Epoch 90/300]: f1_score: 0.487 accuracy_score: 0.576 loss: 254773979.600 \n",
      "[2023-04-18 01:28:50] 451 src.scoring.epoch_score_printer {epoch_score_printer-21} INFO - [Epoch 91/300]: f1_score: 0.525 accuracy_score: 0.620 loss: 254751922.185 \n",
      "[2023-04-18 01:29:15] 451 src.scoring.epoch_score_printer {epoch_score_printer-21} INFO - [Epoch 92/300]: f1_score: 0.529 accuracy_score: 0.619 loss: 254758625.857 \n",
      "[2023-04-18 01:29:42] 451 src.scoring.epoch_score_printer {epoch_score_printer-21} INFO - [Epoch 93/300]: f1_score: 0.460 accuracy_score: 0.537 loss: 254802047.791 \n",
      "[2023-04-18 01:30:08] 451 src.scoring.epoch_score_printer {epoch_score_printer-21} INFO - [Epoch 94/300]: f1_score: 0.517 accuracy_score: 0.618 loss: 254671453.054 \n",
      "[2023-04-18 01:30:33] 451 src.scoring.epoch_score_printer {epoch_score_printer-21} INFO - [Epoch 95/300]: f1_score: 0.504 accuracy_score: 0.585 loss: 254742033.888 \n",
      "[2023-04-18 01:30:59] 451 src.scoring.epoch_score_printer {epoch_score_printer-21} INFO - [Epoch 96/300]: f1_score: 0.489 accuracy_score: 0.568 loss: 254688040.910 \n",
      "[2023-04-18 01:31:24] 451 src.scoring.epoch_score_printer {epoch_score_printer-21} INFO - [Epoch 97/300]: f1_score: 0.531 accuracy_score: 0.600 loss: 254853505.320 \n",
      "[2023-04-18 01:31:49] 451 src.scoring.epoch_score_printer {epoch_score_printer-21} INFO - [Epoch 98/300]: f1_score: 0.537 accuracy_score: 0.626 loss: 254765526.144 \n",
      "[2023-04-18 01:32:16] 451 src.scoring.epoch_score_printer {epoch_score_printer-21} INFO - [Epoch 99/300]: f1_score: 0.523 accuracy_score: 0.609 loss: 254737320.269 \n",
      "[2023-04-18 01:32:41] 451 src.scoring.epoch_score_printer {epoch_score_printer-21} INFO - [Epoch 100/300]: f1_score: 0.505 accuracy_score: 0.583 loss: 254751729.845 \n",
      "[2023-04-18 01:33:06] 451 src.scoring.epoch_score_printer {epoch_score_printer-21} INFO - [Epoch 101/300]: f1_score: 0.535 accuracy_score: 0.623 loss: 254764715.050 \n",
      "[2023-04-18 01:33:32] 451 src.scoring.epoch_score_printer {epoch_score_printer-21} INFO - [Epoch 102/300]: f1_score: 0.469 accuracy_score: 0.566 loss: 254758946.924 \n",
      "[2023-04-18 01:33:57] 451 src.scoring.epoch_score_printer {epoch_score_printer-21} INFO - [Epoch 103/300]: f1_score: 0.543 accuracy_score: 0.629 loss: 254736734.491 \n",
      "[2023-04-18 01:34:23] 451 src.scoring.epoch_score_printer {epoch_score_printer-21} INFO - [Epoch 104/300]: f1_score: 0.533 accuracy_score: 0.624 loss: 254730198.039 \n",
      "[2023-04-18 01:34:48] 451 src.scoring.epoch_score_printer {epoch_score_printer-21} INFO - [Epoch 105/300]: f1_score: 0.508 accuracy_score: 0.601 loss: 254757889.359 \n",
      "[2023-04-18 01:35:13] 451 src.scoring.epoch_score_printer {epoch_score_printer-21} INFO - [Epoch 106/300]: f1_score: 0.529 accuracy_score: 0.608 loss: 254789173.660 \n",
      "[2023-04-18 01:35:39] 451 src.scoring.epoch_score_printer {epoch_score_printer-21} INFO - [Epoch 107/300]: f1_score: 0.531 accuracy_score: 0.606 loss: 254718993.323 \n",
      "[2023-04-18 01:36:04] 451 src.scoring.epoch_score_printer {epoch_score_printer-21} INFO - [Epoch 108/300]: f1_score: 0.530 accuracy_score: 0.626 loss: 254720131.252 \n",
      "[2023-04-18 01:36:29] 451 src.scoring.epoch_score_printer {epoch_score_printer-21} INFO - [Epoch 109/300]: f1_score: 0.497 accuracy_score: 0.594 loss: 254712891.193 \n",
      "[2023-04-18 01:36:54] 451 src.scoring.epoch_score_printer {epoch_score_printer-21} INFO - [Epoch 110/300]: f1_score: 0.508 accuracy_score: 0.597 loss: 254704124.674 \n",
      "[2023-04-18 01:37:19] 451 src.scoring.epoch_score_printer {epoch_score_printer-21} INFO - [Epoch 111/300]: f1_score: 0.536 accuracy_score: 0.620 loss: 254789570.274 \n",
      "[2023-04-18 01:37:45] 451 src.scoring.epoch_score_printer {epoch_score_printer-21} INFO - [Epoch 112/300]: f1_score: 0.540 accuracy_score: 0.629 loss: 254766963.794 \n",
      "[2023-04-18 01:38:11] 451 src.scoring.epoch_score_printer {epoch_score_printer-21} INFO - [Epoch 113/300]: f1_score: 0.546 accuracy_score: 0.631 loss: 254815999.728 \n",
      "[2023-04-18 01:38:36] 451 src.scoring.epoch_score_printer {epoch_score_printer-21} INFO - [Epoch 114/300]: f1_score: 0.555 accuracy_score: 0.647 loss: 254744185.691 \n",
      "[2023-04-18 01:39:02] 451 src.scoring.epoch_score_printer {epoch_score_printer-21} INFO - [Epoch 115/300]: f1_score: 0.530 accuracy_score: 0.613 loss: 254740003.217 \n",
      "[2023-04-18 01:39:27] 451 src.scoring.epoch_score_printer {epoch_score_printer-21} INFO - [Epoch 116/300]: f1_score: 0.535 accuracy_score: 0.615 loss: 254743802.354 \n",
      "[2023-04-18 01:39:52] 451 src.scoring.epoch_score_printer {epoch_score_printer-21} INFO - [Epoch 117/300]: f1_score: 0.533 accuracy_score: 0.620 loss: 254729670.080 \n",
      "[2023-04-18 01:40:19] 451 src.scoring.epoch_score_printer {epoch_score_printer-21} INFO - [Epoch 118/300]: f1_score: 0.537 accuracy_score: 0.635 loss: 254707350.902 \n",
      "[2023-04-18 01:40:44] 451 src.scoring.epoch_score_printer {epoch_score_printer-21} INFO - [Epoch 119/300]: f1_score: 0.550 accuracy_score: 0.640 loss: 254797284.011 \n",
      "[2023-04-18 01:41:10] 451 src.scoring.epoch_score_printer {epoch_score_printer-21} INFO - [Epoch 120/300]: f1_score: 0.553 accuracy_score: 0.637 loss: 254813101.984 \n",
      "[2023-04-18 01:41:37] 451 src.scoring.epoch_score_printer {epoch_score_printer-21} INFO - [Epoch 121/300]: f1_score: 0.516 accuracy_score: 0.598 loss: 254796832.228 \n",
      "[2023-04-18 01:42:00] 451 src.scoring.epoch_score_printer {epoch_score_printer-21} INFO - [Epoch 122/300]: f1_score: 0.544 accuracy_score: 0.635 loss: 254819743.599 \n",
      "[2023-04-18 01:42:25] 451 src.scoring.epoch_score_printer {epoch_score_printer-21} INFO - [Epoch 123/300]: f1_score: 0.501 accuracy_score: 0.589 loss: 254714068.490 \n",
      "[2023-04-18 01:42:50] 451 src.scoring.epoch_score_printer {epoch_score_printer-21} INFO - [Epoch 124/300]: f1_score: 0.557 accuracy_score: 0.639 loss: 254713126.242 \n",
      "[2023-04-18 01:43:16] 451 src.scoring.epoch_score_printer {epoch_score_printer-21} INFO - [Epoch 125/300]: f1_score: 0.509 accuracy_score: 0.587 loss: 254760178.083 \n",
      "[2023-04-18 01:43:42] 451 src.scoring.epoch_score_printer {epoch_score_printer-21} INFO - [Epoch 126/300]: f1_score: 0.574 accuracy_score: 0.651 loss: 254751480.652 \n",
      "[2023-04-18 01:44:07] 451 src.scoring.epoch_score_printer {epoch_score_printer-21} INFO - [Epoch 127/300]: f1_score: 0.519 accuracy_score: 0.599 loss: 254797355.098 \n",
      "[2023-04-18 01:44:33] 451 src.scoring.epoch_score_printer {epoch_score_printer-21} INFO - [Epoch 128/300]: f1_score: 0.546 accuracy_score: 0.635 loss: 254736919.376 \n",
      "[2023-04-18 01:44:59] 451 src.scoring.epoch_score_printer {epoch_score_printer-21} INFO - [Epoch 129/300]: f1_score: 0.521 accuracy_score: 0.624 loss: 254809523.111 \n",
      "[2023-04-18 01:45:24] 451 src.scoring.epoch_score_printer {epoch_score_printer-21} INFO - [Epoch 130/300]: f1_score: 0.568 accuracy_score: 0.653 loss: 254820642.277 \n",
      "[2023-04-18 01:45:50] 451 src.scoring.epoch_score_printer {epoch_score_printer-21} INFO - [Epoch 131/300]: f1_score: 0.545 accuracy_score: 0.628 loss: 254755180.854 \n",
      "[2023-04-18 01:46:16] 451 src.scoring.epoch_score_printer {epoch_score_printer-21} INFO - [Epoch 132/300]: f1_score: 0.519 accuracy_score: 0.593 loss: 254740951.281 \n",
      "[2023-04-18 01:46:41] 451 src.scoring.epoch_score_printer {epoch_score_printer-21} INFO - [Epoch 133/300]: f1_score: 0.551 accuracy_score: 0.636 loss: 254787395.928 \n",
      "[2023-04-18 01:47:07] 451 src.scoring.epoch_score_printer {epoch_score_printer-21} INFO - [Epoch 134/300]: f1_score: 0.553 accuracy_score: 0.638 loss: 254752049.408 \n",
      "[2023-04-18 01:47:32] 451 src.scoring.epoch_score_printer {epoch_score_printer-21} INFO - [Epoch 135/300]: f1_score: 0.506 accuracy_score: 0.613 loss: 254792341.021 \n",
      "[2023-04-18 01:47:57] 451 src.scoring.epoch_score_printer {epoch_score_printer-21} INFO - [Epoch 136/300]: f1_score: 0.547 accuracy_score: 0.632 loss: 254729336.589 \n",
      "[2023-04-18 01:48:24] 451 src.scoring.epoch_score_printer {epoch_score_printer-21} INFO - [Epoch 137/300]: f1_score: 0.540 accuracy_score: 0.636 loss: 254708544.005 \n",
      "[2023-04-18 01:48:49] 451 src.scoring.epoch_score_printer {epoch_score_printer-21} INFO - [Epoch 138/300]: f1_score: 0.551 accuracy_score: 0.626 loss: 254745725.985 \n",
      "[2023-04-18 01:49:14] 451 src.scoring.epoch_score_printer {epoch_score_printer-21} INFO - [Epoch 139/300]: f1_score: 0.533 accuracy_score: 0.622 loss: 254772474.960 \n",
      "[2023-04-18 01:49:40] 451 src.scoring.epoch_score_printer {epoch_score_printer-21} INFO - [Epoch 140/300]: f1_score: 0.566 accuracy_score: 0.651 loss: 254796004.231 \n",
      "[2023-04-18 01:50:05] 451 src.scoring.epoch_score_printer {epoch_score_printer-21} INFO - [Epoch 141/300]: f1_score: 0.561 accuracy_score: 0.647 loss: 254697601.399 \n",
      "[2023-04-18 01:50:31] 451 src.scoring.epoch_score_printer {epoch_score_printer-21} INFO - [Epoch 142/300]: f1_score: 0.559 accuracy_score: 0.649 loss: 254831229.812 \n",
      "[2023-04-18 01:50:56] 451 src.scoring.epoch_score_printer {epoch_score_printer-21} INFO - [Epoch 143/300]: f1_score: 0.561 accuracy_score: 0.650 loss: 254747898.039 \n",
      "[2023-04-18 01:51:21] 451 src.scoring.epoch_score_printer {epoch_score_printer-21} INFO - [Epoch 144/300]: f1_score: 0.553 accuracy_score: 0.646 loss: 254685961.683 \n",
      "[2023-04-18 01:51:47] 451 src.scoring.epoch_score_printer {epoch_score_printer-21} INFO - [Epoch 145/300]: f1_score: 0.501 accuracy_score: 0.599 loss: 254762510.931 \n",
      "[2023-04-18 01:52:12] 451 src.scoring.epoch_score_printer {epoch_score_printer-21} INFO - [Epoch 146/300]: f1_score: 0.562 accuracy_score: 0.648 loss: 254785386.723 \n",
      "[2023-04-18 01:52:38] 451 src.scoring.epoch_score_printer {epoch_score_printer-21} INFO - [Epoch 147/300]: f1_score: 0.532 accuracy_score: 0.615 loss: 254734420.904 \n",
      "[2023-04-18 01:53:04] 451 src.scoring.epoch_score_printer {epoch_score_printer-21} INFO - [Epoch 148/300]: f1_score: 0.563 accuracy_score: 0.637 loss: 254793445.946 \n",
      "[2023-04-18 01:53:28] 451 src.scoring.epoch_score_printer {epoch_score_printer-21} INFO - [Epoch 149/300]: f1_score: 0.546 accuracy_score: 0.624 loss: 254793955.265 \n",
      "[2023-04-18 01:53:54] 451 src.scoring.epoch_score_printer {epoch_score_printer-21} INFO - [Epoch 150/300]: f1_score: 0.537 accuracy_score: 0.611 loss: 254749097.292 \n",
      "[2023-04-18 01:54:20] 451 src.scoring.epoch_score_printer {epoch_score_printer-21} INFO - [Epoch 151/300]: f1_score: 0.571 accuracy_score: 0.669 loss: 254707617.186 \n",
      "[2023-04-18 01:54:45] 451 src.scoring.epoch_score_printer {epoch_score_printer-21} INFO - [Epoch 152/300]: f1_score: 0.514 accuracy_score: 0.605 loss: 254693667.422 \n",
      "[2023-04-18 01:55:10] 451 src.scoring.epoch_score_printer {epoch_score_printer-21} INFO - [Epoch 153/300]: f1_score: 0.559 accuracy_score: 0.656 loss: 254732307.321 \n",
      "[2023-04-18 01:55:36] 451 src.scoring.epoch_score_printer {epoch_score_printer-21} INFO - [Epoch 154/300]: f1_score: 0.562 accuracy_score: 0.640 loss: 254709508.526 \n",
      "[2023-04-18 01:56:00] 451 src.scoring.epoch_score_printer {epoch_score_printer-21} INFO - [Epoch 155/300]: f1_score: 0.567 accuracy_score: 0.650 loss: 254752514.260 \n",
      "[2023-04-18 01:56:26] 451 src.scoring.epoch_score_printer {epoch_score_printer-21} INFO - [Epoch 156/300]: f1_score: 0.539 accuracy_score: 0.622 loss: 254701928.830 \n",
      "[2023-04-18 01:56:51] 451 src.scoring.epoch_score_printer {epoch_score_printer-21} INFO - [Epoch 157/300]: f1_score: 0.528 accuracy_score: 0.621 loss: 254680044.581 \n",
      "[2023-04-18 01:57:17] 451 src.scoring.epoch_score_printer {epoch_score_printer-21} INFO - [Epoch 158/300]: f1_score: 0.506 accuracy_score: 0.599 loss: 254736880.774 \n",
      "[2023-04-18 01:57:43] 451 src.scoring.epoch_score_printer {epoch_score_printer-21} INFO - [Epoch 159/300]: f1_score: 0.467 accuracy_score: 0.571 loss: 254799997.100 \n",
      "[2023-04-18 01:58:08] 451 src.scoring.epoch_score_printer {epoch_score_printer-21} INFO - [Epoch 160/300]: f1_score: 0.511 accuracy_score: 0.591 loss: 254726018.941 \n",
      "[2023-04-18 01:58:34] 451 src.scoring.epoch_score_printer {epoch_score_printer-21} INFO - [Epoch 161/300]: f1_score: 0.562 accuracy_score: 0.649 loss: 254773959.778 \n",
      "[2023-04-18 01:58:59] 451 src.scoring.epoch_score_printer {epoch_score_printer-21} INFO - [Epoch 162/300]: f1_score: 0.570 accuracy_score: 0.652 loss: 254669534.734 \n",
      "[2023-04-18 01:59:25] 451 src.scoring.epoch_score_printer {epoch_score_printer-21} INFO - [Epoch 163/300]: f1_score: 0.559 accuracy_score: 0.637 loss: 254786962.013 \n",
      "[2023-04-18 01:59:50] 451 src.scoring.epoch_score_printer {epoch_score_printer-21} INFO - [Epoch 164/300]: f1_score: 0.548 accuracy_score: 0.639 loss: 254712720.723 \n",
      "[2023-04-18 02:00:16] 451 src.scoring.epoch_score_printer {epoch_score_printer-21} INFO - [Epoch 165/300]: f1_score: 0.549 accuracy_score: 0.621 loss: 254694130.664 \n",
      "[2023-04-18 02:00:41] 451 src.scoring.epoch_score_printer {epoch_score_printer-21} INFO - [Epoch 166/300]: f1_score: 0.514 accuracy_score: 0.593 loss: 254829718.704 \n",
      "[2023-04-18 02:01:07] 451 src.scoring.epoch_score_printer {epoch_score_printer-21} INFO - [Epoch 167/300]: f1_score: 0.544 accuracy_score: 0.640 loss: 254775190.553 \n",
      "[2023-04-18 02:01:32] 451 src.scoring.epoch_score_printer {epoch_score_printer-21} INFO - [Epoch 168/300]: f1_score: 0.569 accuracy_score: 0.652 loss: 254745272.546 \n",
      "[2023-04-18 02:01:57] 451 src.scoring.epoch_score_printer {epoch_score_printer-21} INFO - [Epoch 169/300]: f1_score: 0.551 accuracy_score: 0.642 loss: 254768075.988 \n",
      "[2023-04-18 02:02:20] 451 src.scoring.epoch_score_printer {epoch_score_printer-21} INFO - [Epoch 170/300]: f1_score: 0.574 accuracy_score: 0.650 loss: 254703837.453 \n",
      "[2023-04-18 02:02:46] 451 src.scoring.epoch_score_printer {epoch_score_printer-21} INFO - [Epoch 171/300]: f1_score: 0.551 accuracy_score: 0.635 loss: 254742952.828 \n",
      "[2023-04-18 02:03:11] 451 src.scoring.epoch_score_printer {epoch_score_printer-21} INFO - [Epoch 172/300]: f1_score: 0.446 accuracy_score: 0.550 loss: 254745786.190 \n",
      "[2023-04-18 02:03:37] 451 src.scoring.epoch_score_printer {epoch_score_printer-21} INFO - [Epoch 173/300]: f1_score: 0.558 accuracy_score: 0.636 loss: 254765213.109 \n",
      "[2023-04-18 02:04:02] 451 src.scoring.epoch_score_printer {epoch_score_printer-21} INFO - [Epoch 174/300]: f1_score: 0.525 accuracy_score: 0.598 loss: 254722289.411 \n",
      "[2023-04-18 02:04:28] 451 src.scoring.epoch_score_printer {epoch_score_printer-21} INFO - [Epoch 175/300]: f1_score: 0.582 accuracy_score: 0.668 loss: 254749339.395 \n",
      "[2023-04-18 02:04:53] 451 src.scoring.epoch_score_printer {epoch_score_printer-21} INFO - [Epoch 176/300]: f1_score: 0.568 accuracy_score: 0.652 loss: 254769770.972 \n",
      "[2023-04-18 02:05:19] 451 src.scoring.epoch_score_printer {epoch_score_printer-21} INFO - [Epoch 177/300]: f1_score: 0.536 accuracy_score: 0.631 loss: 254711195.794 \n",
      "[2023-04-18 02:05:45] 451 src.scoring.epoch_score_printer {epoch_score_printer-21} INFO - [Epoch 178/300]: f1_score: 0.587 accuracy_score: 0.671 loss: 254789235.893 \n",
      "[2023-04-18 02:06:10] 451 src.scoring.epoch_score_printer {epoch_score_printer-21} INFO - [Epoch 179/300]: f1_score: 0.584 accuracy_score: 0.667 loss: 254746935.785 \n",
      "[2023-04-18 02:06:36] 451 src.scoring.epoch_score_printer {epoch_score_printer-21} INFO - [Epoch 180/300]: f1_score: 0.567 accuracy_score: 0.650 loss: 254767655.972 \n",
      "[2023-04-18 02:07:01] 451 src.scoring.epoch_score_printer {epoch_score_printer-21} INFO - [Epoch 181/300]: f1_score: 0.560 accuracy_score: 0.629 loss: 254685729.814 \n",
      "[2023-04-18 02:07:26] 451 src.scoring.epoch_score_printer {epoch_score_printer-21} INFO - [Epoch 182/300]: f1_score: 0.526 accuracy_score: 0.604 loss: 254739117.245 \n",
      "[2023-04-18 02:07:52] 451 src.scoring.epoch_score_printer {epoch_score_printer-21} INFO - [Epoch 183/300]: f1_score: 0.587 accuracy_score: 0.659 loss: 254738472.652 \n",
      "[2023-04-18 02:08:17] 451 src.scoring.epoch_score_printer {epoch_score_printer-21} INFO - [Epoch 184/300]: f1_score: 0.553 accuracy_score: 0.629 loss: 254774599.173 \n",
      "[2023-04-18 02:08:42] 451 src.scoring.epoch_score_printer {epoch_score_printer-21} INFO - [Epoch 185/300]: f1_score: 0.553 accuracy_score: 0.646 loss: 254720514.928 \n",
      "[2023-04-18 02:09:08] 451 src.scoring.epoch_score_printer {epoch_score_printer-21} INFO - [Epoch 186/300]: f1_score: 0.592 accuracy_score: 0.681 loss: 254726475.147 \n",
      "[2023-04-18 02:09:33] 451 src.scoring.epoch_score_printer {epoch_score_printer-21} INFO - [Epoch 187/300]: f1_score: 0.570 accuracy_score: 0.646 loss: 254832373.809 \n",
      "[2023-04-18 02:09:59] 451 src.scoring.epoch_score_printer {epoch_score_printer-21} INFO - [Epoch 188/300]: f1_score: 0.465 accuracy_score: 0.559 loss: 254798932.092 \n",
      "[2023-04-18 02:10:24] 451 src.scoring.epoch_score_printer {epoch_score_printer-21} INFO - [Epoch 189/300]: f1_score: 0.571 accuracy_score: 0.647 loss: 254732942.515 \n",
      "[2023-04-18 02:10:49] 451 src.scoring.epoch_score_printer {epoch_score_printer-21} INFO - [Epoch 190/300]: f1_score: 0.543 accuracy_score: 0.615 loss: 254752067.951 \n",
      "[2023-04-18 02:11:15] 451 src.scoring.epoch_score_printer {epoch_score_printer-21} INFO - [Epoch 191/300]: f1_score: 0.498 accuracy_score: 0.599 loss: 254762190.599 \n",
      "[2023-04-18 02:11:40] 451 src.scoring.epoch_score_printer {epoch_score_printer-21} INFO - [Epoch 192/300]: f1_score: 0.557 accuracy_score: 0.630 loss: 254796763.999 \n",
      "[2023-04-18 02:12:05] 451 src.scoring.epoch_score_printer {epoch_score_printer-21} INFO - [Epoch 193/300]: f1_score: 0.554 accuracy_score: 0.627 loss: 254730907.914 \n",
      "[2023-04-18 02:12:31] 451 src.scoring.epoch_score_printer {epoch_score_printer-21} INFO - [Epoch 194/300]: f1_score: 0.591 accuracy_score: 0.649 loss: 254752259.184 \n",
      "[2023-04-18 02:12:56] 451 src.scoring.epoch_score_printer {epoch_score_printer-21} INFO - [Epoch 195/300]: f1_score: 0.565 accuracy_score: 0.637 loss: 254789301.714 \n",
      "[2023-04-18 02:13:22] 451 src.scoring.epoch_score_printer {epoch_score_printer-21} INFO - [Epoch 196/300]: f1_score: 0.553 accuracy_score: 0.618 loss: 254749922.440 \n",
      "[2023-04-18 02:13:47] 451 src.scoring.epoch_score_printer {epoch_score_printer-21} INFO - [Epoch 197/300]: f1_score: 0.571 accuracy_score: 0.654 loss: 254759290.089 \n",
      "[2023-04-18 02:14:13] 451 src.scoring.epoch_score_printer {epoch_score_printer-21} INFO - [Epoch 198/300]: f1_score: 0.573 accuracy_score: 0.656 loss: 254749180.959 \n",
      "[2023-04-18 02:14:39] 451 src.scoring.epoch_score_printer {epoch_score_printer-21} INFO - [Epoch 199/300]: f1_score: 0.548 accuracy_score: 0.620 loss: 254744366.319 \n",
      "[2023-04-18 02:15:05] 451 src.scoring.epoch_score_printer {epoch_score_printer-21} INFO - [Epoch 200/300]: f1_score: 0.571 accuracy_score: 0.650 loss: 254760573.374 \n",
      "[2023-04-18 02:15:30] 451 src.scoring.epoch_score_printer {epoch_score_printer-21} INFO - [Epoch 201/300]: f1_score: 0.546 accuracy_score: 0.637 loss: 254756903.123 \n",
      "[2023-04-18 02:15:56] 451 src.scoring.epoch_score_printer {epoch_score_printer-21} INFO - [Epoch 202/300]: f1_score: 0.581 accuracy_score: 0.666 loss: 254798152.002 \n",
      "[2023-04-18 02:16:21] 451 src.scoring.epoch_score_printer {epoch_score_printer-21} INFO - [Epoch 203/300]: f1_score: 0.565 accuracy_score: 0.637 loss: 254704903.365 \n",
      "[2023-04-18 02:16:46] 451 src.scoring.epoch_score_printer {epoch_score_printer-21} INFO - [Epoch 204/300]: f1_score: 0.570 accuracy_score: 0.650 loss: 254634711.181 \n",
      "[2023-04-18 02:17:12] 451 src.scoring.epoch_score_printer {epoch_score_printer-21} INFO - [Epoch 205/300]: f1_score: 0.578 accuracy_score: 0.652 loss: 254802976.290 \n",
      "[2023-04-18 02:17:37] 451 src.scoring.epoch_score_printer {epoch_score_printer-21} INFO - [Epoch 206/300]: f1_score: 0.553 accuracy_score: 0.627 loss: 254811045.740 \n",
      "[2023-04-18 02:18:03] 451 src.scoring.epoch_score_printer {epoch_score_printer-21} INFO - [Epoch 207/300]: f1_score: 0.563 accuracy_score: 0.645 loss: 254796034.639 \n",
      "[2023-04-18 02:18:29] 451 src.scoring.epoch_score_printer {epoch_score_printer-21} INFO - [Epoch 208/300]: f1_score: 0.584 accuracy_score: 0.669 loss: 254713471.894 \n",
      "[2023-04-18 02:18:54] 451 src.scoring.epoch_score_printer {epoch_score_printer-21} INFO - [Epoch 209/300]: f1_score: 0.582 accuracy_score: 0.653 loss: 254746575.244 \n",
      "[2023-04-18 02:19:19] 451 src.scoring.epoch_score_printer {epoch_score_printer-21} INFO - [Epoch 210/300]: f1_score: 0.546 accuracy_score: 0.626 loss: 254799796.726 \n",
      "[2023-04-18 02:19:45] 451 src.scoring.epoch_score_printer {epoch_score_printer-21} INFO - [Epoch 211/300]: f1_score: 0.540 accuracy_score: 0.612 loss: 254738937.098 \n",
      "[2023-04-18 02:20:10] 451 src.scoring.epoch_score_printer {epoch_score_printer-21} INFO - [Epoch 212/300]: f1_score: 0.588 accuracy_score: 0.658 loss: 254725886.897 \n",
      "[2023-04-18 02:20:36] 451 src.scoring.epoch_score_printer {epoch_score_printer-21} INFO - [Epoch 213/300]: f1_score: 0.591 accuracy_score: 0.666 loss: 254786700.785 \n",
      "[2023-04-18 02:21:01] 451 src.scoring.epoch_score_printer {epoch_score_printer-21} INFO - [Epoch 214/300]: f1_score: 0.587 accuracy_score: 0.666 loss: 254663359.237 \n",
      "[2023-04-18 02:21:27] 451 src.scoring.epoch_score_printer {epoch_score_printer-21} INFO - [Epoch 215/300]: f1_score: 0.584 accuracy_score: 0.648 loss: 254737209.350 \n",
      "[2023-04-18 02:21:52] 451 src.scoring.epoch_score_printer {epoch_score_printer-21} INFO - [Epoch 216/300]: f1_score: 0.582 accuracy_score: 0.646 loss: 254797513.600 \n",
      "[2023-04-18 02:22:15] 451 src.scoring.epoch_score_printer {epoch_score_printer-21} INFO - [Epoch 217/300]: f1_score: 0.567 accuracy_score: 0.656 loss: 254856871.759 \n",
      "[2023-04-18 02:22:41] 451 src.scoring.epoch_score_printer {epoch_score_printer-21} INFO - [Epoch 218/300]: f1_score: 0.572 accuracy_score: 0.646 loss: 254825912.963 \n",
      "[2023-04-18 02:23:06] 451 src.scoring.epoch_score_printer {epoch_score_printer-21} INFO - [Epoch 219/300]: f1_score: 0.550 accuracy_score: 0.619 loss: 254830218.299 \n",
      "[2023-04-18 02:23:31] 451 src.scoring.epoch_score_printer {epoch_score_printer-21} INFO - [Epoch 220/300]: f1_score: 0.542 accuracy_score: 0.631 loss: 254765948.066 \n",
      "[2023-04-18 02:23:58] 451 src.scoring.epoch_score_printer {epoch_score_printer-21} INFO - [Epoch 221/300]: f1_score: 0.595 accuracy_score: 0.664 loss: 254747748.014 \n",
      "[2023-04-18 02:24:23] 451 src.scoring.epoch_score_printer {epoch_score_printer-21} INFO - [Epoch 222/300]: f1_score: 0.547 accuracy_score: 0.644 loss: 254843463.949 \n",
      "[2023-04-18 02:24:48] 451 src.scoring.epoch_score_printer {epoch_score_printer-21} INFO - [Epoch 223/300]: f1_score: 0.585 accuracy_score: 0.656 loss: 254728116.723 \n",
      "[2023-04-18 02:25:14] 451 src.scoring.epoch_score_printer {epoch_score_printer-21} INFO - [Epoch 224/300]: f1_score: 0.548 accuracy_score: 0.640 loss: 254749585.536 \n",
      "[2023-04-18 02:25:39] 451 src.scoring.epoch_score_printer {epoch_score_printer-21} INFO - [Epoch 225/300]: f1_score: 0.549 accuracy_score: 0.630 loss: 254776362.334 \n",
      "[2023-04-18 02:26:04] 451 src.scoring.epoch_score_printer {epoch_score_printer-21} INFO - [Epoch 226/300]: f1_score: 0.574 accuracy_score: 0.637 loss: 254788220.677 \n",
      "[2023-04-18 02:26:30] 451 src.scoring.epoch_score_printer {epoch_score_printer-21} INFO - [Epoch 227/300]: f1_score: 0.563 accuracy_score: 0.651 loss: 254710006.829 \n",
      "[2023-04-18 02:26:55] 451 src.scoring.epoch_score_printer {epoch_score_printer-21} INFO - [Epoch 228/300]: f1_score: 0.471 accuracy_score: 0.568 loss: 254770792.576 \n",
      "[2023-04-18 02:27:20] 451 src.scoring.epoch_score_printer {epoch_score_printer-21} INFO - [Epoch 229/300]: f1_score: 0.570 accuracy_score: 0.623 loss: 254737880.621 \n",
      "[2023-04-18 02:27:46] 451 src.scoring.epoch_score_printer {epoch_score_printer-21} INFO - [Epoch 230/300]: f1_score: 0.507 accuracy_score: 0.599 loss: 254767020.089 \n",
      "[2023-04-18 02:28:11] 451 src.scoring.epoch_score_printer {epoch_score_printer-21} INFO - [Epoch 231/300]: f1_score: 0.602 accuracy_score: 0.669 loss: 254736060.911 \n",
      "[2023-04-18 02:28:38] 451 src.scoring.epoch_score_printer {epoch_score_printer-21} INFO - [Epoch 232/300]: f1_score: 0.590 accuracy_score: 0.670 loss: 254843275.555 \n",
      "[2023-04-18 02:29:03] 451 src.scoring.epoch_score_printer {epoch_score_printer-21} INFO - [Epoch 233/300]: f1_score: 0.520 accuracy_score: 0.617 loss: 254780628.527 \n",
      "[2023-04-18 02:29:29] 451 src.scoring.epoch_score_printer {epoch_score_printer-21} INFO - [Epoch 234/300]: f1_score: 0.593 accuracy_score: 0.654 loss: 254731947.403 \n",
      "[2023-04-18 02:29:55] 451 src.scoring.epoch_score_printer {epoch_score_printer-21} INFO - [Epoch 235/300]: f1_score: 0.524 accuracy_score: 0.602 loss: 254693443.917 \n",
      "[2023-04-18 02:30:20] 451 src.scoring.epoch_score_printer {epoch_score_printer-21} INFO - [Epoch 236/300]: f1_score: 0.543 accuracy_score: 0.631 loss: 254687513.437 \n",
      "[2023-04-18 02:30:46] 451 src.scoring.epoch_score_printer {epoch_score_printer-21} INFO - [Epoch 237/300]: f1_score: 0.608 accuracy_score: 0.665 loss: 254723061.006 \n",
      "[2023-04-18 02:31:11] 451 src.scoring.epoch_score_printer {epoch_score_printer-21} INFO - [Epoch 238/300]: f1_score: 0.508 accuracy_score: 0.601 loss: 254791147.012 \n",
      "[2023-04-18 02:31:36] 451 src.scoring.epoch_score_printer {epoch_score_printer-21} INFO - [Epoch 239/300]: f1_score: 0.596 accuracy_score: 0.652 loss: 254769463.729 \n",
      "[2023-04-18 02:32:02] 451 src.scoring.epoch_score_printer {epoch_score_printer-21} INFO - [Epoch 240/300]: f1_score: 0.618 accuracy_score: 0.670 loss: 254736801.260 \n",
      "[2023-04-18 02:32:28] 451 src.scoring.epoch_score_printer {epoch_score_printer-21} INFO - [Epoch 241/300]: f1_score: 0.575 accuracy_score: 0.632 loss: 254768683.782 \n",
      "[2023-04-18 02:32:53] 451 src.scoring.epoch_score_printer {epoch_score_printer-21} INFO - [Epoch 242/300]: f1_score: 0.538 accuracy_score: 0.632 loss: 254748101.476 \n",
      "[2023-04-18 02:33:19] 451 src.scoring.epoch_score_printer {epoch_score_printer-21} INFO - [Epoch 243/300]: f1_score: 0.567 accuracy_score: 0.638 loss: 254729258.834 \n",
      "[2023-04-18 02:33:44] 451 src.scoring.epoch_score_printer {epoch_score_printer-21} INFO - [Epoch 244/300]: f1_score: 0.567 accuracy_score: 0.645 loss: 254738409.606 \n",
      "[2023-04-18 02:34:10] 451 src.scoring.epoch_score_printer {epoch_score_printer-21} INFO - [Epoch 245/300]: f1_score: 0.573 accuracy_score: 0.636 loss: 254786931.197 \n",
      "[2023-04-18 02:34:36] 451 src.scoring.epoch_score_printer {epoch_score_printer-21} INFO - [Epoch 246/300]: f1_score: 0.601 accuracy_score: 0.671 loss: 254763935.131 \n",
      "[2023-04-18 02:35:01] 451 src.scoring.epoch_score_printer {epoch_score_printer-21} INFO - [Epoch 247/300]: f1_score: 0.540 accuracy_score: 0.619 loss: 254715885.916 \n",
      "[2023-04-18 02:35:26] 451 src.scoring.epoch_score_printer {epoch_score_printer-21} INFO - [Epoch 248/300]: f1_score: 0.595 accuracy_score: 0.655 loss: 254739077.173 \n",
      "[2023-04-18 02:35:53] 451 src.scoring.epoch_score_printer {epoch_score_printer-21} INFO - [Epoch 249/300]: f1_score: 0.601 accuracy_score: 0.661 loss: 254784053.237 \n",
      "[2023-04-18 02:36:18] 451 src.scoring.epoch_score_printer {epoch_score_printer-21} INFO - [Epoch 250/300]: f1_score: 0.595 accuracy_score: 0.660 loss: 254746103.601 \n",
      "[2023-04-18 02:36:44] 451 src.scoring.epoch_score_printer {epoch_score_printer-21} INFO - [Epoch 251/300]: f1_score: 0.572 accuracy_score: 0.641 loss: 254778162.985 \n",
      "[2023-04-18 02:37:09] 451 src.scoring.epoch_score_printer {epoch_score_printer-21} INFO - [Epoch 252/300]: f1_score: 0.599 accuracy_score: 0.659 loss: 254774626.093 \n",
      "[2023-04-18 02:37:35] 451 src.scoring.epoch_score_printer {epoch_score_printer-21} INFO - [Epoch 253/300]: f1_score: 0.474 accuracy_score: 0.577 loss: 254821271.847 \n",
      "[2023-04-18 02:38:00] 451 src.scoring.epoch_score_printer {epoch_score_printer-21} INFO - [Epoch 254/300]: f1_score: 0.545 accuracy_score: 0.643 loss: 254778583.036 \n",
      "[2023-04-18 02:38:26] 451 src.scoring.epoch_score_printer {epoch_score_printer-21} INFO - [Epoch 255/300]: f1_score: 0.563 accuracy_score: 0.637 loss: 254771875.819 \n",
      "[2023-04-18 02:38:51] 451 src.scoring.epoch_score_printer {epoch_score_printer-21} INFO - [Epoch 256/300]: f1_score: 0.598 accuracy_score: 0.666 loss: 254769147.959 \n",
      "[2023-04-18 02:39:17] 451 src.scoring.epoch_score_printer {epoch_score_printer-21} INFO - [Epoch 257/300]: f1_score: 0.606 accuracy_score: 0.670 loss: 254749258.303 \n",
      "[2023-04-18 02:39:42] 451 src.scoring.epoch_score_printer {epoch_score_printer-21} INFO - [Epoch 258/300]: f1_score: 0.606 accuracy_score: 0.667 loss: 254796073.899 \n",
      "[2023-04-18 02:40:08] 451 src.scoring.epoch_score_printer {epoch_score_printer-21} INFO - [Epoch 259/300]: f1_score: 0.465 accuracy_score: 0.553 loss: 254711462.147 \n",
      "[2023-04-18 02:40:34] 451 src.scoring.epoch_score_printer {epoch_score_printer-21} INFO - [Epoch 260/300]: f1_score: 0.578 accuracy_score: 0.643 loss: 254769752.769 \n",
      "[2023-04-18 02:41:00] 451 src.scoring.epoch_score_printer {epoch_score_printer-21} INFO - [Epoch 261/300]: f1_score: 0.578 accuracy_score: 0.629 loss: 254783222.678 \n",
      "[2023-04-18 02:41:26] 451 src.scoring.epoch_score_printer {epoch_score_printer-21} INFO - [Epoch 262/300]: f1_score: 0.568 accuracy_score: 0.624 loss: 254765671.024 \n",
      "[2023-04-18 02:41:52] 451 src.scoring.epoch_score_printer {epoch_score_printer-21} INFO - [Epoch 263/300]: f1_score: 0.486 accuracy_score: 0.578 loss: 254839442.395 \n",
      "[2023-04-18 02:42:15] 451 src.scoring.epoch_score_printer {epoch_score_printer-21} INFO - [Epoch 264/300]: f1_score: 0.518 accuracy_score: 0.618 loss: 254767698.897 \n",
      "[2023-04-18 02:42:28] 451 src.scoring.epoch_score_printer {epoch_score_printer-21} INFO - [Epoch 265/300]: f1_score: 0.605 accuracy_score: 0.668 loss: 254772616.783 \n",
      "[2023-04-18 02:42:42] 451 src.scoring.epoch_score_printer {epoch_score_printer-21} INFO - [Epoch 266/300]: f1_score: 0.581 accuracy_score: 0.661 loss: 254759348.654 \n",
      "[2023-04-18 02:42:55] 451 src.scoring.epoch_score_printer {epoch_score_printer-21} INFO - [Epoch 267/300]: f1_score: 0.527 accuracy_score: 0.616 loss: 254689497.352 \n",
      "[2023-04-18 02:43:09] 451 src.scoring.epoch_score_printer {epoch_score_printer-21} INFO - [Epoch 268/300]: f1_score: 0.589 accuracy_score: 0.666 loss: 254737276.674 \n",
      "[2023-04-18 02:43:22] 451 src.scoring.epoch_score_printer {epoch_score_printer-21} INFO - [Epoch 269/300]: f1_score: 0.573 accuracy_score: 0.645 loss: 254738575.889 \n",
      "[2023-04-18 02:43:36] 451 src.scoring.epoch_score_printer {epoch_score_printer-21} INFO - [Epoch 270/300]: f1_score: 0.563 accuracy_score: 0.650 loss: 254831168.158 \n",
      "[2023-04-18 02:43:50] 451 src.scoring.epoch_score_printer {epoch_score_printer-21} INFO - [Epoch 271/300]: f1_score: 0.577 accuracy_score: 0.646 loss: 254808120.494 \n",
      "[2023-04-18 02:44:03] 451 src.scoring.epoch_score_printer {epoch_score_printer-21} INFO - [Epoch 272/300]: f1_score: 0.543 accuracy_score: 0.625 loss: 254709085.890 \n",
      "[2023-04-18 02:44:17] 451 src.scoring.epoch_score_printer {epoch_score_printer-21} INFO - [Epoch 273/300]: f1_score: 0.606 accuracy_score: 0.665 loss: 254754358.698 \n",
      "[2023-04-18 02:44:32] 451 src.scoring.epoch_score_printer {epoch_score_printer-21} INFO - [Epoch 274/300]: f1_score: 0.593 accuracy_score: 0.651 loss: 254752916.817 \n",
      "[2023-04-18 02:44:45] 451 src.scoring.epoch_score_printer {epoch_score_printer-21} INFO - [Epoch 275/300]: f1_score: 0.572 accuracy_score: 0.641 loss: 254693141.664 \n",
      "[2023-04-18 02:44:58] 451 src.scoring.epoch_score_printer {epoch_score_printer-21} INFO - [Epoch 276/300]: f1_score: 0.593 accuracy_score: 0.659 loss: 254702155.885 \n",
      "[2023-04-18 02:45:12] 451 src.scoring.epoch_score_printer {epoch_score_printer-21} INFO - [Epoch 277/300]: f1_score: 0.606 accuracy_score: 0.660 loss: 254785967.314 \n",
      "[2023-04-18 02:45:26] 451 src.scoring.epoch_score_printer {epoch_score_printer-21} INFO - [Epoch 278/300]: f1_score: 0.614 accuracy_score: 0.679 loss: 254784985.597 \n",
      "[2023-04-18 02:45:39] 451 src.scoring.epoch_score_printer {epoch_score_printer-21} INFO - [Epoch 279/300]: f1_score: 0.480 accuracy_score: 0.573 loss: 254744973.986 \n",
      "[2023-04-18 02:45:53] 451 src.scoring.epoch_score_printer {epoch_score_printer-21} INFO - [Epoch 280/300]: f1_score: 0.590 accuracy_score: 0.657 loss: 254843480.876 \n",
      "[2023-04-18 02:46:07] 451 src.scoring.epoch_score_printer {epoch_score_printer-21} INFO - [Epoch 281/300]: f1_score: 0.583 accuracy_score: 0.650 loss: 254732985.404 \n",
      "[2023-04-18 02:46:21] 451 src.scoring.epoch_score_printer {epoch_score_printer-21} INFO - [Epoch 282/300]: f1_score: 0.579 accuracy_score: 0.654 loss: 254765625.793 \n",
      "[2023-04-18 02:46:34] 451 src.scoring.epoch_score_printer {epoch_score_printer-21} INFO - [Epoch 283/300]: f1_score: 0.583 accuracy_score: 0.651 loss: 254846348.770 \n",
      "[2023-04-18 02:46:48] 451 src.scoring.epoch_score_printer {epoch_score_printer-21} INFO - [Epoch 284/300]: f1_score: 0.563 accuracy_score: 0.631 loss: 254791673.546 \n",
      "[2023-04-18 02:47:02] 451 src.scoring.epoch_score_printer {epoch_score_printer-21} INFO - [Epoch 285/300]: f1_score: 0.596 accuracy_score: 0.674 loss: 254768552.110 \n",
      "[2023-04-18 02:47:15] 451 src.scoring.epoch_score_printer {epoch_score_printer-21} INFO - [Epoch 286/300]: f1_score: 0.579 accuracy_score: 0.653 loss: 254819475.538 \n",
      "[2023-04-18 02:47:29] 451 src.scoring.epoch_score_printer {epoch_score_printer-21} INFO - [Epoch 287/300]: f1_score: 0.579 accuracy_score: 0.669 loss: 254790966.490 \n",
      "[2023-04-18 02:47:43] 451 src.scoring.epoch_score_printer {epoch_score_printer-21} INFO - [Epoch 288/300]: f1_score: 0.591 accuracy_score: 0.670 loss: 254765199.479 \n",
      "[2023-04-18 02:47:57] 451 src.scoring.epoch_score_printer {epoch_score_printer-21} INFO - [Epoch 289/300]: f1_score: 0.510 accuracy_score: 0.592 loss: 254729415.140 \n",
      "[2023-04-18 02:48:11] 451 src.scoring.epoch_score_printer {epoch_score_printer-21} INFO - [Epoch 290/300]: f1_score: 0.611 accuracy_score: 0.669 loss: 254809584.459 \n",
      "[2023-04-18 02:48:25] 451 src.scoring.epoch_score_printer {epoch_score_printer-21} INFO - [Epoch 291/300]: f1_score: 0.557 accuracy_score: 0.634 loss: 254782834.682 \n",
      "[2023-04-18 02:48:38] 451 src.scoring.epoch_score_printer {epoch_score_printer-21} INFO - [Epoch 292/300]: f1_score: 0.585 accuracy_score: 0.653 loss: 254760455.544 \n",
      "[2023-04-18 02:48:52] 451 src.scoring.epoch_score_printer {epoch_score_printer-21} INFO - [Epoch 293/300]: f1_score: 0.493 accuracy_score: 0.596 loss: 254689623.319 \n",
      "[2023-04-18 02:49:06] 451 src.scoring.epoch_score_printer {epoch_score_printer-21} INFO - [Epoch 294/300]: f1_score: 0.535 accuracy_score: 0.603 loss: 254741888.059 \n",
      "[2023-04-18 02:49:19] 451 src.scoring.epoch_score_printer {epoch_score_printer-21} INFO - [Epoch 295/300]: f1_score: 0.580 accuracy_score: 0.662 loss: 254791203.535 \n",
      "[2023-04-18 02:49:33] 451 src.scoring.epoch_score_printer {epoch_score_printer-21} INFO - [Epoch 296/300]: f1_score: 0.591 accuracy_score: 0.641 loss: 254668836.401 \n",
      "[2023-04-18 02:49:47] 451 src.scoring.epoch_score_printer {epoch_score_printer-21} INFO - [Epoch 297/300]: f1_score: 0.581 accuracy_score: 0.662 loss: 254732114.569 \n",
      "[2023-04-18 02:50:01] 451 src.scoring.epoch_score_printer {epoch_score_printer-21} INFO - [Epoch 298/300]: f1_score: 0.555 accuracy_score: 0.639 loss: 254723578.608 \n",
      "[2023-04-18 02:50:15] 451 src.scoring.epoch_score_printer {epoch_score_printer-21} INFO - [Epoch 299/300]: f1_score: 0.623 accuracy_score: 0.692 loss: 254722587.452 \n"
     ]
    }
   ],
   "source": [
    "classifier.unfreeze_all_layers()\n",
    "num_epoch = 300\n",
    "result_df, result_dict = classifier.fit(num_epoch=num_epoch)\n",
    "classifier.save_model(result_dict)\n",
    "result_df.to_csv(f'{classifier.name}_{classifier._uuid}_{num_epoch}_epoch.csv')\n",
    "# display(result_df)\n",
    "# print(result_dict)"
   ],
   "metadata": {
    "collapsed": false
   }
  },
  {
   "cell_type": "code",
   "execution_count": null,
   "outputs": [],
   "source": [
    "classifier.score(dataset.validate_dataloader)"
   ],
   "metadata": {
    "collapsed": false
   }
  },
  {
   "cell_type": "code",
   "execution_count": null,
   "outputs": [],
   "source": [],
   "metadata": {
    "collapsed": false
   }
  },
  {
   "cell_type": "code",
   "execution_count": null,
   "outputs": [],
   "source": [],
   "metadata": {
    "collapsed": false
   }
  },
  {
   "cell_type": "code",
   "execution_count": null,
   "outputs": [],
   "source": [],
   "metadata": {
    "collapsed": false
   }
  },
  {
   "cell_type": "code",
   "execution_count": null,
   "outputs": [],
   "source": [
    "result_df.to_csv(f'{classifier.name}_300_epoch_freeze_all_layers_except_fc_scores.csv')"
   ],
   "metadata": {
    "collapsed": false
   }
  },
  {
   "cell_type": "code",
   "execution_count": 4,
   "outputs": [],
   "source": [
    "test_model_weights_path = '../../bayesian_refactoring/assets/model_weights/pyro_miniresnet_15014_2dc1ce9b-0c57-4387-acab-451c9b83999f.pt'"
   ],
   "metadata": {
    "collapsed": false
   }
  },
  {
   "cell_type": "code",
   "execution_count": 5,
   "outputs": [],
   "source": [
    "test_results = torch.load(test_model_weights_path)"
   ],
   "metadata": {
    "collapsed": false
   }
  },
  {
   "cell_type": "code",
   "execution_count": 6,
   "outputs": [
    {
     "data": {
      "text/plain": "dict_keys(['best_loss', 'best_f1_score', 'best_accuracy_score', 'best_loss_model', 'best_f1_score_model', 'best_accuracy_score_model', 'best_loss_model_pyro_params', 'best_f1_score_model_pyro_params', 'best_accuracy_score_model_pyro_params'])"
     },
     "metadata": {},
     "output_type": "display_data"
    }
   ],
   "source": [
    "display(test_results.keys())"
   ],
   "metadata": {
    "collapsed": false
   }
  },
  {
   "cell_type": "code",
   "execution_count": 7,
   "outputs": [],
   "source": [
    "new_classifier = PyroMiniresnetBnnClassifier(\n",
    "    dataset=dataset, device=device\n",
    ").load_model(\n",
    "    model_state_dict=test_results['best_f1_score_model'],\n",
    "    pyro_state_dict=test_results['best_f1_score_model_pyro_params']\n",
    ")"
   ],
   "metadata": {
    "collapsed": false
   }
  },
  {
   "cell_type": "code",
   "execution_count": 8,
   "outputs": [
    {
     "data": {
      "text/plain": "{'f1_score': 0.35777670714739807, 'accuracy_score': 0.391699604743083}"
     },
     "execution_count": 8,
     "metadata": {},
     "output_type": "execute_result"
    }
   ],
   "source": [
    "new_classifier.score(dataset.validate_dataloader)"
   ],
   "metadata": {
    "collapsed": false
   }
  }
 ],
 "metadata": {
  "kernelspec": {
   "name": "bayesian_test",
   "language": "python",
   "display_name": "Python 3 (bayesian test)"
  },
  "language_info": {
   "codemirror_mode": {
    "name": "ipython",
    "version": 2
   },
   "file_extension": ".py",
   "mimetype": "text/x-python",
   "name": "python",
   "nbconvert_exporter": "python",
   "pygments_lexer": "ipython2",
   "version": "2.7.6"
  }
 },
 "nbformat": 4,
 "nbformat_minor": 0
}
