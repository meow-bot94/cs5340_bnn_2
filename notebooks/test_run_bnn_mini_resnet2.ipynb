{
 "cells": [
  {
   "cell_type": "code",
   "execution_count": 1,
   "metadata": {
    "collapsed": true
   },
   "outputs": [
    {
     "name": "stderr",
     "output_type": "stream",
     "text": [
      "[2023-04-17 21:45:28] 5929 root {logger_initializer-47} INFO - Current process ID: 5929\n"
     ]
    }
   ],
   "source": [
    "import pyro\n",
    "import torch\n",
    "import ssl\n",
    "import matplotlib.pyplot as plt\n",
    "\n",
    "\n",
    "from src.logger.logger_initializer import LoggerInitializer\n",
    "from src.models.bnn.pyro_miniresnet_bnn_classifier import PyroMiniresnetBnnClassifier\n",
    "from src.utils.path_getter import PathGetter\n",
    "from src.data_loader.dataset_getter import DatasetGetter\n",
    "\n",
    "\n",
    "ssl._create_default_https_context = ssl._create_unverified_context\n",
    "device = 'cuda'\n",
    "torch.__version__\n",
    "\n",
    "\n",
    "LoggerInitializer().init()\n",
    "dataset = DatasetGetter(PathGetter.get_data_directory(), batch_size=12).get()"
   ]
  },
  {
   "cell_type": "code",
   "execution_count": 3,
   "outputs": [],
   "source": [
    "classifier = PyroMiniresnetBnnClassifier(dataset=dataset, device=device).init()"
   ],
   "metadata": {
    "collapsed": false
   }
  },
  {
   "cell_type": "code",
   "execution_count": null,
   "outputs": [
    {
     "name": "stderr",
     "output_type": "stream",
     "text": [
      "[2023-04-17 21:47:08] 5929 src.scoring.epoch_score_printer {epoch_score_printer-21} INFO - [Epoch 0/300]: f1_score: 0.378 accuracy_score: 0.424 loss: 489363120638261.250 \n",
      "[2023-04-17 21:47:22] 5929 src.scoring.epoch_score_printer {epoch_score_printer-21} INFO - [Epoch 1/300]: f1_score: 0.347 accuracy_score: 0.387 loss: 370466100446058.125 \n",
      "[2023-04-17 21:47:36] 5929 src.scoring.epoch_score_printer {epoch_score_printer-21} INFO - [Epoch 2/300]: f1_score: 0.356 accuracy_score: 0.402 loss: 272595562417152.875 \n",
      "[2023-04-17 21:47:49] 5929 src.scoring.epoch_score_printer {epoch_score_printer-21} INFO - [Epoch 3/300]: f1_score: 0.384 accuracy_score: 0.418 loss: 193705863551448.656 \n",
      "[2023-04-17 21:48:03] 5929 src.scoring.epoch_score_printer {epoch_score_printer-21} INFO - [Epoch 4/300]: f1_score: 0.370 accuracy_score: 0.406 loss: 131748756249869.266 \n",
      "[2023-04-17 21:48:24] 5929 src.scoring.epoch_score_printer {epoch_score_printer-21} INFO - [Epoch 5/300]: f1_score: 0.379 accuracy_score: 0.434 loss: 84674169720575.031 \n",
      "[2023-04-17 21:48:50] 5929 src.scoring.epoch_score_printer {epoch_score_printer-21} INFO - [Epoch 6/300]: f1_score: 0.346 accuracy_score: 0.414 loss: 50433625087398.023 \n",
      "[2023-04-17 21:49:16] 5929 src.scoring.epoch_score_printer {epoch_score_printer-21} INFO - [Epoch 7/300]: f1_score: 0.306 accuracy_score: 0.395 loss: 26978428382573.840 \n",
      "[2023-04-17 21:49:42] 5929 src.scoring.epoch_score_printer {epoch_score_printer-21} INFO - [Epoch 8/300]: f1_score: 0.289 accuracy_score: 0.362 loss: 12259798434777.916 \n",
      "[2023-04-17 21:50:08] 5929 src.scoring.epoch_score_printer {epoch_score_printer-21} INFO - [Epoch 9/300]: f1_score: 0.240 accuracy_score: 0.287 loss: 4229101981089.316 \n"
     ]
    }
   ],
   "source": [
    "classifier.unfreeze_all_layers()\n",
    "num_epoch = 300\n",
    "result_df, result_dict = classifier.fit(num_epoch=num_epoch)\n",
    "classifier.save_model(result_dict)\n",
    "result_df.to_csv(f'{classifier.name}_{classifier._uuid}_{num_epoch}_epoch.csv')\n",
    "# display(result_df)\n",
    "# print(result_dict)"
   ],
   "metadata": {
    "collapsed": false,
    "pycharm": {
     "is_executing": true
    }
   }
  },
  {
   "cell_type": "code",
   "execution_count": null,
   "outputs": [],
   "source": [
    "classifier.score(dataset.validate_dataloader)"
   ],
   "metadata": {
    "collapsed": false,
    "pycharm": {
     "is_executing": true
    }
   }
  },
  {
   "cell_type": "code",
   "execution_count": null,
   "outputs": [],
   "source": [],
   "metadata": {
    "collapsed": false
   }
  },
  {
   "cell_type": "code",
   "execution_count": null,
   "outputs": [],
   "source": [],
   "metadata": {
    "collapsed": false
   }
  },
  {
   "cell_type": "code",
   "execution_count": null,
   "outputs": [],
   "source": [
    "result_df.to_csv(f'{classifier.name}_300_epoch_freeze_all_layers_except_fc_scores.csv')"
   ],
   "metadata": {
    "collapsed": false
   }
  },
  {
   "cell_type": "code",
   "execution_count": null,
   "outputs": [],
   "source": [
    "test_model_weights_path = '../../bayesian_refactoring/assets/model_weights/pyro_resnet18bnn_28766_97cd2c3b-14db-49e6-9035-0474b00c51be.pt'"
   ],
   "metadata": {
    "collapsed": false
   }
  },
  {
   "cell_type": "code",
   "execution_count": null,
   "outputs": [],
   "source": [
    "test_results = torch.load(test_model_weights_path)"
   ],
   "metadata": {
    "collapsed": false
   }
  },
  {
   "cell_type": "code",
   "execution_count": null,
   "outputs": [],
   "source": [
    "new_classifier = PyroMiniresnetBnnClassifier(\n",
    "    dataset=dataset, device=device\n",
    ").load_model(\n",
    "    model_state_dict=test_results['best_f1_score_model'],\n",
    "    pyro_state_dict=test_results['pyro_state_dict']\n",
    ")"
   ],
   "metadata": {
    "collapsed": false
   }
  },
  {
   "cell_type": "code",
   "execution_count": null,
   "outputs": [],
   "source": [
    "new_classifier.score(dataset.validate_dataloader)"
   ],
   "metadata": {
    "collapsed": false
   }
  }
 ],
 "metadata": {
  "kernelspec": {
   "name": "bayesian_test",
   "language": "python",
   "display_name": "Python 3 (bayesian test)"
  },
  "language_info": {
   "codemirror_mode": {
    "name": "ipython",
    "version": 2
   },
   "file_extension": ".py",
   "mimetype": "text/x-python",
   "name": "python",
   "nbconvert_exporter": "python",
   "pygments_lexer": "ipython2",
   "version": "2.7.6"
  }
 },
 "nbformat": 4,
 "nbformat_minor": 0
}
