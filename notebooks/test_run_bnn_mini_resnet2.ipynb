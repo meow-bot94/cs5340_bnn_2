{
 "cells": [
  {
   "cell_type": "code",
   "execution_count": 1,
   "metadata": {
    "collapsed": true
   },
   "outputs": [
    {
     "name": "stderr",
     "output_type": "stream",
     "text": [
      "[2023-04-17 23:55:30] 28392 root {logger_initializer-47} INFO - Current process ID: 28392\n"
     ]
    }
   ],
   "source": [
    "import pyro\n",
    "import torch\n",
    "import ssl\n",
    "import matplotlib.pyplot as plt\n",
    "\n",
    "\n",
    "from src.logger.logger_initializer import LoggerInitializer\n",
    "from src.models.bnn.pyro_miniresnet_bnn_classifier import PyroMiniresnetBnnClassifier\n",
    "from src.utils.path_getter import PathGetter\n",
    "from src.data_loader.dataset_getter import DatasetGetter\n",
    "\n",
    "\n",
    "ssl._create_default_https_context = ssl._create_unverified_context\n",
    "device = 'cuda'\n",
    "torch.__version__\n",
    "\n",
    "LoggerInitializer().init()\n",
    "dataset = DatasetGetter(PathGetter.get_data_directory(), batch_size=12).get()"
   ]
  },
  {
   "cell_type": "code",
   "execution_count": 2,
   "outputs": [],
   "source": [
    "classifier = PyroMiniresnetBnnClassifier(dataset=dataset, device=device).init()"
   ],
   "metadata": {
    "collapsed": false
   }
  },
  {
   "cell_type": "code",
   "execution_count": null,
   "outputs": [
    {
     "name": "stderr",
     "output_type": "stream",
     "text": [
      "[2023-04-17 23:55:55] 28392 src.scoring.epoch_score_printer {epoch_score_printer-21} INFO - [Epoch 0/300]: f1_score: 0.352 accuracy_score: 0.388 loss: 478735442245671.938 \n",
      "[2023-04-17 23:56:09] 28392 src.scoring.epoch_score_printer {epoch_score_printer-21} INFO - [Epoch 1/300]: f1_score: 0.383 accuracy_score: 0.418 loss: 361652808273020.312 \n",
      "[2023-04-17 23:56:28] 28392 src.scoring.epoch_score_printer {epoch_score_printer-21} INFO - [Epoch 2/300]: f1_score: 0.417 accuracy_score: 0.441 loss: 265428004079073.906 \n",
      "[2023-04-17 23:56:42] 28392 src.scoring.epoch_score_printer {epoch_score_printer-21} INFO - [Epoch 3/300]: f1_score: 0.412 accuracy_score: 0.450 loss: 188010890824933.625 \n",
      "[2023-04-17 23:56:57] 28392 src.scoring.epoch_score_printer {epoch_score_printer-21} INFO - [Epoch 4/300]: f1_score: 0.406 accuracy_score: 0.465 loss: 127353625552901.953 \n",
      "[2023-04-17 23:57:11] 28392 src.scoring.epoch_score_printer {epoch_score_printer-21} INFO - [Epoch 5/300]: f1_score: 0.369 accuracy_score: 0.428 loss: 81411265836068.594 \n",
      "[2023-04-17 23:57:25] 28392 src.scoring.epoch_score_printer {epoch_score_printer-21} INFO - [Epoch 6/300]: f1_score: 0.351 accuracy_score: 0.406 loss: 48135290385202.242 \n",
      "[2023-04-17 23:57:38] 28392 src.scoring.epoch_score_printer {epoch_score_printer-21} INFO - [Epoch 7/300]: f1_score: 0.397 accuracy_score: 0.464 loss: 25474995585258.918 \n",
      "[2023-04-17 23:57:53] 28392 src.scoring.epoch_score_printer {epoch_score_printer-21} INFO - [Epoch 8/300]: f1_score: 0.389 accuracy_score: 0.452 loss: 11381214120024.795 \n",
      "[2023-04-17 23:58:06] 28392 src.scoring.epoch_score_printer {epoch_score_printer-21} INFO - [Epoch 9/300]: f1_score: 0.215 accuracy_score: 0.279 loss: 3806231196075.183 \n",
      "[2023-04-17 23:58:20] 28392 src.scoring.epoch_score_printer {epoch_score_printer-21} INFO - [Epoch 10/300]: f1_score: 0.104 accuracy_score: 0.200 loss: 702518539607.193 \n",
      "[2023-04-17 23:58:34] 28392 src.scoring.epoch_score_printer {epoch_score_printer-21} INFO - [Epoch 11/300]: f1_score: 0.130 accuracy_score: 0.225 loss: 27020433176.030 \n",
      "[2023-04-17 23:58:47] 28392 src.scoring.epoch_score_printer {epoch_score_printer-21} INFO - [Epoch 12/300]: f1_score: 0.296 accuracy_score: 0.358 loss: 1310635368.498 \n",
      "[2023-04-17 23:59:01] 28392 src.scoring.epoch_score_printer {epoch_score_printer-21} INFO - [Epoch 13/300]: f1_score: 0.387 accuracy_score: 0.463 loss: 1217363277.094 \n",
      "[2023-04-17 23:59:15] 28392 src.scoring.epoch_score_printer {epoch_score_printer-21} INFO - [Epoch 14/300]: f1_score: 0.388 accuracy_score: 0.475 loss: 1175700496.662 \n",
      "[2023-04-17 23:59:28] 28392 src.scoring.epoch_score_printer {epoch_score_printer-21} INFO - [Epoch 15/300]: f1_score: 0.379 accuracy_score: 0.469 loss: 1134533775.906 \n",
      "[2023-04-17 23:59:42] 28392 src.scoring.epoch_score_printer {epoch_score_printer-21} INFO - [Epoch 16/300]: f1_score: 0.377 accuracy_score: 0.475 loss: 1092006463.684 \n",
      "[2023-04-17 23:59:55] 28392 src.scoring.epoch_score_printer {epoch_score_printer-21} INFO - [Epoch 17/300]: f1_score: 0.386 accuracy_score: 0.482 loss: 1048082171.704 \n",
      "[2023-04-18 00:00:10] 28392 src.scoring.epoch_score_printer {epoch_score_printer-21} INFO - [Epoch 18/300]: f1_score: 0.379 accuracy_score: 0.476 loss: 1002939297.201 \n",
      "[2023-04-18 00:00:24] 28392 src.scoring.epoch_score_printer {epoch_score_printer-21} INFO - [Epoch 19/300]: f1_score: 0.398 accuracy_score: 0.496 loss: 956660541.634 \n",
      "[2023-04-18 00:00:38] 28392 src.scoring.epoch_score_printer {epoch_score_printer-21} INFO - [Epoch 20/300]: f1_score: 0.398 accuracy_score: 0.494 loss: 909534520.121 \n",
      "[2023-04-18 00:00:52] 28392 src.scoring.epoch_score_printer {epoch_score_printer-21} INFO - [Epoch 21/300]: f1_score: 0.398 accuracy_score: 0.495 loss: 861636675.212 \n",
      "[2023-04-18 00:01:06] 28392 src.scoring.epoch_score_printer {epoch_score_printer-21} INFO - [Epoch 22/300]: f1_score: 0.392 accuracy_score: 0.482 loss: 813297607.710 \n",
      "[2023-04-18 00:01:20] 28392 src.scoring.epoch_score_printer {epoch_score_printer-21} INFO - [Epoch 23/300]: f1_score: 0.399 accuracy_score: 0.493 loss: 764869607.720 \n",
      "[2023-04-18 00:01:34] 28392 src.scoring.epoch_score_printer {epoch_score_printer-21} INFO - [Epoch 24/300]: f1_score: 0.400 accuracy_score: 0.490 loss: 716496454.267 \n",
      "[2023-04-18 00:01:48] 28392 src.scoring.epoch_score_printer {epoch_score_printer-21} INFO - [Epoch 25/300]: f1_score: 0.395 accuracy_score: 0.480 loss: 668744481.718 \n",
      "[2023-04-18 00:02:01] 28392 src.scoring.epoch_score_printer {epoch_score_printer-21} INFO - [Epoch 26/300]: f1_score: 0.394 accuracy_score: 0.475 loss: 621857479.179 \n",
      "[2023-04-18 00:02:15] 28392 src.scoring.epoch_score_printer {epoch_score_printer-21} INFO - [Epoch 27/300]: f1_score: 0.401 accuracy_score: 0.484 loss: 576266453.621 \n",
      "[2023-04-18 00:02:29] 28392 src.scoring.epoch_score_printer {epoch_score_printer-21} INFO - [Epoch 28/300]: f1_score: 0.407 accuracy_score: 0.489 loss: 532292991.560 \n",
      "[2023-04-18 00:02:42] 28392 src.scoring.epoch_score_printer {epoch_score_printer-21} INFO - [Epoch 29/300]: f1_score: 0.413 accuracy_score: 0.500 loss: 490453593.741 \n",
      "[2023-04-18 00:02:56] 28392 src.scoring.epoch_score_printer {epoch_score_printer-21} INFO - [Epoch 30/300]: f1_score: 0.422 accuracy_score: 0.504 loss: 451106357.099 \n",
      "[2023-04-18 00:03:10] 28392 src.scoring.epoch_score_printer {epoch_score_printer-21} INFO - [Epoch 31/300]: f1_score: 0.417 accuracy_score: 0.510 loss: 414601069.447 \n",
      "[2023-04-18 00:03:23] 28392 src.scoring.epoch_score_printer {epoch_score_printer-21} INFO - [Epoch 32/300]: f1_score: 0.423 accuracy_score: 0.508 loss: 381439365.560 \n",
      "[2023-04-18 00:03:38] 28392 src.scoring.epoch_score_printer {epoch_score_printer-21} INFO - [Epoch 33/300]: f1_score: 0.445 accuracy_score: 0.529 loss: 351679182.502 \n",
      "[2023-04-18 00:03:51] 28392 src.scoring.epoch_score_printer {epoch_score_printer-21} INFO - [Epoch 34/300]: f1_score: 0.431 accuracy_score: 0.515 loss: 325701486.606 \n",
      "[2023-04-18 00:04:04] 28392 src.scoring.epoch_score_printer {epoch_score_printer-21} INFO - [Epoch 35/300]: f1_score: 0.449 accuracy_score: 0.537 loss: 303672606.770 \n",
      "[2023-04-18 00:04:18] 28392 src.scoring.epoch_score_printer {epoch_score_printer-21} INFO - [Epoch 36/300]: f1_score: 0.448 accuracy_score: 0.533 loss: 285521614.497 \n",
      "[2023-04-18 00:04:32] 28392 src.scoring.epoch_score_printer {epoch_score_printer-21} INFO - [Epoch 37/300]: f1_score: 0.452 accuracy_score: 0.538 loss: 271335060.233 \n",
      "[2023-04-18 00:04:46] 28392 src.scoring.epoch_score_printer {epoch_score_printer-21} INFO - [Epoch 38/300]: f1_score: 0.452 accuracy_score: 0.535 loss: 260719114.908 \n",
      "[2023-04-18 00:05:00] 28392 src.scoring.epoch_score_printer {epoch_score_printer-21} INFO - [Epoch 39/300]: f1_score: 0.461 accuracy_score: 0.550 loss: 253380574.071 \n",
      "[2023-04-18 00:05:13] 28392 src.scoring.epoch_score_printer {epoch_score_printer-21} INFO - [Epoch 40/300]: f1_score: 0.450 accuracy_score: 0.537 loss: 248798533.413 \n",
      "[2023-04-18 00:05:27] 28392 src.scoring.epoch_score_printer {epoch_score_printer-21} INFO - [Epoch 41/300]: f1_score: 0.473 accuracy_score: 0.564 loss: 246506277.580 \n",
      "[2023-04-18 00:05:40] 28392 src.scoring.epoch_score_printer {epoch_score_printer-21} INFO - [Epoch 42/300]: f1_score: 0.476 accuracy_score: 0.570 loss: 245800705.301 \n",
      "[2023-04-18 00:05:54] 28392 src.scoring.epoch_score_printer {epoch_score_printer-21} INFO - [Epoch 43/300]: f1_score: 0.490 accuracy_score: 0.577 loss: 246036710.514 \n",
      "[2023-04-18 00:06:08] 28392 src.scoring.epoch_score_printer {epoch_score_printer-21} INFO - [Epoch 44/300]: f1_score: 0.468 accuracy_score: 0.560 loss: 246989798.027 \n",
      "[2023-04-18 00:06:22] 28392 src.scoring.epoch_score_printer {epoch_score_printer-21} INFO - [Epoch 45/300]: f1_score: 0.466 accuracy_score: 0.555 loss: 248019486.894 \n",
      "[2023-04-18 00:06:36] 28392 src.scoring.epoch_score_printer {epoch_score_printer-21} INFO - [Epoch 46/300]: f1_score: 0.490 accuracy_score: 0.580 loss: 249191157.693 \n",
      "[2023-04-18 00:06:50] 28392 src.scoring.epoch_score_printer {epoch_score_printer-21} INFO - [Epoch 47/300]: f1_score: 0.508 accuracy_score: 0.592 loss: 250219463.378 \n",
      "[2023-04-18 00:07:03] 28392 src.scoring.epoch_score_printer {epoch_score_printer-21} INFO - [Epoch 48/300]: f1_score: 0.434 accuracy_score: 0.530 loss: 251067749.206 \n",
      "[2023-04-18 00:07:17] 28392 src.scoring.epoch_score_printer {epoch_score_printer-21} INFO - [Epoch 49/300]: f1_score: 0.483 accuracy_score: 0.574 loss: 251797136.565 \n",
      "[2023-04-18 00:07:31] 28392 src.scoring.epoch_score_printer {epoch_score_printer-21} INFO - [Epoch 50/300]: f1_score: 0.503 accuracy_score: 0.596 loss: 252364821.849 \n",
      "[2023-04-18 00:07:44] 28392 src.scoring.epoch_score_printer {epoch_score_printer-21} INFO - [Epoch 51/300]: f1_score: 0.490 accuracy_score: 0.579 loss: 252857691.961 \n",
      "[2023-04-18 00:07:58] 28392 src.scoring.epoch_score_printer {epoch_score_printer-21} INFO - [Epoch 52/300]: f1_score: 0.500 accuracy_score: 0.593 loss: 253267865.876 \n"
     ]
    }
   ],
   "source": [
    "classifier.unfreeze_all_layers()\n",
    "num_epoch = 300\n",
    "result_df, result_dict = classifier.fit(num_epoch=num_epoch)\n",
    "classifier.save_model(result_dict)\n",
    "result_df.to_csv(f'{classifier.name}_{classifier._uuid}_{num_epoch}_epoch.csv')\n",
    "# display(result_df)\n",
    "# print(result_dict)"
   ],
   "metadata": {
    "collapsed": false,
    "pycharm": {
     "is_executing": true
    }
   }
  },
  {
   "cell_type": "code",
   "execution_count": null,
   "outputs": [],
   "source": [
    "classifier.score(dataset.validate_dataloader)"
   ],
   "metadata": {
    "collapsed": false,
    "pycharm": {
     "is_executing": true
    }
   }
  },
  {
   "cell_type": "code",
   "execution_count": null,
   "outputs": [],
   "source": [],
   "metadata": {
    "collapsed": false
   }
  },
  {
   "cell_type": "code",
   "execution_count": null,
   "outputs": [],
   "source": [],
   "metadata": {
    "collapsed": false
   }
  },
  {
   "cell_type": "code",
   "execution_count": null,
   "outputs": [],
   "source": [],
   "metadata": {
    "collapsed": false
   }
  },
  {
   "cell_type": "code",
   "execution_count": null,
   "outputs": [],
   "source": [
    "result_df.to_csv(f'{classifier.name}_300_epoch_freeze_all_layers_except_fc_scores.csv')"
   ],
   "metadata": {
    "collapsed": false
   }
  },
  {
   "cell_type": "code",
   "execution_count": null,
   "outputs": [],
   "source": [
    "test_model_weights_path = '../../bayesian_refactoring/assets/model_weights/pyro_resnet18bnn_28766_97cd2c3b-14db-49e6-9035-0474b00c51be.pt'"
   ],
   "metadata": {
    "collapsed": false
   }
  },
  {
   "cell_type": "code",
   "execution_count": null,
   "outputs": [],
   "source": [
    "test_results = torch.load(test_model_weights_path)"
   ],
   "metadata": {
    "collapsed": false
   }
  },
  {
   "cell_type": "code",
   "execution_count": null,
   "outputs": [],
   "source": [
    "new_classifier = PyroMiniresnetBnnClassifier(\n",
    "    dataset=dataset, device=device\n",
    ").load_model(\n",
    "    model_state_dict=test_results['best_f1_score_model'],\n",
    "    pyro_state_dict=test_results['pyro_state_dict']\n",
    ")"
   ],
   "metadata": {
    "collapsed": false
   }
  },
  {
   "cell_type": "code",
   "execution_count": null,
   "outputs": [],
   "source": [
    "new_classifier.score(dataset.validate_dataloader)"
   ],
   "metadata": {
    "collapsed": false
   }
  }
 ],
 "metadata": {
  "kernelspec": {
   "name": "bayesian_test",
   "language": "python",
   "display_name": "Python 3 (bayesian test)"
  },
  "language_info": {
   "codemirror_mode": {
    "name": "ipython",
    "version": 2
   },
   "file_extension": ".py",
   "mimetype": "text/x-python",
   "name": "python",
   "nbconvert_exporter": "python",
   "pygments_lexer": "ipython2",
   "version": "2.7.6"
  }
 },
 "nbformat": 4,
 "nbformat_minor": 0
}
