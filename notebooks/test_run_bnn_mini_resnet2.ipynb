{
 "cells": [
  {
   "cell_type": "code",
   "execution_count": 1,
   "metadata": {
    "collapsed": true
   },
   "outputs": [
    {
     "name": "stderr",
     "output_type": "stream",
     "text": [
      "[2023-04-18 00:28:24] 15014 root {logger_initializer-47} INFO - Current process ID: 15014\n"
     ]
    }
   ],
   "source": [
    "import pyro\n",
    "import torch\n",
    "import ssl\n",
    "import matplotlib.pyplot as plt\n",
    "\n",
    "\n",
    "from src.logger.logger_initializer import LoggerInitializer\n",
    "from src.models.bnn.pyro_miniresnet_bnn_classifier import PyroMiniresnetBnnClassifier\n",
    "from src.utils.path_getter import PathGetter\n",
    "from src.data_loader.dataset_getter import DatasetGetter\n",
    "\n",
    "\n",
    "ssl._create_default_https_context = ssl._create_unverified_context\n",
    "device = 'cuda'\n",
    "torch.__version__\n",
    "\n",
    "pyro.set_rng_seed(777)\n",
    "torch.manual_seed(777)\n",
    "\n",
    "LoggerInitializer().init()\n",
    "dataset = DatasetGetter(PathGetter.get_data_directory(), batch_size=12).get()"
   ]
  },
  {
   "cell_type": "code",
   "execution_count": 2,
   "outputs": [],
   "source": [
    "classifier = PyroMiniresnetBnnClassifier(dataset=dataset, device=device).init()"
   ],
   "metadata": {
    "collapsed": false
   }
  },
  {
   "cell_type": "code",
   "execution_count": 3,
   "outputs": [
    {
     "name": "stderr",
     "output_type": "stream",
     "text": [
      "[2023-04-18 00:28:51] 15014 src.scoring.epoch_score_printer {epoch_score_printer-21} INFO - [Epoch 0/1]: f1_score: 0.333 accuracy_score: 0.395 loss: 489829094732018.500 \n"
     ]
    }
   ],
   "source": [
    "classifier.unfreeze_all_layers()\n",
    "num_epoch = 1\n",
    "result_df, result_dict = classifier.fit(num_epoch=num_epoch)\n",
    "classifier.save_model(result_dict)\n",
    "result_df.to_csv(f'{classifier.name}_{classifier._uuid}_{num_epoch}_epoch.csv')\n",
    "# display(result_df)\n",
    "# print(result_dict)"
   ],
   "metadata": {
    "collapsed": false
   }
  },
  {
   "cell_type": "code",
   "execution_count": null,
   "outputs": [],
   "source": [],
   "metadata": {
    "collapsed": false
   }
  },
  {
   "cell_type": "code",
   "execution_count": 4,
   "outputs": [
    {
     "name": "stderr",
     "output_type": "stream",
     "text": [
      "[2023-04-17 23:55:55] 28392 src.scoring.epoch_score_printer {epoch_score_printer-21} INFO - [Epoch 0/300]: f1_score: 0.352 accuracy_score: 0.388 loss: 478735442245671.938 \n",
      "[2023-04-17 23:56:09] 28392 src.scoring.epoch_score_printer {epoch_score_printer-21} INFO - [Epoch 1/300]: f1_score: 0.383 accuracy_score: 0.418 loss: 361652808273020.312 \n",
      "[2023-04-17 23:56:28] 28392 src.scoring.epoch_score_printer {epoch_score_printer-21} INFO - [Epoch 2/300]: f1_score: 0.417 accuracy_score: 0.441 loss: 265428004079073.906 \n",
      "[2023-04-17 23:56:42] 28392 src.scoring.epoch_score_printer {epoch_score_printer-21} INFO - [Epoch 3/300]: f1_score: 0.412 accuracy_score: 0.450 loss: 188010890824933.625 \n",
      "[2023-04-17 23:56:57] 28392 src.scoring.epoch_score_printer {epoch_score_printer-21} INFO - [Epoch 4/300]: f1_score: 0.406 accuracy_score: 0.465 loss: 127353625552901.953 \n",
      "[2023-04-17 23:57:11] 28392 src.scoring.epoch_score_printer {epoch_score_printer-21} INFO - [Epoch 5/300]: f1_score: 0.369 accuracy_score: 0.428 loss: 81411265836068.594 \n",
      "[2023-04-17 23:57:25] 28392 src.scoring.epoch_score_printer {epoch_score_printer-21} INFO - [Epoch 6/300]: f1_score: 0.351 accuracy_score: 0.406 loss: 48135290385202.242 \n",
      "[2023-04-17 23:57:38] 28392 src.scoring.epoch_score_printer {epoch_score_printer-21} INFO - [Epoch 7/300]: f1_score: 0.397 accuracy_score: 0.464 loss: 25474995585258.918 \n",
      "[2023-04-17 23:57:53] 28392 src.scoring.epoch_score_printer {epoch_score_printer-21} INFO - [Epoch 8/300]: f1_score: 0.389 accuracy_score: 0.452 loss: 11381214120024.795 \n",
      "[2023-04-17 23:58:06] 28392 src.scoring.epoch_score_printer {epoch_score_printer-21} INFO - [Epoch 9/300]: f1_score: 0.215 accuracy_score: 0.279 loss: 3806231196075.183 \n",
      "[2023-04-17 23:58:20] 28392 src.scoring.epoch_score_printer {epoch_score_printer-21} INFO - [Epoch 10/300]: f1_score: 0.104 accuracy_score: 0.200 loss: 702518539607.193 \n",
      "[2023-04-17 23:58:34] 28392 src.scoring.epoch_score_printer {epoch_score_printer-21} INFO - [Epoch 11/300]: f1_score: 0.130 accuracy_score: 0.225 loss: 27020433176.030 \n",
      "[2023-04-17 23:58:47] 28392 src.scoring.epoch_score_printer {epoch_score_printer-21} INFO - [Epoch 12/300]: f1_score: 0.296 accuracy_score: 0.358 loss: 1310635368.498 \n",
      "[2023-04-17 23:59:01] 28392 src.scoring.epoch_score_printer {epoch_score_printer-21} INFO - [Epoch 13/300]: f1_score: 0.387 accuracy_score: 0.463 loss: 1217363277.094 \n",
      "[2023-04-17 23:59:15] 28392 src.scoring.epoch_score_printer {epoch_score_printer-21} INFO - [Epoch 14/300]: f1_score: 0.388 accuracy_score: 0.475 loss: 1175700496.662 \n",
      "[2023-04-17 23:59:28] 28392 src.scoring.epoch_score_printer {epoch_score_printer-21} INFO - [Epoch 15/300]: f1_score: 0.379 accuracy_score: 0.469 loss: 1134533775.906 \n",
      "[2023-04-17 23:59:42] 28392 src.scoring.epoch_score_printer {epoch_score_printer-21} INFO - [Epoch 16/300]: f1_score: 0.377 accuracy_score: 0.475 loss: 1092006463.684 \n",
      "[2023-04-17 23:59:55] 28392 src.scoring.epoch_score_printer {epoch_score_printer-21} INFO - [Epoch 17/300]: f1_score: 0.386 accuracy_score: 0.482 loss: 1048082171.704 \n",
      "[2023-04-18 00:00:10] 28392 src.scoring.epoch_score_printer {epoch_score_printer-21} INFO - [Epoch 18/300]: f1_score: 0.379 accuracy_score: 0.476 loss: 1002939297.201 \n",
      "[2023-04-18 00:00:24] 28392 src.scoring.epoch_score_printer {epoch_score_printer-21} INFO - [Epoch 19/300]: f1_score: 0.398 accuracy_score: 0.496 loss: 956660541.634 \n",
      "[2023-04-18 00:00:38] 28392 src.scoring.epoch_score_printer {epoch_score_printer-21} INFO - [Epoch 20/300]: f1_score: 0.398 accuracy_score: 0.494 loss: 909534520.121 \n",
      "[2023-04-18 00:00:52] 28392 src.scoring.epoch_score_printer {epoch_score_printer-21} INFO - [Epoch 21/300]: f1_score: 0.398 accuracy_score: 0.495 loss: 861636675.212 \n",
      "[2023-04-18 00:01:06] 28392 src.scoring.epoch_score_printer {epoch_score_printer-21} INFO - [Epoch 22/300]: f1_score: 0.392 accuracy_score: 0.482 loss: 813297607.710 \n",
      "[2023-04-18 00:01:20] 28392 src.scoring.epoch_score_printer {epoch_score_printer-21} INFO - [Epoch 23/300]: f1_score: 0.399 accuracy_score: 0.493 loss: 764869607.720 \n",
      "[2023-04-18 00:01:34] 28392 src.scoring.epoch_score_printer {epoch_score_printer-21} INFO - [Epoch 24/300]: f1_score: 0.400 accuracy_score: 0.490 loss: 716496454.267 \n",
      "[2023-04-18 00:01:48] 28392 src.scoring.epoch_score_printer {epoch_score_printer-21} INFO - [Epoch 25/300]: f1_score: 0.395 accuracy_score: 0.480 loss: 668744481.718 \n",
      "[2023-04-18 00:02:01] 28392 src.scoring.epoch_score_printer {epoch_score_printer-21} INFO - [Epoch 26/300]: f1_score: 0.394 accuracy_score: 0.475 loss: 621857479.179 \n",
      "[2023-04-18 00:02:15] 28392 src.scoring.epoch_score_printer {epoch_score_printer-21} INFO - [Epoch 27/300]: f1_score: 0.401 accuracy_score: 0.484 loss: 576266453.621 \n",
      "[2023-04-18 00:02:29] 28392 src.scoring.epoch_score_printer {epoch_score_printer-21} INFO - [Epoch 28/300]: f1_score: 0.407 accuracy_score: 0.489 loss: 532292991.560 \n",
      "[2023-04-18 00:02:42] 28392 src.scoring.epoch_score_printer {epoch_score_printer-21} INFO - [Epoch 29/300]: f1_score: 0.413 accuracy_score: 0.500 loss: 490453593.741 \n",
      "[2023-04-18 00:02:56] 28392 src.scoring.epoch_score_printer {epoch_score_printer-21} INFO - [Epoch 30/300]: f1_score: 0.422 accuracy_score: 0.504 loss: 451106357.099 \n",
      "[2023-04-18 00:03:10] 28392 src.scoring.epoch_score_printer {epoch_score_printer-21} INFO - [Epoch 31/300]: f1_score: 0.417 accuracy_score: 0.510 loss: 414601069.447 \n",
      "[2023-04-18 00:03:23] 28392 src.scoring.epoch_score_printer {epoch_score_printer-21} INFO - [Epoch 32/300]: f1_score: 0.423 accuracy_score: 0.508 loss: 381439365.560 \n",
      "[2023-04-18 00:03:38] 28392 src.scoring.epoch_score_printer {epoch_score_printer-21} INFO - [Epoch 33/300]: f1_score: 0.445 accuracy_score: 0.529 loss: 351679182.502 \n",
      "[2023-04-18 00:03:51] 28392 src.scoring.epoch_score_printer {epoch_score_printer-21} INFO - [Epoch 34/300]: f1_score: 0.431 accuracy_score: 0.515 loss: 325701486.606 \n",
      "[2023-04-18 00:04:04] 28392 src.scoring.epoch_score_printer {epoch_score_printer-21} INFO - [Epoch 35/300]: f1_score: 0.449 accuracy_score: 0.537 loss: 303672606.770 \n",
      "[2023-04-18 00:04:18] 28392 src.scoring.epoch_score_printer {epoch_score_printer-21} INFO - [Epoch 36/300]: f1_score: 0.448 accuracy_score: 0.533 loss: 285521614.497 \n",
      "[2023-04-18 00:04:32] 28392 src.scoring.epoch_score_printer {epoch_score_printer-21} INFO - [Epoch 37/300]: f1_score: 0.452 accuracy_score: 0.538 loss: 271335060.233 \n",
      "[2023-04-18 00:04:46] 28392 src.scoring.epoch_score_printer {epoch_score_printer-21} INFO - [Epoch 38/300]: f1_score: 0.452 accuracy_score: 0.535 loss: 260719114.908 \n",
      "[2023-04-18 00:05:00] 28392 src.scoring.epoch_score_printer {epoch_score_printer-21} INFO - [Epoch 39/300]: f1_score: 0.461 accuracy_score: 0.550 loss: 253380574.071 \n",
      "[2023-04-18 00:05:13] 28392 src.scoring.epoch_score_printer {epoch_score_printer-21} INFO - [Epoch 40/300]: f1_score: 0.450 accuracy_score: 0.537 loss: 248798533.413 \n",
      "[2023-04-18 00:05:27] 28392 src.scoring.epoch_score_printer {epoch_score_printer-21} INFO - [Epoch 41/300]: f1_score: 0.473 accuracy_score: 0.564 loss: 246506277.580 \n",
      "[2023-04-18 00:05:40] 28392 src.scoring.epoch_score_printer {epoch_score_printer-21} INFO - [Epoch 42/300]: f1_score: 0.476 accuracy_score: 0.570 loss: 245800705.301 \n",
      "[2023-04-18 00:05:54] 28392 src.scoring.epoch_score_printer {epoch_score_printer-21} INFO - [Epoch 43/300]: f1_score: 0.490 accuracy_score: 0.577 loss: 246036710.514 \n",
      "[2023-04-18 00:06:08] 28392 src.scoring.epoch_score_printer {epoch_score_printer-21} INFO - [Epoch 44/300]: f1_score: 0.468 accuracy_score: 0.560 loss: 246989798.027 \n",
      "[2023-04-18 00:06:22] 28392 src.scoring.epoch_score_printer {epoch_score_printer-21} INFO - [Epoch 45/300]: f1_score: 0.466 accuracy_score: 0.555 loss: 248019486.894 \n",
      "[2023-04-18 00:06:36] 28392 src.scoring.epoch_score_printer {epoch_score_printer-21} INFO - [Epoch 46/300]: f1_score: 0.490 accuracy_score: 0.580 loss: 249191157.693 \n",
      "[2023-04-18 00:06:50] 28392 src.scoring.epoch_score_printer {epoch_score_printer-21} INFO - [Epoch 47/300]: f1_score: 0.508 accuracy_score: 0.592 loss: 250219463.378 \n",
      "[2023-04-18 00:07:03] 28392 src.scoring.epoch_score_printer {epoch_score_printer-21} INFO - [Epoch 48/300]: f1_score: 0.434 accuracy_score: 0.530 loss: 251067749.206 \n",
      "[2023-04-18 00:07:17] 28392 src.scoring.epoch_score_printer {epoch_score_printer-21} INFO - [Epoch 49/300]: f1_score: 0.483 accuracy_score: 0.574 loss: 251797136.565 \n",
      "[2023-04-18 00:07:31] 28392 src.scoring.epoch_score_printer {epoch_score_printer-21} INFO - [Epoch 50/300]: f1_score: 0.503 accuracy_score: 0.596 loss: 252364821.849 \n",
      "[2023-04-18 00:07:44] 28392 src.scoring.epoch_score_printer {epoch_score_printer-21} INFO - [Epoch 51/300]: f1_score: 0.490 accuracy_score: 0.579 loss: 252857691.961 \n",
      "[2023-04-18 00:07:58] 28392 src.scoring.epoch_score_printer {epoch_score_printer-21} INFO - [Epoch 52/300]: f1_score: 0.500 accuracy_score: 0.593 loss: 253267865.876 \n",
      "[2023-04-18 00:08:11] 28392 src.scoring.epoch_score_printer {epoch_score_printer-21} INFO - [Epoch 53/300]: f1_score: 0.517 accuracy_score: 0.606 loss: 253648205.468 \n",
      "[2023-04-18 00:08:25] 28392 src.scoring.epoch_score_printer {epoch_score_printer-21} INFO - [Epoch 54/300]: f1_score: 0.494 accuracy_score: 0.584 loss: 253760473.318 \n",
      "[2023-04-18 00:08:38] 28392 src.scoring.epoch_score_printer {epoch_score_printer-21} INFO - [Epoch 55/300]: f1_score: 0.455 accuracy_score: 0.546 loss: 254028898.481 \n",
      "[2023-04-18 00:08:52] 28392 src.scoring.epoch_score_printer {epoch_score_printer-21} INFO - [Epoch 56/300]: f1_score: 0.505 accuracy_score: 0.591 loss: 254136662.642 \n",
      "[2023-04-18 00:09:06] 28392 src.scoring.epoch_score_printer {epoch_score_printer-21} INFO - [Epoch 57/300]: f1_score: 0.502 accuracy_score: 0.593 loss: 254288229.714 \n",
      "[2023-04-18 00:09:20] 28392 src.scoring.epoch_score_printer {epoch_score_printer-21} INFO - [Epoch 58/300]: f1_score: 0.514 accuracy_score: 0.596 loss: 254395467.013 \n",
      "[2023-04-18 00:09:34] 28392 src.scoring.epoch_score_printer {epoch_score_printer-21} INFO - [Epoch 59/300]: f1_score: 0.526 accuracy_score: 0.619 loss: 254424779.295 \n",
      "[2023-04-18 00:09:48] 28392 src.scoring.epoch_score_printer {epoch_score_printer-21} INFO - [Epoch 60/300]: f1_score: 0.518 accuracy_score: 0.601 loss: 254555453.495 \n",
      "[2023-04-18 00:10:01] 28392 src.scoring.epoch_score_printer {epoch_score_printer-21} INFO - [Epoch 61/300]: f1_score: 0.497 accuracy_score: 0.579 loss: 254513584.272 \n",
      "[2023-04-18 00:10:15] 28392 src.scoring.epoch_score_printer {epoch_score_printer-21} INFO - [Epoch 62/300]: f1_score: 0.493 accuracy_score: 0.588 loss: 254560542.276 \n",
      "[2023-04-18 00:10:28] 28392 src.scoring.epoch_score_printer {epoch_score_printer-21} INFO - [Epoch 63/300]: f1_score: 0.492 accuracy_score: 0.587 loss: 254642456.409 \n",
      "[2023-04-18 00:10:42] 28392 src.scoring.epoch_score_printer {epoch_score_printer-21} INFO - [Epoch 64/300]: f1_score: 0.517 accuracy_score: 0.604 loss: 254703395.191 \n",
      "[2023-04-18 00:10:55] 28392 src.scoring.epoch_score_printer {epoch_score_printer-21} INFO - [Epoch 65/300]: f1_score: 0.530 accuracy_score: 0.623 loss: 254651562.288 \n",
      "[2023-04-18 00:11:09] 28392 src.scoring.epoch_score_printer {epoch_score_printer-21} INFO - [Epoch 66/300]: f1_score: 0.528 accuracy_score: 0.615 loss: 254642127.344 \n",
      "[2023-04-18 00:11:23] 28392 src.scoring.epoch_score_printer {epoch_score_printer-21} INFO - [Epoch 67/300]: f1_score: 0.517 accuracy_score: 0.604 loss: 254675592.259 \n",
      "[2023-04-18 00:11:37] 28392 src.scoring.epoch_score_printer {epoch_score_printer-21} INFO - [Epoch 68/300]: f1_score: 0.506 accuracy_score: 0.600 loss: 254700239.701 \n",
      "[2023-04-18 00:11:51] 28392 src.scoring.epoch_score_printer {epoch_score_printer-21} INFO - [Epoch 69/300]: f1_score: 0.506 accuracy_score: 0.584 loss: 254748929.761 \n",
      "[2023-04-18 00:12:04] 28392 src.scoring.epoch_score_printer {epoch_score_printer-21} INFO - [Epoch 70/300]: f1_score: 0.514 accuracy_score: 0.598 loss: 254690015.043 \n",
      "[2023-04-18 00:12:18] 28392 src.scoring.epoch_score_printer {epoch_score_printer-21} INFO - [Epoch 71/300]: f1_score: 0.510 accuracy_score: 0.590 loss: 254755005.818 \n",
      "[2023-04-18 00:12:32] 28392 src.scoring.epoch_score_printer {epoch_score_printer-21} INFO - [Epoch 72/300]: f1_score: 0.516 accuracy_score: 0.605 loss: 254665979.995 \n",
      "[2023-04-18 00:12:46] 28392 src.scoring.epoch_score_printer {epoch_score_printer-21} INFO - [Epoch 73/300]: f1_score: 0.523 accuracy_score: 0.617 loss: 254727101.244 \n",
      "[2023-04-18 00:13:00] 28392 src.scoring.epoch_score_printer {epoch_score_printer-21} INFO - [Epoch 74/300]: f1_score: 0.505 accuracy_score: 0.590 loss: 254707440.071 \n",
      "[2023-04-18 00:13:13] 28392 src.scoring.epoch_score_printer {epoch_score_printer-21} INFO - [Epoch 75/300]: f1_score: 0.505 accuracy_score: 0.602 loss: 254747228.135 \n",
      "[2023-04-18 00:13:27] 28392 src.scoring.epoch_score_printer {epoch_score_printer-21} INFO - [Epoch 76/300]: f1_score: 0.532 accuracy_score: 0.622 loss: 254782705.995 \n",
      "[2023-04-18 00:13:41] 28392 src.scoring.epoch_score_printer {epoch_score_printer-21} INFO - [Epoch 77/300]: f1_score: 0.529 accuracy_score: 0.621 loss: 254773877.079 \n",
      "[2023-04-18 00:13:55] 28392 src.scoring.epoch_score_printer {epoch_score_printer-21} INFO - [Epoch 78/300]: f1_score: 0.491 accuracy_score: 0.570 loss: 254744357.981 \n",
      "[2023-04-18 00:14:09] 28392 src.scoring.epoch_score_printer {epoch_score_printer-21} INFO - [Epoch 79/300]: f1_score: 0.538 accuracy_score: 0.625 loss: 254844053.994 \n",
      "[2023-04-18 00:14:22] 28392 src.scoring.epoch_score_printer {epoch_score_printer-21} INFO - [Epoch 80/300]: f1_score: 0.506 accuracy_score: 0.595 loss: 254763387.570 \n",
      "[2023-04-18 00:14:37] 28392 src.scoring.epoch_score_printer {epoch_score_printer-21} INFO - [Epoch 81/300]: f1_score: 0.522 accuracy_score: 0.613 loss: 254838661.128 \n",
      "[2023-04-18 00:14:50] 28392 src.scoring.epoch_score_printer {epoch_score_printer-21} INFO - [Epoch 82/300]: f1_score: 0.502 accuracy_score: 0.596 loss: 254721638.821 \n",
      "[2023-04-18 00:15:04] 28392 src.scoring.epoch_score_printer {epoch_score_printer-21} INFO - [Epoch 83/300]: f1_score: 0.525 accuracy_score: 0.611 loss: 254818092.403 \n",
      "[2023-04-18 00:15:18] 28392 src.scoring.epoch_score_printer {epoch_score_printer-21} INFO - [Epoch 84/300]: f1_score: 0.537 accuracy_score: 0.631 loss: 254741631.383 \n",
      "[2023-04-18 00:15:32] 28392 src.scoring.epoch_score_printer {epoch_score_printer-21} INFO - [Epoch 85/300]: f1_score: 0.478 accuracy_score: 0.578 loss: 254782908.723 \n",
      "[2023-04-18 00:15:46] 28392 src.scoring.epoch_score_printer {epoch_score_printer-21} INFO - [Epoch 86/300]: f1_score: 0.505 accuracy_score: 0.582 loss: 254793910.546 \n",
      "[2023-04-18 00:16:00] 28392 src.scoring.epoch_score_printer {epoch_score_printer-21} INFO - [Epoch 87/300]: f1_score: 0.512 accuracy_score: 0.603 loss: 254803622.641 \n",
      "[2023-04-18 00:16:16] 28392 src.scoring.epoch_score_printer {epoch_score_printer-21} INFO - [Epoch 88/300]: f1_score: 0.529 accuracy_score: 0.619 loss: 254754746.305 \n",
      "[2023-04-18 00:16:29] 28392 src.scoring.epoch_score_printer {epoch_score_printer-21} INFO - [Epoch 89/300]: f1_score: 0.534 accuracy_score: 0.606 loss: 254783576.819 \n",
      "[2023-04-18 00:16:43] 28392 src.scoring.epoch_score_printer {epoch_score_printer-21} INFO - [Epoch 90/300]: f1_score: 0.511 accuracy_score: 0.605 loss: 254744628.822 \n",
      "[2023-04-18 00:16:56] 28392 src.scoring.epoch_score_printer {epoch_score_printer-21} INFO - [Epoch 91/300]: f1_score: 0.520 accuracy_score: 0.601 loss: 254782697.115 \n",
      "[2023-04-18 00:17:10] 28392 src.scoring.epoch_score_printer {epoch_score_printer-21} INFO - [Epoch 92/300]: f1_score: 0.536 accuracy_score: 0.623 loss: 254742020.107 \n",
      "[2023-04-18 00:17:24] 28392 src.scoring.epoch_score_printer {epoch_score_printer-21} INFO - [Epoch 93/300]: f1_score: 0.529 accuracy_score: 0.628 loss: 254782453.211 \n",
      "[2023-04-18 00:17:38] 28392 src.scoring.epoch_score_printer {epoch_score_printer-21} INFO - [Epoch 94/300]: f1_score: 0.515 accuracy_score: 0.618 loss: 254777699.451 \n",
      "[2023-04-18 00:17:51] 28392 src.scoring.epoch_score_printer {epoch_score_printer-21} INFO - [Epoch 95/300]: f1_score: 0.525 accuracy_score: 0.614 loss: 254751045.238 \n",
      "[2023-04-18 00:18:05] 28392 src.scoring.epoch_score_printer {epoch_score_printer-21} INFO - [Epoch 96/300]: f1_score: 0.533 accuracy_score: 0.626 loss: 254800155.502 \n",
      "[2023-04-18 00:18:18] 28392 src.scoring.epoch_score_printer {epoch_score_printer-21} INFO - [Epoch 97/300]: f1_score: 0.471 accuracy_score: 0.571 loss: 254711686.172 \n",
      "[2023-04-18 00:18:32] 28392 src.scoring.epoch_score_printer {epoch_score_printer-21} INFO - [Epoch 98/300]: f1_score: 0.535 accuracy_score: 0.629 loss: 254798950.336 \n",
      "[2023-04-18 00:18:46] 28392 src.scoring.epoch_score_printer {epoch_score_printer-21} INFO - [Epoch 99/300]: f1_score: 0.451 accuracy_score: 0.520 loss: 254811586.631 \n",
      "[2023-04-18 00:19:00] 28392 src.scoring.epoch_score_printer {epoch_score_printer-21} INFO - [Epoch 100/300]: f1_score: 0.537 accuracy_score: 0.628 loss: 254771079.085 \n",
      "[2023-04-18 00:19:14] 28392 src.scoring.epoch_score_printer {epoch_score_printer-21} INFO - [Epoch 101/300]: f1_score: 0.519 accuracy_score: 0.618 loss: 254705630.527 \n",
      "[2023-04-18 00:19:27] 28392 src.scoring.epoch_score_printer {epoch_score_printer-21} INFO - [Epoch 102/300]: f1_score: 0.551 accuracy_score: 0.616 loss: 254769243.668 \n",
      "[2023-04-18 00:19:40] 28392 src.scoring.epoch_score_printer {epoch_score_printer-21} INFO - [Epoch 103/300]: f1_score: 0.552 accuracy_score: 0.631 loss: 254740811.517 \n",
      "[2023-04-18 00:19:54] 28392 src.scoring.epoch_score_printer {epoch_score_printer-21} INFO - [Epoch 104/300]: f1_score: 0.558 accuracy_score: 0.639 loss: 254785718.637 \n",
      "[2023-04-18 00:20:07] 28392 src.scoring.epoch_score_printer {epoch_score_printer-21} INFO - [Epoch 105/300]: f1_score: 0.549 accuracy_score: 0.623 loss: 254741019.246 \n",
      "[2023-04-18 00:20:21] 28392 src.scoring.epoch_score_printer {epoch_score_printer-21} INFO - [Epoch 106/300]: f1_score: 0.547 accuracy_score: 0.627 loss: 254732386.054 \n",
      "[2023-04-18 00:20:34] 28392 src.scoring.epoch_score_printer {epoch_score_printer-21} INFO - [Epoch 107/300]: f1_score: 0.538 accuracy_score: 0.606 loss: 254775547.838 \n",
      "[2023-04-18 00:20:48] 28392 src.scoring.epoch_score_printer {epoch_score_printer-21} INFO - [Epoch 108/300]: f1_score: 0.523 accuracy_score: 0.602 loss: 254737555.606 \n",
      "[2023-04-18 00:21:01] 28392 src.scoring.epoch_score_printer {epoch_score_printer-21} INFO - [Epoch 109/300]: f1_score: 0.540 accuracy_score: 0.625 loss: 254687426.100 \n",
      "[2023-04-18 00:21:15] 28392 src.scoring.epoch_score_printer {epoch_score_printer-21} INFO - [Epoch 110/300]: f1_score: 0.524 accuracy_score: 0.611 loss: 254678124.909 \n",
      "[2023-04-18 00:21:29] 28392 src.scoring.epoch_score_printer {epoch_score_printer-21} INFO - [Epoch 111/300]: f1_score: 0.549 accuracy_score: 0.634 loss: 254793864.055 \n",
      "[2023-04-18 00:21:43] 28392 src.scoring.epoch_score_printer {epoch_score_printer-21} INFO - [Epoch 112/300]: f1_score: 0.537 accuracy_score: 0.625 loss: 254769668.742 \n",
      "[2023-04-18 00:21:57] 28392 src.scoring.epoch_score_printer {epoch_score_printer-21} INFO - [Epoch 113/300]: f1_score: 0.548 accuracy_score: 0.632 loss: 254797980.802 \n",
      "[2023-04-18 00:22:11] 28392 src.scoring.epoch_score_printer {epoch_score_printer-21} INFO - [Epoch 114/300]: f1_score: 0.528 accuracy_score: 0.597 loss: 254744827.015 \n",
      "[2023-04-18 00:22:24] 28392 src.scoring.epoch_score_printer {epoch_score_printer-21} INFO - [Epoch 115/300]: f1_score: 0.567 accuracy_score: 0.645 loss: 254765039.008 \n",
      "[2023-04-18 00:22:38] 28392 src.scoring.epoch_score_printer {epoch_score_printer-21} INFO - [Epoch 116/300]: f1_score: 0.531 accuracy_score: 0.617 loss: 254838035.856 \n",
      "[2023-04-18 00:22:52] 28392 src.scoring.epoch_score_printer {epoch_score_printer-21} INFO - [Epoch 117/300]: f1_score: 0.519 accuracy_score: 0.592 loss: 254727704.092 \n",
      "[2023-04-18 00:23:06] 28392 src.scoring.epoch_score_printer {epoch_score_printer-21} INFO - [Epoch 118/300]: f1_score: 0.544 accuracy_score: 0.616 loss: 254828418.569 \n",
      "[2023-04-18 00:23:19] 28392 src.scoring.epoch_score_printer {epoch_score_printer-21} INFO - [Epoch 119/300]: f1_score: 0.550 accuracy_score: 0.629 loss: 254780197.087 \n",
      "[2023-04-18 00:23:32] 28392 src.scoring.epoch_score_printer {epoch_score_printer-21} INFO - [Epoch 120/300]: f1_score: 0.538 accuracy_score: 0.635 loss: 254815771.573 \n",
      "[2023-04-18 00:23:46] 28392 src.scoring.epoch_score_printer {epoch_score_printer-21} INFO - [Epoch 121/300]: f1_score: 0.577 accuracy_score: 0.649 loss: 254811281.282 \n",
      "[2023-04-18 00:23:59] 28392 src.scoring.epoch_score_printer {epoch_score_printer-21} INFO - [Epoch 122/300]: f1_score: 0.569 accuracy_score: 0.641 loss: 254731014.652 \n",
      "[2023-04-18 00:24:14] 28392 src.scoring.epoch_score_printer {epoch_score_printer-21} INFO - [Epoch 123/300]: f1_score: 0.571 accuracy_score: 0.659 loss: 254781182.044 \n",
      "[2023-04-18 00:24:28] 28392 src.scoring.epoch_score_printer {epoch_score_printer-21} INFO - [Epoch 124/300]: f1_score: 0.527 accuracy_score: 0.620 loss: 254725479.517 \n",
      "[2023-04-18 00:24:41] 28392 src.scoring.epoch_score_printer {epoch_score_printer-21} INFO - [Epoch 125/300]: f1_score: 0.549 accuracy_score: 0.646 loss: 254733923.153 \n",
      "[2023-04-18 00:24:56] 28392 src.scoring.epoch_score_printer {epoch_score_printer-21} INFO - [Epoch 126/300]: f1_score: 0.549 accuracy_score: 0.625 loss: 254732589.001 \n",
      "[2023-04-18 00:25:09] 28392 src.scoring.epoch_score_printer {epoch_score_printer-21} INFO - [Epoch 127/300]: f1_score: 0.551 accuracy_score: 0.634 loss: 254691093.213 \n",
      "[2023-04-18 00:25:23] 28392 src.scoring.epoch_score_printer {epoch_score_printer-21} INFO - [Epoch 128/300]: f1_score: 0.538 accuracy_score: 0.630 loss: 254777491.529 \n",
      "[2023-04-18 00:25:36] 28392 src.scoring.epoch_score_printer {epoch_score_printer-21} INFO - [Epoch 129/300]: f1_score: 0.524 accuracy_score: 0.600 loss: 254770868.384 \n",
      "[2023-04-18 00:25:49] 28392 src.scoring.epoch_score_printer {epoch_score_printer-21} INFO - [Epoch 130/300]: f1_score: 0.585 accuracy_score: 0.654 loss: 254698903.534 \n",
      "[2023-04-18 00:26:03] 28392 src.scoring.epoch_score_printer {epoch_score_printer-21} INFO - [Epoch 131/300]: f1_score: 0.583 accuracy_score: 0.646 loss: 254727268.010 \n",
      "[2023-04-18 00:26:17] 28392 src.scoring.epoch_score_printer {epoch_score_printer-21} INFO - [Epoch 132/300]: f1_score: 0.532 accuracy_score: 0.618 loss: 254808374.145 \n",
      "[2023-04-18 00:26:30] 28392 src.scoring.epoch_score_printer {epoch_score_printer-21} INFO - [Epoch 133/300]: f1_score: 0.532 accuracy_score: 0.609 loss: 254734915.587 \n",
      "[2023-04-18 00:26:44] 28392 src.scoring.epoch_score_printer {epoch_score_printer-21} INFO - [Epoch 134/300]: f1_score: 0.542 accuracy_score: 0.618 loss: 254790537.392 \n",
      "[2023-04-18 00:26:57] 28392 src.scoring.epoch_score_printer {epoch_score_printer-21} INFO - [Epoch 135/300]: f1_score: 0.570 accuracy_score: 0.661 loss: 254727668.709 \n",
      "[2023-04-18 00:27:12] 28392 src.scoring.epoch_score_printer {epoch_score_printer-21} INFO - [Epoch 136/300]: f1_score: 0.506 accuracy_score: 0.571 loss: 254799399.675 \n",
      "[2023-04-18 00:27:26] 28392 src.scoring.epoch_score_printer {epoch_score_printer-21} INFO - [Epoch 137/300]: f1_score: 0.507 accuracy_score: 0.582 loss: 254749587.287 \n",
      "[2023-04-18 00:27:39] 28392 src.scoring.epoch_score_printer {epoch_score_printer-21} INFO - [Epoch 138/300]: f1_score: 0.580 accuracy_score: 0.656 loss: 254768369.074 \n",
      "[2023-04-18 00:27:53] 28392 src.scoring.epoch_score_printer {epoch_score_printer-21} INFO - [Epoch 139/300]: f1_score: 0.568 accuracy_score: 0.651 loss: 254799338.346 \n",
      "\n",
      "KeyboardInterrupt\n",
      "\n"
     ]
    }
   ],
   "source": [
    "classifier.unfreeze_all_layers()\n",
    "num_epoch = 300\n",
    "result_df, result_dict = classifier.fit(num_epoch=num_epoch)\n",
    "classifier.save_model(result_dict)\n",
    "result_df.to_csv(f'{classifier.name}_{classifier._uuid}_{num_epoch}_epoch.csv')\n",
    "# display(result_df)\n",
    "# print(result_dict)"
   ],
   "metadata": {
    "collapsed": false
   }
  },
  {
   "cell_type": "code",
   "execution_count": null,
   "outputs": [],
   "source": [
    "classifier.score(dataset.validate_dataloader)"
   ],
   "metadata": {
    "collapsed": false
   }
  },
  {
   "cell_type": "code",
   "execution_count": null,
   "outputs": [],
   "source": [],
   "metadata": {
    "collapsed": false
   }
  },
  {
   "cell_type": "code",
   "execution_count": null,
   "outputs": [],
   "source": [],
   "metadata": {
    "collapsed": false
   }
  },
  {
   "cell_type": "code",
   "execution_count": null,
   "outputs": [],
   "source": [],
   "metadata": {
    "collapsed": false
   }
  },
  {
   "cell_type": "code",
   "execution_count": null,
   "outputs": [],
   "source": [
    "result_df.to_csv(f'{classifier.name}_300_epoch_freeze_all_layers_except_fc_scores.csv')"
   ],
   "metadata": {
    "collapsed": false
   }
  },
  {
   "cell_type": "code",
   "execution_count": 4,
   "outputs": [],
   "source": [
    "test_model_weights_path = '../../bayesian_refactoring/assets/model_weights/pyro_miniresnet_15014_2dc1ce9b-0c57-4387-acab-451c9b83999f.pt'"
   ],
   "metadata": {
    "collapsed": false
   }
  },
  {
   "cell_type": "code",
   "execution_count": 5,
   "outputs": [],
   "source": [
    "test_results = torch.load(test_model_weights_path)"
   ],
   "metadata": {
    "collapsed": false
   }
  },
  {
   "cell_type": "code",
   "execution_count": 6,
   "outputs": [
    {
     "data": {
      "text/plain": "dict_keys(['best_loss', 'best_f1_score', 'best_accuracy_score', 'best_loss_model', 'best_f1_score_model', 'best_accuracy_score_model', 'best_loss_model_pyro_params', 'best_f1_score_model_pyro_params', 'best_accuracy_score_model_pyro_params'])"
     },
     "metadata": {},
     "output_type": "display_data"
    }
   ],
   "source": [
    "display(test_results.keys())"
   ],
   "metadata": {
    "collapsed": false
   }
  },
  {
   "cell_type": "code",
   "execution_count": 7,
   "outputs": [],
   "source": [
    "new_classifier = PyroMiniresnetBnnClassifier(\n",
    "    dataset=dataset, device=device\n",
    ").load_model(\n",
    "    model_state_dict=test_results['best_f1_score_model'],\n",
    "    pyro_state_dict=test_results['best_f1_score_model_pyro_params']\n",
    ")"
   ],
   "metadata": {
    "collapsed": false
   }
  },
  {
   "cell_type": "code",
   "execution_count": 8,
   "outputs": [
    {
     "data": {
      "text/plain": "{'f1_score': 0.35777670714739807, 'accuracy_score': 0.391699604743083}"
     },
     "execution_count": 8,
     "metadata": {},
     "output_type": "execute_result"
    }
   ],
   "source": [
    "new_classifier.score(dataset.validate_dataloader)"
   ],
   "metadata": {
    "collapsed": false
   }
  }
 ],
 "metadata": {
  "kernelspec": {
   "name": "bayesian_test",
   "language": "python",
   "display_name": "Python 3 (bayesian test)"
  },
  "language_info": {
   "codemirror_mode": {
    "name": "ipython",
    "version": 2
   },
   "file_extension": ".py",
   "mimetype": "text/x-python",
   "name": "python",
   "nbconvert_exporter": "python",
   "pygments_lexer": "ipython2",
   "version": "2.7.6"
  }
 },
 "nbformat": 4,
 "nbformat_minor": 0
}
