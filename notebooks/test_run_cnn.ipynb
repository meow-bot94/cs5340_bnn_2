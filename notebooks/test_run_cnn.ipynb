{
 "cells": [
  {
   "cell_type": "code",
   "execution_count": 2,
   "metadata": {
    "collapsed": true
   },
   "outputs": [
    {
     "data": {
      "text/plain": "True"
     },
     "execution_count": 2,
     "metadata": {},
     "output_type": "execute_result"
    }
   ],
   "source": [
    "import torch\n",
    "import ssl\n",
    "import matplotlib.pyplot as plt\n",
    "from src.logger.logger_initializer import LoggerInitializer\n",
    "\n",
    "ssl._create_default_https_context = ssl._create_unverified_context\n",
    "device = 'cuda'\n",
    "torch.__version__\n",
    "\n",
    "LoggerInitializer().init()"
   ]
  },
  {
   "cell_type": "code",
   "execution_count": 3,
   "outputs": [],
   "source": [
    "from src.data_loader.dataset_getter import DatasetGetter\n",
    "dataset = DatasetGetter('../../bayesian_test/data', batch_size=12).get()"
   ],
   "metadata": {
    "collapsed": false
   }
  },
  {
   "cell_type": "code",
   "execution_count": 4,
   "outputs": [],
   "source": [
    "from src.models.cnn.resnet50_cnn_classifier import Resnet50CnnClassifier\n",
    "classifier = Resnet50CnnClassifier(dataset=dataset, device=device).init()"
   ],
   "metadata": {
    "collapsed": false
   }
  },
  {
   "cell_type": "code",
   "execution_count": null,
   "outputs": [
    {
     "name": "stderr",
     "output_type": "stream",
     "text": [
      "[2023-04-17 02:05:04] 21832 src.scoring.epoch_score_printer {epoch_score_printer-21} INFO - [Epoch 0/50]: f1_score: 0.732 accuracy_score: 0.754 loss: 102.373 \n",
      "[2023-04-17 02:05:11] 21832 src.scoring.epoch_score_printer {epoch_score_printer-21} INFO - [Epoch 1/50]: f1_score: 0.709 accuracy_score: 0.727 loss: 87.317 \n",
      "[2023-04-17 02:05:19] 21832 src.scoring.epoch_score_printer {epoch_score_printer-21} INFO - [Epoch 2/50]: f1_score: 0.707 accuracy_score: 0.723 loss: 76.492 \n",
      "[2023-04-17 02:05:26] 21832 src.scoring.epoch_score_printer {epoch_score_printer-21} INFO - [Epoch 3/50]: f1_score: 0.725 accuracy_score: 0.750 loss: 76.295 \n",
      "[2023-04-17 02:05:34] 21832 src.scoring.epoch_score_printer {epoch_score_printer-21} INFO - [Epoch 4/50]: f1_score: 0.673 accuracy_score: 0.691 loss: 70.267 \n",
      "[2023-04-17 02:05:41] 21832 src.scoring.epoch_score_printer {epoch_score_printer-21} INFO - [Epoch 5/50]: f1_score: 0.711 accuracy_score: 0.742 loss: 69.019 \n",
      "[2023-04-17 02:05:48] 21832 src.scoring.epoch_score_printer {epoch_score_printer-21} INFO - [Epoch 6/50]: f1_score: 0.732 accuracy_score: 0.754 loss: 60.437 \n",
      "[2023-04-17 02:05:56] 21832 src.scoring.epoch_score_printer {epoch_score_printer-21} INFO - [Epoch 7/50]: f1_score: 0.708 accuracy_score: 0.727 loss: 55.746 \n",
      "[2023-04-17 02:06:03] 21832 src.scoring.epoch_score_printer {epoch_score_printer-21} INFO - [Epoch 8/50]: f1_score: 0.736 accuracy_score: 0.754 loss: 54.885 \n",
      "[2023-04-17 02:06:11] 21832 src.scoring.epoch_score_printer {epoch_score_printer-21} INFO - [Epoch 9/50]: f1_score: 0.698 accuracy_score: 0.719 loss: 55.056 \n",
      "[2023-04-17 02:06:18] 21832 src.scoring.epoch_score_printer {epoch_score_printer-21} INFO - [Epoch 10/50]: f1_score: 0.739 accuracy_score: 0.754 loss: 51.761 \n",
      "[2023-04-17 02:06:25] 21832 src.scoring.epoch_score_printer {epoch_score_printer-21} INFO - [Epoch 11/50]: f1_score: 0.744 accuracy_score: 0.766 loss: 49.984 \n",
      "[2023-04-17 02:06:33] 21832 src.scoring.epoch_score_printer {epoch_score_printer-21} INFO - [Epoch 12/50]: f1_score: 0.680 accuracy_score: 0.707 loss: 49.372 \n",
      "[2023-04-17 02:06:40] 21832 src.scoring.epoch_score_printer {epoch_score_printer-21} INFO - [Epoch 13/50]: f1_score: 0.741 accuracy_score: 0.766 loss: 42.903 \n",
      "[2023-04-17 02:06:48] 21832 src.scoring.epoch_score_printer {epoch_score_printer-21} INFO - [Epoch 14/50]: f1_score: 0.715 accuracy_score: 0.738 loss: 46.046 \n"
     ]
    }
   ],
   "source": [
    "classifier.freeze_all_layers_except_fc()\n",
    "result_df, result_dict = classifier.fit(num_epoch=50)\n",
    "display(result_df)\n",
    "print(result_dict)"
   ],
   "metadata": {
    "collapsed": false,
    "pycharm": {
     "is_executing": true
    }
   }
  },
  {
   "cell_type": "code",
   "execution_count": null,
   "outputs": [],
   "source": [
    "classifier.freeze_all_layers()\n",
    "train_all_result_df, train_all_result_dict = classifier.fit(num_epoch=200)"
   ],
   "metadata": {
    "collapsed": false,
    "pycharm": {
     "is_executing": true
    }
   }
  },
  {
   "cell_type": "code",
   "execution_count": 6,
   "outputs": [],
   "source": [
    "classifier.save_model(result_dict)"
   ],
   "metadata": {
    "collapsed": false
   }
  },
  {
   "cell_type": "code",
   "execution_count": 7,
   "outputs": [],
   "source": [
    "test_model_weights_path = '../../bayesian_refactoring/assets/model_weights/resnet50cnn_5912_813dec81-d9db-43f9-8e68-a4792822a394.pt'"
   ],
   "metadata": {
    "collapsed": false
   }
  },
  {
   "cell_type": "code",
   "execution_count": 8,
   "outputs": [],
   "source": [
    "test_results = torch.load(test_model_weights_path)"
   ],
   "metadata": {
    "collapsed": false
   }
  },
  {
   "cell_type": "code",
   "execution_count": 10,
   "outputs": [
    {
     "data": {
      "text/plain": "['best_loss',\n 'best_f1_score',\n 'best_accuracy_score',\n 'best_loss_model',\n 'best_f1_score_model',\n 'best_accuracy_score_model']"
     },
     "execution_count": 10,
     "metadata": {},
     "output_type": "execute_result"
    }
   ],
   "source": [
    "list(test_results.keys())"
   ],
   "metadata": {
    "collapsed": false
   }
  },
  {
   "cell_type": "code",
   "execution_count": 9,
   "outputs": [],
   "source": [
    "new_classifier = Resnet50CnnClassifier(dataset=dataset, device=device).load_model(model_state_dict=test_results['best_f1_score_model'])"
   ],
   "metadata": {
    "collapsed": false
   }
  },
  {
   "cell_type": "code",
   "execution_count": 10,
   "outputs": [],
   "source": [
    "y_true, y_pred = new_classifier.predict(dataset.validate_dataloader)"
   ],
   "metadata": {
    "collapsed": false
   }
  },
  {
   "cell_type": "code",
   "execution_count": 11,
   "outputs": [
    {
     "data": {
      "text/plain": "{'f1_score': 0.7022692266004554, 'accuracy_score': 0.7351778656126482}"
     },
     "execution_count": 11,
     "metadata": {},
     "output_type": "execute_result"
    }
   ],
   "source": [
    "new_classifier.score(dataset.validate_dataloader)"
   ],
   "metadata": {
    "collapsed": false
   }
  },
  {
   "cell_type": "code",
   "execution_count": null,
   "outputs": [],
   "source": [],
   "metadata": {
    "collapsed": false
   }
  }
 ],
 "metadata": {
  "kernelspec": {
   "name": "bayesian_test",
   "language": "python",
   "display_name": "Python 3 (bayesian test)"
  },
  "language_info": {
   "codemirror_mode": {
    "name": "ipython",
    "version": 2
   },
   "file_extension": ".py",
   "mimetype": "text/x-python",
   "name": "python",
   "nbconvert_exporter": "python",
   "pygments_lexer": "ipython2",
   "version": "2.7.6"
  }
 },
 "nbformat": 4,
 "nbformat_minor": 0
}
