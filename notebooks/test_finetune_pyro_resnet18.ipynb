{
 "cells": [
  {
   "cell_type": "code",
   "execution_count": 1,
   "metadata": {
    "collapsed": true
   },
   "outputs": [
    {
     "name": "stderr",
     "output_type": "stream",
     "text": [
      "[2023-04-17 21:48:06] 13455 root {logger_initializer-47} INFO - Current process ID: 13455\n"
     ]
    }
   ],
   "source": [
    "import torch\n",
    "import ssl\n",
    "import matplotlib.pyplot as plt\n",
    "from src.logger.logger_initializer import LoggerInitializer\n",
    "from src.utils.path_getter import PathGetter\n",
    "from src.data_loader.dataset_getter import DatasetGetter\n",
    "\n",
    "ssl._create_default_https_context = ssl._create_unverified_context\n",
    "device = 'cuda'\n",
    "torch.__version__\n",
    "\n",
    "LoggerInitializer().init()\n",
    "dataset = DatasetGetter(PathGetter.get_data_directory(), batch_size=12).get()"
   ]
  },
  {
   "cell_type": "code",
   "execution_count": 2,
   "outputs": [],
   "source": [
    "from src.models.bnn.pyro_resnet18_bnn_classifier import PyroResnet18BnnClassifier\n",
    "\n",
    "classifier = PyroResnet18BnnClassifier(dataset=dataset, device=device).init()"
   ],
   "metadata": {
    "collapsed": false
   }
  },
  {
   "cell_type": "code",
   "execution_count": 3,
   "outputs": [],
   "source": [
    "finetune_result_store = dict()\n",
    "\n",
    "def finetune_layer(classifier, layer_name: str, num_epoch: int, result_store: dict):\n",
    "    classifier.unfreeze_layer(layer_name)\n",
    "    result_df, result_dict = classifier.fit(num_epoch=num_epoch)\n",
    "    # display(result_df)\n",
    "    stage_name = f'unfreeze_{layer_name}'\n",
    "    result_store[stage_name] = result_dict\n",
    "    result_df.to_csv(f'{classifier.name}_{classifier._uuid}_{stage_name}_{num_epoch}_epoch.csv')\n",
    "    classifier.save_model(result_store)\n",
    "    classifier.score(dataset.validate_dataloader)\n",
    "    return result_df, result_dict"
   ],
   "metadata": {
    "collapsed": false
   }
  },
  {
   "cell_type": "code",
   "execution_count": null,
   "outputs": [
    {
     "name": "stderr",
     "output_type": "stream",
     "text": [
      "[2023-04-17 21:48:49] 13455 src.scoring.epoch_score_printer {epoch_score_printer-21} INFO - [Epoch 0/50]: f1_score: 0.149 accuracy_score: 0.213 loss: 1114690261651989.000 \n",
      "[2023-04-17 21:49:30] 13455 src.scoring.epoch_score_printer {epoch_score_printer-21} INFO - [Epoch 1/50]: f1_score: 0.174 accuracy_score: 0.230 loss: 843850609226034.125 \n",
      "[2023-04-17 21:50:09] 13455 src.scoring.epoch_score_printer {epoch_score_printer-21} INFO - [Epoch 2/50]: f1_score: 0.158 accuracy_score: 0.227 loss: 620902579671494.625 \n"
     ]
    }
   ],
   "source": [
    "finetune_layer(classifier, 'fc', num_epoch=50, result_store=finetune_result_store)"
   ],
   "metadata": {
    "collapsed": false,
    "pycharm": {
     "is_executing": true
    }
   }
  },
  {
   "cell_type": "code",
   "execution_count": null,
   "outputs": [],
   "source": [
    "finetune_layer(classifier, 'layer4', num_epoch=30, result_store=finetune_result_store)"
   ],
   "metadata": {
    "collapsed": false,
    "pycharm": {
     "is_executing": true
    }
   }
  },
  {
   "cell_type": "code",
   "execution_count": null,
   "outputs": [],
   "source": [
    "finetune_layer(classifier, 'layer3', num_epoch=30, result_store=finetune_result_store)"
   ],
   "metadata": {
    "collapsed": false,
    "pycharm": {
     "is_executing": true
    }
   }
  },
  {
   "cell_type": "code",
   "execution_count": null,
   "outputs": [],
   "source": [
    "finetune_layer(classifier, 'layer2', num_epoch=30, result_store=finetune_result_store)"
   ],
   "metadata": {
    "collapsed": false,
    "pycharm": {
     "is_executing": true
    }
   }
  },
  {
   "cell_type": "code",
   "execution_count": null,
   "outputs": [],
   "source": [
    "finetune_layer(classifier, 'layer1', num_epoch=30, result_store=finetune_result_store)"
   ],
   "metadata": {
    "collapsed": false,
    "pycharm": {
     "is_executing": true
    }
   }
  },
  {
   "cell_type": "code",
   "execution_count": null,
   "outputs": [],
   "source": [],
   "metadata": {
    "collapsed": false
   }
  },
  {
   "cell_type": "code",
   "execution_count": null,
   "outputs": [],
   "source": [
    "# Pull out weights\n",
    "\n",
    "import pyro\n",
    "pyro.get_param_store().get_all_param_names()\n",
    "pyro.get_param_store().get_param('guide.locs._resnet.fc.0.weight')\n",
    "pyro.get_param_store().get_param('guide.scales._resnet.fc.0.weight')"
   ],
   "metadata": {
    "collapsed": false
   }
  },
  {
   "cell_type": "code",
   "execution_count": null,
   "outputs": [],
   "source": [],
   "metadata": {
    "collapsed": false
   }
  },
  {
   "cell_type": "code",
   "execution_count": null,
   "outputs": [],
   "source": [
    "test_model_weights_path = '../../bayesian_refactoring/assets/model_weights/pyro_resnet18bnn_11922_3b79ad55-d56c-484d-9328-d101444ac6f1.pt'"
   ],
   "metadata": {
    "collapsed": false
   }
  },
  {
   "cell_type": "code",
   "execution_count": null,
   "outputs": [],
   "source": [
    "test_results = torch.load(test_model_weights_path)"
   ],
   "metadata": {
    "collapsed": false
   }
  },
  {
   "cell_type": "code",
   "execution_count": null,
   "outputs": [],
   "source": [
    "new_classifier = PyroResnet18BnnClassifier(\n",
    "    dataset=dataset, device=device\n",
    ").load_model(\n",
    "    model_state_dict=test_results['best_f1_score_model'],\n",
    "    pyro_state_dict=test_results['pyro_state_dict']\n",
    ")"
   ],
   "metadata": {
    "collapsed": false
   }
  },
  {
   "cell_type": "code",
   "execution_count": null,
   "outputs": [],
   "source": [
    "new_classifier.score(dataset.validate_dataloader)"
   ],
   "metadata": {
    "collapsed": false
   }
  }
 ],
 "metadata": {
  "kernelspec": {
   "name": "bayesian_test",
   "language": "python",
   "display_name": "Python 3 (bayesian test)"
  },
  "language_info": {
   "codemirror_mode": {
    "name": "ipython",
    "version": 2
   },
   "file_extension": ".py",
   "mimetype": "text/x-python",
   "name": "python",
   "nbconvert_exporter": "python",
   "pygments_lexer": "ipython2",
   "version": "2.7.6"
  }
 },
 "nbformat": 4,
 "nbformat_minor": 0
}
