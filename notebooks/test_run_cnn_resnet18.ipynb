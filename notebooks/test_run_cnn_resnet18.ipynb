{
 "cells": [
  {
   "cell_type": "code",
   "execution_count": 11,
   "metadata": {
    "collapsed": true
   },
   "outputs": [
    {
     "data": {
      "text/plain": "True"
     },
     "execution_count": 11,
     "metadata": {},
     "output_type": "execute_result"
    }
   ],
   "source": [
    "import torch\n",
    "import ssl\n",
    "import matplotlib.pyplot as plt\n",
    "from src.logger.logger_initializer import LoggerInitializer\n",
    "from src.models.cnn.resnet18_cnn_classifier import Resnet18CnnClassifier\n",
    "from src.data_loader.dataset_getter import DatasetGetter\n",
    "from src.utils.path_getter import PathGetter\n",
    "\n",
    "ssl._create_default_https_context = ssl._create_unverified_context\n",
    "device = 'cuda'\n",
    "torch.__version__\n",
    "\n",
    "LoggerInitializer().init()"
   ]
  },
  {
   "cell_type": "code",
   "execution_count": 15,
   "outputs": [],
   "source": [
    "dataset = DatasetGetter(PathGetter.get_data_directory(), batch_size=12).get()\n",
    "classifier = Resnet18CnnClassifier(dataset=dataset, device=device).init()"
   ],
   "metadata": {
    "collapsed": false
   }
  },
  {
   "cell_type": "code",
   "execution_count": 3,
   "outputs": [
    {
     "name": "stderr",
     "output_type": "stream",
     "text": [
      "[2023-04-17 10:35:30] 1670 src.scoring.epoch_score_printer {epoch_score_printer-21} INFO - [Epoch 0/10]: f1_score: 0.667 accuracy_score: 0.688 loss: 206.159 \n",
      "[2023-04-17 10:35:34] 1670 src.scoring.epoch_score_printer {epoch_score_printer-21} INFO - [Epoch 1/10]: f1_score: 0.637 accuracy_score: 0.652 loss: 142.650 \n",
      "[2023-04-17 10:35:38] 1670 src.scoring.epoch_score_printer {epoch_score_printer-21} INFO - [Epoch 2/10]: f1_score: 0.687 accuracy_score: 0.711 loss: 129.821 \n",
      "[2023-04-17 10:35:43] 1670 src.scoring.epoch_score_printer {epoch_score_printer-21} INFO - [Epoch 3/10]: f1_score: 0.642 accuracy_score: 0.660 loss: 118.037 \n",
      "[2023-04-17 10:35:47] 1670 src.scoring.epoch_score_printer {epoch_score_printer-21} INFO - [Epoch 4/10]: f1_score: 0.625 accuracy_score: 0.641 loss: 113.687 \n",
      "[2023-04-17 10:35:52] 1670 src.scoring.epoch_score_printer {epoch_score_printer-21} INFO - [Epoch 5/10]: f1_score: 0.641 accuracy_score: 0.652 loss: 103.687 \n",
      "[2023-04-17 10:35:56] 1670 src.scoring.epoch_score_printer {epoch_score_printer-21} INFO - [Epoch 6/10]: f1_score: 0.674 accuracy_score: 0.691 loss: 106.766 \n",
      "[2023-04-17 10:36:00] 1670 src.scoring.epoch_score_printer {epoch_score_printer-21} INFO - [Epoch 7/10]: f1_score: 0.655 accuracy_score: 0.672 loss: 99.519 \n",
      "[2023-04-17 10:36:05] 1670 src.scoring.epoch_score_printer {epoch_score_printer-21} INFO - [Epoch 8/10]: f1_score: 0.667 accuracy_score: 0.684 loss: 96.446 \n",
      "[2023-04-17 10:36:09] 1670 src.scoring.epoch_score_printer {epoch_score_printer-21} INFO - [Epoch 9/10]: f1_score: 0.646 accuracy_score: 0.660 loss: 93.928 \n"
     ]
    },
    {
     "data": {
      "text/plain": "   f1_score  accuracy_score        loss\n0  0.666843        0.687500  206.158900\n1  0.637147        0.652344  142.649815\n2  0.687268        0.710938  129.820725\n3  0.641876        0.660156  118.036772\n4  0.625164        0.640625  113.687439\n5  0.641248        0.652344  103.687086\n6  0.673933        0.691406  106.766441\n7  0.655149        0.671875   99.518870\n8  0.667422        0.683594   96.445725\n9  0.646111        0.660156   93.928132",
      "text/html": "<div>\n<style scoped>\n    .dataframe tbody tr th:only-of-type {\n        vertical-align: middle;\n    }\n\n    .dataframe tbody tr th {\n        vertical-align: top;\n    }\n\n    .dataframe thead th {\n        text-align: right;\n    }\n</style>\n<table border=\"1\" class=\"dataframe\">\n  <thead>\n    <tr style=\"text-align: right;\">\n      <th></th>\n      <th>f1_score</th>\n      <th>accuracy_score</th>\n      <th>loss</th>\n    </tr>\n  </thead>\n  <tbody>\n    <tr>\n      <th>0</th>\n      <td>0.666843</td>\n      <td>0.687500</td>\n      <td>206.158900</td>\n    </tr>\n    <tr>\n      <th>1</th>\n      <td>0.637147</td>\n      <td>0.652344</td>\n      <td>142.649815</td>\n    </tr>\n    <tr>\n      <th>2</th>\n      <td>0.687268</td>\n      <td>0.710938</td>\n      <td>129.820725</td>\n    </tr>\n    <tr>\n      <th>3</th>\n      <td>0.641876</td>\n      <td>0.660156</td>\n      <td>118.036772</td>\n    </tr>\n    <tr>\n      <th>4</th>\n      <td>0.625164</td>\n      <td>0.640625</td>\n      <td>113.687439</td>\n    </tr>\n    <tr>\n      <th>5</th>\n      <td>0.641248</td>\n      <td>0.652344</td>\n      <td>103.687086</td>\n    </tr>\n    <tr>\n      <th>6</th>\n      <td>0.673933</td>\n      <td>0.691406</td>\n      <td>106.766441</td>\n    </tr>\n    <tr>\n      <th>7</th>\n      <td>0.655149</td>\n      <td>0.671875</td>\n      <td>99.518870</td>\n    </tr>\n    <tr>\n      <th>8</th>\n      <td>0.667422</td>\n      <td>0.683594</td>\n      <td>96.445725</td>\n    </tr>\n    <tr>\n      <th>9</th>\n      <td>0.646111</td>\n      <td>0.660156</td>\n      <td>93.928132</td>\n    </tr>\n  </tbody>\n</table>\n</div>"
     },
     "metadata": {},
     "output_type": "display_data"
    }
   ],
   "source": [
    "classifier.freeze_all_layers_except_fc()\n",
    "result_df, result_dict = classifier.fit(num_epoch=10)\n",
    "display(result_df)\n",
    "# print(result_dict)"
   ],
   "metadata": {
    "collapsed": false
   }
  },
  {
   "cell_type": "code",
   "execution_count": 16,
   "outputs": [
    {
     "data": {
      "text/plain": "ResNet(\n  (conv1): Conv2d(3, 64, kernel_size=(7, 7), stride=(2, 2), padding=(3, 3), bias=False)\n  (bn1): BatchNorm2d(64, eps=1e-05, momentum=0.1, affine=True, track_running_stats=True)\n  (relu): ReLU(inplace=True)\n  (maxpool): MaxPool2d(kernel_size=3, stride=2, padding=1, dilation=1, ceil_mode=False)\n  (layer1): Sequential(\n    (0): BasicBlock(\n      (conv1): Conv2d(64, 64, kernel_size=(3, 3), stride=(1, 1), padding=(1, 1), bias=False)\n      (bn1): BatchNorm2d(64, eps=1e-05, momentum=0.1, affine=True, track_running_stats=True)\n      (relu): ReLU(inplace=True)\n      (conv2): Conv2d(64, 64, kernel_size=(3, 3), stride=(1, 1), padding=(1, 1), bias=False)\n      (bn2): BatchNorm2d(64, eps=1e-05, momentum=0.1, affine=True, track_running_stats=True)\n    )\n    (1): BasicBlock(\n      (conv1): Conv2d(64, 64, kernel_size=(3, 3), stride=(1, 1), padding=(1, 1), bias=False)\n      (bn1): BatchNorm2d(64, eps=1e-05, momentum=0.1, affine=True, track_running_stats=True)\n      (relu): ReLU(inplace=True)\n      (conv2): Conv2d(64, 64, kernel_size=(3, 3), stride=(1, 1), padding=(1, 1), bias=False)\n      (bn2): BatchNorm2d(64, eps=1e-05, momentum=0.1, affine=True, track_running_stats=True)\n    )\n  )\n  (layer2): Sequential(\n    (0): BasicBlock(\n      (conv1): Conv2d(64, 128, kernel_size=(3, 3), stride=(2, 2), padding=(1, 1), bias=False)\n      (bn1): BatchNorm2d(128, eps=1e-05, momentum=0.1, affine=True, track_running_stats=True)\n      (relu): ReLU(inplace=True)\n      (conv2): Conv2d(128, 128, kernel_size=(3, 3), stride=(1, 1), padding=(1, 1), bias=False)\n      (bn2): BatchNorm2d(128, eps=1e-05, momentum=0.1, affine=True, track_running_stats=True)\n      (downsample): Sequential(\n        (0): Conv2d(64, 128, kernel_size=(1, 1), stride=(2, 2), bias=False)\n        (1): BatchNorm2d(128, eps=1e-05, momentum=0.1, affine=True, track_running_stats=True)\n      )\n    )\n    (1): BasicBlock(\n      (conv1): Conv2d(128, 128, kernel_size=(3, 3), stride=(1, 1), padding=(1, 1), bias=False)\n      (bn1): BatchNorm2d(128, eps=1e-05, momentum=0.1, affine=True, track_running_stats=True)\n      (relu): ReLU(inplace=True)\n      (conv2): Conv2d(128, 128, kernel_size=(3, 3), stride=(1, 1), padding=(1, 1), bias=False)\n      (bn2): BatchNorm2d(128, eps=1e-05, momentum=0.1, affine=True, track_running_stats=True)\n    )\n  )\n  (layer3): Sequential(\n    (0): BasicBlock(\n      (conv1): Conv2d(128, 256, kernel_size=(3, 3), stride=(2, 2), padding=(1, 1), bias=False)\n      (bn1): BatchNorm2d(256, eps=1e-05, momentum=0.1, affine=True, track_running_stats=True)\n      (relu): ReLU(inplace=True)\n      (conv2): Conv2d(256, 256, kernel_size=(3, 3), stride=(1, 1), padding=(1, 1), bias=False)\n      (bn2): BatchNorm2d(256, eps=1e-05, momentum=0.1, affine=True, track_running_stats=True)\n      (downsample): Sequential(\n        (0): Conv2d(128, 256, kernel_size=(1, 1), stride=(2, 2), bias=False)\n        (1): BatchNorm2d(256, eps=1e-05, momentum=0.1, affine=True, track_running_stats=True)\n      )\n    )\n    (1): BasicBlock(\n      (conv1): Conv2d(256, 256, kernel_size=(3, 3), stride=(1, 1), padding=(1, 1), bias=False)\n      (bn1): BatchNorm2d(256, eps=1e-05, momentum=0.1, affine=True, track_running_stats=True)\n      (relu): ReLU(inplace=True)\n      (conv2): Conv2d(256, 256, kernel_size=(3, 3), stride=(1, 1), padding=(1, 1), bias=False)\n      (bn2): BatchNorm2d(256, eps=1e-05, momentum=0.1, affine=True, track_running_stats=True)\n    )\n  )\n  (layer4): Sequential(\n    (0): BasicBlock(\n      (conv1): Conv2d(256, 512, kernel_size=(3, 3), stride=(2, 2), padding=(1, 1), bias=False)\n      (bn1): BatchNorm2d(512, eps=1e-05, momentum=0.1, affine=True, track_running_stats=True)\n      (relu): ReLU(inplace=True)\n      (conv2): Conv2d(512, 512, kernel_size=(3, 3), stride=(1, 1), padding=(1, 1), bias=False)\n      (bn2): BatchNorm2d(512, eps=1e-05, momentum=0.1, affine=True, track_running_stats=True)\n      (downsample): Sequential(\n        (0): Conv2d(256, 512, kernel_size=(1, 1), stride=(2, 2), bias=False)\n        (1): BatchNorm2d(512, eps=1e-05, momentum=0.1, affine=True, track_running_stats=True)\n      )\n    )\n    (1): BasicBlock(\n      (conv1): Conv2d(512, 512, kernel_size=(3, 3), stride=(1, 1), padding=(1, 1), bias=False)\n      (bn1): BatchNorm2d(512, eps=1e-05, momentum=0.1, affine=True, track_running_stats=True)\n      (relu): ReLU(inplace=True)\n      (conv2): Conv2d(512, 512, kernel_size=(3, 3), stride=(1, 1), padding=(1, 1), bias=False)\n      (bn2): BatchNorm2d(512, eps=1e-05, momentum=0.1, affine=True, track_running_stats=True)\n    )\n  )\n  (avgpool): AdaptiveAvgPool2d(output_size=(1, 1))\n  (fc): Linear(in_features=512, out_features=6, bias=True)\n)"
     },
     "execution_count": 16,
     "metadata": {},
     "output_type": "execute_result"
    }
   ],
   "source": [
    "classifier._model"
   ],
   "metadata": {
    "collapsed": false
   }
  },
  {
   "cell_type": "code",
   "execution_count": 21,
   "outputs": [
    {
     "name": "stdout",
     "output_type": "stream",
     "text": [
      "param_name='conv1.weight', param_value.shape=torch.Size([64, 3, 7, 7]), param_value.requires_grad=False\n",
      "param_name='bn1.weight', param_value.shape=torch.Size([64]), param_value.requires_grad=False\n",
      "param_name='bn1.bias', param_value.shape=torch.Size([64]), param_value.requires_grad=False\n",
      "param_name='layer1.0.conv1.weight', param_value.shape=torch.Size([64, 64, 3, 3]), param_value.requires_grad=False\n",
      "param_name='layer1.0.bn1.weight', param_value.shape=torch.Size([64]), param_value.requires_grad=False\n",
      "param_name='layer1.0.bn1.bias', param_value.shape=torch.Size([64]), param_value.requires_grad=False\n",
      "param_name='layer1.0.conv2.weight', param_value.shape=torch.Size([64, 64, 3, 3]), param_value.requires_grad=False\n",
      "param_name='layer1.0.bn2.weight', param_value.shape=torch.Size([64]), param_value.requires_grad=False\n",
      "param_name='layer1.0.bn2.bias', param_value.shape=torch.Size([64]), param_value.requires_grad=False\n",
      "param_name='layer1.1.conv1.weight', param_value.shape=torch.Size([64, 64, 3, 3]), param_value.requires_grad=False\n",
      "param_name='layer1.1.bn1.weight', param_value.shape=torch.Size([64]), param_value.requires_grad=False\n",
      "param_name='layer1.1.bn1.bias', param_value.shape=torch.Size([64]), param_value.requires_grad=False\n",
      "param_name='layer1.1.conv2.weight', param_value.shape=torch.Size([64, 64, 3, 3]), param_value.requires_grad=False\n",
      "param_name='layer1.1.bn2.weight', param_value.shape=torch.Size([64]), param_value.requires_grad=False\n",
      "param_name='layer1.1.bn2.bias', param_value.shape=torch.Size([64]), param_value.requires_grad=False\n",
      "param_name='layer2.0.conv1.weight', param_value.shape=torch.Size([128, 64, 3, 3]), param_value.requires_grad=False\n",
      "param_name='layer2.0.bn1.weight', param_value.shape=torch.Size([128]), param_value.requires_grad=False\n",
      "param_name='layer2.0.bn1.bias', param_value.shape=torch.Size([128]), param_value.requires_grad=False\n",
      "param_name='layer2.0.conv2.weight', param_value.shape=torch.Size([128, 128, 3, 3]), param_value.requires_grad=False\n",
      "param_name='layer2.0.bn2.weight', param_value.shape=torch.Size([128]), param_value.requires_grad=False\n",
      "param_name='layer2.0.bn2.bias', param_value.shape=torch.Size([128]), param_value.requires_grad=False\n",
      "param_name='layer2.0.downsample.0.weight', param_value.shape=torch.Size([128, 64, 1, 1]), param_value.requires_grad=False\n",
      "param_name='layer2.0.downsample.1.weight', param_value.shape=torch.Size([128]), param_value.requires_grad=False\n",
      "param_name='layer2.0.downsample.1.bias', param_value.shape=torch.Size([128]), param_value.requires_grad=False\n",
      "param_name='layer2.1.conv1.weight', param_value.shape=torch.Size([128, 128, 3, 3]), param_value.requires_grad=False\n",
      "param_name='layer2.1.bn1.weight', param_value.shape=torch.Size([128]), param_value.requires_grad=False\n",
      "param_name='layer2.1.bn1.bias', param_value.shape=torch.Size([128]), param_value.requires_grad=False\n",
      "param_name='layer2.1.conv2.weight', param_value.shape=torch.Size([128, 128, 3, 3]), param_value.requires_grad=False\n",
      "param_name='layer2.1.bn2.weight', param_value.shape=torch.Size([128]), param_value.requires_grad=False\n",
      "param_name='layer2.1.bn2.bias', param_value.shape=torch.Size([128]), param_value.requires_grad=False\n",
      "param_name='layer3.0.conv1.weight', param_value.shape=torch.Size([256, 128, 3, 3]), param_value.requires_grad=False\n",
      "param_name='layer3.0.bn1.weight', param_value.shape=torch.Size([256]), param_value.requires_grad=False\n",
      "param_name='layer3.0.bn1.bias', param_value.shape=torch.Size([256]), param_value.requires_grad=False\n",
      "param_name='layer3.0.conv2.weight', param_value.shape=torch.Size([256, 256, 3, 3]), param_value.requires_grad=False\n",
      "param_name='layer3.0.bn2.weight', param_value.shape=torch.Size([256]), param_value.requires_grad=False\n",
      "param_name='layer3.0.bn2.bias', param_value.shape=torch.Size([256]), param_value.requires_grad=False\n",
      "param_name='layer3.0.downsample.0.weight', param_value.shape=torch.Size([256, 128, 1, 1]), param_value.requires_grad=False\n",
      "param_name='layer3.0.downsample.1.weight', param_value.shape=torch.Size([256]), param_value.requires_grad=False\n",
      "param_name='layer3.0.downsample.1.bias', param_value.shape=torch.Size([256]), param_value.requires_grad=False\n",
      "param_name='layer3.1.conv1.weight', param_value.shape=torch.Size([256, 256, 3, 3]), param_value.requires_grad=False\n",
      "param_name='layer3.1.bn1.weight', param_value.shape=torch.Size([256]), param_value.requires_grad=False\n",
      "param_name='layer3.1.bn1.bias', param_value.shape=torch.Size([256]), param_value.requires_grad=False\n",
      "param_name='layer3.1.conv2.weight', param_value.shape=torch.Size([256, 256, 3, 3]), param_value.requires_grad=False\n",
      "param_name='layer3.1.bn2.weight', param_value.shape=torch.Size([256]), param_value.requires_grad=False\n",
      "param_name='layer3.1.bn2.bias', param_value.shape=torch.Size([256]), param_value.requires_grad=False\n",
      "param_name='layer4.0.conv1.weight', param_value.shape=torch.Size([512, 256, 3, 3]), param_value.requires_grad=False\n",
      "param_name='layer4.0.bn1.weight', param_value.shape=torch.Size([512]), param_value.requires_grad=False\n",
      "param_name='layer4.0.bn1.bias', param_value.shape=torch.Size([512]), param_value.requires_grad=False\n",
      "param_name='layer4.0.conv2.weight', param_value.shape=torch.Size([512, 512, 3, 3]), param_value.requires_grad=False\n",
      "param_name='layer4.0.bn2.weight', param_value.shape=torch.Size([512]), param_value.requires_grad=False\n",
      "param_name='layer4.0.bn2.bias', param_value.shape=torch.Size([512]), param_value.requires_grad=False\n",
      "param_name='layer4.0.downsample.0.weight', param_value.shape=torch.Size([512, 256, 1, 1]), param_value.requires_grad=False\n",
      "param_name='layer4.0.downsample.1.weight', param_value.shape=torch.Size([512]), param_value.requires_grad=False\n",
      "param_name='layer4.0.downsample.1.bias', param_value.shape=torch.Size([512]), param_value.requires_grad=False\n",
      "param_name='layer4.1.conv1.weight', param_value.shape=torch.Size([512, 512, 3, 3]), param_value.requires_grad=False\n",
      "param_name='layer4.1.bn1.weight', param_value.shape=torch.Size([512]), param_value.requires_grad=False\n",
      "param_name='layer4.1.bn1.bias', param_value.shape=torch.Size([512]), param_value.requires_grad=False\n",
      "param_name='layer4.1.conv2.weight', param_value.shape=torch.Size([512, 512, 3, 3]), param_value.requires_grad=False\n",
      "param_name='layer4.1.bn2.weight', param_value.shape=torch.Size([512]), param_value.requires_grad=False\n",
      "param_name='layer4.1.bn2.bias', param_value.shape=torch.Size([512]), param_value.requires_grad=False\n",
      "param_name='fc.weight', param_value.shape=torch.Size([6, 512]), param_value.requires_grad=True\n",
      "param_name='fc.bias', param_value.shape=torch.Size([6]), param_value.requires_grad=True\n"
     ]
    }
   ],
   "source": [
    "for param_name, param_value in classifier._model.named_parameters():\n",
    "    print(f'{param_name=}, {param_value.shape=}, {param_value.requires_grad=}')"
   ],
   "metadata": {
    "collapsed": false
   }
  },
  {
   "cell_type": "code",
   "execution_count": null,
   "outputs": [],
   "source": [
    "result_df.to_csv(f'{classifier.name}_10_epoch_freeze_all_layers_except_fc_scores.csv')"
   ],
   "metadata": {
    "collapsed": false
   }
  },
  {
   "cell_type": "code",
   "execution_count": 6,
   "outputs": [],
   "source": [
    "for param in classifier._model.layer4.parameters():\n",
    "    param.requires_grad = True"
   ],
   "metadata": {
    "collapsed": false
   }
  },
  {
   "cell_type": "code",
   "execution_count": 7,
   "outputs": [
    {
     "name": "stderr",
     "output_type": "stream",
     "text": [
      "[2023-04-17 10:38:51] 1670 src.scoring.epoch_score_printer {epoch_score_printer-21} INFO - [Epoch 0/100]: f1_score: 0.574 accuracy_score: 0.578 loss: 222.153 \n",
      "[2023-04-17 10:38:58] 1670 src.scoring.epoch_score_printer {epoch_score_printer-21} INFO - [Epoch 1/100]: f1_score: 0.564 accuracy_score: 0.547 loss: 111.571 \n",
      "[2023-04-17 10:39:05] 1670 src.scoring.epoch_score_printer {epoch_score_printer-21} INFO - [Epoch 2/100]: f1_score: 0.596 accuracy_score: 0.605 loss: 88.159 \n",
      "[2023-04-17 10:39:12] 1670 src.scoring.epoch_score_printer {epoch_score_printer-21} INFO - [Epoch 3/100]: f1_score: 0.613 accuracy_score: 0.625 loss: 75.099 \n",
      "[2023-04-17 10:39:19] 1670 src.scoring.epoch_score_printer {epoch_score_printer-21} INFO - [Epoch 4/100]: f1_score: 0.660 accuracy_score: 0.668 loss: 71.542 \n",
      "[2023-04-17 10:39:26] 1670 src.scoring.epoch_score_printer {epoch_score_printer-21} INFO - [Epoch 5/100]: f1_score: 0.718 accuracy_score: 0.746 loss: 57.199 \n",
      "[2023-04-17 10:39:33] 1670 src.scoring.epoch_score_printer {epoch_score_printer-21} INFO - [Epoch 6/100]: f1_score: 0.638 accuracy_score: 0.652 loss: 50.751 \n",
      "[2023-04-17 10:39:40] 1670 src.scoring.epoch_score_printer {epoch_score_printer-21} INFO - [Epoch 7/100]: f1_score: 0.666 accuracy_score: 0.680 loss: 44.354 \n",
      "[2023-04-17 10:39:47] 1670 src.scoring.epoch_score_printer {epoch_score_printer-21} INFO - [Epoch 8/100]: f1_score: 0.676 accuracy_score: 0.695 loss: 44.959 \n",
      "[2023-04-17 10:39:54] 1670 src.scoring.epoch_score_printer {epoch_score_printer-21} INFO - [Epoch 9/100]: f1_score: 0.693 accuracy_score: 0.711 loss: 35.094 \n",
      "[2023-04-17 10:40:01] 1670 src.scoring.epoch_score_printer {epoch_score_printer-21} INFO - [Epoch 10/100]: f1_score: 0.674 accuracy_score: 0.688 loss: 32.851 \n",
      "[2023-04-17 10:40:08] 1670 src.scoring.epoch_score_printer {epoch_score_printer-21} INFO - [Epoch 11/100]: f1_score: 0.648 accuracy_score: 0.660 loss: 36.205 \n",
      "[2023-04-17 10:40:15] 1670 src.scoring.epoch_score_printer {epoch_score_printer-21} INFO - [Epoch 12/100]: f1_score: 0.645 accuracy_score: 0.660 loss: 29.800 \n",
      "[2023-04-17 10:40:22] 1670 src.scoring.epoch_score_printer {epoch_score_printer-21} INFO - [Epoch 13/100]: f1_score: 0.712 accuracy_score: 0.734 loss: 30.965 \n",
      "[2023-04-17 10:40:29] 1670 src.scoring.epoch_score_printer {epoch_score_printer-21} INFO - [Epoch 14/100]: f1_score: 0.687 accuracy_score: 0.711 loss: 31.532 \n",
      "[2023-04-17 10:40:36] 1670 src.scoring.epoch_score_printer {epoch_score_printer-21} INFO - [Epoch 15/100]: f1_score: 0.642 accuracy_score: 0.664 loss: 23.997 \n",
      "[2023-04-17 10:40:43] 1670 src.scoring.epoch_score_printer {epoch_score_printer-21} INFO - [Epoch 16/100]: f1_score: 0.737 accuracy_score: 0.754 loss: 17.991 \n",
      "[2023-04-17 10:40:50] 1670 src.scoring.epoch_score_printer {epoch_score_printer-21} INFO - [Epoch 17/100]: f1_score: 0.677 accuracy_score: 0.691 loss: 18.880 \n",
      "[2023-04-17 10:40:57] 1670 src.scoring.epoch_score_printer {epoch_score_printer-21} INFO - [Epoch 18/100]: f1_score: 0.662 accuracy_score: 0.676 loss: 17.440 \n",
      "[2023-04-17 10:41:04] 1670 src.scoring.epoch_score_printer {epoch_score_printer-21} INFO - [Epoch 19/100]: f1_score: 0.683 accuracy_score: 0.699 loss: 16.794 \n",
      "[2023-04-17 10:41:11] 1670 src.scoring.epoch_score_printer {epoch_score_printer-21} INFO - [Epoch 20/100]: f1_score: 0.692 accuracy_score: 0.707 loss: 23.854 \n",
      "[2023-04-17 10:41:18] 1670 src.scoring.epoch_score_printer {epoch_score_printer-21} INFO - [Epoch 21/100]: f1_score: 0.667 accuracy_score: 0.688 loss: 15.757 \n",
      "[2023-04-17 10:41:25] 1670 src.scoring.epoch_score_printer {epoch_score_printer-21} INFO - [Epoch 22/100]: f1_score: 0.595 accuracy_score: 0.609 loss: 22.052 \n",
      "[2023-04-17 10:41:32] 1670 src.scoring.epoch_score_printer {epoch_score_printer-21} INFO - [Epoch 23/100]: f1_score: 0.697 accuracy_score: 0.715 loss: 16.850 \n",
      "[2023-04-17 10:41:39] 1670 src.scoring.epoch_score_printer {epoch_score_printer-21} INFO - [Epoch 24/100]: f1_score: 0.679 accuracy_score: 0.695 loss: 11.271 \n",
      "[2023-04-17 10:41:46] 1670 src.scoring.epoch_score_printer {epoch_score_printer-21} INFO - [Epoch 25/100]: f1_score: 0.684 accuracy_score: 0.695 loss: 12.720 \n",
      "[2023-04-17 10:41:53] 1670 src.scoring.epoch_score_printer {epoch_score_printer-21} INFO - [Epoch 26/100]: f1_score: 0.663 accuracy_score: 0.684 loss: 11.365 \n",
      "[2023-04-17 10:42:00] 1670 src.scoring.epoch_score_printer {epoch_score_printer-21} INFO - [Epoch 27/100]: f1_score: 0.729 accuracy_score: 0.746 loss: 13.428 \n",
      "[2023-04-17 10:42:07] 1670 src.scoring.epoch_score_printer {epoch_score_printer-21} INFO - [Epoch 28/100]: f1_score: 0.660 accuracy_score: 0.680 loss: 8.819 \n",
      "[2023-04-17 10:42:14] 1670 src.scoring.epoch_score_printer {epoch_score_printer-21} INFO - [Epoch 29/100]: f1_score: 0.685 accuracy_score: 0.699 loss: 14.154 \n",
      "[2023-04-17 10:42:21] 1670 src.scoring.epoch_score_printer {epoch_score_printer-21} INFO - [Epoch 30/100]: f1_score: 0.663 accuracy_score: 0.688 loss: 11.632 \n",
      "[2023-04-17 10:42:28] 1670 src.scoring.epoch_score_printer {epoch_score_printer-21} INFO - [Epoch 31/100]: f1_score: 0.685 accuracy_score: 0.699 loss: 12.186 \n",
      "[2023-04-17 10:42:35] 1670 src.scoring.epoch_score_printer {epoch_score_printer-21} INFO - [Epoch 32/100]: f1_score: 0.686 accuracy_score: 0.703 loss: 17.447 \n",
      "[2023-04-17 10:42:42] 1670 src.scoring.epoch_score_printer {epoch_score_printer-21} INFO - [Epoch 33/100]: f1_score: 0.640 accuracy_score: 0.652 loss: 11.493 \n",
      "[2023-04-17 10:42:49] 1670 src.scoring.epoch_score_printer {epoch_score_printer-21} INFO - [Epoch 34/100]: f1_score: 0.638 accuracy_score: 0.652 loss: 10.912 \n",
      "[2023-04-17 10:42:56] 1670 src.scoring.epoch_score_printer {epoch_score_printer-21} INFO - [Epoch 35/100]: f1_score: 0.631 accuracy_score: 0.641 loss: 11.613 \n",
      "[2023-04-17 10:43:03] 1670 src.scoring.epoch_score_printer {epoch_score_printer-21} INFO - [Epoch 36/100]: f1_score: 0.681 accuracy_score: 0.695 loss: 11.688 \n",
      "[2023-04-17 10:43:10] 1670 src.scoring.epoch_score_printer {epoch_score_printer-21} INFO - [Epoch 37/100]: f1_score: 0.628 accuracy_score: 0.641 loss: 9.724 \n",
      "[2023-04-17 10:43:17] 1670 src.scoring.epoch_score_printer {epoch_score_printer-21} INFO - [Epoch 38/100]: f1_score: 0.686 accuracy_score: 0.699 loss: 12.255 \n",
      "[2023-04-17 10:43:24] 1670 src.scoring.epoch_score_printer {epoch_score_printer-21} INFO - [Epoch 39/100]: f1_score: 0.658 accuracy_score: 0.672 loss: 9.154 \n",
      "[2023-04-17 10:43:31] 1670 src.scoring.epoch_score_printer {epoch_score_printer-21} INFO - [Epoch 40/100]: f1_score: 0.650 accuracy_score: 0.668 loss: 5.194 \n",
      "[2023-04-17 10:43:38] 1670 src.scoring.epoch_score_printer {epoch_score_printer-21} INFO - [Epoch 41/100]: f1_score: 0.662 accuracy_score: 0.672 loss: 9.141 \n",
      "[2023-04-17 10:43:45] 1670 src.scoring.epoch_score_printer {epoch_score_printer-21} INFO - [Epoch 42/100]: f1_score: 0.626 accuracy_score: 0.645 loss: 11.612 \n",
      "[2023-04-17 10:43:53] 1670 src.scoring.epoch_score_printer {epoch_score_printer-21} INFO - [Epoch 43/100]: f1_score: 0.714 accuracy_score: 0.730 loss: 10.960 \n",
      "[2023-04-17 10:44:00] 1670 src.scoring.epoch_score_printer {epoch_score_printer-21} INFO - [Epoch 44/100]: f1_score: 0.688 accuracy_score: 0.707 loss: 8.287 \n",
      "[2023-04-17 10:44:06] 1670 src.scoring.epoch_score_printer {epoch_score_printer-21} INFO - [Epoch 45/100]: f1_score: 0.658 accuracy_score: 0.668 loss: 7.499 \n",
      "[2023-04-17 10:44:13] 1670 src.scoring.epoch_score_printer {epoch_score_printer-21} INFO - [Epoch 46/100]: f1_score: 0.643 accuracy_score: 0.660 loss: 9.364 \n",
      "[2023-04-17 10:44:21] 1670 src.scoring.epoch_score_printer {epoch_score_printer-21} INFO - [Epoch 47/100]: f1_score: 0.667 accuracy_score: 0.680 loss: 10.705 \n",
      "[2023-04-17 10:44:28] 1670 src.scoring.epoch_score_printer {epoch_score_printer-21} INFO - [Epoch 48/100]: f1_score: 0.692 accuracy_score: 0.711 loss: 8.344 \n",
      "[2023-04-17 10:44:35] 1670 src.scoring.epoch_score_printer {epoch_score_printer-21} INFO - [Epoch 49/100]: f1_score: 0.647 accuracy_score: 0.664 loss: 10.451 \n",
      "[2023-04-17 10:44:42] 1670 src.scoring.epoch_score_printer {epoch_score_printer-21} INFO - [Epoch 50/100]: f1_score: 0.660 accuracy_score: 0.672 loss: 7.589 \n",
      "[2023-04-17 10:44:49] 1670 src.scoring.epoch_score_printer {epoch_score_printer-21} INFO - [Epoch 51/100]: f1_score: 0.642 accuracy_score: 0.656 loss: 12.552 \n",
      "[2023-04-17 10:44:56] 1670 src.scoring.epoch_score_printer {epoch_score_printer-21} INFO - [Epoch 52/100]: f1_score: 0.675 accuracy_score: 0.691 loss: 11.371 \n",
      "[2023-04-17 10:45:03] 1670 src.scoring.epoch_score_printer {epoch_score_printer-21} INFO - [Epoch 53/100]: f1_score: 0.640 accuracy_score: 0.641 loss: 8.241 \n",
      "[2023-04-17 10:45:10] 1670 src.scoring.epoch_score_printer {epoch_score_printer-21} INFO - [Epoch 54/100]: f1_score: 0.663 accuracy_score: 0.676 loss: 3.701 \n",
      "[2023-04-17 10:45:17] 1670 src.scoring.epoch_score_printer {epoch_score_printer-21} INFO - [Epoch 55/100]: f1_score: 0.680 accuracy_score: 0.688 loss: 5.747 \n",
      "[2023-04-17 10:45:24] 1670 src.scoring.epoch_score_printer {epoch_score_printer-21} INFO - [Epoch 56/100]: f1_score: 0.689 accuracy_score: 0.707 loss: 5.430 \n",
      "[2023-04-17 10:45:31] 1670 src.scoring.epoch_score_printer {epoch_score_printer-21} INFO - [Epoch 57/100]: f1_score: 0.674 accuracy_score: 0.691 loss: 6.254 \n",
      "[2023-04-17 10:45:38] 1670 src.scoring.epoch_score_printer {epoch_score_printer-21} INFO - [Epoch 58/100]: f1_score: 0.643 accuracy_score: 0.652 loss: 7.109 \n",
      "[2023-04-17 10:45:45] 1670 src.scoring.epoch_score_printer {epoch_score_printer-21} INFO - [Epoch 59/100]: f1_score: 0.581 accuracy_score: 0.586 loss: 7.524 \n",
      "[2023-04-17 10:45:52] 1670 src.scoring.epoch_score_printer {epoch_score_printer-21} INFO - [Epoch 60/100]: f1_score: 0.697 accuracy_score: 0.719 loss: 7.377 \n",
      "[2023-04-17 10:45:59] 1670 src.scoring.epoch_score_printer {epoch_score_printer-21} INFO - [Epoch 61/100]: f1_score: 0.671 accuracy_score: 0.691 loss: 4.583 \n",
      "[2023-04-17 10:46:06] 1670 src.scoring.epoch_score_printer {epoch_score_printer-21} INFO - [Epoch 62/100]: f1_score: 0.671 accuracy_score: 0.688 loss: 6.157 \n",
      "[2023-04-17 10:46:13] 1670 src.scoring.epoch_score_printer {epoch_score_printer-21} INFO - [Epoch 63/100]: f1_score: 0.698 accuracy_score: 0.711 loss: 5.297 \n",
      "[2023-04-17 10:46:20] 1670 src.scoring.epoch_score_printer {epoch_score_printer-21} INFO - [Epoch 64/100]: f1_score: 0.685 accuracy_score: 0.703 loss: 8.427 \n",
      "[2023-04-17 10:46:28] 1670 src.scoring.epoch_score_printer {epoch_score_printer-21} INFO - [Epoch 65/100]: f1_score: 0.642 accuracy_score: 0.660 loss: 10.843 \n",
      "[2023-04-17 10:46:34] 1670 src.scoring.epoch_score_printer {epoch_score_printer-21} INFO - [Epoch 66/100]: f1_score: 0.648 accuracy_score: 0.660 loss: 7.169 \n",
      "[2023-04-17 10:46:41] 1670 src.scoring.epoch_score_printer {epoch_score_printer-21} INFO - [Epoch 67/100]: f1_score: 0.654 accuracy_score: 0.676 loss: 6.057 \n",
      "[2023-04-17 10:46:48] 1670 src.scoring.epoch_score_printer {epoch_score_printer-21} INFO - [Epoch 68/100]: f1_score: 0.644 accuracy_score: 0.668 loss: 10.167 \n",
      "[2023-04-17 10:46:55] 1670 src.scoring.epoch_score_printer {epoch_score_printer-21} INFO - [Epoch 69/100]: f1_score: 0.710 accuracy_score: 0.723 loss: 3.911 \n",
      "[2023-04-17 10:47:02] 1670 src.scoring.epoch_score_printer {epoch_score_printer-21} INFO - [Epoch 70/100]: f1_score: 0.661 accuracy_score: 0.676 loss: 8.013 \n",
      "[2023-04-17 10:47:09] 1670 src.scoring.epoch_score_printer {epoch_score_printer-21} INFO - [Epoch 71/100]: f1_score: 0.654 accuracy_score: 0.668 loss: 10.265 \n",
      "[2023-04-17 10:47:17] 1670 src.scoring.epoch_score_printer {epoch_score_printer-21} INFO - [Epoch 72/100]: f1_score: 0.641 accuracy_score: 0.652 loss: 8.476 \n",
      "[2023-04-17 10:47:23] 1670 src.scoring.epoch_score_printer {epoch_score_printer-21} INFO - [Epoch 73/100]: f1_score: 0.690 accuracy_score: 0.703 loss: 6.029 \n",
      "[2023-04-17 10:47:30] 1670 src.scoring.epoch_score_printer {epoch_score_printer-21} INFO - [Epoch 74/100]: f1_score: 0.689 accuracy_score: 0.707 loss: 9.467 \n",
      "[2023-04-17 10:47:37] 1670 src.scoring.epoch_score_printer {epoch_score_printer-21} INFO - [Epoch 75/100]: f1_score: 0.673 accuracy_score: 0.691 loss: 4.985 \n",
      "[2023-04-17 10:47:44] 1670 src.scoring.epoch_score_printer {epoch_score_printer-21} INFO - [Epoch 76/100]: f1_score: 0.707 accuracy_score: 0.727 loss: 2.914 \n",
      "[2023-04-17 10:47:52] 1670 src.scoring.epoch_score_printer {epoch_score_printer-21} INFO - [Epoch 77/100]: f1_score: 0.679 accuracy_score: 0.695 loss: 5.073 \n",
      "[2023-04-17 10:47:59] 1670 src.scoring.epoch_score_printer {epoch_score_printer-21} INFO - [Epoch 78/100]: f1_score: 0.711 accuracy_score: 0.734 loss: 3.726 \n",
      "[2023-04-17 10:48:06] 1670 src.scoring.epoch_score_printer {epoch_score_printer-21} INFO - [Epoch 79/100]: f1_score: 0.663 accuracy_score: 0.676 loss: 6.918 \n",
      "[2023-04-17 10:48:13] 1670 src.scoring.epoch_score_printer {epoch_score_printer-21} INFO - [Epoch 80/100]: f1_score: 0.660 accuracy_score: 0.672 loss: 9.017 \n",
      "[2023-04-17 10:48:20] 1670 src.scoring.epoch_score_printer {epoch_score_printer-21} INFO - [Epoch 81/100]: f1_score: 0.652 accuracy_score: 0.668 loss: 8.265 \n",
      "[2023-04-17 10:48:27] 1670 src.scoring.epoch_score_printer {epoch_score_printer-21} INFO - [Epoch 82/100]: f1_score: 0.661 accuracy_score: 0.672 loss: 3.222 \n",
      "[2023-04-17 10:48:34] 1670 src.scoring.epoch_score_printer {epoch_score_printer-21} INFO - [Epoch 83/100]: f1_score: 0.638 accuracy_score: 0.656 loss: 5.574 \n",
      "[2023-04-17 10:48:41] 1670 src.scoring.epoch_score_printer {epoch_score_printer-21} INFO - [Epoch 84/100]: f1_score: 0.663 accuracy_score: 0.676 loss: 5.684 \n",
      "[2023-04-17 10:48:48] 1670 src.scoring.epoch_score_printer {epoch_score_printer-21} INFO - [Epoch 85/100]: f1_score: 0.681 accuracy_score: 0.695 loss: 3.782 \n",
      "[2023-04-17 10:48:55] 1670 src.scoring.epoch_score_printer {epoch_score_printer-21} INFO - [Epoch 86/100]: f1_score: 0.653 accuracy_score: 0.676 loss: 5.887 \n",
      "[2023-04-17 10:49:02] 1670 src.scoring.epoch_score_printer {epoch_score_printer-21} INFO - [Epoch 87/100]: f1_score: 0.695 accuracy_score: 0.715 loss: 3.366 \n",
      "[2023-04-17 10:49:09] 1670 src.scoring.epoch_score_printer {epoch_score_printer-21} INFO - [Epoch 88/100]: f1_score: 0.687 accuracy_score: 0.703 loss: 5.580 \n",
      "[2023-04-17 10:49:16] 1670 src.scoring.epoch_score_printer {epoch_score_printer-21} INFO - [Epoch 89/100]: f1_score: 0.657 accuracy_score: 0.668 loss: 6.377 \n",
      "[2023-04-17 10:49:23] 1670 src.scoring.epoch_score_printer {epoch_score_printer-21} INFO - [Epoch 90/100]: f1_score: 0.719 accuracy_score: 0.738 loss: 7.265 \n",
      "[2023-04-17 10:49:30] 1670 src.scoring.epoch_score_printer {epoch_score_printer-21} INFO - [Epoch 91/100]: f1_score: 0.686 accuracy_score: 0.703 loss: 9.170 \n",
      "[2023-04-17 10:49:37] 1670 src.scoring.epoch_score_printer {epoch_score_printer-21} INFO - [Epoch 92/100]: f1_score: 0.676 accuracy_score: 0.691 loss: 3.884 \n",
      "[2023-04-17 10:49:44] 1670 src.scoring.epoch_score_printer {epoch_score_printer-21} INFO - [Epoch 93/100]: f1_score: 0.666 accuracy_score: 0.688 loss: 7.646 \n",
      "[2023-04-17 10:49:51] 1670 src.scoring.epoch_score_printer {epoch_score_printer-21} INFO - [Epoch 94/100]: f1_score: 0.709 accuracy_score: 0.727 loss: 6.438 \n",
      "[2023-04-17 10:49:58] 1670 src.scoring.epoch_score_printer {epoch_score_printer-21} INFO - [Epoch 95/100]: f1_score: 0.681 accuracy_score: 0.699 loss: 5.215 \n",
      "[2023-04-17 10:50:05] 1670 src.scoring.epoch_score_printer {epoch_score_printer-21} INFO - [Epoch 96/100]: f1_score: 0.662 accuracy_score: 0.680 loss: 4.097 \n",
      "[2023-04-17 10:50:12] 1670 src.scoring.epoch_score_printer {epoch_score_printer-21} INFO - [Epoch 97/100]: f1_score: 0.656 accuracy_score: 0.676 loss: 4.079 \n",
      "[2023-04-17 10:50:19] 1670 src.scoring.epoch_score_printer {epoch_score_printer-21} INFO - [Epoch 98/100]: f1_score: 0.638 accuracy_score: 0.660 loss: 4.659 \n",
      "[2023-04-17 10:50:26] 1670 src.scoring.epoch_score_printer {epoch_score_printer-21} INFO - [Epoch 99/100]: f1_score: 0.682 accuracy_score: 0.699 loss: 1.864 \n"
     ]
    },
    {
     "data": {
      "text/plain": "    f1_score  accuracy_score        loss\n0   0.573918        0.578125  222.152853\n1   0.563521        0.546875  111.570880\n2   0.596000        0.605469   88.159076\n3   0.612913        0.625000   75.098726\n4   0.659986        0.667969   71.542162\n..       ...             ...         ...\n95  0.681397        0.699219    5.214752\n96  0.662428        0.679688    4.097072\n97  0.655842        0.675781    4.079378\n98  0.638021        0.660156    4.658821\n99  0.681945        0.699219    1.864334\n\n[100 rows x 3 columns]",
      "text/html": "<div>\n<style scoped>\n    .dataframe tbody tr th:only-of-type {\n        vertical-align: middle;\n    }\n\n    .dataframe tbody tr th {\n        vertical-align: top;\n    }\n\n    .dataframe thead th {\n        text-align: right;\n    }\n</style>\n<table border=\"1\" class=\"dataframe\">\n  <thead>\n    <tr style=\"text-align: right;\">\n      <th></th>\n      <th>f1_score</th>\n      <th>accuracy_score</th>\n      <th>loss</th>\n    </tr>\n  </thead>\n  <tbody>\n    <tr>\n      <th>0</th>\n      <td>0.573918</td>\n      <td>0.578125</td>\n      <td>222.152853</td>\n    </tr>\n    <tr>\n      <th>1</th>\n      <td>0.563521</td>\n      <td>0.546875</td>\n      <td>111.570880</td>\n    </tr>\n    <tr>\n      <th>2</th>\n      <td>0.596000</td>\n      <td>0.605469</td>\n      <td>88.159076</td>\n    </tr>\n    <tr>\n      <th>3</th>\n      <td>0.612913</td>\n      <td>0.625000</td>\n      <td>75.098726</td>\n    </tr>\n    <tr>\n      <th>4</th>\n      <td>0.659986</td>\n      <td>0.667969</td>\n      <td>71.542162</td>\n    </tr>\n    <tr>\n      <th>...</th>\n      <td>...</td>\n      <td>...</td>\n      <td>...</td>\n    </tr>\n    <tr>\n      <th>95</th>\n      <td>0.681397</td>\n      <td>0.699219</td>\n      <td>5.214752</td>\n    </tr>\n    <tr>\n      <th>96</th>\n      <td>0.662428</td>\n      <td>0.679688</td>\n      <td>4.097072</td>\n    </tr>\n    <tr>\n      <th>97</th>\n      <td>0.655842</td>\n      <td>0.675781</td>\n      <td>4.079378</td>\n    </tr>\n    <tr>\n      <th>98</th>\n      <td>0.638021</td>\n      <td>0.660156</td>\n      <td>4.658821</td>\n    </tr>\n    <tr>\n      <th>99</th>\n      <td>0.681945</td>\n      <td>0.699219</td>\n      <td>1.864334</td>\n    </tr>\n  </tbody>\n</table>\n<p>100 rows × 3 columns</p>\n</div>"
     },
     "metadata": {},
     "output_type": "display_data"
    }
   ],
   "source": [
    "result_df, result_dict = classifier.fit(num_epoch=100)\n",
    "display(result_df)"
   ],
   "metadata": {
    "collapsed": false
   }
  },
  {
   "cell_type": "code",
   "execution_count": 9,
   "outputs": [],
   "source": [
    "result_df.to_csv(f'{classifier.name}_100_epoch_unfreeze_layer4.csv')"
   ],
   "metadata": {
    "collapsed": false
   }
  },
  {
   "cell_type": "code",
   "execution_count": 8,
   "outputs": [
    {
     "data": {
      "text/plain": "{'f1_score': 0.6828248606721697, 'accuracy_score': 0.7075098814229249}"
     },
     "execution_count": 8,
     "metadata": {},
     "output_type": "execute_result"
    }
   ],
   "source": [
    "classifier.score(dataset.validate_dataloader)"
   ],
   "metadata": {
    "collapsed": false
   }
  },
  {
   "cell_type": "code",
   "execution_count": null,
   "outputs": [],
   "source": [
    "classifier.save_model(result_dict)"
   ],
   "metadata": {
    "collapsed": false
   }
  },
  {
   "cell_type": "code",
   "execution_count": null,
   "outputs": [],
   "source": [
    "classifier.unfreeze_all_layers()\n",
    "train_all_result_df, train_all_result_dict = classifier.fit(num_epoch=200)"
   ],
   "metadata": {
    "collapsed": false
   }
  },
  {
   "cell_type": "code",
   "execution_count": null,
   "outputs": [],
   "source": [],
   "metadata": {
    "collapsed": false
   }
  },
  {
   "cell_type": "code",
   "execution_count": null,
   "outputs": [],
   "source": [
    "classifier.score(dataset.validate_dataloader)"
   ],
   "metadata": {
    "collapsed": false
   }
  },
  {
   "cell_type": "code",
   "execution_count": 9,
   "outputs": [],
   "source": [
    "classifier.save_model(result_dict)"
   ],
   "metadata": {
    "collapsed": false
   }
  },
  {
   "cell_type": "code",
   "execution_count": 10,
   "outputs": [],
   "source": [
    "classifier.save_model(train_all_result_dict)"
   ],
   "metadata": {
    "collapsed": false
   }
  },
  {
   "cell_type": "code",
   "execution_count": 7,
   "outputs": [],
   "source": [
    "test_model_weights_path = '../../bayesian_refactoring/assets/model_weights/resnet50cnn_5912_813dec81-d9db-43f9-8e68-a4792822a394.pt'"
   ],
   "metadata": {
    "collapsed": false
   }
  },
  {
   "cell_type": "code",
   "execution_count": 8,
   "outputs": [],
   "source": [
    "test_results = torch.load(test_model_weights_path)"
   ],
   "metadata": {
    "collapsed": false
   }
  },
  {
   "cell_type": "code",
   "execution_count": 10,
   "outputs": [
    {
     "data": {
      "text/plain": "['best_loss',\n 'best_f1_score',\n 'best_accuracy_score',\n 'best_loss_model',\n 'best_f1_score_model',\n 'best_accuracy_score_model']"
     },
     "execution_count": 10,
     "metadata": {},
     "output_type": "execute_result"
    }
   ],
   "source": [
    "list(test_results.keys())"
   ],
   "metadata": {
    "collapsed": false
   }
  },
  {
   "cell_type": "code",
   "execution_count": 9,
   "outputs": [],
   "source": [
    "new_classifier = Resnet50CnnClassifier(dataset=dataset, device=device).load_model(model_state_dict=test_results['best_f1_score_model'])"
   ],
   "metadata": {
    "collapsed": false
   }
  },
  {
   "cell_type": "code",
   "execution_count": 10,
   "outputs": [],
   "source": [
    "y_true, y_pred = new_classifier.predict(dataset.validate_dataloader)"
   ],
   "metadata": {
    "collapsed": false
   }
  },
  {
   "cell_type": "code",
   "execution_count": 11,
   "outputs": [
    {
     "data": {
      "text/plain": "{'f1_score': 0.7022692266004554, 'accuracy_score': 0.7351778656126482}"
     },
     "execution_count": 11,
     "metadata": {},
     "output_type": "execute_result"
    }
   ],
   "source": [
    "new_classifier.score(dataset.validate_dataloader)"
   ],
   "metadata": {
    "collapsed": false
   }
  },
  {
   "cell_type": "code",
   "execution_count": null,
   "outputs": [],
   "source": [],
   "metadata": {
    "collapsed": false
   }
  }
 ],
 "metadata": {
  "kernelspec": {
   "name": "bayesian_test",
   "language": "python",
   "display_name": "Python 3 (bayesian test)"
  },
  "language_info": {
   "codemirror_mode": {
    "name": "ipython",
    "version": 2
   },
   "file_extension": ".py",
   "mimetype": "text/x-python",
   "name": "python",
   "nbconvert_exporter": "python",
   "pygments_lexer": "ipython2",
   "version": "2.7.6"
  }
 },
 "nbformat": 4,
 "nbformat_minor": 0
}
