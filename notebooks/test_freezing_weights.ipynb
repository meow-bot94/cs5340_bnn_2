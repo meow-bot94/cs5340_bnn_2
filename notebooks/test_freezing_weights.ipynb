{
 "cells": [
  {
   "cell_type": "code",
   "execution_count": 2,
   "metadata": {
    "collapsed": true
   },
   "outputs": [
    {
     "name": "stderr",
     "output_type": "stream",
     "text": [
      "[2023-04-17 16:18:41] 15756 root {logger_initializer-47} INFO - Current process ID: 15756\n"
     ]
    }
   ],
   "source": [
    "import torch\n",
    "import ssl\n",
    "import matplotlib.pyplot as plt\n",
    "from src.logger.logger_initializer import LoggerInitializer\n",
    "from src.models.bnn.pyro_resnet18_bnn_classifier import PyroResnet18BnnClassifier\n",
    "from src.models.cnn.resnet18_cnn_classifier import Resnet18CnnClassifier\n",
    "from src.data_loader.dataset_getter import DatasetGetter\n",
    "from src.utils.path_getter import PathGetter\n",
    "\n",
    "ssl._create_default_https_context = ssl._create_unverified_context\n",
    "device = 'cuda'\n",
    "torch.__version__\n",
    "\n",
    "LoggerInitializer().init()\n",
    "dataset = DatasetGetter(PathGetter.get_data_directory(), batch_size=12).get()"
   ]
  },
  {
   "cell_type": "code",
   "execution_count": 3,
   "outputs": [],
   "source": [
    "cnn_classifier = Resnet18CnnClassifier(dataset=dataset, device=device).init()\n"
   ],
   "metadata": {
    "collapsed": false
   }
  },
  {
   "cell_type": "code",
   "execution_count": 4,
   "outputs": [
    {
     "name": "stdout",
     "output_type": "stream",
     "text": [
      "param_name='conv1.weight', param_value.shape=torch.Size([64, 3, 7, 7]), param_value.requires_grad=False\n",
      "param_name='bn1.weight', param_value.shape=torch.Size([64]), param_value.requires_grad=False\n",
      "param_name='bn1.bias', param_value.shape=torch.Size([64]), param_value.requires_grad=False\n",
      "param_name='layer1.0.conv1.weight', param_value.shape=torch.Size([64, 64, 3, 3]), param_value.requires_grad=False\n",
      "param_name='layer1.0.bn1.weight', param_value.shape=torch.Size([64]), param_value.requires_grad=False\n",
      "param_name='layer1.0.bn1.bias', param_value.shape=torch.Size([64]), param_value.requires_grad=False\n",
      "param_name='layer1.0.conv2.weight', param_value.shape=torch.Size([64, 64, 3, 3]), param_value.requires_grad=False\n",
      "param_name='layer1.0.bn2.weight', param_value.shape=torch.Size([64]), param_value.requires_grad=False\n",
      "param_name='layer1.0.bn2.bias', param_value.shape=torch.Size([64]), param_value.requires_grad=False\n",
      "param_name='layer1.1.conv1.weight', param_value.shape=torch.Size([64, 64, 3, 3]), param_value.requires_grad=False\n",
      "param_name='layer1.1.bn1.weight', param_value.shape=torch.Size([64]), param_value.requires_grad=False\n",
      "param_name='layer1.1.bn1.bias', param_value.shape=torch.Size([64]), param_value.requires_grad=False\n",
      "param_name='layer1.1.conv2.weight', param_value.shape=torch.Size([64, 64, 3, 3]), param_value.requires_grad=False\n",
      "param_name='layer1.1.bn2.weight', param_value.shape=torch.Size([64]), param_value.requires_grad=False\n",
      "param_name='layer1.1.bn2.bias', param_value.shape=torch.Size([64]), param_value.requires_grad=False\n",
      "param_name='layer2.0.conv1.weight', param_value.shape=torch.Size([128, 64, 3, 3]), param_value.requires_grad=False\n",
      "param_name='layer2.0.bn1.weight', param_value.shape=torch.Size([128]), param_value.requires_grad=False\n",
      "param_name='layer2.0.bn1.bias', param_value.shape=torch.Size([128]), param_value.requires_grad=False\n",
      "param_name='layer2.0.conv2.weight', param_value.shape=torch.Size([128, 128, 3, 3]), param_value.requires_grad=False\n",
      "param_name='layer2.0.bn2.weight', param_value.shape=torch.Size([128]), param_value.requires_grad=False\n",
      "param_name='layer2.0.bn2.bias', param_value.shape=torch.Size([128]), param_value.requires_grad=False\n",
      "param_name='layer2.0.downsample.0.weight', param_value.shape=torch.Size([128, 64, 1, 1]), param_value.requires_grad=False\n",
      "param_name='layer2.0.downsample.1.weight', param_value.shape=torch.Size([128]), param_value.requires_grad=False\n",
      "param_name='layer2.0.downsample.1.bias', param_value.shape=torch.Size([128]), param_value.requires_grad=False\n",
      "param_name='layer2.1.conv1.weight', param_value.shape=torch.Size([128, 128, 3, 3]), param_value.requires_grad=False\n",
      "param_name='layer2.1.bn1.weight', param_value.shape=torch.Size([128]), param_value.requires_grad=False\n",
      "param_name='layer2.1.bn1.bias', param_value.shape=torch.Size([128]), param_value.requires_grad=False\n",
      "param_name='layer2.1.conv2.weight', param_value.shape=torch.Size([128, 128, 3, 3]), param_value.requires_grad=False\n",
      "param_name='layer2.1.bn2.weight', param_value.shape=torch.Size([128]), param_value.requires_grad=False\n",
      "param_name='layer2.1.bn2.bias', param_value.shape=torch.Size([128]), param_value.requires_grad=False\n",
      "param_name='layer3.0.conv1.weight', param_value.shape=torch.Size([256, 128, 3, 3]), param_value.requires_grad=False\n",
      "param_name='layer3.0.bn1.weight', param_value.shape=torch.Size([256]), param_value.requires_grad=False\n",
      "param_name='layer3.0.bn1.bias', param_value.shape=torch.Size([256]), param_value.requires_grad=False\n",
      "param_name='layer3.0.conv2.weight', param_value.shape=torch.Size([256, 256, 3, 3]), param_value.requires_grad=False\n",
      "param_name='layer3.0.bn2.weight', param_value.shape=torch.Size([256]), param_value.requires_grad=False\n",
      "param_name='layer3.0.bn2.bias', param_value.shape=torch.Size([256]), param_value.requires_grad=False\n",
      "param_name='layer3.0.downsample.0.weight', param_value.shape=torch.Size([256, 128, 1, 1]), param_value.requires_grad=False\n",
      "param_name='layer3.0.downsample.1.weight', param_value.shape=torch.Size([256]), param_value.requires_grad=False\n",
      "param_name='layer3.0.downsample.1.bias', param_value.shape=torch.Size([256]), param_value.requires_grad=False\n",
      "param_name='layer3.1.conv1.weight', param_value.shape=torch.Size([256, 256, 3, 3]), param_value.requires_grad=False\n",
      "param_name='layer3.1.bn1.weight', param_value.shape=torch.Size([256]), param_value.requires_grad=False\n",
      "param_name='layer3.1.bn1.bias', param_value.shape=torch.Size([256]), param_value.requires_grad=False\n",
      "param_name='layer3.1.conv2.weight', param_value.shape=torch.Size([256, 256, 3, 3]), param_value.requires_grad=False\n",
      "param_name='layer3.1.bn2.weight', param_value.shape=torch.Size([256]), param_value.requires_grad=False\n",
      "param_name='layer3.1.bn2.bias', param_value.shape=torch.Size([256]), param_value.requires_grad=False\n",
      "param_name='layer4.0.conv1.weight', param_value.shape=torch.Size([512, 256, 3, 3]), param_value.requires_grad=False\n",
      "param_name='layer4.0.bn1.weight', param_value.shape=torch.Size([512]), param_value.requires_grad=False\n",
      "param_name='layer4.0.bn1.bias', param_value.shape=torch.Size([512]), param_value.requires_grad=False\n",
      "param_name='layer4.0.conv2.weight', param_value.shape=torch.Size([512, 512, 3, 3]), param_value.requires_grad=False\n",
      "param_name='layer4.0.bn2.weight', param_value.shape=torch.Size([512]), param_value.requires_grad=False\n",
      "param_name='layer4.0.bn2.bias', param_value.shape=torch.Size([512]), param_value.requires_grad=False\n",
      "param_name='layer4.0.downsample.0.weight', param_value.shape=torch.Size([512, 256, 1, 1]), param_value.requires_grad=False\n",
      "param_name='layer4.0.downsample.1.weight', param_value.shape=torch.Size([512]), param_value.requires_grad=False\n",
      "param_name='layer4.0.downsample.1.bias', param_value.shape=torch.Size([512]), param_value.requires_grad=False\n",
      "param_name='layer4.1.conv1.weight', param_value.shape=torch.Size([512, 512, 3, 3]), param_value.requires_grad=False\n",
      "param_name='layer4.1.bn1.weight', param_value.shape=torch.Size([512]), param_value.requires_grad=False\n",
      "param_name='layer4.1.bn1.bias', param_value.shape=torch.Size([512]), param_value.requires_grad=False\n",
      "param_name='layer4.1.conv2.weight', param_value.shape=torch.Size([512, 512, 3, 3]), param_value.requires_grad=False\n",
      "param_name='layer4.1.bn2.weight', param_value.shape=torch.Size([512]), param_value.requires_grad=False\n",
      "param_name='layer4.1.bn2.bias', param_value.shape=torch.Size([512]), param_value.requires_grad=False\n",
      "param_name='fc.weight', param_value.shape=torch.Size([6, 512]), param_value.requires_grad=True\n",
      "param_name='fc.bias', param_value.shape=torch.Size([6]), param_value.requires_grad=True\n"
     ]
    }
   ],
   "source": [
    "for param_name, param_value in cnn_classifier._model.named_parameters():\n",
    "    print(f'{param_name=}, {param_value.shape=}, {param_value.requires_grad=}')"
   ],
   "metadata": {
    "collapsed": false
   }
  },
  {
   "cell_type": "code",
   "execution_count": 6,
   "outputs": [
    {
     "name": "stdout",
     "output_type": "stream",
     "text": [
      "param_name='conv1.weight', param_value.shape=torch.Size([64, 3, 7, 7]), param_value.requires_grad=False\n",
      "param_name='bn1.weight', param_value.shape=torch.Size([64]), param_value.requires_grad=False\n",
      "param_name='bn1.bias', param_value.shape=torch.Size([64]), param_value.requires_grad=False\n",
      "param_name='layer1.0.conv1.weight', param_value.shape=torch.Size([64, 64, 3, 3]), param_value.requires_grad=False\n",
      "param_name='layer1.0.bn1.weight', param_value.shape=torch.Size([64]), param_value.requires_grad=False\n",
      "param_name='layer1.0.bn1.bias', param_value.shape=torch.Size([64]), param_value.requires_grad=False\n",
      "param_name='layer1.0.conv2.weight', param_value.shape=torch.Size([64, 64, 3, 3]), param_value.requires_grad=False\n",
      "param_name='layer1.0.bn2.weight', param_value.shape=torch.Size([64]), param_value.requires_grad=False\n",
      "param_name='layer1.0.bn2.bias', param_value.shape=torch.Size([64]), param_value.requires_grad=False\n",
      "param_name='layer1.1.conv1.weight', param_value.shape=torch.Size([64, 64, 3, 3]), param_value.requires_grad=False\n",
      "param_name='layer1.1.bn1.weight', param_value.shape=torch.Size([64]), param_value.requires_grad=False\n",
      "param_name='layer1.1.bn1.bias', param_value.shape=torch.Size([64]), param_value.requires_grad=False\n",
      "param_name='layer1.1.conv2.weight', param_value.shape=torch.Size([64, 64, 3, 3]), param_value.requires_grad=False\n",
      "param_name='layer1.1.bn2.weight', param_value.shape=torch.Size([64]), param_value.requires_grad=False\n",
      "param_name='layer1.1.bn2.bias', param_value.shape=torch.Size([64]), param_value.requires_grad=False\n",
      "param_name='layer2.0.conv1.weight', param_value.shape=torch.Size([128, 64, 3, 3]), param_value.requires_grad=False\n",
      "param_name='layer2.0.bn1.weight', param_value.shape=torch.Size([128]), param_value.requires_grad=False\n",
      "param_name='layer2.0.bn1.bias', param_value.shape=torch.Size([128]), param_value.requires_grad=False\n",
      "param_name='layer2.0.conv2.weight', param_value.shape=torch.Size([128, 128, 3, 3]), param_value.requires_grad=False\n",
      "param_name='layer2.0.bn2.weight', param_value.shape=torch.Size([128]), param_value.requires_grad=False\n",
      "param_name='layer2.0.bn2.bias', param_value.shape=torch.Size([128]), param_value.requires_grad=False\n",
      "param_name='layer2.0.downsample.0.weight', param_value.shape=torch.Size([128, 64, 1, 1]), param_value.requires_grad=False\n",
      "param_name='layer2.0.downsample.1.weight', param_value.shape=torch.Size([128]), param_value.requires_grad=False\n",
      "param_name='layer2.0.downsample.1.bias', param_value.shape=torch.Size([128]), param_value.requires_grad=False\n",
      "param_name='layer2.1.conv1.weight', param_value.shape=torch.Size([128, 128, 3, 3]), param_value.requires_grad=False\n",
      "param_name='layer2.1.bn1.weight', param_value.shape=torch.Size([128]), param_value.requires_grad=False\n",
      "param_name='layer2.1.bn1.bias', param_value.shape=torch.Size([128]), param_value.requires_grad=False\n",
      "param_name='layer2.1.conv2.weight', param_value.shape=torch.Size([128, 128, 3, 3]), param_value.requires_grad=False\n",
      "param_name='layer2.1.bn2.weight', param_value.shape=torch.Size([128]), param_value.requires_grad=False\n",
      "param_name='layer2.1.bn2.bias', param_value.shape=torch.Size([128]), param_value.requires_grad=False\n",
      "param_name='layer3.0.conv1.weight', param_value.shape=torch.Size([256, 128, 3, 3]), param_value.requires_grad=False\n",
      "param_name='layer3.0.bn1.weight', param_value.shape=torch.Size([256]), param_value.requires_grad=False\n",
      "param_name='layer3.0.bn1.bias', param_value.shape=torch.Size([256]), param_value.requires_grad=False\n",
      "param_name='layer3.0.conv2.weight', param_value.shape=torch.Size([256, 256, 3, 3]), param_value.requires_grad=False\n",
      "param_name='layer3.0.bn2.weight', param_value.shape=torch.Size([256]), param_value.requires_grad=False\n",
      "param_name='layer3.0.bn2.bias', param_value.shape=torch.Size([256]), param_value.requires_grad=False\n",
      "param_name='layer3.0.downsample.0.weight', param_value.shape=torch.Size([256, 128, 1, 1]), param_value.requires_grad=False\n",
      "param_name='layer3.0.downsample.1.weight', param_value.shape=torch.Size([256]), param_value.requires_grad=False\n",
      "param_name='layer3.0.downsample.1.bias', param_value.shape=torch.Size([256]), param_value.requires_grad=False\n",
      "param_name='layer3.1.conv1.weight', param_value.shape=torch.Size([256, 256, 3, 3]), param_value.requires_grad=False\n",
      "param_name='layer3.1.bn1.weight', param_value.shape=torch.Size([256]), param_value.requires_grad=False\n",
      "param_name='layer3.1.bn1.bias', param_value.shape=torch.Size([256]), param_value.requires_grad=False\n",
      "param_name='layer3.1.conv2.weight', param_value.shape=torch.Size([256, 256, 3, 3]), param_value.requires_grad=False\n",
      "param_name='layer3.1.bn2.weight', param_value.shape=torch.Size([256]), param_value.requires_grad=False\n",
      "param_name='layer3.1.bn2.bias', param_value.shape=torch.Size([256]), param_value.requires_grad=False\n",
      "param_name='layer4.0.conv1.weight', param_value.shape=torch.Size([512, 256, 3, 3]), param_value.requires_grad=False\n",
      "param_name='layer4.0.bn1.weight', param_value.shape=torch.Size([512]), param_value.requires_grad=False\n",
      "param_name='layer4.0.bn1.bias', param_value.shape=torch.Size([512]), param_value.requires_grad=False\n",
      "param_name='layer4.0.conv2.weight', param_value.shape=torch.Size([512, 512, 3, 3]), param_value.requires_grad=False\n",
      "param_name='layer4.0.bn2.weight', param_value.shape=torch.Size([512]), param_value.requires_grad=False\n",
      "param_name='layer4.0.bn2.bias', param_value.shape=torch.Size([512]), param_value.requires_grad=False\n",
      "param_name='layer4.0.downsample.0.weight', param_value.shape=torch.Size([512, 256, 1, 1]), param_value.requires_grad=False\n",
      "param_name='layer4.0.downsample.1.weight', param_value.shape=torch.Size([512]), param_value.requires_grad=False\n",
      "param_name='layer4.0.downsample.1.bias', param_value.shape=torch.Size([512]), param_value.requires_grad=False\n",
      "param_name='layer4.1.conv1.weight', param_value.shape=torch.Size([512, 512, 3, 3]), param_value.requires_grad=False\n",
      "param_name='layer4.1.bn1.weight', param_value.shape=torch.Size([512]), param_value.requires_grad=False\n",
      "param_name='layer4.1.bn1.bias', param_value.shape=torch.Size([512]), param_value.requires_grad=False\n",
      "param_name='layer4.1.conv2.weight', param_value.shape=torch.Size([512, 512, 3, 3]), param_value.requires_grad=False\n",
      "param_name='layer4.1.bn2.weight', param_value.shape=torch.Size([512]), param_value.requires_grad=False\n",
      "param_name='layer4.1.bn2.bias', param_value.shape=torch.Size([512]), param_value.requires_grad=False\n",
      "param_name='fc.weight', param_value.shape=torch.Size([6, 512]), param_value.requires_grad=False\n",
      "param_name='fc.bias', param_value.shape=torch.Size([6]), param_value.requires_grad=False\n"
     ]
    }
   ],
   "source": [
    "cnn_classifier.freeze_all_layers()\n",
    "for param_name, param_value in cnn_classifier._model.named_parameters():\n",
    "    print(f'{param_name=}, {param_value.shape=}, {param_value.requires_grad=}')"
   ],
   "metadata": {
    "collapsed": false
   }
  },
  {
   "cell_type": "code",
   "execution_count": 7,
   "outputs": [
    {
     "name": "stdout",
     "output_type": "stream",
     "text": [
      "param_name='conv1.weight', param_value.shape=torch.Size([64, 3, 7, 7]), param_value.requires_grad=True\n",
      "param_name='bn1.weight', param_value.shape=torch.Size([64]), param_value.requires_grad=True\n",
      "param_name='bn1.bias', param_value.shape=torch.Size([64]), param_value.requires_grad=True\n",
      "param_name='layer1.0.conv1.weight', param_value.shape=torch.Size([64, 64, 3, 3]), param_value.requires_grad=True\n",
      "param_name='layer1.0.bn1.weight', param_value.shape=torch.Size([64]), param_value.requires_grad=True\n",
      "param_name='layer1.0.bn1.bias', param_value.shape=torch.Size([64]), param_value.requires_grad=True\n",
      "param_name='layer1.0.conv2.weight', param_value.shape=torch.Size([64, 64, 3, 3]), param_value.requires_grad=True\n",
      "param_name='layer1.0.bn2.weight', param_value.shape=torch.Size([64]), param_value.requires_grad=True\n",
      "param_name='layer1.0.bn2.bias', param_value.shape=torch.Size([64]), param_value.requires_grad=True\n",
      "param_name='layer1.1.conv1.weight', param_value.shape=torch.Size([64, 64, 3, 3]), param_value.requires_grad=True\n",
      "param_name='layer1.1.bn1.weight', param_value.shape=torch.Size([64]), param_value.requires_grad=True\n",
      "param_name='layer1.1.bn1.bias', param_value.shape=torch.Size([64]), param_value.requires_grad=True\n",
      "param_name='layer1.1.conv2.weight', param_value.shape=torch.Size([64, 64, 3, 3]), param_value.requires_grad=True\n",
      "param_name='layer1.1.bn2.weight', param_value.shape=torch.Size([64]), param_value.requires_grad=True\n",
      "param_name='layer1.1.bn2.bias', param_value.shape=torch.Size([64]), param_value.requires_grad=True\n",
      "param_name='layer2.0.conv1.weight', param_value.shape=torch.Size([128, 64, 3, 3]), param_value.requires_grad=True\n",
      "param_name='layer2.0.bn1.weight', param_value.shape=torch.Size([128]), param_value.requires_grad=True\n",
      "param_name='layer2.0.bn1.bias', param_value.shape=torch.Size([128]), param_value.requires_grad=True\n",
      "param_name='layer2.0.conv2.weight', param_value.shape=torch.Size([128, 128, 3, 3]), param_value.requires_grad=True\n",
      "param_name='layer2.0.bn2.weight', param_value.shape=torch.Size([128]), param_value.requires_grad=True\n",
      "param_name='layer2.0.bn2.bias', param_value.shape=torch.Size([128]), param_value.requires_grad=True\n",
      "param_name='layer2.0.downsample.0.weight', param_value.shape=torch.Size([128, 64, 1, 1]), param_value.requires_grad=True\n",
      "param_name='layer2.0.downsample.1.weight', param_value.shape=torch.Size([128]), param_value.requires_grad=True\n",
      "param_name='layer2.0.downsample.1.bias', param_value.shape=torch.Size([128]), param_value.requires_grad=True\n",
      "param_name='layer2.1.conv1.weight', param_value.shape=torch.Size([128, 128, 3, 3]), param_value.requires_grad=True\n",
      "param_name='layer2.1.bn1.weight', param_value.shape=torch.Size([128]), param_value.requires_grad=True\n",
      "param_name='layer2.1.bn1.bias', param_value.shape=torch.Size([128]), param_value.requires_grad=True\n",
      "param_name='layer2.1.conv2.weight', param_value.shape=torch.Size([128, 128, 3, 3]), param_value.requires_grad=True\n",
      "param_name='layer2.1.bn2.weight', param_value.shape=torch.Size([128]), param_value.requires_grad=True\n",
      "param_name='layer2.1.bn2.bias', param_value.shape=torch.Size([128]), param_value.requires_grad=True\n",
      "param_name='layer3.0.conv1.weight', param_value.shape=torch.Size([256, 128, 3, 3]), param_value.requires_grad=True\n",
      "param_name='layer3.0.bn1.weight', param_value.shape=torch.Size([256]), param_value.requires_grad=True\n",
      "param_name='layer3.0.bn1.bias', param_value.shape=torch.Size([256]), param_value.requires_grad=True\n",
      "param_name='layer3.0.conv2.weight', param_value.shape=torch.Size([256, 256, 3, 3]), param_value.requires_grad=True\n",
      "param_name='layer3.0.bn2.weight', param_value.shape=torch.Size([256]), param_value.requires_grad=True\n",
      "param_name='layer3.0.bn2.bias', param_value.shape=torch.Size([256]), param_value.requires_grad=True\n",
      "param_name='layer3.0.downsample.0.weight', param_value.shape=torch.Size([256, 128, 1, 1]), param_value.requires_grad=True\n",
      "param_name='layer3.0.downsample.1.weight', param_value.shape=torch.Size([256]), param_value.requires_grad=True\n",
      "param_name='layer3.0.downsample.1.bias', param_value.shape=torch.Size([256]), param_value.requires_grad=True\n",
      "param_name='layer3.1.conv1.weight', param_value.shape=torch.Size([256, 256, 3, 3]), param_value.requires_grad=True\n",
      "param_name='layer3.1.bn1.weight', param_value.shape=torch.Size([256]), param_value.requires_grad=True\n",
      "param_name='layer3.1.bn1.bias', param_value.shape=torch.Size([256]), param_value.requires_grad=True\n",
      "param_name='layer3.1.conv2.weight', param_value.shape=torch.Size([256, 256, 3, 3]), param_value.requires_grad=True\n",
      "param_name='layer3.1.bn2.weight', param_value.shape=torch.Size([256]), param_value.requires_grad=True\n",
      "param_name='layer3.1.bn2.bias', param_value.shape=torch.Size([256]), param_value.requires_grad=True\n",
      "param_name='layer4.0.conv1.weight', param_value.shape=torch.Size([512, 256, 3, 3]), param_value.requires_grad=True\n",
      "param_name='layer4.0.bn1.weight', param_value.shape=torch.Size([512]), param_value.requires_grad=True\n",
      "param_name='layer4.0.bn1.bias', param_value.shape=torch.Size([512]), param_value.requires_grad=True\n",
      "param_name='layer4.0.conv2.weight', param_value.shape=torch.Size([512, 512, 3, 3]), param_value.requires_grad=True\n",
      "param_name='layer4.0.bn2.weight', param_value.shape=torch.Size([512]), param_value.requires_grad=True\n",
      "param_name='layer4.0.bn2.bias', param_value.shape=torch.Size([512]), param_value.requires_grad=True\n",
      "param_name='layer4.0.downsample.0.weight', param_value.shape=torch.Size([512, 256, 1, 1]), param_value.requires_grad=True\n",
      "param_name='layer4.0.downsample.1.weight', param_value.shape=torch.Size([512]), param_value.requires_grad=True\n",
      "param_name='layer4.0.downsample.1.bias', param_value.shape=torch.Size([512]), param_value.requires_grad=True\n",
      "param_name='layer4.1.conv1.weight', param_value.shape=torch.Size([512, 512, 3, 3]), param_value.requires_grad=True\n",
      "param_name='layer4.1.bn1.weight', param_value.shape=torch.Size([512]), param_value.requires_grad=True\n",
      "param_name='layer4.1.bn1.bias', param_value.shape=torch.Size([512]), param_value.requires_grad=True\n",
      "param_name='layer4.1.conv2.weight', param_value.shape=torch.Size([512, 512, 3, 3]), param_value.requires_grad=True\n",
      "param_name='layer4.1.bn2.weight', param_value.shape=torch.Size([512]), param_value.requires_grad=True\n",
      "param_name='layer4.1.bn2.bias', param_value.shape=torch.Size([512]), param_value.requires_grad=True\n",
      "param_name='fc.weight', param_value.shape=torch.Size([6, 512]), param_value.requires_grad=True\n",
      "param_name='fc.bias', param_value.shape=torch.Size([6]), param_value.requires_grad=True\n"
     ]
    }
   ],
   "source": [
    "cnn_classifier.unfreeze_all_layers()\n",
    "for param_name, param_value in cnn_classifier._model.named_parameters():\n",
    "    print(f'{param_name=}, {param_value.shape=}, {param_value.requires_grad=}')"
   ],
   "metadata": {
    "collapsed": false
   }
  },
  {
   "cell_type": "code",
   "execution_count": 3,
   "outputs": [],
   "source": [
    "bnn_classifier = PyroResnet18BnnClassifier(dataset=dataset, device=device).init()"
   ],
   "metadata": {
    "collapsed": false
   }
  },
  {
   "cell_type": "code",
   "execution_count": 4,
   "outputs": [
    {
     "name": "stdout",
     "output_type": "stream",
     "text": [
      "param_name='_resnet.bn1.weight', param_value.shape=torch.Size([64]), param_value.requires_grad=False\n",
      "param_name='_resnet.bn1.bias', param_value.shape=torch.Size([64]), param_value.requires_grad=False\n",
      "param_name='_resnet.layer1.0.bn1.weight', param_value.shape=torch.Size([64]), param_value.requires_grad=False\n",
      "param_name='_resnet.layer1.0.bn1.bias', param_value.shape=torch.Size([64]), param_value.requires_grad=False\n",
      "param_name='_resnet.layer1.0.bn2.weight', param_value.shape=torch.Size([64]), param_value.requires_grad=False\n",
      "param_name='_resnet.layer1.0.bn2.bias', param_value.shape=torch.Size([64]), param_value.requires_grad=False\n",
      "param_name='_resnet.layer1.1.bn1.weight', param_value.shape=torch.Size([64]), param_value.requires_grad=False\n",
      "param_name='_resnet.layer1.1.bn1.bias', param_value.shape=torch.Size([64]), param_value.requires_grad=False\n",
      "param_name='_resnet.layer1.1.bn2.weight', param_value.shape=torch.Size([64]), param_value.requires_grad=False\n",
      "param_name='_resnet.layer1.1.bn2.bias', param_value.shape=torch.Size([64]), param_value.requires_grad=False\n",
      "param_name='_resnet.layer2.0.bn1.weight', param_value.shape=torch.Size([128]), param_value.requires_grad=False\n",
      "param_name='_resnet.layer2.0.bn1.bias', param_value.shape=torch.Size([128]), param_value.requires_grad=False\n",
      "param_name='_resnet.layer2.0.bn2.weight', param_value.shape=torch.Size([128]), param_value.requires_grad=False\n",
      "param_name='_resnet.layer2.0.bn2.bias', param_value.shape=torch.Size([128]), param_value.requires_grad=False\n",
      "param_name='_resnet.layer2.0.downsample.1.weight', param_value.shape=torch.Size([128]), param_value.requires_grad=False\n",
      "param_name='_resnet.layer2.0.downsample.1.bias', param_value.shape=torch.Size([128]), param_value.requires_grad=False\n",
      "param_name='_resnet.layer2.1.bn1.weight', param_value.shape=torch.Size([128]), param_value.requires_grad=False\n",
      "param_name='_resnet.layer2.1.bn1.bias', param_value.shape=torch.Size([128]), param_value.requires_grad=False\n",
      "param_name='_resnet.layer2.1.bn2.weight', param_value.shape=torch.Size([128]), param_value.requires_grad=False\n",
      "param_name='_resnet.layer2.1.bn2.bias', param_value.shape=torch.Size([128]), param_value.requires_grad=False\n",
      "param_name='_resnet.layer3.0.bn1.weight', param_value.shape=torch.Size([256]), param_value.requires_grad=False\n",
      "param_name='_resnet.layer3.0.bn1.bias', param_value.shape=torch.Size([256]), param_value.requires_grad=False\n",
      "param_name='_resnet.layer3.0.bn2.weight', param_value.shape=torch.Size([256]), param_value.requires_grad=False\n",
      "param_name='_resnet.layer3.0.bn2.bias', param_value.shape=torch.Size([256]), param_value.requires_grad=False\n",
      "param_name='_resnet.layer3.0.downsample.1.weight', param_value.shape=torch.Size([256]), param_value.requires_grad=False\n",
      "param_name='_resnet.layer3.0.downsample.1.bias', param_value.shape=torch.Size([256]), param_value.requires_grad=False\n",
      "param_name='_resnet.layer3.1.bn1.weight', param_value.shape=torch.Size([256]), param_value.requires_grad=False\n",
      "param_name='_resnet.layer3.1.bn1.bias', param_value.shape=torch.Size([256]), param_value.requires_grad=False\n",
      "param_name='_resnet.layer3.1.bn2.weight', param_value.shape=torch.Size([256]), param_value.requires_grad=False\n",
      "param_name='_resnet.layer3.1.bn2.bias', param_value.shape=torch.Size([256]), param_value.requires_grad=False\n",
      "param_name='_resnet.layer4.0.bn1.weight', param_value.shape=torch.Size([512]), param_value.requires_grad=False\n",
      "param_name='_resnet.layer4.0.bn1.bias', param_value.shape=torch.Size([512]), param_value.requires_grad=False\n",
      "param_name='_resnet.layer4.0.bn2.weight', param_value.shape=torch.Size([512]), param_value.requires_grad=False\n",
      "param_name='_resnet.layer4.0.bn2.bias', param_value.shape=torch.Size([512]), param_value.requires_grad=False\n",
      "param_name='_resnet.layer4.0.downsample.1.weight', param_value.shape=torch.Size([512]), param_value.requires_grad=False\n",
      "param_name='_resnet.layer4.0.downsample.1.bias', param_value.shape=torch.Size([512]), param_value.requires_grad=False\n",
      "param_name='_resnet.layer4.1.bn1.weight', param_value.shape=torch.Size([512]), param_value.requires_grad=False\n",
      "param_name='_resnet.layer4.1.bn1.bias', param_value.shape=torch.Size([512]), param_value.requires_grad=False\n",
      "param_name='_resnet.layer4.1.bn2.weight', param_value.shape=torch.Size([512]), param_value.requires_grad=False\n",
      "param_name='_resnet.layer4.1.bn2.bias', param_value.shape=torch.Size([512]), param_value.requires_grad=False\n"
     ]
    }
   ],
   "source": [
    "for param_name, param_value in bnn_classifier._model.named_parameters():\n",
    "    print(f'{param_name=}, {param_value.shape=}, {param_value.requires_grad=}')"
   ],
   "metadata": {
    "collapsed": false
   }
  },
  {
   "cell_type": "code",
   "execution_count": null,
   "outputs": [],
   "source": [
    "bnn_classifier.freeze_all_layers()\n",
    "for param_name, param_value in bnn_classifier._model.named_parameters():\n",
    "    print(f'{param_name=}, {param_value.shape=}, {param_value.requires_grad=}')"
   ],
   "metadata": {
    "collapsed": false
   }
  },
  {
   "cell_type": "code",
   "execution_count": null,
   "outputs": [],
   "source": [],
   "metadata": {
    "collapsed": false
   }
  },
  {
   "cell_type": "code",
   "execution_count": null,
   "outputs": [],
   "source": [],
   "metadata": {
    "collapsed": false
   }
  }
 ],
 "metadata": {
  "kernelspec": {
   "name": "bayesian_test",
   "language": "python",
   "display_name": "Python 3 (bayesian test)"
  },
  "language_info": {
   "codemirror_mode": {
    "name": "ipython",
    "version": 2
   },
   "file_extension": ".py",
   "mimetype": "text/x-python",
   "name": "python",
   "nbconvert_exporter": "python",
   "pygments_lexer": "ipython2",
   "version": "2.7.6"
  }
 },
 "nbformat": 4,
 "nbformat_minor": 0
}
