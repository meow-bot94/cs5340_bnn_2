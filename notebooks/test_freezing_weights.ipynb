{
 "cells": [
  {
   "cell_type": "code",
   "execution_count": 1,
   "outputs": [
    {
     "name": "stdout",
     "output_type": "stream",
     "text": [
      "test\n"
     ]
    }
   ],
   "source": [
    "print('test')"
   ],
   "metadata": {
    "collapsed": false
   }
  },
  {
   "cell_type": "code",
   "execution_count": 2,
   "metadata": {
    "collapsed": true
   },
   "outputs": [
    {
     "name": "stderr",
     "output_type": "stream",
     "text": [
      "[2023-04-17 19:26:19] 26196 root {logger_initializer-47} INFO - Current process ID: 26196\n"
     ]
    }
   ],
   "source": [
    "import pyro\n",
    "import torch\n",
    "import ssl\n",
    "import matplotlib.pyplot as plt\n",
    "from src.logger.logger_initializer import LoggerInitializer\n",
    "from src.models.bnn.pyro_resnet18_bnn_classifier import PyroResnet18BnnClassifier\n",
    "from src.data_loader.dataset_getter import DatasetGetter\n",
    "from src.utils.path_getter import PathGetter\n",
    "\n",
    "ssl._create_default_https_context = ssl._create_unverified_context\n",
    "device = 'cuda'\n",
    "torch.__version__\n",
    "\n",
    "LoggerInitializer().init()\n",
    "dataset = DatasetGetter(PathGetter.get_data_directory(), batch_size=12).get()"
   ]
  },
  {
   "cell_type": "code",
   "execution_count": 3,
   "outputs": [
    {
     "name": "stdout",
     "output_type": "stream",
     "text": [
      "module_name='conv1', PyroConv2d(3, 64, kernel_size=(7, 7), stride=(2, 2), padding=(3, 3), bias=False)\n",
      "module_name='layer1.0.conv1', PyroConv2d(64, 64, kernel_size=(3, 3), stride=(1, 1), padding=(1, 1), bias=False)\n",
      "module_name='layer1.0.conv2', PyroConv2d(64, 64, kernel_size=(3, 3), stride=(1, 1), padding=(1, 1), bias=False)\n",
      "module_name='layer1.1.conv1', PyroConv2d(64, 64, kernel_size=(3, 3), stride=(1, 1), padding=(1, 1), bias=False)\n",
      "module_name='layer1.1.conv2', PyroConv2d(64, 64, kernel_size=(3, 3), stride=(1, 1), padding=(1, 1), bias=False)\n",
      "module_name='layer2.0.conv1', PyroConv2d(64, 128, kernel_size=(3, 3), stride=(2, 2), padding=(1, 1), bias=False)\n",
      "module_name='layer2.0.conv2', PyroConv2d(128, 128, kernel_size=(3, 3), stride=(1, 1), padding=(1, 1), bias=False)\n",
      "module_name='layer2.0.downsample.0', PyroConv2d(64, 128, kernel_size=(1, 1), stride=(2, 2), bias=False)\n",
      "module_name='layer2.1.conv1', PyroConv2d(128, 128, kernel_size=(3, 3), stride=(1, 1), padding=(1, 1), bias=False)\n",
      "module_name='layer2.1.conv2', PyroConv2d(128, 128, kernel_size=(3, 3), stride=(1, 1), padding=(1, 1), bias=False)\n",
      "module_name='layer3.0.conv1', PyroConv2d(128, 256, kernel_size=(3, 3), stride=(2, 2), padding=(1, 1), bias=False)\n",
      "module_name='layer3.0.conv2', PyroConv2d(256, 256, kernel_size=(3, 3), stride=(1, 1), padding=(1, 1), bias=False)\n",
      "module_name='layer3.0.downsample.0', PyroConv2d(128, 256, kernel_size=(1, 1), stride=(2, 2), bias=False)\n",
      "module_name='layer3.1.conv1', PyroConv2d(256, 256, kernel_size=(3, 3), stride=(1, 1), padding=(1, 1), bias=False)\n",
      "module_name='layer3.1.conv2', PyroConv2d(256, 256, kernel_size=(3, 3), stride=(1, 1), padding=(1, 1), bias=False)\n",
      "module_name='layer4.0.conv1', PyroConv2d(256, 512, kernel_size=(3, 3), stride=(2, 2), padding=(1, 1), bias=False)\n",
      "module_name='layer4.0.conv2', PyroConv2d(512, 512, kernel_size=(3, 3), stride=(1, 1), padding=(1, 1), bias=False)\n",
      "module_name='layer4.0.downsample.0', PyroConv2d(256, 512, kernel_size=(1, 1), stride=(2, 2), bias=False)\n",
      "module_name='layer4.1.conv1', PyroConv2d(512, 512, kernel_size=(3, 3), stride=(1, 1), padding=(1, 1), bias=False)\n",
      "module_name='layer4.1.conv2', PyroConv2d(512, 512, kernel_size=(3, 3), stride=(1, 1), padding=(1, 1), bias=False)\n",
      "module_name='fc', PyroLinear(in_features=512, out_features=6, bias=True)\n",
      "m.weight=Parameter containing:\n",
      "tensor([[-0.0369,  0.0301, -0.0234,  ...,  0.0049,  0.0192,  0.0138],\n",
      "        [ 0.0179,  0.0175,  0.0003,  ..., -0.0256, -0.0439,  0.0095],\n",
      "        [ 0.0226, -0.0014, -0.0117,  ...,  0.0167,  0.0205,  0.0388],\n",
      "        [-0.0406,  0.0064, -0.0319,  ...,  0.0355, -0.0237, -0.0033],\n",
      "        [-0.0344, -0.0343, -0.0417,  ...,  0.0132, -0.0401, -0.0224],\n",
      "        [ 0.0212,  0.0148, -0.0133,  ..., -0.0226,  0.0441, -0.0321]],\n",
      "       device='cuda:0', requires_grad=True)\n",
      "m.weight=tensor([[-0.0365,  0.0286, -0.0240,  ...,  0.0061,  0.0199,  0.0129],\n",
      "        [ 0.0188,  0.0175,  0.0006,  ..., -0.0241, -0.0438,  0.0095],\n",
      "        [ 0.0233, -0.0004, -0.0129,  ...,  0.0179,  0.0201,  0.0398],\n",
      "        [-0.0407,  0.0061, -0.0308,  ...,  0.0373, -0.0239, -0.0048],\n",
      "        [-0.0344, -0.0343, -0.0409,  ...,  0.0129, -0.0400, -0.0222],\n",
      "        [ 0.0219,  0.0141, -0.0145,  ..., -0.0219,  0.0431, -0.0325]],\n",
      "       device='cuda:0', grad_fn=<AddBackward0>)\n",
      "m.bias=Parameter containing:\n",
      "tensor([-0.0141, -0.0251, -0.0396, -0.0101, -0.0235, -0.0136], device='cuda:0',\n",
      "       requires_grad=True)\n",
      "m.bias=tensor([-0.0140, -0.0237, -0.0389, -0.0114, -0.0253, -0.0131], device='cuda:0',\n",
      "       grad_fn=<AddBackward0>)\n",
      "hasattr(model, \"fc\")=True\n",
      "model.fc=PyroLinear(in_features=512, out_features=6, bias=True)\n"
     ]
    }
   ],
   "source": [
    "bnn_classifier = PyroResnet18BnnClassifier(dataset=dataset, device=device).init()"
   ],
   "metadata": {
    "collapsed": false
   }
  },
  {
   "cell_type": "code",
   "execution_count": 4,
   "outputs": [
    {
     "name": "stdout",
     "output_type": "stream",
     "text": [
      "_resnet.bn1.weight\n",
      "_resnet.bn1.bias\n",
      "_resnet.layer1.0.bn1.weight\n",
      "_resnet.layer1.0.bn1.bias\n",
      "_resnet.layer1.0.bn2.weight\n",
      "_resnet.layer1.0.bn2.bias\n",
      "_resnet.layer1.1.bn1.weight\n",
      "_resnet.layer1.1.bn1.bias\n",
      "_resnet.layer1.1.bn2.weight\n",
      "_resnet.layer1.1.bn2.bias\n",
      "_resnet.layer2.0.bn1.weight\n",
      "_resnet.layer2.0.bn1.bias\n",
      "_resnet.layer2.0.bn2.weight\n",
      "_resnet.layer2.0.bn2.bias\n",
      "_resnet.layer2.0.downsample.1.weight\n",
      "_resnet.layer2.0.downsample.1.bias\n",
      "_resnet.layer2.1.bn1.weight\n",
      "_resnet.layer2.1.bn1.bias\n",
      "_resnet.layer2.1.bn2.weight\n",
      "_resnet.layer2.1.bn2.bias\n",
      "_resnet.layer3.0.bn1.weight\n",
      "_resnet.layer3.0.bn1.bias\n",
      "_resnet.layer3.0.bn2.weight\n",
      "_resnet.layer3.0.bn2.bias\n",
      "_resnet.layer3.0.downsample.1.weight\n",
      "_resnet.layer3.0.downsample.1.bias\n",
      "_resnet.layer3.1.bn1.weight\n",
      "_resnet.layer3.1.bn1.bias\n",
      "_resnet.layer3.1.bn2.weight\n",
      "_resnet.layer3.1.bn2.bias\n",
      "_resnet.layer4.0.bn1.weight\n",
      "_resnet.layer4.0.bn1.bias\n",
      "_resnet.layer4.0.bn2.weight\n",
      "_resnet.layer4.0.bn2.bias\n",
      "_resnet.layer4.0.downsample.1.weight\n",
      "_resnet.layer4.0.downsample.1.bias\n",
      "_resnet.layer4.1.bn1.weight\n",
      "_resnet.layer4.1.bn1.bias\n",
      "_resnet.layer4.1.bn2.weight\n",
      "_resnet.layer4.1.bn2.bias\n",
      "_resnet.fc.weight\n",
      "_resnet.fc.bias\n"
     ]
    }
   ],
   "source": [
    "for model_name, model in bnn_classifier._model.named_pyro_params():\n",
    "    print(model_name)"
   ],
   "metadata": {
    "collapsed": false
   }
  },
  {
   "cell_type": "code",
   "execution_count": 4,
   "outputs": [
    {
     "data": {
      "text/plain": "dict_keys([])"
     },
     "execution_count": 4,
     "metadata": {},
     "output_type": "execute_result"
    }
   ],
   "source": [
    "pyro.get_param_store().get_all_param_names()"
   ],
   "metadata": {
    "collapsed": false
   }
  },
  {
   "cell_type": "code",
   "execution_count": 4,
   "outputs": [
    {
     "name": "stdout",
     "output_type": "stream",
     "text": [
      "param_name='_resnet.bn1.weight', param_value.shape=torch.Size([64]), param_value.requires_grad=False\n",
      "param_name='_resnet.bn1.bias', param_value.shape=torch.Size([64]), param_value.requires_grad=False\n",
      "param_name='_resnet.layer1.0.bn1.weight', param_value.shape=torch.Size([64]), param_value.requires_grad=False\n",
      "param_name='_resnet.layer1.0.bn1.bias', param_value.shape=torch.Size([64]), param_value.requires_grad=False\n",
      "param_name='_resnet.layer1.0.bn2.weight', param_value.shape=torch.Size([64]), param_value.requires_grad=False\n",
      "param_name='_resnet.layer1.0.bn2.bias', param_value.shape=torch.Size([64]), param_value.requires_grad=False\n",
      "param_name='_resnet.layer1.1.bn1.weight', param_value.shape=torch.Size([64]), param_value.requires_grad=False\n",
      "param_name='_resnet.layer1.1.bn1.bias', param_value.shape=torch.Size([64]), param_value.requires_grad=False\n",
      "param_name='_resnet.layer1.1.bn2.weight', param_value.shape=torch.Size([64]), param_value.requires_grad=False\n",
      "param_name='_resnet.layer1.1.bn2.bias', param_value.shape=torch.Size([64]), param_value.requires_grad=False\n",
      "param_name='_resnet.layer2.0.bn1.weight', param_value.shape=torch.Size([128]), param_value.requires_grad=False\n",
      "param_name='_resnet.layer2.0.bn1.bias', param_value.shape=torch.Size([128]), param_value.requires_grad=False\n",
      "param_name='_resnet.layer2.0.bn2.weight', param_value.shape=torch.Size([128]), param_value.requires_grad=False\n",
      "param_name='_resnet.layer2.0.bn2.bias', param_value.shape=torch.Size([128]), param_value.requires_grad=False\n",
      "param_name='_resnet.layer2.0.downsample.1.weight', param_value.shape=torch.Size([128]), param_value.requires_grad=False\n",
      "param_name='_resnet.layer2.0.downsample.1.bias', param_value.shape=torch.Size([128]), param_value.requires_grad=False\n",
      "param_name='_resnet.layer2.1.bn1.weight', param_value.shape=torch.Size([128]), param_value.requires_grad=False\n",
      "param_name='_resnet.layer2.1.bn1.bias', param_value.shape=torch.Size([128]), param_value.requires_grad=False\n",
      "param_name='_resnet.layer2.1.bn2.weight', param_value.shape=torch.Size([128]), param_value.requires_grad=False\n",
      "param_name='_resnet.layer2.1.bn2.bias', param_value.shape=torch.Size([128]), param_value.requires_grad=False\n",
      "param_name='_resnet.layer3.0.bn1.weight', param_value.shape=torch.Size([256]), param_value.requires_grad=False\n",
      "param_name='_resnet.layer3.0.bn1.bias', param_value.shape=torch.Size([256]), param_value.requires_grad=False\n",
      "param_name='_resnet.layer3.0.bn2.weight', param_value.shape=torch.Size([256]), param_value.requires_grad=False\n",
      "param_name='_resnet.layer3.0.bn2.bias', param_value.shape=torch.Size([256]), param_value.requires_grad=False\n",
      "param_name='_resnet.layer3.0.downsample.1.weight', param_value.shape=torch.Size([256]), param_value.requires_grad=False\n",
      "param_name='_resnet.layer3.0.downsample.1.bias', param_value.shape=torch.Size([256]), param_value.requires_grad=False\n",
      "param_name='_resnet.layer3.1.bn1.weight', param_value.shape=torch.Size([256]), param_value.requires_grad=False\n",
      "param_name='_resnet.layer3.1.bn1.bias', param_value.shape=torch.Size([256]), param_value.requires_grad=False\n",
      "param_name='_resnet.layer3.1.bn2.weight', param_value.shape=torch.Size([256]), param_value.requires_grad=False\n",
      "param_name='_resnet.layer3.1.bn2.bias', param_value.shape=torch.Size([256]), param_value.requires_grad=False\n",
      "param_name='_resnet.layer4.0.bn1.weight', param_value.shape=torch.Size([512]), param_value.requires_grad=False\n",
      "param_name='_resnet.layer4.0.bn1.bias', param_value.shape=torch.Size([512]), param_value.requires_grad=False\n",
      "param_name='_resnet.layer4.0.bn2.weight', param_value.shape=torch.Size([512]), param_value.requires_grad=False\n",
      "param_name='_resnet.layer4.0.bn2.bias', param_value.shape=torch.Size([512]), param_value.requires_grad=False\n",
      "param_name='_resnet.layer4.0.downsample.1.weight', param_value.shape=torch.Size([512]), param_value.requires_grad=False\n",
      "param_name='_resnet.layer4.0.downsample.1.bias', param_value.shape=torch.Size([512]), param_value.requires_grad=False\n",
      "param_name='_resnet.layer4.1.bn1.weight', param_value.shape=torch.Size([512]), param_value.requires_grad=False\n",
      "param_name='_resnet.layer4.1.bn1.bias', param_value.shape=torch.Size([512]), param_value.requires_grad=False\n",
      "param_name='_resnet.layer4.1.bn2.weight', param_value.shape=torch.Size([512]), param_value.requires_grad=False\n",
      "param_name='_resnet.layer4.1.bn2.bias', param_value.shape=torch.Size([512]), param_value.requires_grad=False\n"
     ]
    }
   ],
   "source": [
    "for param_name, param_value in bnn_classifier._model.named_parameters():\n",
    "    print(f'{param_name=}, {param_value.shape=}, {param_value.requires_grad=}')"
   ],
   "metadata": {
    "collapsed": false
   }
  },
  {
   "cell_type": "code",
   "execution_count": 17,
   "outputs": [
    {
     "name": "stdout",
     "output_type": "stream",
     "text": [
      "param_name='bn1.weight', param_value.shape=torch.Size([64]), param_value.requires_grad=False\n",
      "param_name='bn1.bias', param_value.shape=torch.Size([64]), param_value.requires_grad=False\n",
      "param_name='layer1.0.bn1.weight', param_value.shape=torch.Size([64]), param_value.requires_grad=False\n",
      "param_name='layer1.0.bn1.bias', param_value.shape=torch.Size([64]), param_value.requires_grad=False\n",
      "param_name='layer1.0.bn2.weight', param_value.shape=torch.Size([64]), param_value.requires_grad=False\n",
      "param_name='layer1.0.bn2.bias', param_value.shape=torch.Size([64]), param_value.requires_grad=False\n",
      "param_name='layer1.1.bn1.weight', param_value.shape=torch.Size([64]), param_value.requires_grad=False\n",
      "param_name='layer1.1.bn1.bias', param_value.shape=torch.Size([64]), param_value.requires_grad=False\n",
      "param_name='layer1.1.bn2.weight', param_value.shape=torch.Size([64]), param_value.requires_grad=False\n",
      "param_name='layer1.1.bn2.bias', param_value.shape=torch.Size([64]), param_value.requires_grad=False\n",
      "param_name='layer2.0.bn1.weight', param_value.shape=torch.Size([128]), param_value.requires_grad=False\n",
      "param_name='layer2.0.bn1.bias', param_value.shape=torch.Size([128]), param_value.requires_grad=False\n",
      "param_name='layer2.0.bn2.weight', param_value.shape=torch.Size([128]), param_value.requires_grad=False\n",
      "param_name='layer2.0.bn2.bias', param_value.shape=torch.Size([128]), param_value.requires_grad=False\n",
      "param_name='layer2.0.downsample.1.weight', param_value.shape=torch.Size([128]), param_value.requires_grad=False\n",
      "param_name='layer2.0.downsample.1.bias', param_value.shape=torch.Size([128]), param_value.requires_grad=False\n",
      "param_name='layer2.1.bn1.weight', param_value.shape=torch.Size([128]), param_value.requires_grad=False\n",
      "param_name='layer2.1.bn1.bias', param_value.shape=torch.Size([128]), param_value.requires_grad=False\n",
      "param_name='layer2.1.bn2.weight', param_value.shape=torch.Size([128]), param_value.requires_grad=False\n",
      "param_name='layer2.1.bn2.bias', param_value.shape=torch.Size([128]), param_value.requires_grad=False\n",
      "param_name='layer3.0.bn1.weight', param_value.shape=torch.Size([256]), param_value.requires_grad=False\n",
      "param_name='layer3.0.bn1.bias', param_value.shape=torch.Size([256]), param_value.requires_grad=False\n",
      "param_name='layer3.0.bn2.weight', param_value.shape=torch.Size([256]), param_value.requires_grad=False\n",
      "param_name='layer3.0.bn2.bias', param_value.shape=torch.Size([256]), param_value.requires_grad=False\n",
      "param_name='layer3.0.downsample.1.weight', param_value.shape=torch.Size([256]), param_value.requires_grad=False\n",
      "param_name='layer3.0.downsample.1.bias', param_value.shape=torch.Size([256]), param_value.requires_grad=False\n",
      "param_name='layer3.1.bn1.weight', param_value.shape=torch.Size([256]), param_value.requires_grad=False\n",
      "param_name='layer3.1.bn1.bias', param_value.shape=torch.Size([256]), param_value.requires_grad=False\n",
      "param_name='layer3.1.bn2.weight', param_value.shape=torch.Size([256]), param_value.requires_grad=False\n",
      "param_name='layer3.1.bn2.bias', param_value.shape=torch.Size([256]), param_value.requires_grad=False\n",
      "param_name='layer4.0.bn1.weight', param_value.shape=torch.Size([512]), param_value.requires_grad=False\n",
      "param_name='layer4.0.bn1.bias', param_value.shape=torch.Size([512]), param_value.requires_grad=False\n",
      "param_name='layer4.0.bn2.weight', param_value.shape=torch.Size([512]), param_value.requires_grad=False\n",
      "param_name='layer4.0.bn2.bias', param_value.shape=torch.Size([512]), param_value.requires_grad=False\n",
      "param_name='layer4.0.downsample.1.weight', param_value.shape=torch.Size([512]), param_value.requires_grad=False\n",
      "param_name='layer4.0.downsample.1.bias', param_value.shape=torch.Size([512]), param_value.requires_grad=False\n",
      "param_name='layer4.1.bn1.weight', param_value.shape=torch.Size([512]), param_value.requires_grad=False\n",
      "param_name='layer4.1.bn1.bias', param_value.shape=torch.Size([512]), param_value.requires_grad=False\n",
      "param_name='layer4.1.bn2.weight', param_value.shape=torch.Size([512]), param_value.requires_grad=False\n",
      "param_name='layer4.1.bn2.bias', param_value.shape=torch.Size([512]), param_value.requires_grad=False\n"
     ]
    }
   ],
   "source": [
    "for param_name, param_value in bnn_classifier._model._resnet.named_parameters():\n",
    "    print(f'{param_name=}, {param_value.shape=}, {param_value.requires_grad=}')"
   ],
   "metadata": {
    "collapsed": false
   }
  },
  {
   "cell_type": "code",
   "execution_count": 20,
   "outputs": [
    {
     "ename": "AttributeError",
     "evalue": "'PyroConv2d' object has no attribute 'requires_grad'",
     "output_type": "error",
     "traceback": [
      "\u001B[0;31m---------------------------------------------------------------------------\u001B[0m",
      "\u001B[0;31mAttributeError\u001B[0m                            Traceback (most recent call last)",
      "Cell \u001B[0;32mIn[20], line 3\u001B[0m\n\u001B[1;32m      1\u001B[0m \u001B[38;5;28;01mfor\u001B[39;00m child_name, child \u001B[38;5;129;01min\u001B[39;00m bnn_classifier\u001B[38;5;241m.\u001B[39m_model\u001B[38;5;241m.\u001B[39m_resnet\u001B[38;5;241m.\u001B[39mnamed_children():\n\u001B[1;32m      2\u001B[0m     \u001B[38;5;66;03m# print(dir(child))\u001B[39;00m\n\u001B[0;32m----> 3\u001B[0m     \u001B[38;5;28mprint\u001B[39m(child_name, \u001B[43mchild\u001B[49m\u001B[38;5;241;43m.\u001B[39;49m\u001B[43mrequires_grad\u001B[49m)\n\u001B[1;32m      4\u001B[0m     \u001B[38;5;66;03m# break\u001B[39;00m\n",
      "File \u001B[0;32m/anaconda_env/projects/wlbbc/bayesian_test/lib/python3.9/site-packages/pyro/nn/module.py:488\u001B[0m, in \u001B[0;36mPyroModule.__getattr__\u001B[0;34m(self, name)\u001B[0m\n\u001B[1;32m    485\u001B[0m                 prior \u001B[38;5;241m=\u001B[39m prior(\u001B[38;5;28mself\u001B[39m)\n\u001B[1;32m    486\u001B[0m             \u001B[38;5;28;01mreturn\u001B[39;00m prior()\n\u001B[0;32m--> 488\u001B[0m result \u001B[38;5;241m=\u001B[39m \u001B[38;5;28;43msuper\u001B[39;49m\u001B[43m(\u001B[49m\u001B[43m)\u001B[49m\u001B[38;5;241;43m.\u001B[39;49m\u001B[38;5;21;43m__getattr__\u001B[39;49m\u001B[43m(\u001B[49m\u001B[43mname\u001B[49m\u001B[43m)\u001B[49m\n\u001B[1;32m    490\u001B[0m \u001B[38;5;66;03m# Regular nn.Parameters trigger pyro.param statements.\u001B[39;00m\n\u001B[1;32m    491\u001B[0m \u001B[38;5;28;01mif\u001B[39;00m \u001B[38;5;28misinstance\u001B[39m(result, torch\u001B[38;5;241m.\u001B[39mnn\u001B[38;5;241m.\u001B[39mParameter) \u001B[38;5;129;01mand\u001B[39;00m \u001B[38;5;129;01mnot\u001B[39;00m name\u001B[38;5;241m.\u001B[39mendswith(\n\u001B[1;32m    492\u001B[0m     \u001B[38;5;124m\"\u001B[39m\u001B[38;5;124m_unconstrained\u001B[39m\u001B[38;5;124m\"\u001B[39m\n\u001B[1;32m    493\u001B[0m ):\n",
      "File \u001B[0;32m/anaconda_env/projects/wlbbc/bayesian_test/lib/python3.9/site-packages/torch/nn/modules/module.py:1207\u001B[0m, in \u001B[0;36mModule.__getattr__\u001B[0;34m(self, name)\u001B[0m\n\u001B[1;32m   1205\u001B[0m     \u001B[38;5;28;01mif\u001B[39;00m name \u001B[38;5;129;01min\u001B[39;00m modules:\n\u001B[1;32m   1206\u001B[0m         \u001B[38;5;28;01mreturn\u001B[39;00m modules[name]\n\u001B[0;32m-> 1207\u001B[0m \u001B[38;5;28;01mraise\u001B[39;00m \u001B[38;5;167;01mAttributeError\u001B[39;00m(\u001B[38;5;124m\"\u001B[39m\u001B[38;5;124m'\u001B[39m\u001B[38;5;132;01m{}\u001B[39;00m\u001B[38;5;124m'\u001B[39m\u001B[38;5;124m object has no attribute \u001B[39m\u001B[38;5;124m'\u001B[39m\u001B[38;5;132;01m{}\u001B[39;00m\u001B[38;5;124m'\u001B[39m\u001B[38;5;124m\"\u001B[39m\u001B[38;5;241m.\u001B[39mformat(\n\u001B[1;32m   1208\u001B[0m     \u001B[38;5;28mtype\u001B[39m(\u001B[38;5;28mself\u001B[39m)\u001B[38;5;241m.\u001B[39m\u001B[38;5;18m__name__\u001B[39m, name))\n",
      "\u001B[0;31mAttributeError\u001B[0m: 'PyroConv2d' object has no attribute 'requires_grad'"
     ]
    }
   ],
   "source": [
    "for child_name, child in bnn_classifier._model._resnet.named_children():\n",
    "    # print(dir(child))\n",
    "    print(child_name, child.requires_grad)\n",
    "    # break"
   ],
   "metadata": {
    "collapsed": false
   }
  },
  {
   "cell_type": "code",
   "execution_count": null,
   "outputs": [],
   "source": [
    "bnn_classifier.freeze_all_layers()\n",
    "for param_name, param_value in bnn_classifier._model.named_parameters():\n",
    "    print(f'{param_name=}, {param_value.shape=}, {param_value.requires_grad=}')"
   ],
   "metadata": {
    "collapsed": false
   }
  },
  {
   "cell_type": "code",
   "execution_count": 6,
   "outputs": [
    {
     "name": "stderr",
     "output_type": "stream",
     "text": [
      "[2023-04-17 19:44:37] 26196 src.scoring.epoch_score_printer {epoch_score_printer-21} INFO - [Epoch 0/50]: f1_score: 0.746 accuracy_score: 0.812 loss: 2143447070.861 \n",
      "[2023-04-17 19:44:55] 26196 src.scoring.epoch_score_printer {epoch_score_printer-21} INFO - [Epoch 1/50]: f1_score: 0.773 accuracy_score: 0.812 loss: 2143355204.398 \n",
      "[2023-04-17 19:45:14] 26196 src.scoring.epoch_score_printer {epoch_score_printer-21} INFO - [Epoch 2/50]: f1_score: 0.805 accuracy_score: 0.828 loss: 2143369858.138 \n",
      "[2023-04-17 19:45:32] 26196 src.scoring.epoch_score_printer {epoch_score_printer-21} INFO - [Epoch 3/50]: f1_score: 0.806 accuracy_score: 0.840 loss: 2143334917.742 \n",
      "[2023-04-17 19:45:51] 26196 src.scoring.epoch_score_printer {epoch_score_printer-21} INFO - [Epoch 4/50]: f1_score: 0.842 accuracy_score: 0.864 loss: 2143371273.100 \n",
      "[2023-04-17 19:46:09] 26196 src.scoring.epoch_score_printer {epoch_score_printer-21} INFO - [Epoch 5/50]: f1_score: 0.842 accuracy_score: 0.859 loss: 2143380782.969 \n",
      "[2023-04-17 19:46:27] 26196 src.scoring.epoch_score_printer {epoch_score_printer-21} INFO - [Epoch 6/50]: f1_score: 0.825 accuracy_score: 0.854 loss: 2143359404.114 \n",
      "[2023-04-17 19:46:45] 26196 src.scoring.epoch_score_printer {epoch_score_printer-21} INFO - [Epoch 7/50]: f1_score: 0.808 accuracy_score: 0.851 loss: 2143323826.086 \n",
      "[2023-04-17 19:47:03] 26196 src.scoring.epoch_score_printer {epoch_score_printer-21} INFO - [Epoch 8/50]: f1_score: 0.831 accuracy_score: 0.850 loss: 2143371231.569 \n",
      "[2023-04-17 19:47:21] 26196 src.scoring.epoch_score_printer {epoch_score_printer-21} INFO - [Epoch 9/50]: f1_score: 0.834 accuracy_score: 0.855 loss: 2143408072.377 \n",
      "[2023-04-17 19:47:39] 26196 src.scoring.epoch_score_printer {epoch_score_printer-21} INFO - [Epoch 10/50]: f1_score: 0.863 accuracy_score: 0.873 loss: 2143355024.839 \n",
      "[2023-04-17 19:47:58] 26196 src.scoring.epoch_score_printer {epoch_score_printer-21} INFO - [Epoch 11/50]: f1_score: 0.815 accuracy_score: 0.848 loss: 2143395643.052 \n",
      "[2023-04-17 19:48:15] 26196 src.scoring.epoch_score_printer {epoch_score_printer-21} INFO - [Epoch 12/50]: f1_score: 0.866 accuracy_score: 0.878 loss: 2143352124.787 \n",
      "[2023-04-17 19:48:33] 26196 src.scoring.epoch_score_printer {epoch_score_printer-21} INFO - [Epoch 13/50]: f1_score: 0.831 accuracy_score: 0.859 loss: 2143303314.985 \n",
      "[2023-04-17 19:48:52] 26196 src.scoring.epoch_score_printer {epoch_score_printer-21} INFO - [Epoch 14/50]: f1_score: 0.842 accuracy_score: 0.855 loss: 2143332860.639 \n",
      "[2023-04-17 19:49:10] 26196 src.scoring.epoch_score_printer {epoch_score_printer-21} INFO - [Epoch 15/50]: f1_score: 0.853 accuracy_score: 0.866 loss: 2143377141.891 \n",
      "[2023-04-17 19:49:28] 26196 src.scoring.epoch_score_printer {epoch_score_printer-21} INFO - [Epoch 16/50]: f1_score: 0.857 accuracy_score: 0.874 loss: 2143348621.827 \n",
      "[2023-04-17 19:49:45] 26196 src.scoring.epoch_score_printer {epoch_score_printer-21} INFO - [Epoch 17/50]: f1_score: 0.856 accuracy_score: 0.882 loss: 2143443303.092 \n",
      "[2023-04-17 19:50:03] 26196 src.scoring.epoch_score_printer {epoch_score_printer-21} INFO - [Epoch 18/50]: f1_score: 0.868 accuracy_score: 0.886 loss: 2143341965.964 \n",
      "[2023-04-17 19:50:21] 26196 src.scoring.epoch_score_printer {epoch_score_printer-21} INFO - [Epoch 19/50]: f1_score: 0.861 accuracy_score: 0.874 loss: 2143350032.083 \n",
      "[2023-04-17 19:50:39] 26196 src.scoring.epoch_score_printer {epoch_score_printer-21} INFO - [Epoch 20/50]: f1_score: 0.859 accuracy_score: 0.879 loss: 2143343927.782 \n",
      "[2023-04-17 19:50:58] 26196 src.scoring.epoch_score_printer {epoch_score_printer-21} INFO - [Epoch 21/50]: f1_score: 0.850 accuracy_score: 0.878 loss: 2143323969.862 \n",
      "[2023-04-17 19:51:17] 26196 src.scoring.epoch_score_printer {epoch_score_printer-21} INFO - [Epoch 22/50]: f1_score: 0.839 accuracy_score: 0.858 loss: 2143363383.625 \n",
      "[2023-04-17 19:51:34] 26196 src.scoring.epoch_score_printer {epoch_score_printer-21} INFO - [Epoch 23/50]: f1_score: 0.854 accuracy_score: 0.875 loss: 2143392008.862 \n",
      "[2023-04-17 19:51:52] 26196 src.scoring.epoch_score_printer {epoch_score_printer-21} INFO - [Epoch 24/50]: f1_score: 0.862 accuracy_score: 0.891 loss: 2143383640.433 \n"
     ]
    },
    {
     "ename": "KeyboardInterrupt",
     "evalue": "",
     "output_type": "error",
     "traceback": [
      "\u001B[0;31m---------------------------------------------------------------------------\u001B[0m",
      "\u001B[0;31mKeyboardInterrupt\u001B[0m                         Traceback (most recent call last)",
      "Cell \u001B[0;32mIn[6], line 2\u001B[0m\n\u001B[1;32m      1\u001B[0m bnn_classifier\u001B[38;5;241m.\u001B[39mfreeze_all_layers_except_fc()\n\u001B[0;32m----> 2\u001B[0m result_df, result_dict \u001B[38;5;241m=\u001B[39m \u001B[43mbnn_classifier\u001B[49m\u001B[38;5;241;43m.\u001B[39;49m\u001B[43mfit\u001B[49m\u001B[43m(\u001B[49m\u001B[43mnum_epoch\u001B[49m\u001B[38;5;241;43m=\u001B[39;49m\u001B[38;5;241;43m50\u001B[39;49m\u001B[43m)\u001B[49m\n\u001B[1;32m      3\u001B[0m display(result_df)\n\u001B[1;32m      4\u001B[0m \u001B[38;5;66;03m# print(result_dict)\u001B[39;00m\n",
      "File \u001B[0;32m~/menquan/bayesian_refactoring/src/common/image_classifier.py:60\u001B[0m, in \u001B[0;36mImageClassifier.fit\u001B[0;34m(self, num_epoch, verbose)\u001B[0m\n\u001B[1;32m     59\u001B[0m \u001B[38;5;28;01mdef\u001B[39;00m \u001B[38;5;21mfit\u001B[39m(\u001B[38;5;28mself\u001B[39m, num_epoch: \u001B[38;5;28mint\u001B[39m, verbose\u001B[38;5;241m=\u001B[39m\u001B[38;5;28;01mTrue\u001B[39;00m) \u001B[38;5;241m-\u001B[39m\u001B[38;5;241m>\u001B[39m Tuple[pd\u001B[38;5;241m.\u001B[39mDataFrame, Dict]:\n\u001B[0;32m---> 60\u001B[0m     \u001B[38;5;28;01mreturn\u001B[39;00m \u001B[38;5;28;43mself\u001B[39;49m\u001B[38;5;241;43m.\u001B[39;49m\u001B[43m_fit\u001B[49m\u001B[43m(\u001B[49m\u001B[43mnum_epoch\u001B[49m\u001B[43m,\u001B[49m\u001B[43m \u001B[49m\u001B[43mverbose\u001B[49m\u001B[43m)\u001B[49m\n",
      "File \u001B[0;32m~/menquan/bayesian_refactoring/src/common/pyro_image_classifier.py:30\u001B[0m, in \u001B[0;36mPyroImageClassifier._fit\u001B[0;34m(self, num_epoch, verbose)\u001B[0m\n\u001B[1;32m     22\u001B[0m pyro\u001B[38;5;241m.\u001B[39mclear_param_store()\n\u001B[1;32m     23\u001B[0m trainer \u001B[38;5;241m=\u001B[39m PyroBnnTrainer(\n\u001B[1;32m     24\u001B[0m     \u001B[38;5;28mself\u001B[39m\u001B[38;5;241m.\u001B[39m_model,\n\u001B[1;32m     25\u001B[0m     \u001B[38;5;28mself\u001B[39m\u001B[38;5;241m.\u001B[39m_dataset,\n\u001B[0;32m   (...)\u001B[0m\n\u001B[1;32m     28\u001B[0m     \u001B[38;5;28mself\u001B[39m\u001B[38;5;241m.\u001B[39m_device,\n\u001B[1;32m     29\u001B[0m )\n\u001B[0;32m---> 30\u001B[0m \u001B[38;5;28;01mreturn\u001B[39;00m \u001B[43mtrainer\u001B[49m\u001B[38;5;241;43m.\u001B[39;49m\u001B[43mtrain\u001B[49m\u001B[43m(\u001B[49m\u001B[43mnum_epoch\u001B[49m\u001B[43m,\u001B[49m\u001B[43m \u001B[49m\u001B[43mverbose\u001B[49m\u001B[43m)\u001B[49m\n",
      "File \u001B[0;32m~/menquan/bayesian_refactoring/src/common/model_trainer.py:127\u001B[0m, in \u001B[0;36mModelTrainer.train\u001B[0;34m(self, num_epoch, verbose)\u001B[0m\n\u001B[1;32m    121\u001B[0m \u001B[38;5;28;01mdef\u001B[39;00m \u001B[38;5;21mtrain\u001B[39m(\n\u001B[1;32m    122\u001B[0m         \u001B[38;5;28mself\u001B[39m,\n\u001B[1;32m    123\u001B[0m         num_epoch: \u001B[38;5;28mint\u001B[39m,\n\u001B[1;32m    124\u001B[0m         verbose\u001B[38;5;241m=\u001B[39m\u001B[38;5;28;01mTrue\u001B[39;00m,\n\u001B[1;32m    125\u001B[0m ) \u001B[38;5;241m-\u001B[39m\u001B[38;5;241m>\u001B[39m Tuple[pd\u001B[38;5;241m.\u001B[39mDataFrame, Dict]:\n\u001B[1;32m    126\u001B[0m     optimizer \u001B[38;5;241m=\u001B[39m \u001B[38;5;28mself\u001B[39m\u001B[38;5;241m.\u001B[39m_get_optimizer(\u001B[38;5;28mself\u001B[39m\u001B[38;5;241m.\u001B[39m_model)\n\u001B[0;32m--> 127\u001B[0m     \u001B[38;5;28;01mreturn\u001B[39;00m \u001B[38;5;28;43mself\u001B[39;49m\u001B[38;5;241;43m.\u001B[39;49m\u001B[43m_train\u001B[49m\u001B[43m(\u001B[49m\n\u001B[1;32m    128\u001B[0m \u001B[43m        \u001B[49m\u001B[38;5;28;43mself\u001B[39;49m\u001B[38;5;241;43m.\u001B[39;49m\u001B[43m_model\u001B[49m\u001B[43m,\u001B[49m\n\u001B[1;32m    129\u001B[0m \u001B[43m        \u001B[49m\u001B[43mnum_epoch\u001B[49m\u001B[43m,\u001B[49m\n\u001B[1;32m    130\u001B[0m \u001B[43m        \u001B[49m\u001B[38;5;28;43mself\u001B[39;49m\u001B[38;5;241;43m.\u001B[39;49m\u001B[43m_dataset\u001B[49m\u001B[38;5;241;43m.\u001B[39;49m\u001B[43mtrain_dataloader\u001B[49m\u001B[43m,\u001B[49m\n\u001B[1;32m    131\u001B[0m \u001B[43m        \u001B[49m\u001B[38;5;28;43mself\u001B[39;49m\u001B[38;5;241;43m.\u001B[39;49m\u001B[43m_dataset\u001B[49m\u001B[38;5;241;43m.\u001B[39;49m\u001B[43mtest_dataloader\u001B[49m\u001B[43m,\u001B[49m\n\u001B[1;32m    132\u001B[0m \u001B[43m        \u001B[49m\u001B[43moptimizer\u001B[49m\u001B[43m,\u001B[49m\n\u001B[1;32m    133\u001B[0m \u001B[43m        \u001B[49m\u001B[38;5;28;43mself\u001B[39;49m\u001B[38;5;241;43m.\u001B[39;49m\u001B[43m_loss_criterion\u001B[49m\u001B[43m,\u001B[49m\n\u001B[1;32m    134\u001B[0m \u001B[43m        \u001B[49m\u001B[38;5;28;43mself\u001B[39;49m\u001B[38;5;241;43m.\u001B[39;49m\u001B[43m_device\u001B[49m\u001B[43m,\u001B[49m\n\u001B[1;32m    135\u001B[0m \u001B[43m        \u001B[49m\u001B[43mverbose\u001B[49m\u001B[38;5;241;43m=\u001B[39;49m\u001B[43mverbose\u001B[49m\n\u001B[1;32m    136\u001B[0m \u001B[43m    \u001B[49m\u001B[43m)\u001B[49m\n",
      "File \u001B[0;32m~/menquan/bayesian_refactoring/src/common/model_trainer.py:99\u001B[0m, in \u001B[0;36mModelTrainer._train\u001B[0;34m(self, model, num_epochs, train_dataloader, test_dataloader, optimizer, criterion, device, verbose)\u001B[0m\n\u001B[1;32m     96\u001B[0m results \u001B[38;5;241m=\u001B[39m []\n\u001B[1;32m     98\u001B[0m \u001B[38;5;28;01mfor\u001B[39;00m epoch \u001B[38;5;129;01min\u001B[39;00m \u001B[38;5;28mrange\u001B[39m(num_epochs):\n\u001B[0;32m---> 99\u001B[0m     epoch_loss \u001B[38;5;241m=\u001B[39m \u001B[38;5;28;43mself\u001B[39;49m\u001B[38;5;241;43m.\u001B[39;49m\u001B[43m_train_epoch\u001B[49m\u001B[43m(\u001B[49m\n\u001B[1;32m    100\u001B[0m \u001B[43m        \u001B[49m\u001B[43mmodel\u001B[49m\u001B[43m,\u001B[49m\n\u001B[1;32m    101\u001B[0m \u001B[43m        \u001B[49m\u001B[43mtrain_dataloader\u001B[49m\u001B[43m,\u001B[49m\n\u001B[1;32m    102\u001B[0m \u001B[43m        \u001B[49m\u001B[43moptimizer\u001B[49m\u001B[43m,\u001B[49m\n\u001B[1;32m    103\u001B[0m \u001B[43m        \u001B[49m\u001B[43mcriterion\u001B[49m\u001B[43m,\u001B[49m\n\u001B[1;32m    104\u001B[0m \u001B[43m        \u001B[49m\u001B[43mdevice\u001B[49m\u001B[43m,\u001B[49m\n\u001B[1;32m    105\u001B[0m \u001B[43m    \u001B[49m\u001B[43m)\u001B[49m\n\u001B[1;32m    106\u001B[0m     epoch_result \u001B[38;5;241m=\u001B[39m \u001B[38;5;28mself\u001B[39m\u001B[38;5;241m.\u001B[39m_score()\n\u001B[1;32m    107\u001B[0m     epoch_result[\u001B[38;5;124m'\u001B[39m\u001B[38;5;124mloss\u001B[39m\u001B[38;5;124m'\u001B[39m] \u001B[38;5;241m=\u001B[39m epoch_loss\n",
      "File \u001B[0;32m~/menquan/bayesian_refactoring/src/training/pyro_bnn_trainer.py:57\u001B[0m, in \u001B[0;36mPyroBnnTrainer._train_epoch\u001B[0;34m(self, model, loader, optimizer, criterion, device)\u001B[0m\n\u001B[1;32m     54\u001B[0m \u001B[38;5;28;01mfor\u001B[39;00m X_batch, y_batch \u001B[38;5;129;01min\u001B[39;00m loader:\n\u001B[1;32m     55\u001B[0m     X_batch, y_batch \u001B[38;5;241m=\u001B[39m X_batch\u001B[38;5;241m.\u001B[39mto(device), y_batch\u001B[38;5;241m.\u001B[39mto(device)\n\u001B[0;32m---> 57\u001B[0m     loss \u001B[38;5;241m=\u001B[39m \u001B[43mcriterion\u001B[49m\u001B[38;5;241;43m.\u001B[39;49m\u001B[43mstep\u001B[49m\u001B[43m(\u001B[49m\u001B[43mX_batch\u001B[49m\u001B[43m,\u001B[49m\u001B[43m \u001B[49m\u001B[43my_batch\u001B[49m\u001B[43m)\u001B[49m\n\u001B[1;32m     59\u001B[0m     \u001B[38;5;66;03m# Keep track of overall epoch loss\u001B[39;00m\n\u001B[1;32m     60\u001B[0m     epoch_loss \u001B[38;5;241m+\u001B[39m\u001B[38;5;241m=\u001B[39m loss\n",
      "File \u001B[0;32m/anaconda_env/projects/wlbbc/bayesian_test/lib/python3.9/site-packages/pyro/infer/svi.py:153\u001B[0m, in \u001B[0;36mSVI.step\u001B[0;34m(self, *args, **kwargs)\u001B[0m\n\u001B[1;32m    147\u001B[0m params \u001B[38;5;241m=\u001B[39m \u001B[38;5;28mset\u001B[39m(\n\u001B[1;32m    148\u001B[0m     site[\u001B[38;5;124m\"\u001B[39m\u001B[38;5;124mvalue\u001B[39m\u001B[38;5;124m\"\u001B[39m]\u001B[38;5;241m.\u001B[39munconstrained() \u001B[38;5;28;01mfor\u001B[39;00m site \u001B[38;5;129;01min\u001B[39;00m param_capture\u001B[38;5;241m.\u001B[39mtrace\u001B[38;5;241m.\u001B[39mnodes\u001B[38;5;241m.\u001B[39mvalues()\n\u001B[1;32m    149\u001B[0m )\n\u001B[1;32m    151\u001B[0m \u001B[38;5;66;03m# actually perform gradient steps\u001B[39;00m\n\u001B[1;32m    152\u001B[0m \u001B[38;5;66;03m# torch.optim objects gets instantiated for any params that haven't been seen yet\u001B[39;00m\n\u001B[0;32m--> 153\u001B[0m \u001B[38;5;28;43mself\u001B[39;49m\u001B[38;5;241;43m.\u001B[39;49m\u001B[43moptim\u001B[49m\u001B[43m(\u001B[49m\u001B[43mparams\u001B[49m\u001B[43m)\u001B[49m\n\u001B[1;32m    155\u001B[0m \u001B[38;5;66;03m# zero gradients\u001B[39;00m\n\u001B[1;32m    156\u001B[0m pyro\u001B[38;5;241m.\u001B[39minfer\u001B[38;5;241m.\u001B[39mutil\u001B[38;5;241m.\u001B[39mzero_grads(params)\n",
      "File \u001B[0;32m/anaconda_env/projects/wlbbc/bayesian_test/lib/python3.9/site-packages/pyro/optim/optim.py:149\u001B[0m, in \u001B[0;36mPyroOptim.__call__\u001B[0;34m(self, params, *args, **kwargs)\u001B[0m\n\u001B[1;32m    147\u001B[0m     \u001B[38;5;28mself\u001B[39m\u001B[38;5;241m.\u001B[39moptim_objs[p]\u001B[38;5;241m.\u001B[39moptimizer\u001B[38;5;241m.\u001B[39mstep(\u001B[38;5;241m*\u001B[39margs, \u001B[38;5;241m*\u001B[39m\u001B[38;5;241m*\u001B[39mkwargs)\n\u001B[1;32m    148\u001B[0m \u001B[38;5;28;01melse\u001B[39;00m:\n\u001B[0;32m--> 149\u001B[0m     \u001B[38;5;28;43mself\u001B[39;49m\u001B[38;5;241;43m.\u001B[39;49m\u001B[43moptim_objs\u001B[49m\u001B[43m[\u001B[49m\u001B[43mp\u001B[49m\u001B[43m]\u001B[49m\u001B[38;5;241;43m.\u001B[39;49m\u001B[43mstep\u001B[49m\u001B[43m(\u001B[49m\u001B[38;5;241;43m*\u001B[39;49m\u001B[43margs\u001B[49m\u001B[43m,\u001B[49m\u001B[43m \u001B[49m\u001B[38;5;241;43m*\u001B[39;49m\u001B[38;5;241;43m*\u001B[39;49m\u001B[43mkwargs\u001B[49m\u001B[43m)\u001B[49m\n",
      "File \u001B[0;32m/anaconda_env/projects/wlbbc/bayesian_test/lib/python3.9/site-packages/torch/optim/optimizer.py:109\u001B[0m, in \u001B[0;36mOptimizer._hook_for_profile.<locals>.profile_hook_step.<locals>.wrapper\u001B[0;34m(*args, **kwargs)\u001B[0m\n\u001B[1;32m    107\u001B[0m profile_name \u001B[38;5;241m=\u001B[39m \u001B[38;5;124m\"\u001B[39m\u001B[38;5;124mOptimizer.step#\u001B[39m\u001B[38;5;132;01m{}\u001B[39;00m\u001B[38;5;124m.step\u001B[39m\u001B[38;5;124m\"\u001B[39m\u001B[38;5;241m.\u001B[39mformat(obj\u001B[38;5;241m.\u001B[39m\u001B[38;5;18m__class__\u001B[39m\u001B[38;5;241m.\u001B[39m\u001B[38;5;18m__name__\u001B[39m)\n\u001B[1;32m    108\u001B[0m \u001B[38;5;28;01mwith\u001B[39;00m torch\u001B[38;5;241m.\u001B[39mautograd\u001B[38;5;241m.\u001B[39mprofiler\u001B[38;5;241m.\u001B[39mrecord_function(profile_name):\n\u001B[0;32m--> 109\u001B[0m     \u001B[38;5;28;01mreturn\u001B[39;00m \u001B[43mfunc\u001B[49m\u001B[43m(\u001B[49m\u001B[38;5;241;43m*\u001B[39;49m\u001B[43margs\u001B[49m\u001B[43m,\u001B[49m\u001B[43m \u001B[49m\u001B[38;5;241;43m*\u001B[39;49m\u001B[38;5;241;43m*\u001B[39;49m\u001B[43mkwargs\u001B[49m\u001B[43m)\u001B[49m\n",
      "File \u001B[0;32m/anaconda_env/projects/wlbbc/bayesian_test/lib/python3.9/site-packages/pyro/optim/clipped_adam.py:90\u001B[0m, in \u001B[0;36mClippedAdam.step\u001B[0;34m(self, closure)\u001B[0m\n\u001B[1;32m     88\u001B[0m \u001B[38;5;66;03m# Decay the first and second moment running average coefficient\u001B[39;00m\n\u001B[1;32m     89\u001B[0m exp_avg\u001B[38;5;241m.\u001B[39mmul_(beta1)\u001B[38;5;241m.\u001B[39madd_(grad, alpha\u001B[38;5;241m=\u001B[39m\u001B[38;5;241m1\u001B[39m \u001B[38;5;241m-\u001B[39m beta1)\n\u001B[0;32m---> 90\u001B[0m \u001B[43mexp_avg_sq\u001B[49m\u001B[38;5;241;43m.\u001B[39;49m\u001B[43mmul_\u001B[49m\u001B[43m(\u001B[49m\u001B[43mbeta2\u001B[49m\u001B[43m)\u001B[49m\u001B[38;5;241;43m.\u001B[39;49m\u001B[43maddcmul_\u001B[49m\u001B[43m(\u001B[49m\u001B[43mgrad\u001B[49m\u001B[43m,\u001B[49m\u001B[43m \u001B[49m\u001B[43mgrad\u001B[49m\u001B[43m,\u001B[49m\u001B[43m \u001B[49m\u001B[43mvalue\u001B[49m\u001B[38;5;241;43m=\u001B[39;49m\u001B[38;5;241;43m1\u001B[39;49m\u001B[43m \u001B[49m\u001B[38;5;241;43m-\u001B[39;49m\u001B[43m \u001B[49m\u001B[43mbeta2\u001B[49m\u001B[43m)\u001B[49m\n\u001B[1;32m     92\u001B[0m denom \u001B[38;5;241m=\u001B[39m exp_avg_sq\u001B[38;5;241m.\u001B[39msqrt()\u001B[38;5;241m.\u001B[39madd_(group[\u001B[38;5;124m\"\u001B[39m\u001B[38;5;124meps\u001B[39m\u001B[38;5;124m\"\u001B[39m])\n\u001B[1;32m     94\u001B[0m bias_correction1 \u001B[38;5;241m=\u001B[39m \u001B[38;5;241m1\u001B[39m \u001B[38;5;241m-\u001B[39m beta1 \u001B[38;5;241m*\u001B[39m\u001B[38;5;241m*\u001B[39m state[\u001B[38;5;124m\"\u001B[39m\u001B[38;5;124mstep\u001B[39m\u001B[38;5;124m\"\u001B[39m]\n",
      "\u001B[0;31mKeyboardInterrupt\u001B[0m: "
     ]
    }
   ],
   "source": [
    "bnn_classifier.freeze_all_layers_except_fc()\n",
    "result_df, result_dict = bnn_classifier.fit(num_epoch=50)\n",
    "display(result_df)\n",
    "# print(result_dict)"
   ],
   "metadata": {
    "collapsed": false
   }
  },
  {
   "cell_type": "code",
   "execution_count": null,
   "outputs": [],
   "source": [],
   "metadata": {
    "collapsed": false
   }
  },
  {
   "cell_type": "code",
   "execution_count": 7,
   "outputs": [
    {
     "name": "stderr",
     "output_type": "stream",
     "text": [
      "[2023-04-17 19:52:28] 26196 src.scoring.epoch_score_printer {epoch_score_printer-21} INFO - [Epoch 0/50]: f1_score: 0.869 accuracy_score: 0.886 loss: 2143341523.303 \n",
      "[2023-04-17 19:52:46] 26196 src.scoring.epoch_score_printer {epoch_score_printer-21} INFO - [Epoch 1/50]: f1_score: 0.882 accuracy_score: 0.889 loss: 2143418566.891 \n",
      "[2023-04-17 19:53:04] 26196 src.scoring.epoch_score_printer {epoch_score_printer-21} INFO - [Epoch 2/50]: f1_score: 0.880 accuracy_score: 0.898 loss: 2143357482.244 \n",
      "[2023-04-17 19:53:22] 26196 src.scoring.epoch_score_printer {epoch_score_printer-21} INFO - [Epoch 3/50]: f1_score: 0.854 accuracy_score: 0.874 loss: 2143348686.135 \n",
      "[2023-04-17 19:53:39] 26196 src.scoring.epoch_score_printer {epoch_score_printer-21} INFO - [Epoch 4/50]: f1_score: 0.864 accuracy_score: 0.876 loss: 2143348310.668 \n",
      "[2023-04-17 19:53:57] 26196 src.scoring.epoch_score_printer {epoch_score_printer-21} INFO - [Epoch 5/50]: f1_score: 0.864 accuracy_score: 0.891 loss: 2143365462.607 \n",
      "[2023-04-17 19:54:15] 26196 src.scoring.epoch_score_printer {epoch_score_printer-21} INFO - [Epoch 6/50]: f1_score: 0.864 accuracy_score: 0.895 loss: 2143356850.653 \n",
      "[2023-04-17 19:54:34] 26196 src.scoring.epoch_score_printer {epoch_score_printer-21} INFO - [Epoch 7/50]: f1_score: 0.876 accuracy_score: 0.897 loss: 2143364490.212 \n",
      "[2023-04-17 19:54:52] 26196 src.scoring.epoch_score_printer {epoch_score_printer-21} INFO - [Epoch 8/50]: f1_score: 0.860 accuracy_score: 0.894 loss: 2143381665.052 \n",
      "[2023-04-17 19:55:10] 26196 src.scoring.epoch_score_printer {epoch_score_printer-21} INFO - [Epoch 9/50]: f1_score: 0.883 accuracy_score: 0.904 loss: 2143336525.228 \n",
      "[2023-04-17 19:55:28] 26196 src.scoring.epoch_score_printer {epoch_score_printer-21} INFO - [Epoch 10/50]: f1_score: 0.886 accuracy_score: 0.902 loss: 2143379163.196 \n",
      "[2023-04-17 19:55:46] 26196 src.scoring.epoch_score_printer {epoch_score_printer-21} INFO - [Epoch 11/50]: f1_score: 0.884 accuracy_score: 0.898 loss: 2143374323.279 \n",
      "[2023-04-17 19:56:04] 26196 src.scoring.epoch_score_printer {epoch_score_printer-21} INFO - [Epoch 12/50]: f1_score: 0.863 accuracy_score: 0.888 loss: 2143375662.865 \n",
      "[2023-04-17 19:56:23] 26196 src.scoring.epoch_score_printer {epoch_score_printer-21} INFO - [Epoch 13/50]: f1_score: 0.861 accuracy_score: 0.873 loss: 2143402297.448 \n",
      "[2023-04-17 19:56:41] 26196 src.scoring.epoch_score_printer {epoch_score_printer-21} INFO - [Epoch 14/50]: f1_score: 0.882 accuracy_score: 0.898 loss: 2143375338.399 \n",
      "[2023-04-17 19:56:59] 26196 src.scoring.epoch_score_printer {epoch_score_printer-21} INFO - [Epoch 15/50]: f1_score: 0.867 accuracy_score: 0.898 loss: 2143339129.972 \n",
      "[2023-04-17 19:57:17] 26196 src.scoring.epoch_score_printer {epoch_score_printer-21} INFO - [Epoch 16/50]: f1_score: 0.877 accuracy_score: 0.895 loss: 2143378786.119 \n",
      "[2023-04-17 19:57:35] 26196 src.scoring.epoch_score_printer {epoch_score_printer-21} INFO - [Epoch 17/50]: f1_score: 0.878 accuracy_score: 0.892 loss: 2143342213.143 \n",
      "[2023-04-17 19:57:55] 26196 src.scoring.epoch_score_printer {epoch_score_printer-21} INFO - [Epoch 18/50]: f1_score: 0.854 accuracy_score: 0.884 loss: 2143370607.704 \n",
      "[2023-04-17 19:58:13] 26196 src.scoring.epoch_score_printer {epoch_score_printer-21} INFO - [Epoch 19/50]: f1_score: 0.858 accuracy_score: 0.879 loss: 2143353560.571 \n",
      "[2023-04-17 19:58:31] 26196 src.scoring.epoch_score_printer {epoch_score_printer-21} INFO - [Epoch 20/50]: f1_score: 0.868 accuracy_score: 0.881 loss: 2143423210.888 \n"
     ]
    },
    {
     "ename": "KeyboardInterrupt",
     "evalue": "",
     "output_type": "error",
     "traceback": [
      "\u001B[0;31m---------------------------------------------------------------------------\u001B[0m",
      "\u001B[0;31mKeyboardInterrupt\u001B[0m                         Traceback (most recent call last)",
      "Cell \u001B[0;32mIn[7], line 2\u001B[0m\n\u001B[1;32m      1\u001B[0m bnn_classifier\u001B[38;5;241m.\u001B[39munfreeze_layer(\u001B[38;5;124m'\u001B[39m\u001B[38;5;124mlayer4\u001B[39m\u001B[38;5;124m'\u001B[39m)\n\u001B[0;32m----> 2\u001B[0m result_df2, result_dict2 \u001B[38;5;241m=\u001B[39m \u001B[43mbnn_classifier\u001B[49m\u001B[38;5;241;43m.\u001B[39;49m\u001B[43mfit\u001B[49m\u001B[43m(\u001B[49m\u001B[43mnum_epoch\u001B[49m\u001B[38;5;241;43m=\u001B[39;49m\u001B[38;5;241;43m50\u001B[39;49m\u001B[43m)\u001B[49m\n\u001B[1;32m      3\u001B[0m display(result_df)\n",
      "File \u001B[0;32m~/menquan/bayesian_refactoring/src/common/image_classifier.py:60\u001B[0m, in \u001B[0;36mImageClassifier.fit\u001B[0;34m(self, num_epoch, verbose)\u001B[0m\n\u001B[1;32m     59\u001B[0m \u001B[38;5;28;01mdef\u001B[39;00m \u001B[38;5;21mfit\u001B[39m(\u001B[38;5;28mself\u001B[39m, num_epoch: \u001B[38;5;28mint\u001B[39m, verbose\u001B[38;5;241m=\u001B[39m\u001B[38;5;28;01mTrue\u001B[39;00m) \u001B[38;5;241m-\u001B[39m\u001B[38;5;241m>\u001B[39m Tuple[pd\u001B[38;5;241m.\u001B[39mDataFrame, Dict]:\n\u001B[0;32m---> 60\u001B[0m     \u001B[38;5;28;01mreturn\u001B[39;00m \u001B[38;5;28;43mself\u001B[39;49m\u001B[38;5;241;43m.\u001B[39;49m\u001B[43m_fit\u001B[49m\u001B[43m(\u001B[49m\u001B[43mnum_epoch\u001B[49m\u001B[43m,\u001B[49m\u001B[43m \u001B[49m\u001B[43mverbose\u001B[49m\u001B[43m)\u001B[49m\n",
      "File \u001B[0;32m~/menquan/bayesian_refactoring/src/common/pyro_image_classifier.py:30\u001B[0m, in \u001B[0;36mPyroImageClassifier._fit\u001B[0;34m(self, num_epoch, verbose)\u001B[0m\n\u001B[1;32m     22\u001B[0m pyro\u001B[38;5;241m.\u001B[39mclear_param_store()\n\u001B[1;32m     23\u001B[0m trainer \u001B[38;5;241m=\u001B[39m PyroBnnTrainer(\n\u001B[1;32m     24\u001B[0m     \u001B[38;5;28mself\u001B[39m\u001B[38;5;241m.\u001B[39m_model,\n\u001B[1;32m     25\u001B[0m     \u001B[38;5;28mself\u001B[39m\u001B[38;5;241m.\u001B[39m_dataset,\n\u001B[0;32m   (...)\u001B[0m\n\u001B[1;32m     28\u001B[0m     \u001B[38;5;28mself\u001B[39m\u001B[38;5;241m.\u001B[39m_device,\n\u001B[1;32m     29\u001B[0m )\n\u001B[0;32m---> 30\u001B[0m \u001B[38;5;28;01mreturn\u001B[39;00m \u001B[43mtrainer\u001B[49m\u001B[38;5;241;43m.\u001B[39;49m\u001B[43mtrain\u001B[49m\u001B[43m(\u001B[49m\u001B[43mnum_epoch\u001B[49m\u001B[43m,\u001B[49m\u001B[43m \u001B[49m\u001B[43mverbose\u001B[49m\u001B[43m)\u001B[49m\n",
      "File \u001B[0;32m~/menquan/bayesian_refactoring/src/common/model_trainer.py:127\u001B[0m, in \u001B[0;36mModelTrainer.train\u001B[0;34m(self, num_epoch, verbose)\u001B[0m\n\u001B[1;32m    121\u001B[0m \u001B[38;5;28;01mdef\u001B[39;00m \u001B[38;5;21mtrain\u001B[39m(\n\u001B[1;32m    122\u001B[0m         \u001B[38;5;28mself\u001B[39m,\n\u001B[1;32m    123\u001B[0m         num_epoch: \u001B[38;5;28mint\u001B[39m,\n\u001B[1;32m    124\u001B[0m         verbose\u001B[38;5;241m=\u001B[39m\u001B[38;5;28;01mTrue\u001B[39;00m,\n\u001B[1;32m    125\u001B[0m ) \u001B[38;5;241m-\u001B[39m\u001B[38;5;241m>\u001B[39m Tuple[pd\u001B[38;5;241m.\u001B[39mDataFrame, Dict]:\n\u001B[1;32m    126\u001B[0m     optimizer \u001B[38;5;241m=\u001B[39m \u001B[38;5;28mself\u001B[39m\u001B[38;5;241m.\u001B[39m_get_optimizer(\u001B[38;5;28mself\u001B[39m\u001B[38;5;241m.\u001B[39m_model)\n\u001B[0;32m--> 127\u001B[0m     \u001B[38;5;28;01mreturn\u001B[39;00m \u001B[38;5;28;43mself\u001B[39;49m\u001B[38;5;241;43m.\u001B[39;49m\u001B[43m_train\u001B[49m\u001B[43m(\u001B[49m\n\u001B[1;32m    128\u001B[0m \u001B[43m        \u001B[49m\u001B[38;5;28;43mself\u001B[39;49m\u001B[38;5;241;43m.\u001B[39;49m\u001B[43m_model\u001B[49m\u001B[43m,\u001B[49m\n\u001B[1;32m    129\u001B[0m \u001B[43m        \u001B[49m\u001B[43mnum_epoch\u001B[49m\u001B[43m,\u001B[49m\n\u001B[1;32m    130\u001B[0m \u001B[43m        \u001B[49m\u001B[38;5;28;43mself\u001B[39;49m\u001B[38;5;241;43m.\u001B[39;49m\u001B[43m_dataset\u001B[49m\u001B[38;5;241;43m.\u001B[39;49m\u001B[43mtrain_dataloader\u001B[49m\u001B[43m,\u001B[49m\n\u001B[1;32m    131\u001B[0m \u001B[43m        \u001B[49m\u001B[38;5;28;43mself\u001B[39;49m\u001B[38;5;241;43m.\u001B[39;49m\u001B[43m_dataset\u001B[49m\u001B[38;5;241;43m.\u001B[39;49m\u001B[43mtest_dataloader\u001B[49m\u001B[43m,\u001B[49m\n\u001B[1;32m    132\u001B[0m \u001B[43m        \u001B[49m\u001B[43moptimizer\u001B[49m\u001B[43m,\u001B[49m\n\u001B[1;32m    133\u001B[0m \u001B[43m        \u001B[49m\u001B[38;5;28;43mself\u001B[39;49m\u001B[38;5;241;43m.\u001B[39;49m\u001B[43m_loss_criterion\u001B[49m\u001B[43m,\u001B[49m\n\u001B[1;32m    134\u001B[0m \u001B[43m        \u001B[49m\u001B[38;5;28;43mself\u001B[39;49m\u001B[38;5;241;43m.\u001B[39;49m\u001B[43m_device\u001B[49m\u001B[43m,\u001B[49m\n\u001B[1;32m    135\u001B[0m \u001B[43m        \u001B[49m\u001B[43mverbose\u001B[49m\u001B[38;5;241;43m=\u001B[39;49m\u001B[43mverbose\u001B[49m\n\u001B[1;32m    136\u001B[0m \u001B[43m    \u001B[49m\u001B[43m)\u001B[49m\n",
      "File \u001B[0;32m~/menquan/bayesian_refactoring/src/common/model_trainer.py:99\u001B[0m, in \u001B[0;36mModelTrainer._train\u001B[0;34m(self, model, num_epochs, train_dataloader, test_dataloader, optimizer, criterion, device, verbose)\u001B[0m\n\u001B[1;32m     96\u001B[0m results \u001B[38;5;241m=\u001B[39m []\n\u001B[1;32m     98\u001B[0m \u001B[38;5;28;01mfor\u001B[39;00m epoch \u001B[38;5;129;01min\u001B[39;00m \u001B[38;5;28mrange\u001B[39m(num_epochs):\n\u001B[0;32m---> 99\u001B[0m     epoch_loss \u001B[38;5;241m=\u001B[39m \u001B[38;5;28;43mself\u001B[39;49m\u001B[38;5;241;43m.\u001B[39;49m\u001B[43m_train_epoch\u001B[49m\u001B[43m(\u001B[49m\n\u001B[1;32m    100\u001B[0m \u001B[43m        \u001B[49m\u001B[43mmodel\u001B[49m\u001B[43m,\u001B[49m\n\u001B[1;32m    101\u001B[0m \u001B[43m        \u001B[49m\u001B[43mtrain_dataloader\u001B[49m\u001B[43m,\u001B[49m\n\u001B[1;32m    102\u001B[0m \u001B[43m        \u001B[49m\u001B[43moptimizer\u001B[49m\u001B[43m,\u001B[49m\n\u001B[1;32m    103\u001B[0m \u001B[43m        \u001B[49m\u001B[43mcriterion\u001B[49m\u001B[43m,\u001B[49m\n\u001B[1;32m    104\u001B[0m \u001B[43m        \u001B[49m\u001B[43mdevice\u001B[49m\u001B[43m,\u001B[49m\n\u001B[1;32m    105\u001B[0m \u001B[43m    \u001B[49m\u001B[43m)\u001B[49m\n\u001B[1;32m    106\u001B[0m     epoch_result \u001B[38;5;241m=\u001B[39m \u001B[38;5;28mself\u001B[39m\u001B[38;5;241m.\u001B[39m_score()\n\u001B[1;32m    107\u001B[0m     epoch_result[\u001B[38;5;124m'\u001B[39m\u001B[38;5;124mloss\u001B[39m\u001B[38;5;124m'\u001B[39m] \u001B[38;5;241m=\u001B[39m epoch_loss\n",
      "File \u001B[0;32m~/menquan/bayesian_refactoring/src/training/pyro_bnn_trainer.py:57\u001B[0m, in \u001B[0;36mPyroBnnTrainer._train_epoch\u001B[0;34m(self, model, loader, optimizer, criterion, device)\u001B[0m\n\u001B[1;32m     54\u001B[0m \u001B[38;5;28;01mfor\u001B[39;00m X_batch, y_batch \u001B[38;5;129;01min\u001B[39;00m loader:\n\u001B[1;32m     55\u001B[0m     X_batch, y_batch \u001B[38;5;241m=\u001B[39m X_batch\u001B[38;5;241m.\u001B[39mto(device), y_batch\u001B[38;5;241m.\u001B[39mto(device)\n\u001B[0;32m---> 57\u001B[0m     loss \u001B[38;5;241m=\u001B[39m \u001B[43mcriterion\u001B[49m\u001B[38;5;241;43m.\u001B[39;49m\u001B[43mstep\u001B[49m\u001B[43m(\u001B[49m\u001B[43mX_batch\u001B[49m\u001B[43m,\u001B[49m\u001B[43m \u001B[49m\u001B[43my_batch\u001B[49m\u001B[43m)\u001B[49m\n\u001B[1;32m     59\u001B[0m     \u001B[38;5;66;03m# Keep track of overall epoch loss\u001B[39;00m\n\u001B[1;32m     60\u001B[0m     epoch_loss \u001B[38;5;241m+\u001B[39m\u001B[38;5;241m=\u001B[39m loss\n",
      "File \u001B[0;32m/anaconda_env/projects/wlbbc/bayesian_test/lib/python3.9/site-packages/pyro/infer/svi.py:145\u001B[0m, in \u001B[0;36mSVI.step\u001B[0;34m(self, *args, **kwargs)\u001B[0m\n\u001B[1;32m    143\u001B[0m \u001B[38;5;66;03m# get loss and compute gradients\u001B[39;00m\n\u001B[1;32m    144\u001B[0m \u001B[38;5;28;01mwith\u001B[39;00m poutine\u001B[38;5;241m.\u001B[39mtrace(param_only\u001B[38;5;241m=\u001B[39m\u001B[38;5;28;01mTrue\u001B[39;00m) \u001B[38;5;28;01mas\u001B[39;00m param_capture:\n\u001B[0;32m--> 145\u001B[0m     loss \u001B[38;5;241m=\u001B[39m \u001B[38;5;28;43mself\u001B[39;49m\u001B[38;5;241;43m.\u001B[39;49m\u001B[43mloss_and_grads\u001B[49m\u001B[43m(\u001B[49m\u001B[38;5;28;43mself\u001B[39;49m\u001B[38;5;241;43m.\u001B[39;49m\u001B[43mmodel\u001B[49m\u001B[43m,\u001B[49m\u001B[43m \u001B[49m\u001B[38;5;28;43mself\u001B[39;49m\u001B[38;5;241;43m.\u001B[39;49m\u001B[43mguide\u001B[49m\u001B[43m,\u001B[49m\u001B[43m \u001B[49m\u001B[38;5;241;43m*\u001B[39;49m\u001B[43margs\u001B[49m\u001B[43m,\u001B[49m\u001B[43m \u001B[49m\u001B[38;5;241;43m*\u001B[39;49m\u001B[38;5;241;43m*\u001B[39;49m\u001B[43mkwargs\u001B[49m\u001B[43m)\u001B[49m\n\u001B[1;32m    147\u001B[0m params \u001B[38;5;241m=\u001B[39m \u001B[38;5;28mset\u001B[39m(\n\u001B[1;32m    148\u001B[0m     site[\u001B[38;5;124m\"\u001B[39m\u001B[38;5;124mvalue\u001B[39m\u001B[38;5;124m\"\u001B[39m]\u001B[38;5;241m.\u001B[39munconstrained() \u001B[38;5;28;01mfor\u001B[39;00m site \u001B[38;5;129;01min\u001B[39;00m param_capture\u001B[38;5;241m.\u001B[39mtrace\u001B[38;5;241m.\u001B[39mnodes\u001B[38;5;241m.\u001B[39mvalues()\n\u001B[1;32m    149\u001B[0m )\n\u001B[1;32m    151\u001B[0m \u001B[38;5;66;03m# actually perform gradient steps\u001B[39;00m\n\u001B[1;32m    152\u001B[0m \u001B[38;5;66;03m# torch.optim objects gets instantiated for any params that haven't been seen yet\u001B[39;00m\n",
      "File \u001B[0;32m/anaconda_env/projects/wlbbc/bayesian_test/lib/python3.9/site-packages/pyro/infer/trace_elbo.py:140\u001B[0m, in \u001B[0;36mTrace_ELBO.loss_and_grads\u001B[0;34m(self, model, guide, *args, **kwargs)\u001B[0m\n\u001B[1;32m    138\u001B[0m loss \u001B[38;5;241m=\u001B[39m \u001B[38;5;241m0.0\u001B[39m\n\u001B[1;32m    139\u001B[0m \u001B[38;5;66;03m# grab a trace from the generator\u001B[39;00m\n\u001B[0;32m--> 140\u001B[0m \u001B[38;5;28;01mfor\u001B[39;00m model_trace, guide_trace \u001B[38;5;129;01min\u001B[39;00m \u001B[38;5;28mself\u001B[39m\u001B[38;5;241m.\u001B[39m_get_traces(model, guide, args, kwargs):\n\u001B[1;32m    141\u001B[0m     loss_particle, surrogate_loss_particle \u001B[38;5;241m=\u001B[39m \u001B[38;5;28mself\u001B[39m\u001B[38;5;241m.\u001B[39m_differentiable_loss_particle(\n\u001B[1;32m    142\u001B[0m         model_trace, guide_trace\n\u001B[1;32m    143\u001B[0m     )\n\u001B[1;32m    144\u001B[0m     loss \u001B[38;5;241m+\u001B[39m\u001B[38;5;241m=\u001B[39m loss_particle \u001B[38;5;241m/\u001B[39m \u001B[38;5;28mself\u001B[39m\u001B[38;5;241m.\u001B[39mnum_particles\n",
      "File \u001B[0;32m/anaconda_env/projects/wlbbc/bayesian_test/lib/python3.9/site-packages/pyro/infer/elbo.py:182\u001B[0m, in \u001B[0;36mELBO._get_traces\u001B[0;34m(self, model, guide, args, kwargs)\u001B[0m\n\u001B[1;32m    180\u001B[0m \u001B[38;5;28;01melse\u001B[39;00m:\n\u001B[1;32m    181\u001B[0m     \u001B[38;5;28;01mfor\u001B[39;00m i \u001B[38;5;129;01min\u001B[39;00m \u001B[38;5;28mrange\u001B[39m(\u001B[38;5;28mself\u001B[39m\u001B[38;5;241m.\u001B[39mnum_particles):\n\u001B[0;32m--> 182\u001B[0m         \u001B[38;5;28;01myield\u001B[39;00m \u001B[38;5;28;43mself\u001B[39;49m\u001B[38;5;241;43m.\u001B[39;49m\u001B[43m_get_trace\u001B[49m\u001B[43m(\u001B[49m\u001B[43mmodel\u001B[49m\u001B[43m,\u001B[49m\u001B[43m \u001B[49m\u001B[43mguide\u001B[49m\u001B[43m,\u001B[49m\u001B[43m \u001B[49m\u001B[43margs\u001B[49m\u001B[43m,\u001B[49m\u001B[43m \u001B[49m\u001B[43mkwargs\u001B[49m\u001B[43m)\u001B[49m\n",
      "File \u001B[0;32m/anaconda_env/projects/wlbbc/bayesian_test/lib/python3.9/site-packages/pyro/infer/trace_elbo.py:57\u001B[0m, in \u001B[0;36mTrace_ELBO._get_trace\u001B[0;34m(self, model, guide, args, kwargs)\u001B[0m\n\u001B[1;32m     52\u001B[0m \u001B[38;5;28;01mdef\u001B[39;00m \u001B[38;5;21m_get_trace\u001B[39m(\u001B[38;5;28mself\u001B[39m, model, guide, args, kwargs):\n\u001B[1;32m     53\u001B[0m \u001B[38;5;250m    \u001B[39m\u001B[38;5;124;03m\"\"\"\u001B[39;00m\n\u001B[1;32m     54\u001B[0m \u001B[38;5;124;03m    Returns a single trace from the guide, and the model that is run\u001B[39;00m\n\u001B[1;32m     55\u001B[0m \u001B[38;5;124;03m    against it.\u001B[39;00m\n\u001B[1;32m     56\u001B[0m \u001B[38;5;124;03m    \"\"\"\u001B[39;00m\n\u001B[0;32m---> 57\u001B[0m     model_trace, guide_trace \u001B[38;5;241m=\u001B[39m \u001B[43mget_importance_trace\u001B[49m\u001B[43m(\u001B[49m\n\u001B[1;32m     58\u001B[0m \u001B[43m        \u001B[49m\u001B[38;5;124;43m\"\u001B[39;49m\u001B[38;5;124;43mflat\u001B[39;49m\u001B[38;5;124;43m\"\u001B[39;49m\u001B[43m,\u001B[49m\u001B[43m \u001B[49m\u001B[38;5;28;43mself\u001B[39;49m\u001B[38;5;241;43m.\u001B[39;49m\u001B[43mmax_plate_nesting\u001B[49m\u001B[43m,\u001B[49m\u001B[43m \u001B[49m\u001B[43mmodel\u001B[49m\u001B[43m,\u001B[49m\u001B[43m \u001B[49m\u001B[43mguide\u001B[49m\u001B[43m,\u001B[49m\u001B[43m \u001B[49m\u001B[43margs\u001B[49m\u001B[43m,\u001B[49m\u001B[43m \u001B[49m\u001B[43mkwargs\u001B[49m\n\u001B[1;32m     59\u001B[0m \u001B[43m    \u001B[49m\u001B[43m)\u001B[49m\n\u001B[1;32m     60\u001B[0m     \u001B[38;5;28;01mif\u001B[39;00m is_validation_enabled():\n\u001B[1;32m     61\u001B[0m         check_if_enumerated(guide_trace)\n",
      "File \u001B[0;32m/anaconda_env/projects/wlbbc/bayesian_test/lib/python3.9/site-packages/pyro/infer/enum.py:76\u001B[0m, in \u001B[0;36mget_importance_trace\u001B[0;34m(graph_type, max_plate_nesting, model, guide, args, kwargs, detach)\u001B[0m\n\u001B[1;32m     73\u001B[0m model_trace \u001B[38;5;241m=\u001B[39m prune_subsample_sites(model_trace)\n\u001B[1;32m     75\u001B[0m model_trace\u001B[38;5;241m.\u001B[39mcompute_log_prob()\n\u001B[0;32m---> 76\u001B[0m \u001B[43mguide_trace\u001B[49m\u001B[38;5;241;43m.\u001B[39;49m\u001B[43mcompute_score_parts\u001B[49m\u001B[43m(\u001B[49m\u001B[43m)\u001B[49m\n\u001B[1;32m     77\u001B[0m \u001B[38;5;28;01mif\u001B[39;00m is_validation_enabled():\n\u001B[1;32m     78\u001B[0m     \u001B[38;5;28;01mfor\u001B[39;00m site \u001B[38;5;129;01min\u001B[39;00m model_trace\u001B[38;5;241m.\u001B[39mnodes\u001B[38;5;241m.\u001B[39mvalues():\n",
      "File \u001B[0;32m/anaconda_env/projects/wlbbc/bayesian_test/lib/python3.9/site-packages/pyro/poutine/trace_struct.py:288\u001B[0m, in \u001B[0;36mTrace.compute_score_parts\u001B[0;34m(self)\u001B[0m\n\u001B[1;32m    284\u001B[0m \u001B[38;5;28;01mif\u001B[39;00m is_validation_enabled():\n\u001B[1;32m    285\u001B[0m     warn_if_nan(\n\u001B[1;32m    286\u001B[0m         site[\u001B[38;5;124m\"\u001B[39m\u001B[38;5;124mlog_prob_sum\u001B[39m\u001B[38;5;124m\"\u001B[39m], \u001B[38;5;124m\"\u001B[39m\u001B[38;5;124mlog_prob_sum at site \u001B[39m\u001B[38;5;124m'\u001B[39m\u001B[38;5;132;01m{}\u001B[39;00m\u001B[38;5;124m'\u001B[39m\u001B[38;5;124m\"\u001B[39m\u001B[38;5;241m.\u001B[39mformat(name)\n\u001B[1;32m    287\u001B[0m     )\n\u001B[0;32m--> 288\u001B[0m     \u001B[43mwarn_if_inf\u001B[49m\u001B[43m(\u001B[49m\n\u001B[1;32m    289\u001B[0m \u001B[43m        \u001B[49m\u001B[43msite\u001B[49m\u001B[43m[\u001B[49m\u001B[38;5;124;43m\"\u001B[39;49m\u001B[38;5;124;43mlog_prob_sum\u001B[39;49m\u001B[38;5;124;43m\"\u001B[39;49m\u001B[43m]\u001B[49m\u001B[43m,\u001B[49m\n\u001B[1;32m    290\u001B[0m \u001B[43m        \u001B[49m\u001B[38;5;124;43m\"\u001B[39;49m\u001B[38;5;124;43mlog_prob_sum at site \u001B[39;49m\u001B[38;5;124;43m'\u001B[39;49m\u001B[38;5;132;43;01m{}\u001B[39;49;00m\u001B[38;5;124;43m'\u001B[39;49m\u001B[38;5;124;43m\"\u001B[39;49m\u001B[38;5;241;43m.\u001B[39;49m\u001B[43mformat\u001B[49m\u001B[43m(\u001B[49m\u001B[43mname\u001B[49m\u001B[43m)\u001B[49m\u001B[43m,\u001B[49m\n\u001B[1;32m    291\u001B[0m \u001B[43m        \u001B[49m\u001B[43mallow_neginf\u001B[49m\u001B[38;5;241;43m=\u001B[39;49m\u001B[38;5;28;43;01mTrue\u001B[39;49;00m\u001B[43m,\u001B[49m\n\u001B[1;32m    292\u001B[0m \u001B[43m    \u001B[49m\u001B[43m)\u001B[49m\n",
      "File \u001B[0;32m/anaconda_env/projects/wlbbc/bayesian_test/lib/python3.9/site-packages/pyro/util.py:129\u001B[0m, in \u001B[0;36mwarn_if_inf\u001B[0;34m(value, msg, allow_posinf, allow_neginf, filename, lineno)\u001B[0m\n\u001B[1;32m    117\u001B[0m \u001B[38;5;28;01mif\u001B[39;00m torch\u001B[38;5;241m.\u001B[39mis_tensor(value) \u001B[38;5;129;01mand\u001B[39;00m value\u001B[38;5;241m.\u001B[39mrequires_grad:\n\u001B[1;32m    118\u001B[0m     value\u001B[38;5;241m.\u001B[39mregister_hook(\n\u001B[1;32m    119\u001B[0m         \u001B[38;5;28;01mlambda\u001B[39;00m x: warn_if_inf(\n\u001B[1;32m    120\u001B[0m             x,\n\u001B[0;32m   (...)\u001B[0m\n\u001B[1;32m    126\u001B[0m         )\n\u001B[1;32m    127\u001B[0m     )\n\u001B[0;32m--> 129\u001B[0m \u001B[38;5;28;01mif\u001B[39;00m (\u001B[38;5;129;01mnot\u001B[39;00m allow_posinf) \u001B[38;5;129;01mand\u001B[39;00m (\n\u001B[1;32m    130\u001B[0m     value \u001B[38;5;241m==\u001B[39m math\u001B[38;5;241m.\u001B[39minf\n\u001B[1;32m    131\u001B[0m     \u001B[38;5;28;01mif\u001B[39;00m \u001B[38;5;28misinstance\u001B[39m(value, numbers\u001B[38;5;241m.\u001B[39mNumber)\n\u001B[1;32m    132\u001B[0m     \u001B[38;5;28;01melse\u001B[39;00m (value \u001B[38;5;241m==\u001B[39m math\u001B[38;5;241m.\u001B[39minf)\u001B[38;5;241m.\u001B[39many()\n\u001B[1;32m    133\u001B[0m ):\n\u001B[1;32m    134\u001B[0m     warnings\u001B[38;5;241m.\u001B[39mwarn_explicit(\n\u001B[1;32m    135\u001B[0m         \u001B[38;5;124m\"\u001B[39m\u001B[38;5;124mEncountered +inf\u001B[39m\u001B[38;5;132;01m{}\u001B[39;00m\u001B[38;5;124m\"\u001B[39m\u001B[38;5;241m.\u001B[39mformat(\u001B[38;5;124m\"\u001B[39m\u001B[38;5;124m: \u001B[39m\u001B[38;5;124m\"\u001B[39m \u001B[38;5;241m+\u001B[39m msg \u001B[38;5;28;01mif\u001B[39;00m msg \u001B[38;5;28;01melse\u001B[39;00m \u001B[38;5;124m\"\u001B[39m\u001B[38;5;124m.\u001B[39m\u001B[38;5;124m\"\u001B[39m),\n\u001B[1;32m    136\u001B[0m         \u001B[38;5;167;01mUserWarning\u001B[39;00m,\n\u001B[1;32m    137\u001B[0m         filename,\n\u001B[1;32m    138\u001B[0m         lineno,\n\u001B[1;32m    139\u001B[0m     )\n\u001B[1;32m    140\u001B[0m \u001B[38;5;28;01mif\u001B[39;00m (\u001B[38;5;129;01mnot\u001B[39;00m allow_neginf) \u001B[38;5;129;01mand\u001B[39;00m (\n\u001B[1;32m    141\u001B[0m     value \u001B[38;5;241m==\u001B[39m \u001B[38;5;241m-\u001B[39mmath\u001B[38;5;241m.\u001B[39minf\n\u001B[1;32m    142\u001B[0m     \u001B[38;5;28;01mif\u001B[39;00m \u001B[38;5;28misinstance\u001B[39m(value, numbers\u001B[38;5;241m.\u001B[39mNumber)\n\u001B[1;32m    143\u001B[0m     \u001B[38;5;28;01melse\u001B[39;00m (value \u001B[38;5;241m==\u001B[39m \u001B[38;5;241m-\u001B[39mmath\u001B[38;5;241m.\u001B[39minf)\u001B[38;5;241m.\u001B[39many()\n\u001B[1;32m    144\u001B[0m ):\n",
      "\u001B[0;31mKeyboardInterrupt\u001B[0m: "
     ]
    }
   ],
   "source": [
    "bnn_classifier.unfreeze_layer('layer4')\n",
    "result_df2, result_dict2 = bnn_classifier.fit(num_epoch=50)\n",
    "display(result_df2)"
   ],
   "metadata": {
    "collapsed": false
   }
  },
  {
   "cell_type": "code",
   "execution_count": null,
   "outputs": [],
   "source": [],
   "metadata": {
    "collapsed": false
   }
  },
  {
   "cell_type": "code",
   "execution_count": 8,
   "outputs": [
    {
     "name": "stderr",
     "output_type": "stream",
     "text": [
      "[2023-04-17 19:59:02] 26196 src.scoring.epoch_score_printer {epoch_score_printer-21} INFO - [Epoch 0/30]: f1_score: 0.882 accuracy_score: 0.904 loss: 2143337309.289 \n",
      "[2023-04-17 19:59:20] 26196 src.scoring.epoch_score_printer {epoch_score_printer-21} INFO - [Epoch 1/30]: f1_score: 0.868 accuracy_score: 0.879 loss: 2143372962.922 \n",
      "[2023-04-17 19:59:39] 26196 src.scoring.epoch_score_printer {epoch_score_printer-21} INFO - [Epoch 2/30]: f1_score: 0.879 accuracy_score: 0.909 loss: 2143412926.068 \n",
      "[2023-04-17 19:59:58] 26196 src.scoring.epoch_score_printer {epoch_score_printer-21} INFO - [Epoch 3/30]: f1_score: 0.885 accuracy_score: 0.900 loss: 2143416182.983 \n",
      "[2023-04-17 20:00:16] 26196 src.scoring.epoch_score_printer {epoch_score_printer-21} INFO - [Epoch 4/30]: f1_score: 0.894 accuracy_score: 0.907 loss: 2143304258.304 \n",
      "[2023-04-17 20:00:35] 26196 src.scoring.epoch_score_printer {epoch_score_printer-21} INFO - [Epoch 5/30]: f1_score: 0.882 accuracy_score: 0.900 loss: 2143332224.352 \n",
      "[2023-04-17 20:00:53] 26196 src.scoring.epoch_score_printer {epoch_score_printer-21} INFO - [Epoch 6/30]: f1_score: 0.894 accuracy_score: 0.904 loss: 2143327944.977 \n",
      "[2023-04-17 20:01:12] 26196 src.scoring.epoch_score_printer {epoch_score_printer-21} INFO - [Epoch 7/30]: f1_score: 0.878 accuracy_score: 0.898 loss: 2143361269.281 \n",
      "[2023-04-17 20:01:31] 26196 src.scoring.epoch_score_printer {epoch_score_printer-21} INFO - [Epoch 8/30]: f1_score: 0.897 accuracy_score: 0.908 loss: 2143388242.503 \n",
      "[2023-04-17 20:01:49] 26196 src.scoring.epoch_score_printer {epoch_score_printer-21} INFO - [Epoch 9/30]: f1_score: 0.894 accuracy_score: 0.901 loss: 2143338717.396 \n",
      "[2023-04-17 20:02:07] 26196 src.scoring.epoch_score_printer {epoch_score_printer-21} INFO - [Epoch 10/30]: f1_score: 0.878 accuracy_score: 0.896 loss: 2143369217.967 \n",
      "[2023-04-17 20:02:26] 26196 src.scoring.epoch_score_printer {epoch_score_printer-21} INFO - [Epoch 11/30]: f1_score: 0.874 accuracy_score: 0.892 loss: 2143399388.177 \n",
      "[2023-04-17 20:02:45] 26196 src.scoring.epoch_score_printer {epoch_score_printer-21} INFO - [Epoch 12/30]: f1_score: 0.897 accuracy_score: 0.906 loss: 2143317125.497 \n",
      "[2023-04-17 20:03:04] 26196 src.scoring.epoch_score_printer {epoch_score_printer-21} INFO - [Epoch 13/30]: f1_score: 0.896 accuracy_score: 0.909 loss: 2143317155.988 \n",
      "[2023-04-17 20:03:22] 26196 src.scoring.epoch_score_printer {epoch_score_printer-21} INFO - [Epoch 14/30]: f1_score: 0.873 accuracy_score: 0.897 loss: 2143362081.445 \n",
      "[2023-04-17 20:03:40] 26196 src.scoring.epoch_score_printer {epoch_score_printer-21} INFO - [Epoch 15/30]: f1_score: 0.902 accuracy_score: 0.909 loss: 2143368773.316 \n"
     ]
    },
    {
     "ename": "KeyboardInterrupt",
     "evalue": "",
     "output_type": "error",
     "traceback": [
      "\u001B[0;31m---------------------------------------------------------------------------\u001B[0m",
      "\u001B[0;31mKeyboardInterrupt\u001B[0m                         Traceback (most recent call last)",
      "Cell \u001B[0;32mIn[8], line 2\u001B[0m\n\u001B[1;32m      1\u001B[0m bnn_classifier\u001B[38;5;241m.\u001B[39munfreeze_layer(\u001B[38;5;124m'\u001B[39m\u001B[38;5;124mlayer3\u001B[39m\u001B[38;5;124m'\u001B[39m)\n\u001B[0;32m----> 2\u001B[0m result_df3, result_dict3 \u001B[38;5;241m=\u001B[39m \u001B[43mbnn_classifier\u001B[49m\u001B[38;5;241;43m.\u001B[39;49m\u001B[43mfit\u001B[49m\u001B[43m(\u001B[49m\u001B[43mnum_epoch\u001B[49m\u001B[38;5;241;43m=\u001B[39;49m\u001B[38;5;241;43m30\u001B[39;49m\u001B[43m)\u001B[49m\n\u001B[1;32m      3\u001B[0m display(result_df3)\n",
      "File \u001B[0;32m~/menquan/bayesian_refactoring/src/common/image_classifier.py:60\u001B[0m, in \u001B[0;36mImageClassifier.fit\u001B[0;34m(self, num_epoch, verbose)\u001B[0m\n\u001B[1;32m     59\u001B[0m \u001B[38;5;28;01mdef\u001B[39;00m \u001B[38;5;21mfit\u001B[39m(\u001B[38;5;28mself\u001B[39m, num_epoch: \u001B[38;5;28mint\u001B[39m, verbose\u001B[38;5;241m=\u001B[39m\u001B[38;5;28;01mTrue\u001B[39;00m) \u001B[38;5;241m-\u001B[39m\u001B[38;5;241m>\u001B[39m Tuple[pd\u001B[38;5;241m.\u001B[39mDataFrame, Dict]:\n\u001B[0;32m---> 60\u001B[0m     \u001B[38;5;28;01mreturn\u001B[39;00m \u001B[38;5;28;43mself\u001B[39;49m\u001B[38;5;241;43m.\u001B[39;49m\u001B[43m_fit\u001B[49m\u001B[43m(\u001B[49m\u001B[43mnum_epoch\u001B[49m\u001B[43m,\u001B[49m\u001B[43m \u001B[49m\u001B[43mverbose\u001B[49m\u001B[43m)\u001B[49m\n",
      "File \u001B[0;32m~/menquan/bayesian_refactoring/src/common/pyro_image_classifier.py:30\u001B[0m, in \u001B[0;36mPyroImageClassifier._fit\u001B[0;34m(self, num_epoch, verbose)\u001B[0m\n\u001B[1;32m     22\u001B[0m pyro\u001B[38;5;241m.\u001B[39mclear_param_store()\n\u001B[1;32m     23\u001B[0m trainer \u001B[38;5;241m=\u001B[39m PyroBnnTrainer(\n\u001B[1;32m     24\u001B[0m     \u001B[38;5;28mself\u001B[39m\u001B[38;5;241m.\u001B[39m_model,\n\u001B[1;32m     25\u001B[0m     \u001B[38;5;28mself\u001B[39m\u001B[38;5;241m.\u001B[39m_dataset,\n\u001B[0;32m   (...)\u001B[0m\n\u001B[1;32m     28\u001B[0m     \u001B[38;5;28mself\u001B[39m\u001B[38;5;241m.\u001B[39m_device,\n\u001B[1;32m     29\u001B[0m )\n\u001B[0;32m---> 30\u001B[0m \u001B[38;5;28;01mreturn\u001B[39;00m \u001B[43mtrainer\u001B[49m\u001B[38;5;241;43m.\u001B[39;49m\u001B[43mtrain\u001B[49m\u001B[43m(\u001B[49m\u001B[43mnum_epoch\u001B[49m\u001B[43m,\u001B[49m\u001B[43m \u001B[49m\u001B[43mverbose\u001B[49m\u001B[43m)\u001B[49m\n",
      "File \u001B[0;32m~/menquan/bayesian_refactoring/src/common/model_trainer.py:127\u001B[0m, in \u001B[0;36mModelTrainer.train\u001B[0;34m(self, num_epoch, verbose)\u001B[0m\n\u001B[1;32m    121\u001B[0m \u001B[38;5;28;01mdef\u001B[39;00m \u001B[38;5;21mtrain\u001B[39m(\n\u001B[1;32m    122\u001B[0m         \u001B[38;5;28mself\u001B[39m,\n\u001B[1;32m    123\u001B[0m         num_epoch: \u001B[38;5;28mint\u001B[39m,\n\u001B[1;32m    124\u001B[0m         verbose\u001B[38;5;241m=\u001B[39m\u001B[38;5;28;01mTrue\u001B[39;00m,\n\u001B[1;32m    125\u001B[0m ) \u001B[38;5;241m-\u001B[39m\u001B[38;5;241m>\u001B[39m Tuple[pd\u001B[38;5;241m.\u001B[39mDataFrame, Dict]:\n\u001B[1;32m    126\u001B[0m     optimizer \u001B[38;5;241m=\u001B[39m \u001B[38;5;28mself\u001B[39m\u001B[38;5;241m.\u001B[39m_get_optimizer(\u001B[38;5;28mself\u001B[39m\u001B[38;5;241m.\u001B[39m_model)\n\u001B[0;32m--> 127\u001B[0m     \u001B[38;5;28;01mreturn\u001B[39;00m \u001B[38;5;28;43mself\u001B[39;49m\u001B[38;5;241;43m.\u001B[39;49m\u001B[43m_train\u001B[49m\u001B[43m(\u001B[49m\n\u001B[1;32m    128\u001B[0m \u001B[43m        \u001B[49m\u001B[38;5;28;43mself\u001B[39;49m\u001B[38;5;241;43m.\u001B[39;49m\u001B[43m_model\u001B[49m\u001B[43m,\u001B[49m\n\u001B[1;32m    129\u001B[0m \u001B[43m        \u001B[49m\u001B[43mnum_epoch\u001B[49m\u001B[43m,\u001B[49m\n\u001B[1;32m    130\u001B[0m \u001B[43m        \u001B[49m\u001B[38;5;28;43mself\u001B[39;49m\u001B[38;5;241;43m.\u001B[39;49m\u001B[43m_dataset\u001B[49m\u001B[38;5;241;43m.\u001B[39;49m\u001B[43mtrain_dataloader\u001B[49m\u001B[43m,\u001B[49m\n\u001B[1;32m    131\u001B[0m \u001B[43m        \u001B[49m\u001B[38;5;28;43mself\u001B[39;49m\u001B[38;5;241;43m.\u001B[39;49m\u001B[43m_dataset\u001B[49m\u001B[38;5;241;43m.\u001B[39;49m\u001B[43mtest_dataloader\u001B[49m\u001B[43m,\u001B[49m\n\u001B[1;32m    132\u001B[0m \u001B[43m        \u001B[49m\u001B[43moptimizer\u001B[49m\u001B[43m,\u001B[49m\n\u001B[1;32m    133\u001B[0m \u001B[43m        \u001B[49m\u001B[38;5;28;43mself\u001B[39;49m\u001B[38;5;241;43m.\u001B[39;49m\u001B[43m_loss_criterion\u001B[49m\u001B[43m,\u001B[49m\n\u001B[1;32m    134\u001B[0m \u001B[43m        \u001B[49m\u001B[38;5;28;43mself\u001B[39;49m\u001B[38;5;241;43m.\u001B[39;49m\u001B[43m_device\u001B[49m\u001B[43m,\u001B[49m\n\u001B[1;32m    135\u001B[0m \u001B[43m        \u001B[49m\u001B[43mverbose\u001B[49m\u001B[38;5;241;43m=\u001B[39;49m\u001B[43mverbose\u001B[49m\n\u001B[1;32m    136\u001B[0m \u001B[43m    \u001B[49m\u001B[43m)\u001B[49m\n",
      "File \u001B[0;32m~/menquan/bayesian_refactoring/src/common/model_trainer.py:106\u001B[0m, in \u001B[0;36mModelTrainer._train\u001B[0;34m(self, model, num_epochs, train_dataloader, test_dataloader, optimizer, criterion, device, verbose)\u001B[0m\n\u001B[1;32m     98\u001B[0m \u001B[38;5;28;01mfor\u001B[39;00m epoch \u001B[38;5;129;01min\u001B[39;00m \u001B[38;5;28mrange\u001B[39m(num_epochs):\n\u001B[1;32m     99\u001B[0m     epoch_loss \u001B[38;5;241m=\u001B[39m \u001B[38;5;28mself\u001B[39m\u001B[38;5;241m.\u001B[39m_train_epoch(\n\u001B[1;32m    100\u001B[0m         model,\n\u001B[1;32m    101\u001B[0m         train_dataloader,\n\u001B[0;32m   (...)\u001B[0m\n\u001B[1;32m    104\u001B[0m         device,\n\u001B[1;32m    105\u001B[0m     )\n\u001B[0;32m--> 106\u001B[0m     epoch_result \u001B[38;5;241m=\u001B[39m \u001B[38;5;28;43mself\u001B[39;49m\u001B[38;5;241;43m.\u001B[39;49m\u001B[43m_score\u001B[49m\u001B[43m(\u001B[49m\u001B[43m)\u001B[49m\n\u001B[1;32m    107\u001B[0m     epoch_result[\u001B[38;5;124m'\u001B[39m\u001B[38;5;124mloss\u001B[39m\u001B[38;5;124m'\u001B[39m] \u001B[38;5;241m=\u001B[39m epoch_loss\n\u001B[1;32m    108\u001B[0m     results\u001B[38;5;241m.\u001B[39mappend(epoch_result)\n",
      "File \u001B[0;32m~/menquan/bayesian_refactoring/src/common/model_trainer.py:37\u001B[0m, in \u001B[0;36mModelTrainer._score\u001B[0;34m(self)\u001B[0m\n\u001B[1;32m     36\u001B[0m \u001B[38;5;28;01mdef\u001B[39;00m \u001B[38;5;21m_score\u001B[39m(\u001B[38;5;28mself\u001B[39m) \u001B[38;5;241m-\u001B[39m\u001B[38;5;241m>\u001B[39m Dict[\u001B[38;5;28mstr\u001B[39m, \u001B[38;5;28mfloat\u001B[39m]:\n\u001B[0;32m---> 37\u001B[0m     y_true, y_pred \u001B[38;5;241m=\u001B[39m \u001B[38;5;28;43mself\u001B[39;49m\u001B[38;5;241;43m.\u001B[39;49m\u001B[43m_predictor\u001B[49m\u001B[38;5;241;43m.\u001B[39;49m\u001B[43mpredict\u001B[49m\u001B[43m(\u001B[49m\u001B[43m)\u001B[49m\n\u001B[1;32m     38\u001B[0m     \u001B[38;5;28;01mreturn\u001B[39;00m ClassScorer\u001B[38;5;241m.\u001B[39mscore(y_true, y_pred)\n",
      "File \u001B[0;32m~/menquan/bayesian_refactoring/src/prediction/pyro_bnn_batch_predictor.py:54\u001B[0m, in \u001B[0;36mPyroBnnBatchPredictor.predict\u001B[0;34m(self)\u001B[0m\n\u001B[1;32m     53\u001B[0m \u001B[38;5;28;01mdef\u001B[39;00m \u001B[38;5;21mpredict\u001B[39m(\u001B[38;5;28mself\u001B[39m):\n\u001B[0;32m---> 54\u001B[0m     \u001B[38;5;28;01mreturn\u001B[39;00m \u001B[38;5;28;43mself\u001B[39;49m\u001B[38;5;241;43m.\u001B[39;49m\u001B[43m_predict\u001B[49m\u001B[43m(\u001B[49m\n\u001B[1;32m     55\u001B[0m \u001B[43m        \u001B[49m\u001B[38;5;28;43mself\u001B[39;49m\u001B[38;5;241;43m.\u001B[39;49m\u001B[43m_model\u001B[49m\u001B[43m,\u001B[49m\n\u001B[1;32m     56\u001B[0m \u001B[43m        \u001B[49m\u001B[38;5;28;43mself\u001B[39;49m\u001B[38;5;241;43m.\u001B[39;49m\u001B[43m_dataloader\u001B[49m\u001B[43m,\u001B[49m\n\u001B[1;32m     57\u001B[0m \u001B[43m        \u001B[49m\u001B[38;5;28;43mself\u001B[39;49m\u001B[38;5;241;43m.\u001B[39;49m\u001B[43m_model\u001B[49m\u001B[38;5;241;43m.\u001B[39;49m\u001B[43mmodel\u001B[49m\u001B[43m,\u001B[49m\n\u001B[1;32m     58\u001B[0m \u001B[43m        \u001B[49m\u001B[38;5;28;43mself\u001B[39;49m\u001B[38;5;241;43m.\u001B[39;49m\u001B[43m_model\u001B[49m\u001B[38;5;241;43m.\u001B[39;49m\u001B[43mguide\u001B[49m\u001B[43m,\u001B[49m\n\u001B[1;32m     59\u001B[0m \u001B[43m        \u001B[49m\u001B[38;5;28;43mself\u001B[39;49m\u001B[38;5;241;43m.\u001B[39;49m\u001B[43m_num_samples\u001B[49m\u001B[43m,\u001B[49m\n\u001B[1;32m     60\u001B[0m \u001B[43m        \u001B[49m\u001B[38;5;28;43mself\u001B[39;49m\u001B[38;5;241;43m.\u001B[39;49m\u001B[43m_device\u001B[49m\u001B[43m,\u001B[49m\n\u001B[1;32m     61\u001B[0m \u001B[43m    \u001B[49m\u001B[43m)\u001B[49m\n",
      "File \u001B[0;32m~/menquan/bayesian_refactoring/src/prediction/pyro_bnn_batch_predictor.py:41\u001B[0m, in \u001B[0;36mPyroBnnBatchPredictor._predict\u001B[0;34m(self, model, dataloader, likelihood, guide, num_samples, device)\u001B[0m\n\u001B[1;32m     38\u001B[0m \u001B[38;5;28;01mfor\u001B[39;00m X_batch, y_batch \u001B[38;5;129;01min\u001B[39;00m dataloader:\n\u001B[1;32m     39\u001B[0m     X_batch, y_batch \u001B[38;5;241m=\u001B[39m X_batch\u001B[38;5;241m.\u001B[39mto(device), y_batch\u001B[38;5;241m.\u001B[39mto(device)\n\u001B[0;32m---> 41\u001B[0m     prediction \u001B[38;5;241m=\u001B[39m \u001B[38;5;28;43mself\u001B[39;49m\u001B[38;5;241;43m.\u001B[39;49m\u001B[43m_get_prediction\u001B[49m\u001B[43m(\u001B[49m\n\u001B[1;32m     42\u001B[0m \u001B[43m        \u001B[49m\u001B[43mX_batch\u001B[49m\u001B[43m,\u001B[49m\u001B[43m \u001B[49m\u001B[43mlikelihood\u001B[49m\u001B[43m,\u001B[49m\u001B[43m \u001B[49m\u001B[43mguide\u001B[49m\u001B[43m,\u001B[49m\u001B[43m \u001B[49m\u001B[43mnum_samples\u001B[49m\u001B[43m)\u001B[49m\n\u001B[1;32m     43\u001B[0m     best_prediction \u001B[38;5;241m=\u001B[39m prediction\u001B[38;5;241m.\u001B[39margmax(axis\u001B[38;5;241m=\u001B[39m\u001B[38;5;241m2\u001B[39m)\n\u001B[1;32m     44\u001B[0m     actual_label \u001B[38;5;241m=\u001B[39m y_batch\u001B[38;5;241m.\u001B[39mexpand(\n\u001B[1;32m     45\u001B[0m         num_samples, y_batch\u001B[38;5;241m.\u001B[39mshape[\u001B[38;5;241m0\u001B[39m]\n\u001B[1;32m     46\u001B[0m     )\u001B[38;5;241m.\u001B[39mcpu()\u001B[38;5;241m.\u001B[39mnumpy()\n",
      "File \u001B[0;32m~/menquan/bayesian_refactoring/src/prediction/pyro_bnn_batch_predictor.py:28\u001B[0m, in \u001B[0;36mPyroBnnBatchPredictor._get_prediction\u001B[0;34m(self, x, likelihood, guide, num_samples)\u001B[0m\n\u001B[1;32m     21\u001B[0m \u001B[38;5;28;01mdef\u001B[39;00m \u001B[38;5;21m_get_prediction\u001B[39m(\u001B[38;5;28mself\u001B[39m, x, likelihood, guide, num_samples):\n\u001B[1;32m     22\u001B[0m     predictive \u001B[38;5;241m=\u001B[39m Predictive(\n\u001B[1;32m     23\u001B[0m         likelihood,\n\u001B[1;32m     24\u001B[0m         guide\u001B[38;5;241m=\u001B[39mguide,\n\u001B[1;32m     25\u001B[0m         num_samples\u001B[38;5;241m=\u001B[39mnum_samples,\n\u001B[1;32m     26\u001B[0m         return_sites\u001B[38;5;241m=\u001B[39m(\u001B[38;5;124m\"\u001B[39m\u001B[38;5;124mobs\u001B[39m\u001B[38;5;124m\"\u001B[39m, \u001B[38;5;124m\"\u001B[39m\u001B[38;5;124m_RETURN\u001B[39m\u001B[38;5;124m\"\u001B[39m)\n\u001B[1;32m     27\u001B[0m     )  \u001B[38;5;66;03m# \"linear.weight\"\u001B[39;00m\n\u001B[0;32m---> 28\u001B[0m     samples \u001B[38;5;241m=\u001B[39m \u001B[43mpredictive\u001B[49m\u001B[43m(\u001B[49m\u001B[43mx\u001B[49m\u001B[43m)\u001B[49m\n\u001B[1;32m     29\u001B[0m     predicted_classes \u001B[38;5;241m=\u001B[39m samples[\u001B[38;5;124m'\u001B[39m\u001B[38;5;124m_RETURN\u001B[39m\u001B[38;5;124m'\u001B[39m]\u001B[38;5;241m.\u001B[39mcpu()\u001B[38;5;241m.\u001B[39mnumpy()\n\u001B[1;32m     30\u001B[0m     \u001B[38;5;28;01mreturn\u001B[39;00m predicted_classes\n",
      "File \u001B[0;32m/anaconda_env/projects/wlbbc/bayesian_test/lib/python3.9/site-packages/torch/nn/modules/module.py:1130\u001B[0m, in \u001B[0;36mModule._call_impl\u001B[0;34m(self, *input, **kwargs)\u001B[0m\n\u001B[1;32m   1126\u001B[0m \u001B[38;5;66;03m# If we don't have any hooks, we want to skip the rest of the logic in\u001B[39;00m\n\u001B[1;32m   1127\u001B[0m \u001B[38;5;66;03m# this function, and just call forward.\u001B[39;00m\n\u001B[1;32m   1128\u001B[0m \u001B[38;5;28;01mif\u001B[39;00m \u001B[38;5;129;01mnot\u001B[39;00m (\u001B[38;5;28mself\u001B[39m\u001B[38;5;241m.\u001B[39m_backward_hooks \u001B[38;5;129;01mor\u001B[39;00m \u001B[38;5;28mself\u001B[39m\u001B[38;5;241m.\u001B[39m_forward_hooks \u001B[38;5;129;01mor\u001B[39;00m \u001B[38;5;28mself\u001B[39m\u001B[38;5;241m.\u001B[39m_forward_pre_hooks \u001B[38;5;129;01mor\u001B[39;00m _global_backward_hooks\n\u001B[1;32m   1129\u001B[0m         \u001B[38;5;129;01mor\u001B[39;00m _global_forward_hooks \u001B[38;5;129;01mor\u001B[39;00m _global_forward_pre_hooks):\n\u001B[0;32m-> 1130\u001B[0m     \u001B[38;5;28;01mreturn\u001B[39;00m \u001B[43mforward_call\u001B[49m\u001B[43m(\u001B[49m\u001B[38;5;241;43m*\u001B[39;49m\u001B[38;5;28;43minput\u001B[39;49m\u001B[43m,\u001B[49m\u001B[43m \u001B[49m\u001B[38;5;241;43m*\u001B[39;49m\u001B[38;5;241;43m*\u001B[39;49m\u001B[43mkwargs\u001B[49m\u001B[43m)\u001B[49m\n\u001B[1;32m   1131\u001B[0m \u001B[38;5;66;03m# Do not call functions when jit is used\u001B[39;00m\n\u001B[1;32m   1132\u001B[0m full_backward_hooks, non_full_backward_hooks \u001B[38;5;241m=\u001B[39m [], []\n",
      "File \u001B[0;32m/anaconda_env/projects/wlbbc/bayesian_test/lib/python3.9/site-packages/pyro/infer/predictive.py:264\u001B[0m, in \u001B[0;36mPredictive.forward\u001B[0;34m(self, *args, **kwargs)\u001B[0m\n\u001B[1;32m    261\u001B[0m \u001B[38;5;28;01mif\u001B[39;00m \u001B[38;5;28mself\u001B[39m\u001B[38;5;241m.\u001B[39mguide \u001B[38;5;129;01mis\u001B[39;00m \u001B[38;5;129;01mnot\u001B[39;00m \u001B[38;5;28;01mNone\u001B[39;00m:\n\u001B[1;32m    262\u001B[0m     \u001B[38;5;66;03m# return all sites by default if a guide is provided.\u001B[39;00m\n\u001B[1;32m    263\u001B[0m     return_sites \u001B[38;5;241m=\u001B[39m \u001B[38;5;28;01mNone\u001B[39;00m \u001B[38;5;28;01mif\u001B[39;00m \u001B[38;5;129;01mnot\u001B[39;00m return_sites \u001B[38;5;28;01melse\u001B[39;00m return_sites\n\u001B[0;32m--> 264\u001B[0m     posterior_samples \u001B[38;5;241m=\u001B[39m \u001B[43m_predictive\u001B[49m\u001B[43m(\u001B[49m\n\u001B[1;32m    265\u001B[0m \u001B[43m        \u001B[49m\u001B[38;5;28;43mself\u001B[39;49m\u001B[38;5;241;43m.\u001B[39;49m\u001B[43mguide\u001B[49m\u001B[43m,\u001B[49m\n\u001B[1;32m    266\u001B[0m \u001B[43m        \u001B[49m\u001B[43mposterior_samples\u001B[49m\u001B[43m,\u001B[49m\n\u001B[1;32m    267\u001B[0m \u001B[43m        \u001B[49m\u001B[38;5;28;43mself\u001B[39;49m\u001B[38;5;241;43m.\u001B[39;49m\u001B[43mnum_samples\u001B[49m\u001B[43m,\u001B[49m\n\u001B[1;32m    268\u001B[0m \u001B[43m        \u001B[49m\u001B[43mreturn_sites\u001B[49m\u001B[38;5;241;43m=\u001B[39;49m\u001B[38;5;28;43;01mNone\u001B[39;49;00m\u001B[43m,\u001B[49m\n\u001B[1;32m    269\u001B[0m \u001B[43m        \u001B[49m\u001B[43mparallel\u001B[49m\u001B[38;5;241;43m=\u001B[39;49m\u001B[38;5;28;43mself\u001B[39;49m\u001B[38;5;241;43m.\u001B[39;49m\u001B[43mparallel\u001B[49m\u001B[43m,\u001B[49m\n\u001B[1;32m    270\u001B[0m \u001B[43m        \u001B[49m\u001B[43mmodel_args\u001B[49m\u001B[38;5;241;43m=\u001B[39;49m\u001B[43margs\u001B[49m\u001B[43m,\u001B[49m\n\u001B[1;32m    271\u001B[0m \u001B[43m        \u001B[49m\u001B[43mmodel_kwargs\u001B[49m\u001B[38;5;241;43m=\u001B[39;49m\u001B[43mkwargs\u001B[49m\u001B[43m,\u001B[49m\n\u001B[1;32m    272\u001B[0m \u001B[43m    \u001B[49m\u001B[43m)\u001B[49m\n\u001B[1;32m    273\u001B[0m \u001B[38;5;28;01mreturn\u001B[39;00m _predictive(\n\u001B[1;32m    274\u001B[0m     \u001B[38;5;28mself\u001B[39m\u001B[38;5;241m.\u001B[39mmodel,\n\u001B[1;32m    275\u001B[0m     posterior_samples,\n\u001B[0;32m   (...)\u001B[0m\n\u001B[1;32m    280\u001B[0m     model_kwargs\u001B[38;5;241m=\u001B[39mkwargs,\n\u001B[1;32m    281\u001B[0m )\n",
      "File \u001B[0;32m/anaconda_env/projects/wlbbc/bayesian_test/lib/python3.9/site-packages/pyro/infer/predictive.py:83\u001B[0m, in \u001B[0;36m_predictive\u001B[0;34m(model, posterior_samples, num_samples, return_sites, return_trace, parallel, model_args, model_kwargs)\u001B[0m\n\u001B[1;32m     78\u001B[0m max_plate_nesting \u001B[38;5;241m=\u001B[39m _guess_max_plate_nesting(model, model_args, model_kwargs)\n\u001B[1;32m     79\u001B[0m vectorize \u001B[38;5;241m=\u001B[39m pyro\u001B[38;5;241m.\u001B[39mplate(\n\u001B[1;32m     80\u001B[0m     \u001B[38;5;124m\"\u001B[39m\u001B[38;5;124m_num_predictive_samples\u001B[39m\u001B[38;5;124m\"\u001B[39m, num_samples, dim\u001B[38;5;241m=\u001B[39m\u001B[38;5;241m-\u001B[39mmax_plate_nesting \u001B[38;5;241m-\u001B[39m \u001B[38;5;241m1\u001B[39m\n\u001B[1;32m     81\u001B[0m )\n\u001B[1;32m     82\u001B[0m model_trace \u001B[38;5;241m=\u001B[39m prune_subsample_sites(\n\u001B[0;32m---> 83\u001B[0m     \u001B[43mpoutine\u001B[49m\u001B[38;5;241;43m.\u001B[39;49m\u001B[43mtrace\u001B[49m\u001B[43m(\u001B[49m\u001B[43mmodel\u001B[49m\u001B[43m)\u001B[49m\u001B[38;5;241;43m.\u001B[39;49m\u001B[43mget_trace\u001B[49m\u001B[43m(\u001B[49m\u001B[38;5;241;43m*\u001B[39;49m\u001B[43mmodel_args\u001B[49m\u001B[43m,\u001B[49m\u001B[43m \u001B[49m\u001B[38;5;241;43m*\u001B[39;49m\u001B[38;5;241;43m*\u001B[39;49m\u001B[43mmodel_kwargs\u001B[49m\u001B[43m)\u001B[49m\n\u001B[1;32m     84\u001B[0m )\n\u001B[1;32m     85\u001B[0m reshaped_samples \u001B[38;5;241m=\u001B[39m {}\n\u001B[1;32m     87\u001B[0m \u001B[38;5;28;01mfor\u001B[39;00m name, sample \u001B[38;5;129;01min\u001B[39;00m posterior_samples\u001B[38;5;241m.\u001B[39mitems():\n",
      "File \u001B[0;32m/anaconda_env/projects/wlbbc/bayesian_test/lib/python3.9/site-packages/pyro/poutine/trace_messenger.py:198\u001B[0m, in \u001B[0;36mTraceHandler.get_trace\u001B[0;34m(self, *args, **kwargs)\u001B[0m\n\u001B[1;32m    190\u001B[0m \u001B[38;5;28;01mdef\u001B[39;00m \u001B[38;5;21mget_trace\u001B[39m(\u001B[38;5;28mself\u001B[39m, \u001B[38;5;241m*\u001B[39margs, \u001B[38;5;241m*\u001B[39m\u001B[38;5;241m*\u001B[39mkwargs):\n\u001B[1;32m    191\u001B[0m \u001B[38;5;250m    \u001B[39m\u001B[38;5;124;03m\"\"\"\u001B[39;00m\n\u001B[1;32m    192\u001B[0m \u001B[38;5;124;03m    :returns: data structure\u001B[39;00m\n\u001B[1;32m    193\u001B[0m \u001B[38;5;124;03m    :rtype: pyro.poutine.Trace\u001B[39;00m\n\u001B[0;32m   (...)\u001B[0m\n\u001B[1;32m    196\u001B[0m \u001B[38;5;124;03m    Calls this poutine and returns its trace instead of the function's return value.\u001B[39;00m\n\u001B[1;32m    197\u001B[0m \u001B[38;5;124;03m    \"\"\"\u001B[39;00m\n\u001B[0;32m--> 198\u001B[0m     \u001B[38;5;28;43mself\u001B[39;49m\u001B[43m(\u001B[49m\u001B[38;5;241;43m*\u001B[39;49m\u001B[43margs\u001B[49m\u001B[43m,\u001B[49m\u001B[43m \u001B[49m\u001B[38;5;241;43m*\u001B[39;49m\u001B[38;5;241;43m*\u001B[39;49m\u001B[43mkwargs\u001B[49m\u001B[43m)\u001B[49m\n\u001B[1;32m    199\u001B[0m     \u001B[38;5;28;01mreturn\u001B[39;00m \u001B[38;5;28mself\u001B[39m\u001B[38;5;241m.\u001B[39mmsngr\u001B[38;5;241m.\u001B[39mget_trace()\n",
      "File \u001B[0;32m/anaconda_env/projects/wlbbc/bayesian_test/lib/python3.9/site-packages/pyro/poutine/trace_messenger.py:174\u001B[0m, in \u001B[0;36mTraceHandler.__call__\u001B[0;34m(self, *args, **kwargs)\u001B[0m\n\u001B[1;32m    170\u001B[0m \u001B[38;5;28mself\u001B[39m\u001B[38;5;241m.\u001B[39mmsngr\u001B[38;5;241m.\u001B[39mtrace\u001B[38;5;241m.\u001B[39madd_node(\n\u001B[1;32m    171\u001B[0m     \u001B[38;5;124m\"\u001B[39m\u001B[38;5;124m_INPUT\u001B[39m\u001B[38;5;124m\"\u001B[39m, name\u001B[38;5;241m=\u001B[39m\u001B[38;5;124m\"\u001B[39m\u001B[38;5;124m_INPUT\u001B[39m\u001B[38;5;124m\"\u001B[39m, \u001B[38;5;28mtype\u001B[39m\u001B[38;5;241m=\u001B[39m\u001B[38;5;124m\"\u001B[39m\u001B[38;5;124margs\u001B[39m\u001B[38;5;124m\"\u001B[39m, args\u001B[38;5;241m=\u001B[39margs, kwargs\u001B[38;5;241m=\u001B[39mkwargs\n\u001B[1;32m    172\u001B[0m )\n\u001B[1;32m    173\u001B[0m \u001B[38;5;28;01mtry\u001B[39;00m:\n\u001B[0;32m--> 174\u001B[0m     ret \u001B[38;5;241m=\u001B[39m \u001B[38;5;28;43mself\u001B[39;49m\u001B[38;5;241;43m.\u001B[39;49m\u001B[43mfn\u001B[49m\u001B[43m(\u001B[49m\u001B[38;5;241;43m*\u001B[39;49m\u001B[43margs\u001B[49m\u001B[43m,\u001B[49m\u001B[43m \u001B[49m\u001B[38;5;241;43m*\u001B[39;49m\u001B[38;5;241;43m*\u001B[39;49m\u001B[43mkwargs\u001B[49m\u001B[43m)\u001B[49m\n\u001B[1;32m    175\u001B[0m \u001B[38;5;28;01mexcept\u001B[39;00m (\u001B[38;5;167;01mValueError\u001B[39;00m, \u001B[38;5;167;01mRuntimeError\u001B[39;00m) \u001B[38;5;28;01mas\u001B[39;00m e:\n\u001B[1;32m    176\u001B[0m     exc_type, exc_value, traceback \u001B[38;5;241m=\u001B[39m sys\u001B[38;5;241m.\u001B[39mexc_info()\n",
      "File \u001B[0;32m/anaconda_env/projects/wlbbc/bayesian_test/lib/python3.9/site-packages/torch/autograd/grad_mode.py:27\u001B[0m, in \u001B[0;36m_DecoratorContextManager.__call__.<locals>.decorate_context\u001B[0;34m(*args, **kwargs)\u001B[0m\n\u001B[1;32m     24\u001B[0m \u001B[38;5;129m@functools\u001B[39m\u001B[38;5;241m.\u001B[39mwraps(func)\n\u001B[1;32m     25\u001B[0m \u001B[38;5;28;01mdef\u001B[39;00m \u001B[38;5;21mdecorate_context\u001B[39m(\u001B[38;5;241m*\u001B[39margs, \u001B[38;5;241m*\u001B[39m\u001B[38;5;241m*\u001B[39mkwargs):\n\u001B[1;32m     26\u001B[0m     \u001B[38;5;28;01mwith\u001B[39;00m \u001B[38;5;28mself\u001B[39m\u001B[38;5;241m.\u001B[39mclone():\n\u001B[0;32m---> 27\u001B[0m         \u001B[38;5;28;01mreturn\u001B[39;00m \u001B[43mfunc\u001B[49m\u001B[43m(\u001B[49m\u001B[38;5;241;43m*\u001B[39;49m\u001B[43margs\u001B[49m\u001B[43m,\u001B[49m\u001B[43m \u001B[49m\u001B[38;5;241;43m*\u001B[39;49m\u001B[38;5;241;43m*\u001B[39;49m\u001B[43mkwargs\u001B[49m\u001B[43m)\u001B[49m\n",
      "File \u001B[0;32m/anaconda_env/projects/wlbbc/bayesian_test/lib/python3.9/site-packages/pyro/poutine/messenger.py:12\u001B[0m, in \u001B[0;36m_context_wrap\u001B[0;34m(context, fn, *args, **kwargs)\u001B[0m\n\u001B[1;32m     10\u001B[0m \u001B[38;5;28;01mdef\u001B[39;00m \u001B[38;5;21m_context_wrap\u001B[39m(context, fn, \u001B[38;5;241m*\u001B[39margs, \u001B[38;5;241m*\u001B[39m\u001B[38;5;241m*\u001B[39mkwargs):\n\u001B[1;32m     11\u001B[0m     \u001B[38;5;28;01mwith\u001B[39;00m context:\n\u001B[0;32m---> 12\u001B[0m         \u001B[38;5;28;01mreturn\u001B[39;00m \u001B[43mfn\u001B[49m\u001B[43m(\u001B[49m\u001B[38;5;241;43m*\u001B[39;49m\u001B[43margs\u001B[49m\u001B[43m,\u001B[49m\u001B[43m \u001B[49m\u001B[38;5;241;43m*\u001B[39;49m\u001B[38;5;241;43m*\u001B[39;49m\u001B[43mkwargs\u001B[49m\u001B[43m)\u001B[49m\n",
      "File \u001B[0;32m/anaconda_env/projects/wlbbc/bayesian_test/lib/python3.9/site-packages/pyro/nn/module.py:427\u001B[0m, in \u001B[0;36mPyroModule.__call__\u001B[0;34m(self, *args, **kwargs)\u001B[0m\n\u001B[1;32m    425\u001B[0m \u001B[38;5;28;01mdef\u001B[39;00m \u001B[38;5;21m__call__\u001B[39m(\u001B[38;5;28mself\u001B[39m, \u001B[38;5;241m*\u001B[39margs, \u001B[38;5;241m*\u001B[39m\u001B[38;5;241m*\u001B[39mkwargs):\n\u001B[1;32m    426\u001B[0m     \u001B[38;5;28;01mwith\u001B[39;00m \u001B[38;5;28mself\u001B[39m\u001B[38;5;241m.\u001B[39m_pyro_context:\n\u001B[0;32m--> 427\u001B[0m         \u001B[38;5;28;01mreturn\u001B[39;00m \u001B[38;5;28;43msuper\u001B[39;49m\u001B[43m(\u001B[49m\u001B[43m)\u001B[49m\u001B[38;5;241;43m.\u001B[39;49m\u001B[38;5;21;43m__call__\u001B[39;49m\u001B[43m(\u001B[49m\u001B[38;5;241;43m*\u001B[39;49m\u001B[43margs\u001B[49m\u001B[43m,\u001B[49m\u001B[43m \u001B[49m\u001B[38;5;241;43m*\u001B[39;49m\u001B[38;5;241;43m*\u001B[39;49m\u001B[43mkwargs\u001B[49m\u001B[43m)\u001B[49m\n",
      "File \u001B[0;32m/anaconda_env/projects/wlbbc/bayesian_test/lib/python3.9/site-packages/torch/nn/modules/module.py:1130\u001B[0m, in \u001B[0;36mModule._call_impl\u001B[0;34m(self, *input, **kwargs)\u001B[0m\n\u001B[1;32m   1126\u001B[0m \u001B[38;5;66;03m# If we don't have any hooks, we want to skip the rest of the logic in\u001B[39;00m\n\u001B[1;32m   1127\u001B[0m \u001B[38;5;66;03m# this function, and just call forward.\u001B[39;00m\n\u001B[1;32m   1128\u001B[0m \u001B[38;5;28;01mif\u001B[39;00m \u001B[38;5;129;01mnot\u001B[39;00m (\u001B[38;5;28mself\u001B[39m\u001B[38;5;241m.\u001B[39m_backward_hooks \u001B[38;5;129;01mor\u001B[39;00m \u001B[38;5;28mself\u001B[39m\u001B[38;5;241m.\u001B[39m_forward_hooks \u001B[38;5;129;01mor\u001B[39;00m \u001B[38;5;28mself\u001B[39m\u001B[38;5;241m.\u001B[39m_forward_pre_hooks \u001B[38;5;129;01mor\u001B[39;00m _global_backward_hooks\n\u001B[1;32m   1129\u001B[0m         \u001B[38;5;129;01mor\u001B[39;00m _global_forward_hooks \u001B[38;5;129;01mor\u001B[39;00m _global_forward_pre_hooks):\n\u001B[0;32m-> 1130\u001B[0m     \u001B[38;5;28;01mreturn\u001B[39;00m \u001B[43mforward_call\u001B[49m\u001B[43m(\u001B[49m\u001B[38;5;241;43m*\u001B[39;49m\u001B[38;5;28;43minput\u001B[39;49m\u001B[43m,\u001B[49m\u001B[43m \u001B[49m\u001B[38;5;241;43m*\u001B[39;49m\u001B[38;5;241;43m*\u001B[39;49m\u001B[43mkwargs\u001B[49m\u001B[43m)\u001B[49m\n\u001B[1;32m   1131\u001B[0m \u001B[38;5;66;03m# Do not call functions when jit is used\u001B[39;00m\n\u001B[1;32m   1132\u001B[0m full_backward_hooks, non_full_backward_hooks \u001B[38;5;241m=\u001B[39m [], []\n",
      "File \u001B[0;32m/anaconda_env/projects/wlbbc/bayesian_test/lib/python3.9/site-packages/pyro/infer/autoguide/guides.py:544\u001B[0m, in \u001B[0;36mAutoNormal.forward\u001B[0;34m(self, *args, **kwargs)\u001B[0m\n\u001B[1;32m    536\u001B[0m             log_density \u001B[38;5;241m=\u001B[39m transform\u001B[38;5;241m.\u001B[39minv\u001B[38;5;241m.\u001B[39mlog_abs_det_jacobian(\n\u001B[1;32m    537\u001B[0m                 value,\n\u001B[1;32m    538\u001B[0m                 unconstrained_latent,\n\u001B[1;32m    539\u001B[0m             )\n\u001B[1;32m    540\u001B[0m             log_density \u001B[38;5;241m=\u001B[39m sum_rightmost(\n\u001B[1;32m    541\u001B[0m                 log_density,\n\u001B[1;32m    542\u001B[0m                 log_density\u001B[38;5;241m.\u001B[39mdim() \u001B[38;5;241m-\u001B[39m value\u001B[38;5;241m.\u001B[39mdim() \u001B[38;5;241m+\u001B[39m site[\u001B[38;5;124m\"\u001B[39m\u001B[38;5;124mfn\u001B[39m\u001B[38;5;124m\"\u001B[39m]\u001B[38;5;241m.\u001B[39mevent_dim,\n\u001B[1;32m    543\u001B[0m             )\n\u001B[0;32m--> 544\u001B[0m         delta_dist \u001B[38;5;241m=\u001B[39m \u001B[43mdist\u001B[49m\u001B[38;5;241;43m.\u001B[39;49m\u001B[43mDelta\u001B[49m\u001B[43m(\u001B[49m\n\u001B[1;32m    545\u001B[0m \u001B[43m            \u001B[49m\u001B[43mvalue\u001B[49m\u001B[43m,\u001B[49m\n\u001B[1;32m    546\u001B[0m \u001B[43m            \u001B[49m\u001B[43mlog_density\u001B[49m\u001B[38;5;241;43m=\u001B[39;49m\u001B[43mlog_density\u001B[49m\u001B[43m,\u001B[49m\n\u001B[1;32m    547\u001B[0m \u001B[43m            \u001B[49m\u001B[43mevent_dim\u001B[49m\u001B[38;5;241;43m=\u001B[39;49m\u001B[43msite\u001B[49m\u001B[43m[\u001B[49m\u001B[38;5;124;43m\"\u001B[39;49m\u001B[38;5;124;43mfn\u001B[39;49m\u001B[38;5;124;43m\"\u001B[39;49m\u001B[43m]\u001B[49m\u001B[38;5;241;43m.\u001B[39;49m\u001B[43mevent_dim\u001B[49m\u001B[43m,\u001B[49m\n\u001B[1;32m    548\u001B[0m \u001B[43m        \u001B[49m\u001B[43m)\u001B[49m\n\u001B[1;32m    550\u001B[0m         result[name] \u001B[38;5;241m=\u001B[39m pyro\u001B[38;5;241m.\u001B[39msample(name, delta_dist)\n\u001B[1;32m    552\u001B[0m \u001B[38;5;28;01mreturn\u001B[39;00m result\n",
      "File \u001B[0;32m/anaconda_env/projects/wlbbc/bayesian_test/lib/python3.9/site-packages/pyro/distributions/distribution.py:18\u001B[0m, in \u001B[0;36mDistributionMeta.__call__\u001B[0;34m(cls, *args, **kwargs)\u001B[0m\n\u001B[1;32m     16\u001B[0m     \u001B[38;5;28;01mif\u001B[39;00m result \u001B[38;5;129;01mis\u001B[39;00m \u001B[38;5;129;01mnot\u001B[39;00m \u001B[38;5;28;01mNone\u001B[39;00m:\n\u001B[1;32m     17\u001B[0m         \u001B[38;5;28;01mreturn\u001B[39;00m result\n\u001B[0;32m---> 18\u001B[0m \u001B[38;5;28;01mreturn\u001B[39;00m \u001B[38;5;28;43msuper\u001B[39;49m\u001B[43m(\u001B[49m\u001B[43m)\u001B[49m\u001B[38;5;241;43m.\u001B[39;49m\u001B[38;5;21;43m__call__\u001B[39;49m\u001B[43m(\u001B[49m\u001B[38;5;241;43m*\u001B[39;49m\u001B[43margs\u001B[49m\u001B[43m,\u001B[49m\u001B[43m \u001B[49m\u001B[38;5;241;43m*\u001B[39;49m\u001B[38;5;241;43m*\u001B[39;49m\u001B[43mkwargs\u001B[49m\u001B[43m)\u001B[49m\n",
      "File \u001B[0;32m/anaconda_env/projects/wlbbc/bayesian_test/lib/python3.9/site-packages/pyro/distributions/delta.py:43\u001B[0m, in \u001B[0;36mDelta.__init__\u001B[0;34m(self, v, log_density, event_dim, validate_args)\u001B[0m\n\u001B[1;32m     41\u001B[0m event_shape \u001B[38;5;241m=\u001B[39m v\u001B[38;5;241m.\u001B[39mshape[batch_dim:]\n\u001B[1;32m     42\u001B[0m \u001B[38;5;28;01mif\u001B[39;00m \u001B[38;5;28misinstance\u001B[39m(log_density, numbers\u001B[38;5;241m.\u001B[39mNumber):\n\u001B[0;32m---> 43\u001B[0m     log_density \u001B[38;5;241m=\u001B[39m \u001B[43mtorch\u001B[49m\u001B[38;5;241;43m.\u001B[39;49m\u001B[43mfull\u001B[49m\u001B[43m(\u001B[49m\n\u001B[1;32m     44\u001B[0m \u001B[43m        \u001B[49m\u001B[43mbatch_shape\u001B[49m\u001B[43m,\u001B[49m\u001B[43m \u001B[49m\u001B[43mlog_density\u001B[49m\u001B[43m,\u001B[49m\u001B[43m \u001B[49m\u001B[43mdtype\u001B[49m\u001B[38;5;241;43m=\u001B[39;49m\u001B[43mv\u001B[49m\u001B[38;5;241;43m.\u001B[39;49m\u001B[43mdtype\u001B[49m\u001B[43m,\u001B[49m\u001B[43m \u001B[49m\u001B[43mdevice\u001B[49m\u001B[38;5;241;43m=\u001B[39;49m\u001B[43mv\u001B[49m\u001B[38;5;241;43m.\u001B[39;49m\u001B[43mdevice\u001B[49m\n\u001B[1;32m     45\u001B[0m \u001B[43m    \u001B[49m\u001B[43m)\u001B[49m\n\u001B[1;32m     46\u001B[0m \u001B[38;5;28;01melif\u001B[39;00m validate_args \u001B[38;5;129;01mand\u001B[39;00m log_density\u001B[38;5;241m.\u001B[39mshape \u001B[38;5;241m!=\u001B[39m batch_shape:\n\u001B[1;32m     47\u001B[0m     \u001B[38;5;28;01mraise\u001B[39;00m \u001B[38;5;167;01mValueError\u001B[39;00m(\n\u001B[1;32m     48\u001B[0m         \u001B[38;5;124m\"\u001B[39m\u001B[38;5;124mExpected log_density.shape = \u001B[39m\u001B[38;5;132;01m{}\u001B[39;00m\u001B[38;5;124m, actual \u001B[39m\u001B[38;5;132;01m{}\u001B[39;00m\u001B[38;5;124m\"\u001B[39m\u001B[38;5;241m.\u001B[39mformat(\n\u001B[1;32m     49\u001B[0m             log_density\u001B[38;5;241m.\u001B[39mshape, batch_shape\n\u001B[1;32m     50\u001B[0m         )\n\u001B[1;32m     51\u001B[0m     )\n",
      "\u001B[0;31mKeyboardInterrupt\u001B[0m: "
     ]
    }
   ],
   "source": [
    "bnn_classifier.unfreeze_layer('layer3')\n",
    "result_df3, result_dict3 = bnn_classifier.fit(num_epoch=30)\n",
    "display(result_df3)"
   ],
   "metadata": {
    "collapsed": false
   }
  },
  {
   "cell_type": "code",
   "execution_count": null,
   "outputs": [],
   "source": [],
   "metadata": {
    "collapsed": false
   }
  },
  {
   "cell_type": "code",
   "execution_count": null,
   "outputs": [],
   "source": [
    "bnn_classifier.unfreeze_layer('layer2')\n",
    "result_df4, result_dict4 = bnn_classifier.fit(num_epoch=30)\n",
    "display(result_df4)"
   ],
   "metadata": {
    "collapsed": false
   }
  },
  {
   "cell_type": "code",
   "execution_count": null,
   "outputs": [],
   "source": [],
   "metadata": {
    "collapsed": false
   }
  }
 ],
 "metadata": {
  "kernelspec": {
   "name": "bayesian_test",
   "language": "python",
   "display_name": "Python 3 (bayesian test)"
  },
  "language_info": {
   "codemirror_mode": {
    "name": "ipython",
    "version": 2
   },
   "file_extension": ".py",
   "mimetype": "text/x-python",
   "name": "python",
   "nbconvert_exporter": "python",
   "pygments_lexer": "ipython2",
   "version": "2.7.6"
  }
 },
 "nbformat": 4,
 "nbformat_minor": 0
}
